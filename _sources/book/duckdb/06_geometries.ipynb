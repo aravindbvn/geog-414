{
 "cells": [
  {
   "cell_type": "markdown",
   "id": "b8817809",
   "metadata": {},
   "source": [
    "# Working with Geometries\n",
    "\n",
    "## Introduction\n",
    "\n",
    "## Installation\n",
    "\n",
    "Uncomment the following cell to install the required packages if needed."
   ]
  },
  {
   "cell_type": "code",
   "execution_count": null,
   "id": "b9305851",
   "metadata": {},
   "outputs": [],
   "source": [
    "# %pip install duckdb duckdb-engine jupysql"
   ]
  },
  {
   "cell_type": "markdown",
   "id": "781e06f7",
   "metadata": {},
   "source": [
    "## Library Import and Configuration"
   ]
  },
  {
   "cell_type": "code",
   "execution_count": null,
   "id": "d537b9b2",
   "metadata": {},
   "outputs": [],
   "source": [
    "import duckdb\n",
    "import leafmap\n",
    "import pandas as pd\n",
    "\n",
    "# Import jupysql Jupyter extension to create SQL cells\n",
    "%load_ext sql"
   ]
  },
  {
   "cell_type": "markdown",
   "id": "92770c0d",
   "metadata": {},
   "source": [
    "Set configurations on jupysql to directly output data to Pandas and to simplify the output that is printed to the notebook."
   ]
  },
  {
   "cell_type": "code",
   "execution_count": null,
   "id": "5cf0455b",
   "metadata": {},
   "outputs": [],
   "source": [
    "%config SqlMagic.autopandas = True\n",
    "%config SqlMagic.feedback = False\n",
    "%config SqlMagic.displaycon = False"
   ]
  },
  {
   "cell_type": "markdown",
   "id": "6aba7c8a",
   "metadata": {},
   "source": [
    "## Sample Data"
   ]
  },
  {
   "cell_type": "code",
   "execution_count": null,
   "id": "30d3fa21",
   "metadata": {},
   "outputs": [],
   "source": [
    "url = \"https://open.gishub.org/data/duckdb/nyc_data.db.zip\"\n",
    "leafmap.download_file(url, unzip=True)"
   ]
  },
  {
   "cell_type": "markdown",
   "id": "daa500de",
   "metadata": {},
   "source": [
    "## Connecting to DuckDB\n",
    "\n",
    "Connect jupysql to DuckDB using a SQLAlchemy-style connection string. You may either connect to an in memory DuckDB, or a file backed db."
   ]
  },
  {
   "cell_type": "code",
   "execution_count": null,
   "id": "bdc946d4",
   "metadata": {},
   "outputs": [],
   "source": [
    "# %sql duckdb:///:memory:\n",
    "%sql duckdb:///nyc_data.db"
   ]
  },
  {
   "cell_type": "code",
   "execution_count": null,
   "id": "8ebdad48",
   "metadata": {},
   "outputs": [],
   "source": [
    "%%sql\n",
    "\n",
    "INSTALL spatial;\n",
    "LOAD spatial;"
   ]
  },
  {
   "cell_type": "markdown",
   "id": "fb867bea",
   "metadata": {},
   "source": [
    "## Creating samples"
   ]
  },
  {
   "cell_type": "code",
   "execution_count": null,
   "id": "f6e647a6",
   "metadata": {},
   "outputs": [],
   "source": [
    "%%sql\n",
    "\n",
    "CREATE TABLE samples (name VARCHAR, geom GEOMETRY);\n",
    "\n",
    "INSERT INTO samples VALUES\n",
    "  ('Point', ST_GeomFromText('POINT(0 0)')),\n",
    "  ('Linestring', ST_GeomFromText('LINESTRING(0 0, 1 1, 2 1, 2 2)')),\n",
    "  ('Polygon', ST_GeomFromText('POLYGON((0 0, 1 0, 1 1, 0 1, 0 0))')),\n",
    "  ('PolygonWithHole', ST_GeomFromText('POLYGON((0 0, 10 0, 10 10, 0 10, 0 0),(1 1, 1 2, 2 2, 2 1, 1 1))')),\n",
    "  ('Collection', ST_GeomFromText('GEOMETRYCOLLECTION(POINT(2 0),POLYGON((0 0, 1 0, 1 1, 0 1, 0 0)))'));\n",
    "\n",
    "SELECT * FROM samples;"
   ]
  },
  {
   "cell_type": "code",
   "execution_count": null,
   "id": "ac15fd7f",
   "metadata": {},
   "outputs": [],
   "source": [
    "%%sql\n",
    "\n",
    "SELECT name, ST_AsText(geom) FROM samples;"
   ]
  },
  {
   "cell_type": "code",
   "execution_count": null,
   "id": "c7207855",
   "metadata": {},
   "outputs": [],
   "source": [
    "%%sql \n",
    "\n",
    "COPY samples TO 'samples.geojson' (FORMAT GDAL, DRIVER GeoJSON);"
   ]
  },
  {
   "cell_type": "markdown",
   "id": "970fa971",
   "metadata": {},
   "source": [
    "## Points\n",
    "\n",
    "![](https://postgis.net/workshops/postgis-intro/_images/points.png)\n",
    "\n",
    "A spatial point represents a single location on the Earth. This point is represented by a single coordinate (including either 2-, 3- or 4-dimensions). Points are used to represent objects when the exact details, such as shape and size, are not important at the target scale. For example, cities on a map of the world can be described as points, while a map of a single state might represent cities as polygons."
   ]
  },
  {
   "cell_type": "code",
   "execution_count": null,
   "id": "a7b96c40",
   "metadata": {},
   "outputs": [],
   "source": [
    "%%sql\n",
    "\n",
    "SELECT ST_AsText(geom)\n",
    "  FROM samples\n",
    "  WHERE name = 'Point';"
   ]
  },
  {
   "cell_type": "markdown",
   "id": "73d4fc66",
   "metadata": {},
   "source": [
    "Some of the specific spatial functions for working with points are:\n",
    "\n",
    "- **ST_X(geom)** returns the X ordinate\n",
    "- **ST_Y(geom)** returns the Y ordinate\n",
    "\n",
    "So, we can read the ordinates from a point like this:"
   ]
  },
  {
   "cell_type": "code",
   "execution_count": null,
   "id": "0104fa20",
   "metadata": {},
   "outputs": [],
   "source": [
    "%%sql\n",
    "\n",
    "SELECT ST_X(geom), ST_Y(geom)\n",
    "  FROM samples\n",
    "  WHERE name = 'Point';"
   ]
  },
  {
   "cell_type": "code",
   "execution_count": null,
   "id": "64e8766e",
   "metadata": {},
   "outputs": [],
   "source": [
    "%%sql \n",
    "\n",
    "SELECT * FROM nyc_subway_stations"
   ]
  },
  {
   "cell_type": "code",
   "execution_count": null,
   "id": "1446d884",
   "metadata": {},
   "outputs": [],
   "source": [
    "%%sql\n",
    "\n",
    "SELECT name, ST_AsText(geom)\n",
    "  FROM nyc_subway_stations\n",
    "  LIMIT 10;"
   ]
  },
  {
   "cell_type": "markdown",
   "id": "76301583",
   "metadata": {},
   "source": [
    "## Linestrings\n",
    "\n",
    "![](https://postgis.net/workshops/postgis-intro/_images/lines.png)\n",
    "\n",
    "\n",
    "A **linestring** is a path between locations. It takes the form of an\n",
    "ordered series of two or more points. Roads and rivers are typically\n",
    "represented as linestrings. A linestring is said to be **closed** if it\n",
    "starts and ends on the same point. It is said to be **simple** if it\n",
    "does not cross or touch itself (except at its endpoints if it is\n",
    "closed). A linestring can be both **closed** and **simple**.\n",
    "\n",
    "The street network for New York (`nyc_streets`) was loaded earlier in\n",
    "the workshop. This dataset contains details such as name, and type. A\n",
    "single real world street may consist of many linestrings, each\n",
    "representing a segment of road with different attributes.\n",
    "\n",
    "The following SQL query will return the geometry associated with one\n",
    "linestring (in the `ST_AsText` column)."
   ]
  },
  {
   "cell_type": "code",
   "execution_count": null,
   "id": "45efe3f4",
   "metadata": {},
   "outputs": [],
   "source": [
    "%%sql\n",
    "\n",
    "SELECT ST_AsText(geom)\n",
    "  FROM samples\n",
    "  WHERE name = 'Linestring';"
   ]
  },
  {
   "cell_type": "markdown",
   "id": "68830d32",
   "metadata": {},
   "source": [
    "Some of the specific spatial functions for working with linestrings are:\n",
    "\n",
    "-   `ST_Length(geom)` returns the length of the linestring\n",
    "-   `ST_StartPoint(geom)` returns the first coordinate as a point\n",
    "-   `ST_EndPoint(geom)` returns the last coordinate as a point\n",
    "-   `ST_NPoints(geom)` returns the number of coordinates in the\n",
    "    linestring\n",
    "\n",
    "So, the length of our linestring is:"
   ]
  },
  {
   "cell_type": "code",
   "execution_count": null,
   "id": "f3f6e185",
   "metadata": {},
   "outputs": [],
   "source": [
    "%%sql \n",
    "\n",
    "SELECT ST_Length(geom)\n",
    "  FROM samples\n",
    "  WHERE name = 'Linestring';"
   ]
  },
  {
   "cell_type": "markdown",
   "id": "932f9ee5",
   "metadata": {},
   "source": [
    "## Polygons"
   ]
  },
  {
   "cell_type": "markdown",
   "id": "5d56c0d4",
   "metadata": {},
   "source": [
    "![](https://postgis.net/workshops/postgis-intro/_images/polygons.png)\n",
    "\n",
    "A polygon is a representation of an area. The outer boundary of the\n",
    "polygon is represented by a ring. This ring is a linestring that is both\n",
    "closed and simple as defined above. Holes within the polygon are also\n",
    "represented by rings.\n",
    "\n",
    "Polygons are used to represent objects whose size and shape are\n",
    "important. City limits, parks, building footprints or bodies of water\n",
    "are all commonly represented as polygons when the scale is sufficiently\n",
    "high to see their area. Roads and rivers can sometimes be represented as\n",
    "polygons.\n",
    "\n",
    "The following SQL query will return the geometry associated with one\n",
    "polygon (in the `ST_AsText` column)."
   ]
  },
  {
   "cell_type": "code",
   "execution_count": null,
   "id": "8c9e0032",
   "metadata": {},
   "outputs": [],
   "source": [
    "%%sql\n",
    "\n",
    "SELECT ST_AsText(geom)\n",
    "  FROM samples\n",
    "  WHERE name LIKE 'Polygon%';"
   ]
  },
  {
   "cell_type": "markdown",
   "id": "a6d2a6a1",
   "metadata": {},
   "source": [
    "Some of the specific spatial functions for working with polygons are:\n",
    "\n",
    "-   `ST_Area(geom)` returns the area of the polygons\n",
    "-   `ST_NRings(geom)` returns the number of rings (usually 1, more\n",
    "    of there are holes)\n",
    "-   `ST_ExteriorRing(geom)` returns the outer ring as a linestring\n",
    "-   `ST_InteriorRingN(geometry,n)` returns a specified interior ring as\n",
    "    a linestring\n",
    "-   `ST_Perimeter(geom)` returns the length of all the rings\n",
    "\n",
    "We can calculate the area of our polygons using the area function:"
   ]
  },
  {
   "cell_type": "code",
   "execution_count": null,
   "id": "2c666097",
   "metadata": {},
   "outputs": [],
   "source": [
    "%%sql\n",
    "\n",
    "SELECT name, ST_Area(geom)\n",
    "  FROM samples\n",
    "  WHERE name LIKE 'Polygon%';"
   ]
  },
  {
   "cell_type": "markdown",
   "id": "6d9d613b",
   "metadata": {},
   "source": [
    "## Collections\n",
    "\n",
    "There are four collection types, which group multiple simple samples\n",
    "into sets.\n",
    "\n",
    "-   **MultiPoint**, a collection of points\n",
    "-   **MultiLineString**, a collection of linestrings\n",
    "-   **MultiPolygon**, a collection of polygons\n",
    "-   **GeometryCollection**, a heterogeneous collection of any geometry\n",
    "    (including other collections)\n",
    "\n",
    "Collections are another concept that shows up in GIS software more than\n",
    "in generic graphics software. They are useful for directly modeling real\n",
    "world objects as spatial objects. For example, how to model a lot that\n",
    "is split by a right-of-way? As a **MultiPolygon**, with a part on either\n",
    "side of the right-of-way.\n",
    "\n",
    "Our example collection contains a polygon and a point:"
   ]
  },
  {
   "cell_type": "code",
   "execution_count": null,
   "id": "21966121",
   "metadata": {},
   "outputs": [],
   "source": [
    "%%sql\n",
    "\n",
    "SELECT name, ST_AsText(geom)\n",
    "  FROM samples\n",
    "  WHERE name = 'Collection';"
   ]
  }
 ],
 "metadata": {
  "jupytext": {
   "text_representation": {
    "extension": ".md",
    "format_name": "myst",
    "format_version": 0.13,
    "jupytext_version": "1.15.2"
   }
  },
  "kernelspec": {
   "display_name": "Python 3",
   "language": "python",
   "name": "python3"
  },
  "source_map": [
   12,
   22,
   24,
   28,
   35,
   39,
   43,
   47,
   50,
   56,
   61,
   66,
   70,
   85,
   91,
   95,
   103,
   109,
   118,
   126,
   132,
   138,
   160,
   166,
   178,
   184,
   188,
   206,
   212,
   226,
   232,
   253
  ]
 },
 "nbformat": 4,
 "nbformat_minor": 5
}