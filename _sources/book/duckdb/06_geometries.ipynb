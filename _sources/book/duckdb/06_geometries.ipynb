{
 "cells": [
  {
   "cell_type": "markdown",
   "id": "6752bba5",
   "metadata": {},
   "source": [
    "# Working with Geometries\n",
    "\n",
    "## Introduction\n",
    "\n",
    "This notebook demonstrates how to work with geometries in DuckDB.\n",
    "\n",
    "## Installation\n",
    "\n",
    "Uncomment the following cell to install the required packages if needed."
   ]
  },
  {
   "cell_type": "code",
   "execution_count": null,
   "id": "9479c201",
   "metadata": {},
   "outputs": [],
   "source": [
    "# %pip install duckdb duckdb-engine jupysql"
   ]
  },
  {
   "cell_type": "markdown",
   "id": "75cb99b8",
   "metadata": {},
   "source": [
    "## Library Import and Configuration"
   ]
  },
  {
   "cell_type": "code",
   "execution_count": null,
   "id": "b21cf274",
   "metadata": {},
   "outputs": [],
   "source": [
    "import duckdb\n",
    "import leafmap\n",
    "import pandas as pd\n",
    "\n",
    "# Import jupysql Jupyter extension to create SQL cells\n",
    "%load_ext sql"
   ]
  },
  {
   "cell_type": "markdown",
   "id": "73e36447",
   "metadata": {},
   "source": [
    "Set configurations on jupysql to directly output data to Pandas and to simplify the output that is printed to the notebook."
   ]
  },
  {
   "cell_type": "code",
   "execution_count": null,
   "id": "57184c26",
   "metadata": {},
   "outputs": [],
   "source": [
    "%config SqlMagic.autopandas = True\n",
    "%config SqlMagic.feedback = False\n",
    "%config SqlMagic.displaycon = False"
   ]
  },
  {
   "cell_type": "markdown",
   "id": "4ce0dc3a",
   "metadata": {},
   "source": [
    "## Sample Data"
   ]
  },
  {
   "cell_type": "code",
   "execution_count": null,
   "id": "7907228f",
   "metadata": {},
   "outputs": [],
   "source": [
    "url = \"https://open.gishub.org/data/duckdb/nyc_data.db.zip\"\n",
    "leafmap.download_file(url, unzip=True)"
   ]
  },
  {
   "cell_type": "markdown",
   "id": "da012cdf",
   "metadata": {},
   "source": [
    "## Connecting to DuckDB\n",
    "\n",
    "Connect jupysql to DuckDB using a SQLAlchemy-style connection string. You may either connect to an in memory DuckDB, or a file backed db."
   ]
  },
  {
   "cell_type": "code",
   "execution_count": null,
   "id": "08dcab55",
   "metadata": {},
   "outputs": [],
   "source": [
    "# %sql duckdb:///:memory:\n",
    "%sql duckdb:///nyc_data.db"
   ]
  },
  {
   "cell_type": "code",
   "execution_count": null,
   "id": "0eb81c83",
   "metadata": {},
   "outputs": [],
   "source": [
    "%%sql\n",
    "\n",
    "INSTALL spatial;\n",
    "LOAD spatial;"
   ]
  },
  {
   "cell_type": "markdown",
   "id": "2e492105",
   "metadata": {},
   "source": [
    "## Creating samples"
   ]
  },
  {
   "cell_type": "code",
   "execution_count": null,
   "id": "9d9e9bc8",
   "metadata": {},
   "outputs": [],
   "source": [
    "%%sql\n",
    "\n",
    "CREATE TABLE samples (name VARCHAR, geom GEOMETRY);\n",
    "\n",
    "INSERT INTO samples VALUES\n",
    "  ('Point', ST_GeomFromText('POINT(0 0)')),\n",
    "  ('Linestring', ST_GeomFromText('LINESTRING(0 0, 1 1, 2 1, 2 2)')),\n",
    "  ('Polygon', ST_GeomFromText('POLYGON((0 0, 1 0, 1 1, 0 1, 0 0))')),\n",
    "  ('PolygonWithHole', ST_GeomFromText('POLYGON((0 0, 10 0, 10 10, 0 10, 0 0),(1 1, 1 2, 2 2, 2 1, 1 1))')),\n",
    "  ('Collection', ST_GeomFromText('GEOMETRYCOLLECTION(POINT(2 0),POLYGON((0 0, 1 0, 1 1, 0 1, 0 0)))'));\n",
    "\n",
    "SELECT * FROM samples;"
   ]
  },
  {
   "cell_type": "code",
   "execution_count": null,
   "id": "d18db7c4",
   "metadata": {},
   "outputs": [],
   "source": [
    "%%sql\n",
    "\n",
    "SELECT name, ST_AsText(geom) FROM samples;"
   ]
  },
  {
   "cell_type": "code",
   "execution_count": null,
   "id": "644f6098",
   "metadata": {},
   "outputs": [],
   "source": [
    "%%sql \n",
    "\n",
    "COPY samples TO 'samples.geojson' (FORMAT GDAL, DRIVER GeoJSON);"
   ]
  },
  {
   "cell_type": "markdown",
   "id": "c83c4738",
   "metadata": {},
   "source": [
    "## Points\n",
    "\n",
    "![](https://postgis.net/workshops/postgis-intro/_images/points.png)\n",
    "\n",
    "A spatial point represents a single location on the Earth. This point is represented by a single coordinate (including either 2-, 3- or 4-dimensions). Points are used to represent objects when the exact details, such as shape and size, are not important at the target scale. For example, cities on a map of the world can be described as points, while a map of a single state might represent cities as polygons."
   ]
  },
  {
   "cell_type": "code",
   "execution_count": null,
   "id": "9b4a9c3c",
   "metadata": {},
   "outputs": [],
   "source": [
    "%%sql\n",
    "\n",
    "SELECT ST_AsText(geom)\n",
    "  FROM samples\n",
    "  WHERE name = 'Point';"
   ]
  },
  {
   "cell_type": "markdown",
   "id": "70c2a745",
   "metadata": {},
   "source": [
    "Some of the specific spatial functions for working with points are:\n",
    "\n",
    "- **ST_X(geom)** returns the X ordinate\n",
    "- **ST_Y(geom)** returns the Y ordinate\n",
    "\n",
    "So, we can read the ordinates from a point like this:"
   ]
  },
  {
   "cell_type": "code",
   "execution_count": null,
   "id": "8227e830",
   "metadata": {},
   "outputs": [],
   "source": [
    "%%sql\n",
    "\n",
    "SELECT ST_X(geom), ST_Y(geom)\n",
    "  FROM samples\n",
    "  WHERE name = 'Point';"
   ]
  },
  {
   "cell_type": "code",
   "execution_count": null,
   "id": "082dee98",
   "metadata": {},
   "outputs": [],
   "source": [
    "%%sql \n",
    "\n",
    "SELECT * FROM nyc_subway_stations"
   ]
  },
  {
   "cell_type": "code",
   "execution_count": null,
   "id": "c45c7e89",
   "metadata": {},
   "outputs": [],
   "source": [
    "%%sql\n",
    "\n",
    "SELECT name, ST_AsText(geom)\n",
    "  FROM nyc_subway_stations\n",
    "  LIMIT 10;"
   ]
  },
  {
   "cell_type": "markdown",
   "id": "62814e69",
   "metadata": {},
   "source": [
    "## Linestrings\n",
    "\n",
    "![](https://postgis.net/workshops/postgis-intro/_images/lines.png)\n",
    "\n",
    "\n",
    "A **linestring** is a path between locations. It takes the form of an\n",
    "ordered series of two or more points. Roads and rivers are typically\n",
    "represented as linestrings. A linestring is said to be **closed** if it\n",
    "starts and ends on the same point. It is said to be **simple** if it\n",
    "does not cross or touch itself (except at its endpoints if it is\n",
    "closed). A linestring can be both **closed** and **simple**.\n",
    "\n",
    "The street network for New York (`nyc_streets`) was loaded earlier in\n",
    "the workshop. This dataset contains details such as name, and type. A\n",
    "single real world street may consist of many linestrings, each\n",
    "representing a segment of road with different attributes.\n",
    "\n",
    "The following SQL query will return the geometry associated with one\n",
    "linestring (in the `ST_AsText` column)."
   ]
  },
  {
   "cell_type": "code",
   "execution_count": null,
   "id": "42edc6e5",
   "metadata": {},
   "outputs": [],
   "source": [
    "%%sql\n",
    "\n",
    "SELECT ST_AsText(geom)\n",
    "  FROM samples\n",
    "  WHERE name = 'Linestring';"
   ]
  },
  {
   "cell_type": "markdown",
   "id": "c4b8cd26",
   "metadata": {},
   "source": [
    "Some of the specific spatial functions for working with linestrings are:\n",
    "\n",
    "-   `ST_Length(geom)` returns the length of the linestring\n",
    "-   `ST_StartPoint(geom)` returns the first coordinate as a point\n",
    "-   `ST_EndPoint(geom)` returns the last coordinate as a point\n",
    "-   `ST_NPoints(geom)` returns the number of coordinates in the\n",
    "    linestring\n",
    "\n",
    "So, the length of our linestring is:"
   ]
  },
  {
   "cell_type": "code",
   "execution_count": null,
   "id": "4a07c109",
   "metadata": {},
   "outputs": [],
   "source": [
    "%%sql \n",
    "\n",
    "SELECT ST_Length(geom)\n",
    "  FROM samples\n",
    "  WHERE name = 'Linestring';"
   ]
  },
  {
   "cell_type": "markdown",
   "id": "fd555eac",
   "metadata": {},
   "source": [
    "## Polygons"
   ]
  },
  {
   "cell_type": "markdown",
   "id": "06384e77",
   "metadata": {},
   "source": [
    "![](https://postgis.net/workshops/postgis-intro/_images/polygons.png)\n",
    "\n",
    "A polygon is a representation of an area. The outer boundary of the\n",
    "polygon is represented by a ring. This ring is a linestring that is both\n",
    "closed and simple as defined above. Holes within the polygon are also\n",
    "represented by rings.\n",
    "\n",
    "Polygons are used to represent objects whose size and shape are\n",
    "important. City limits, parks, building footprints or bodies of water\n",
    "are all commonly represented as polygons when the scale is sufficiently\n",
    "high to see their area. Roads and rivers can sometimes be represented as\n",
    "polygons.\n",
    "\n",
    "The following SQL query will return the geometry associated with one\n",
    "polygon (in the `ST_AsText` column)."
   ]
  },
  {
   "cell_type": "code",
   "execution_count": null,
   "id": "5648e182",
   "metadata": {},
   "outputs": [],
   "source": [
    "%%sql\n",
    "\n",
    "SELECT ST_AsText(geom)\n",
    "  FROM samples\n",
    "  WHERE name LIKE 'Polygon%';"
   ]
  },
  {
   "cell_type": "markdown",
   "id": "dffe3117",
   "metadata": {},
   "source": [
    "Some of the specific spatial functions for working with polygons are:\n",
    "\n",
    "-   `ST_Area(geom)` returns the area of the polygons\n",
    "-   `ST_NRings(geom)` returns the number of rings (usually 1, more\n",
    "    of there are holes)\n",
    "-   `ST_ExteriorRing(geom)` returns the outer ring as a linestring\n",
    "-   `ST_InteriorRingN(geometry,n)` returns a specified interior ring as\n",
    "    a linestring\n",
    "-   `ST_Perimeter(geom)` returns the length of all the rings\n",
    "\n",
    "We can calculate the area of our polygons using the area function:"
   ]
  },
  {
   "cell_type": "code",
   "execution_count": null,
   "id": "78655a92",
   "metadata": {},
   "outputs": [],
   "source": [
    "%%sql\n",
    "\n",
    "SELECT name, ST_Area(geom)\n",
    "  FROM samples\n",
    "  WHERE name LIKE 'Polygon%';"
   ]
  },
  {
   "cell_type": "markdown",
   "id": "bba65d79",
   "metadata": {},
   "source": [
    "## Collections\n",
    "\n",
    "There are four collection types, which group multiple simple samples\n",
    "into sets.\n",
    "\n",
    "-   **MultiPoint**, a collection of points\n",
    "-   **MultiLineString**, a collection of linestrings\n",
    "-   **MultiPolygon**, a collection of polygons\n",
    "-   **GeometryCollection**, a heterogeneous collection of any geometry\n",
    "    (including other collections)\n",
    "\n",
    "Collections are another concept that shows up in GIS software more than\n",
    "in generic graphics software. They are useful for directly modeling real\n",
    "world objects as spatial objects. For example, how to model a lot that\n",
    "is split by a right-of-way? As a **MultiPolygon**, with a part on either\n",
    "side of the right-of-way.\n",
    "\n",
    "Our example collection contains a polygon and a point:"
   ]
  },
  {
   "cell_type": "code",
   "execution_count": null,
   "id": "7adc0b4f",
   "metadata": {},
   "outputs": [],
   "source": [
    "%%sql\n",
    "\n",
    "SELECT name, ST_AsText(geom)\n",
    "  FROM samples\n",
    "  WHERE name = 'Collection';"
   ]
  }
 ],
 "metadata": {
  "jupytext": {
   "text_representation": {
    "extension": ".md",
    "format_name": "myst",
    "format_version": 0.13,
    "jupytext_version": "1.15.2"
   }
  },
  "kernelspec": {
   "display_name": "Python 3",
   "language": "python",
   "name": "python3"
  },
  "source_map": [
   12,
   24,
   26,
   30,
   37,
   41,
   45,
   49,
   52,
   58,
   63,
   68,
   72,
   87,
   93,
   97,
   105,
   111,
   120,
   128,
   134,
   140,
   162,
   168,
   180,
   186,
   190,
   208,
   214,
   228,
   234,
   255
  ]
 },
 "nbformat": 4,
 "nbformat_minor": 5
}