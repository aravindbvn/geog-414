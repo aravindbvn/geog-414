{
 "cells": [
  {
   "cell_type": "markdown",
   "id": "a084358b",
   "metadata": {},
   "source": [
    "# Working with Geometries\n",
    "\n",
    "## Introduction\n",
    "\n",
    "This notebook demonstrates how to work with geometries in DuckDB.\n",
    "\n",
    "## Installation\n",
    "\n",
    "Uncomment the following cell to install the required packages if needed."
   ]
  },
  {
   "cell_type": "code",
   "execution_count": null,
   "id": "b9e74ca8",
   "metadata": {},
   "outputs": [],
   "source": [
    "# %pip install duckdb leafmap"
   ]
  },
  {
   "cell_type": "markdown",
   "id": "1b782a10",
   "metadata": {},
   "source": [
    "## Library Import and Configuration"
   ]
  },
  {
   "cell_type": "code",
   "execution_count": null,
   "id": "18f2a412",
   "metadata": {},
   "outputs": [],
   "source": [
    "import duckdb\n",
    "import leafmap"
   ]
  },
  {
   "cell_type": "markdown",
   "id": "8925a840",
   "metadata": {},
   "source": [
    "## Sample Data\n",
    "\n",
    "The datasets in the database are in NAD83 / UTM zone 18N projection, EPSG:26918."
   ]
  },
  {
   "cell_type": "code",
   "execution_count": null,
   "id": "61076fca",
   "metadata": {},
   "outputs": [],
   "source": [
    "url = \"https://open.gishub.org/data/duckdb/nyc_data.db.zip\"\n",
    "leafmap.download_file(url, unzip=True)"
   ]
  },
  {
   "cell_type": "markdown",
   "id": "cde2e548",
   "metadata": {},
   "source": [
    "## Connecting to DuckDB\n",
    "\n",
    "Connect jupysql to DuckDB using a SQLAlchemy-style connection string. You may either connect to an in memory DuckDB, or a file backed db."
   ]
  },
  {
   "cell_type": "code",
   "execution_count": null,
   "id": "c22b758d",
   "metadata": {},
   "outputs": [],
   "source": [
    "con = duckdb.connect(\"nyc_data.db\")"
   ]
  },
  {
   "cell_type": "code",
   "execution_count": null,
   "id": "6df2b413",
   "metadata": {},
   "outputs": [],
   "source": [
    "con.install_extension(\"spatial\")\n",
    "con.load_extension(\"spatial\")"
   ]
  },
  {
   "cell_type": "code",
   "execution_count": null,
   "id": "59734a62",
   "metadata": {},
   "outputs": [],
   "source": [
    "con.sql(\"SHOW TABLES;\")"
   ]
  },
  {
   "cell_type": "markdown",
   "id": "a315a03e",
   "metadata": {},
   "source": [
    "## Creating samples"
   ]
  },
  {
   "cell_type": "code",
   "execution_count": null,
   "id": "b61cf7e3",
   "metadata": {},
   "outputs": [],
   "source": [
    "con.sql(\"\"\"\n",
    "\n",
    "CREATE or REPLACE TABLE samples (name VARCHAR, geom GEOMETRY);\n",
    "\n",
    "INSERT INTO samples VALUES\n",
    "  ('Point', ST_GeomFromText('POINT(-100 40)')),\n",
    "  ('Linestring', ST_GeomFromText('LINESTRING(0 0, 1 1, 2 1, 2 2)')),\n",
    "  ('Polygon', ST_GeomFromText('POLYGON((0 0, 1 0, 1 1, 0 1, 0 0))')),\n",
    "  ('PolygonWithHole', ST_GeomFromText('POLYGON((0 0, 10 0, 10 10, 0 10, 0 0),(1 1, 1 2, 2 2, 2 1, 1 1))')),\n",
    "  ('Collection', ST_GeomFromText('GEOMETRYCOLLECTION(POINT(2 0),POLYGON((0 0, 1 0, 1 1, 0 1, 0 0)))'));\n",
    "\n",
    "SELECT * FROM samples;\n",
    "          \n",
    "  \"\"\")"
   ]
  },
  {
   "cell_type": "code",
   "execution_count": null,
   "id": "5767969c",
   "metadata": {},
   "outputs": [],
   "source": [
    "con.sql(\"SELECT name, ST_AsText(geom) AS geometry FROM samples;\")"
   ]
  },
  {
   "cell_type": "code",
   "execution_count": null,
   "id": "2079bb9b",
   "metadata": {},
   "outputs": [],
   "source": [
    "con.sql(\"\"\"\n",
    "        \n",
    "COPY samples TO 'samples.geojson' (FORMAT GDAL, DRIVER GeoJSON);\n",
    "        \n",
    "\"\"\")"
   ]
  },
  {
   "cell_type": "markdown",
   "id": "b1a5466a",
   "metadata": {},
   "source": [
    "## Points\n",
    "\n",
    "![](https://postgis.net/workshops/postgis-intro/_images/points.png)\n",
    "\n",
    "A spatial point represents a single location on the Earth. This point is represented by a single coordinate (including either 2-, 3- or 4-dimensions). Points are used to represent objects when the exact details, such as shape and size, are not important at the target scale. For example, cities on a map of the world can be described as points, while a map of a single state might represent cities as polygons."
   ]
  },
  {
   "cell_type": "code",
   "execution_count": null,
   "id": "8466df7b",
   "metadata": {},
   "outputs": [],
   "source": [
    "con.sql(\"\"\"\n",
    "\n",
    "SELECT ST_AsText(geom)\n",
    "  FROM samples\n",
    "  WHERE name = 'Point';\n",
    "        \n",
    "\"\"\")"
   ]
  },
  {
   "cell_type": "markdown",
   "id": "6527b1a5",
   "metadata": {},
   "source": [
    "Some of the specific spatial functions for working with points are:\n",
    "\n",
    "- **ST_X(geom)** returns the X ordinate\n",
    "- **ST_Y(geom)** returns the Y ordinate\n",
    "\n",
    "So, we can read the ordinates from a point like this:"
   ]
  },
  {
   "cell_type": "code",
   "execution_count": null,
   "id": "3b08f015",
   "metadata": {},
   "outputs": [],
   "source": [
    "con.sql(\"\"\"\n",
    "\n",
    "SELECT ST_X(geom), ST_Y(geom)\n",
    "  FROM samples\n",
    "  WHERE name = 'Point';\n",
    "        \n",
    "\"\"\")"
   ]
  },
  {
   "cell_type": "code",
   "execution_count": null,
   "id": "eb3d26d0",
   "metadata": {},
   "outputs": [],
   "source": [
    "con.sql(\"\"\"\n",
    "\n",
    "SELECT * FROM nyc_subway_stations\n",
    "        \n",
    "\"\"\")"
   ]
  },
  {
   "cell_type": "code",
   "execution_count": null,
   "id": "2e8d82e5",
   "metadata": {},
   "outputs": [],
   "source": [
    "con.sql(\"\"\"\n",
    "\n",
    "SELECT name, ST_AsText(geom)\n",
    "  FROM nyc_subway_stations\n",
    "  LIMIT 10;\n",
    "        \n",
    "\"\"\")"
   ]
  },
  {
   "cell_type": "markdown",
   "id": "dd78d3b2",
   "metadata": {},
   "source": [
    "## Linestrings\n",
    "\n",
    "![](https://postgis.net/workshops/postgis-intro/_images/lines.png)\n",
    "\n",
    "\n",
    "A **linestring** is a path between locations. It takes the form of an\n",
    "ordered series of two or more points. Roads and rivers are typically\n",
    "represented as linestrings. A linestring is said to be **closed** if it\n",
    "starts and ends on the same point. It is said to be **simple** if it\n",
    "does not cross or touch itself (except at its endpoints if it is\n",
    "closed). A linestring can be both **closed** and **simple**.\n",
    "\n",
    "The street network for New York (`nyc_streets`) was loaded earlier in\n",
    "the workshop. This dataset contains details such as name, and type. A\n",
    "single real world street may consist of many linestrings, each\n",
    "representing a segment of road with different attributes.\n",
    "\n",
    "The following SQL query will return the geometry associated with one\n",
    "linestring (in the `ST_AsText` column)."
   ]
  },
  {
   "cell_type": "code",
   "execution_count": null,
   "id": "8b41cfb6",
   "metadata": {},
   "outputs": [],
   "source": [
    "con.sql(\"\"\"\n",
    "        \n",
    "SELECT ST_AsText(geom)\n",
    "  FROM samples\n",
    "  WHERE name = 'Linestring';\n",
    "        \n",
    "\"\"\")"
   ]
  },
  {
   "cell_type": "markdown",
   "id": "bfbac4d5",
   "metadata": {},
   "source": [
    "Some of the specific spatial functions for working with linestrings are:\n",
    "\n",
    "-   `ST_Length(geom)` returns the length of the linestring\n",
    "-   `ST_StartPoint(geom)` returns the first coordinate as a point\n",
    "-   `ST_EndPoint(geom)` returns the last coordinate as a point\n",
    "-   `ST_NPoints(geom)` returns the number of coordinates in the\n",
    "    linestring\n",
    "\n",
    "So, the length of our linestring is:"
   ]
  },
  {
   "cell_type": "code",
   "execution_count": null,
   "id": "192a70e1",
   "metadata": {},
   "outputs": [],
   "source": [
    "con.sql(\"\"\"\n",
    "\n",
    "SELECT ST_Length(geom)\n",
    "  FROM samples\n",
    "  WHERE name = 'Linestring';\n",
    "        \n",
    "\"\"\")"
   ]
  },
  {
   "cell_type": "markdown",
   "id": "92674340",
   "metadata": {},
   "source": [
    "## Polygons"
   ]
  },
  {
   "cell_type": "markdown",
   "id": "33fdedc4",
   "metadata": {},
   "source": [
    "![](https://postgis.net/workshops/postgis-intro/_images/polygons.png)\n",
    "\n",
    "A polygon is a representation of an area. The outer boundary of the\n",
    "polygon is represented by a ring. This ring is a linestring that is both\n",
    "closed and simple as defined above. Holes within the polygon are also\n",
    "represented by rings.\n",
    "\n",
    "Polygons are used to represent objects whose size and shape are\n",
    "important. City limits, parks, building footprints or bodies of water\n",
    "are all commonly represented as polygons when the scale is sufficiently\n",
    "high to see their area. Roads and rivers can sometimes be represented as\n",
    "polygons.\n",
    "\n",
    "The following SQL query will return the geometry associated with one\n",
    "polygon (in the `ST_AsText` column)."
   ]
  },
  {
   "cell_type": "code",
   "execution_count": null,
   "id": "86cdd079",
   "metadata": {},
   "outputs": [],
   "source": [
    "con.sql(\"\"\"\n",
    "\n",
    "SELECT ST_AsText(geom)\n",
    "  FROM samples\n",
    "  WHERE name LIKE 'Polygon%';\n",
    "        \n",
    "\"\"\")"
   ]
  },
  {
   "cell_type": "markdown",
   "id": "ec456569",
   "metadata": {},
   "source": [
    "Some of the specific spatial functions for working with polygons are:\n",
    "\n",
    "-   `ST_Area(geom)` returns the area of the polygons\n",
    "-   `ST_NRings(geom)` returns the number of rings (usually 1, more\n",
    "    of there are holes)\n",
    "-   `ST_ExteriorRing(geom)` returns the outer ring as a linestring\n",
    "-   `ST_InteriorRingN(geometry,n)` returns a specified interior ring as\n",
    "    a linestring\n",
    "-   `ST_Perimeter(geom)` returns the length of all the rings\n",
    "\n",
    "We can calculate the area of our polygons using the area function:"
   ]
  },
  {
   "cell_type": "code",
   "execution_count": null,
   "id": "2e8376bc",
   "metadata": {},
   "outputs": [],
   "source": [
    "con.sql(\"\"\"\n",
    "        \n",
    "SELECT name, ST_Area(geom)\n",
    "  FROM samples\n",
    "  WHERE name LIKE 'Polygon%';\n",
    "        \n",
    "\"\"\")"
   ]
  },
  {
   "cell_type": "markdown",
   "id": "e9249df6",
   "metadata": {},
   "source": [
    "## Collections\n",
    "\n",
    "There are four collection types, which group multiple simple samples\n",
    "into sets.\n",
    "\n",
    "-   **MultiPoint**, a collection of points\n",
    "-   **MultiLineString**, a collection of linestrings\n",
    "-   **MultiPolygon**, a collection of polygons\n",
    "-   **GeometryCollection**, a heterogeneous collection of any geometry\n",
    "    (including other collections)\n",
    "\n",
    "Collections are another concept that shows up in GIS software more than\n",
    "in generic graphics software. They are useful for directly modeling real\n",
    "world objects as spatial objects. For example, how to model a lot that\n",
    "is split by a right-of-way? As a **MultiPolygon**, with a part on either\n",
    "side of the right-of-way.\n",
    "\n",
    "Our example collection contains a polygon and a point:"
   ]
  },
  {
   "cell_type": "code",
   "execution_count": null,
   "id": "fde1cf37",
   "metadata": {},
   "outputs": [],
   "source": [
    "con.sql(\"\"\"\n",
    "\n",
    "SELECT name, ST_AsText(geom)\n",
    "  FROM samples\n",
    "  WHERE name = 'Collection';\n",
    "        \n",
    "\"\"\")"
   ]
  },
  {
   "cell_type": "markdown",
   "id": "51298f20",
   "metadata": {},
   "source": [
    "## Data Visualization"
   ]
  },
  {
   "cell_type": "code",
   "execution_count": null,
   "id": "3ec45e91",
   "metadata": {},
   "outputs": [],
   "source": [
    "con.sql(\"SHOW TABLES;\")"
   ]
  },
  {
   "cell_type": "code",
   "execution_count": null,
   "id": "9f163e3e",
   "metadata": {},
   "outputs": [],
   "source": [
    "subway_stations_df = con.sql(\"SELECT * EXCLUDE geom, ST_AsText(geom) as geometry FROM nyc_subway_stations\").df()\n",
    "subway_stations_df.head()"
   ]
  },
  {
   "cell_type": "code",
   "execution_count": null,
   "id": "711ca3be",
   "metadata": {},
   "outputs": [],
   "source": [
    "subway_stations_gdf = leafmap.df_to_gdf(subway_stations_df, src_crs=\"EPSG:26918\", dst_crs=\"EPSG:4326\")\n",
    "subway_stations_gdf.head()"
   ]
  },
  {
   "cell_type": "code",
   "execution_count": null,
   "id": "eb25df20",
   "metadata": {},
   "outputs": [],
   "source": [
    "subway_stations_gdf.explore()"
   ]
  },
  {
   "cell_type": "code",
   "execution_count": null,
   "id": "4679398b",
   "metadata": {},
   "outputs": [],
   "source": [
    "nyc_streets_df = con.sql(\"SELECT * EXCLUDE geom, ST_AsText(geom) as geometry FROM nyc_streets\").df()\n",
    "nyc_streets_df.head()"
   ]
  },
  {
   "cell_type": "code",
   "execution_count": null,
   "id": "fed13985",
   "metadata": {},
   "outputs": [],
   "source": [
    "nyc_streets_gdf = leafmap.df_to_gdf(nyc_streets_df, src_crs=\"EPSG:26918\", dst_crs=\"EPSG:4326\")\n",
    "nyc_streets_gdf.head()"
   ]
  },
  {
   "cell_type": "code",
   "execution_count": null,
   "id": "a85525f2",
   "metadata": {},
   "outputs": [],
   "source": [
    "nyc_streets_gdf.explore()"
   ]
  }
 ],
 "metadata": {
  "jupytext": {
   "text_representation": {
    "extension": ".md",
    "format_name": "myst",
    "format_version": 0.13,
    "jupytext_version": "1.15.2"
   }
  },
  "kernelspec": {
   "display_name": "Python 3",
   "language": "python",
   "name": "python3"
  },
  "source_map": [
   12,
   24,
   26,
   30,
   33,
   39,
   42,
   48,
   52,
   57,
   59,
   63,
   80,
   84,
   90,
   98,
   106,
   115,
   125,
   133,
   141,
   163,
   171,
   183,
   191,
   195,
   213,
   221,
   235,
   243,
   264,
   272,
   276,
   280,
   285,
   290,
   294,
   299,
   304
  ]
 },
 "nbformat": 4,
 "nbformat_minor": 5
}