{
 "cells": [
  {
   "cell_type": "markdown",
   "id": "7fe5bf6f",
   "metadata": {},
   "source": [
    "# Data Analysis\n",
    "\n",
    "## Introduction\n",
    "\n",
    "The tutorial uses the [National Wetlands Inventory](https://www.fws.gov/program/national-wetlands-inventory) dataset as an example to demonstrate how to use DuckDB to analyze large geospatial datasets. The National Wetlands Inventory is a [publicly available](https://www.fws.gov/wetlands/Data/Data-Download.html) dataset that provides information on the characteristics, extent, and status of the nation's wetlands and deepwater habitats. The dataset is distributed as zipped Geodatabase files, and is available for download from [here](https://www.fws.gov/program/national-wetlands-inventory/download-state-wetlands-data). I have downloaded the database by state and converted the data to GeoParquet format. The GeoParquet files are available from [Source Cooperative](https://beta.source.coop/repositories/giswqs/nwi/description). The total file size of the 51 Parquet files is 75.8 GB.\n",
    "\n",
    "## Data download\n",
    "\n",
    "The script below was used to download the data from the National Wetlands Inventory in Geodatabase format from [here](https://www.fws.gov/program/national-wetlands-inventory/download-state-wetlands-data). The script uses the [leafmap](https://leafmap.org) Python package.\n",
    "\n",
    "First, create a conda environment with the required packages:\n",
    "\n",
    "```bash\n",
    "conda create -n gdal python=3.11\n",
    "conda activate gdal\n",
    "conda install -c conda-forge mamba\n",
    "mamba install -c conda-forge libgdal-arrow-parquet gdal leafmap\n",
    "pip install lonboard\n",
    "```\n",
    "\n",
    "If you are using Google Colab, you can install the packages as follows:"
   ]
  },
  {
   "cell_type": "code",
   "execution_count": null,
   "id": "fc9de073",
   "metadata": {},
   "outputs": [],
   "source": [
    "# %pip install leafmap lonboard"
   ]
  },
  {
   "cell_type": "markdown",
   "id": "1e74d68a",
   "metadata": {},
   "source": [
    "Then, run the script below:"
   ]
  },
  {
   "cell_type": "code",
   "execution_count": null,
   "id": "dadd440d",
   "metadata": {},
   "outputs": [],
   "source": [
    "import leafmap\n",
    "import pandas as pd\n",
    "\n",
    "url = 'https://open.gishub.org/data/us/us_states.csv'\n",
    "df = pd.read_csv(url)\n",
    "ids = df['id'].tolist()\n",
    "ids.sort()\n",
    "urls = [f\"https://documentst.ecosphere.fws.gov/wetlands/data/State-Downloads/{id}_geodatabase_wetlands.zip\" for id in ids]\n",
    "leafmap.download_files(urls, out_dir='.', unzip=True)"
   ]
  },
  {
   "cell_type": "markdown",
   "id": "c9c82ecb",
   "metadata": {},
   "source": [
    "## Data conversion\n",
    "\n",
    "The script below was used to convert the data from the original Geodatabase format to [Parquet](https://parquet.apache.org) format. The script uses the [leafmap](https://leafmap.org) Python package."
   ]
  },
  {
   "cell_type": "code",
   "execution_count": null,
   "id": "03bfe1ad",
   "metadata": {},
   "outputs": [],
   "source": [
    "import leafmap\n",
    "import pandas as pd\n",
    "\n",
    "url = 'https://open.gishub.org/data/us/us_states.csv'\n",
    "df = pd.read_csv(url)\n",
    "ids = df['id'].tolist()\n",
    "\n",
    "for index, state in enumerate(ids):\n",
    "    print(f'Processing {state} ({index+1}/{len(ids)})')\n",
    "    gdb = f\"{state}_geodatabase_wetlands.gdb/\"\n",
    "    layer_name = f'{state}_Wetlands'\n",
    "    leafmap.gdb_to_vector(gdb, \".\", gdal_driver=\"Parquet\", layers=[layer_name])"
   ]
  },
  {
   "cell_type": "markdown",
   "id": "b74a122c",
   "metadata": {},
   "source": [
    "## Data access\n",
    "\n",
    "The script below can be used to access the data using [DuckDB](https://duckdb.org). The script uses the [duckdb](https://duckdb.org) Python package."
   ]
  },
  {
   "cell_type": "code",
   "execution_count": null,
   "id": "831cb0eb",
   "metadata": {},
   "outputs": [],
   "source": [
    "import duckdb\n",
    "\n",
    "con = duckdb.connect()\n",
    "con.install_extension(\"spatial\")\n",
    "con.load_extension(\"spatial\")\n",
    "\n",
    "state = \"DC\"    # Change to the US State of your choice\n",
    "url = f\"https://data.source.coop/giswqs/nwi/wetlands/{state}_Wetlands.parquet\"\n",
    "con.sql(f\"SELECT * EXCLUDE geometry, ST_GeomFromWKB(geometry) FROM '{url}'\")"
   ]
  },
  {
   "cell_type": "markdown",
   "id": "69e7f46c",
   "metadata": {},
   "source": [
    "Inspect the table schema:"
   ]
  },
  {
   "cell_type": "code",
   "execution_count": null,
   "id": "0319f8e0",
   "metadata": {},
   "outputs": [],
   "source": [
    "con.sql(f\"DESCRIBE FROM '{url}'\")"
   ]
  },
  {
   "cell_type": "markdown",
   "id": "a6e52c31",
   "metadata": {},
   "source": [
    "Alternatively, you can use the aws cli to access the data directly from the S3 bucket. The can be very useful when you need to access multiple files. \n",
    "\n",
    "```bash\n",
    "aws s3 ls s3://us-west-2.opendata.source.coop/giswqs/nwi/wetlands/\n",
    "```\n",
    "\n",
    "## Data visualization\n",
    "\n",
    "To visualize the data, you can use the [leafmap](https://leafmap.org) Python package with the [lonboard](https://github.com/developmentseed/lonboard) backend. The script below shows how to visualize the data."
   ]
  },
  {
   "cell_type": "code",
   "execution_count": null,
   "id": "e46736e5",
   "metadata": {},
   "outputs": [],
   "source": [
    "import leafmap\n",
    "\n",
    "state = \"DC\"   # Change to the US State of your choice\n",
    "url = f\"https://data.source.coop/giswqs/nwi/wetlands/{state}_Wetlands.parquet\"\n",
    "gdf = leafmap.read_parquet(url, return_type='gdf', src_crs='EPSG:5070', dst_crs='EPSG:4326')\n",
    "leafmap.view_vector(gdf, get_fill_color=[0, 0, 255, 128])"
   ]
  },
  {
   "cell_type": "markdown",
   "id": "6619f177",
   "metadata": {},
   "source": [
    "![vector](https://i.imgur.com/HRtpiVd.png)\n",
    "\n",
    "Alternatively, you can specify a color map to visualize the data."
   ]
  },
  {
   "cell_type": "code",
   "execution_count": null,
   "id": "b437841f",
   "metadata": {},
   "outputs": [],
   "source": [
    "color_map =  {\n",
    "        \"Freshwater Forested/Shrub Wetland\": (0, 136, 55),\n",
    "        \"Freshwater Emergent Wetland\": (127, 195, 28),\n",
    "        \"Freshwater Pond\": (104, 140, 192),\n",
    "        \"Estuarine and Marine Wetland\": (102, 194, 165),\n",
    "        \"Riverine\": (1, 144, 191),\n",
    "        \"Lake\": (19, 0, 124),\n",
    "        \"Estuarine and Marine Deepwater\": (0, 124, 136),\n",
    "        \"Other\": (178, 134, 86),\n",
    "    }\n",
    "leafmap.view_vector(gdf, color_column='WETLAND_TYPE', color_map=color_map, opacity=0.5)"
   ]
  },
  {
   "cell_type": "markdown",
   "id": "4f7f97f8",
   "metadata": {},
   "source": [
    "![vector-color](https://i.imgur.com/Ejh8hK6.png)\n",
    "\n",
    "Display a legend for the data."
   ]
  },
  {
   "cell_type": "code",
   "execution_count": null,
   "id": "5a5d21e1",
   "metadata": {},
   "outputs": [],
   "source": [
    "leafmap.Legend(title=\"Wetland Type\", legend_dict=color_map)"
   ]
  },
  {
   "cell_type": "markdown",
   "id": "03fa1268",
   "metadata": {},
   "source": [
    "![legend](https://i.imgur.com/fxzHHFN.png)"
   ]
  },
  {
   "cell_type": "markdown",
   "id": "932090f3",
   "metadata": {},
   "source": [
    "## Data analysis\n",
    "\n",
    "\n",
    "Find out the total number of wetlands in the United States by aggregating the 51 parquet files."
   ]
  },
  {
   "cell_type": "code",
   "execution_count": null,
   "id": "cdc1db7f",
   "metadata": {},
   "outputs": [],
   "source": [
    "con.sql(f\"\"\"\n",
    "SELECT COUNT(*) AS Count\n",
    "FROM 's3://us-west-2.opendata.source.coop/giswqs/nwi/wetlands/*.parquet'\n",
    "\"\"\")"
   ]
  },
  {
   "cell_type": "markdown",
   "id": "7f140e9d",
   "metadata": {},
   "source": [
    "Find out the number of wetlands in each state. Note that the NWI datasets do not contain a field for state names. The `filename` argument can be used to add an extra `filename` column to the result that indicates which row came from which file."
   ]
  },
  {
   "cell_type": "code",
   "execution_count": null,
   "id": "ef42faec",
   "metadata": {},
   "outputs": [],
   "source": [
    "df = con.sql(f\"\"\"\n",
    "SELECT filename, COUNT(*) AS Count\n",
    "FROM read_parquet('s3://us-west-2.opendata.source.coop/giswqs/nwi/wetlands/*.parquet', filename=true)\n",
    "GROUP BY filename\n",
    "ORDER BY COUNT(*) DESC;\n",
    "\"\"\").df()\n",
    "df.head()"
   ]
  },
  {
   "cell_type": "markdown",
   "id": "6b2efda2",
   "metadata": {},
   "source": [
    "Inspect the list of filenames."
   ]
  },
  {
   "cell_type": "code",
   "execution_count": null,
   "id": "1a4e46a3",
   "metadata": {},
   "outputs": [],
   "source": [
    "df['filename'].tolist()"
   ]
  },
  {
   "cell_type": "markdown",
   "id": "1e374c96",
   "metadata": {},
   "source": [
    "Create a `State` column based on the `filename` column by extracting the state name from the filename."
   ]
  },
  {
   "cell_type": "code",
   "execution_count": null,
   "id": "dd0c190e",
   "metadata": {},
   "outputs": [],
   "source": [
    "count_df = con.sql(f\"\"\"\n",
    "SELECT SUBSTRING(filename, LENGTH(filename) - 18, 2) AS State, COUNT(*) AS Count\n",
    "FROM read_parquet('s3://us-west-2.opendata.source.coop/giswqs/nwi/wetlands/*.parquet', filename=true)\n",
    "GROUP BY State\n",
    "ORDER BY COUNT(*) DESC;\n",
    "\"\"\").df()\n",
    "count_df.head(10)"
   ]
  },
  {
   "cell_type": "markdown",
   "id": "4963da9c",
   "metadata": {},
   "source": [
    "Create a `wetlands` table from the DataFrame above."
   ]
  },
  {
   "cell_type": "code",
   "execution_count": null,
   "id": "c4beea58",
   "metadata": {},
   "outputs": [],
   "source": [
    "con.sql(\"CREATE OR REPLACE TABLE wetlands AS FROM count_df\")\n",
    "con.sql(\"FROM wetlands\")"
   ]
  },
  {
   "cell_type": "markdown",
   "id": "d18579f1",
   "metadata": {},
   "source": [
    "To visualize the data on the map, we need a GeoDataFrame. Let's create a `states` table from the [us_states.parquet](https://open.gishub.org/data/us/us_states.parquet) file."
   ]
  },
  {
   "cell_type": "code",
   "execution_count": null,
   "id": "28980b8c",
   "metadata": {},
   "outputs": [],
   "source": [
    "url = 'https://open.gishub.org/data/us/us_states.parquet'\n",
    "con.sql(\n",
    "    f\"\"\"\n",
    "CREATE OR REPLACE TABLE states AS\n",
    "SELECT * EXCLUDE geometry, ST_GeomFromWKB(geometry) \n",
    "AS geometry FROM '{url}'\n",
    "\"\"\"\n",
    ")\n",
    "con.sql(\"FROM states\")"
   ]
  },
  {
   "cell_type": "markdown",
   "id": "80b86444",
   "metadata": {},
   "source": [
    "Join the `wetlands` table with the `states` table."
   ]
  },
  {
   "cell_type": "code",
   "execution_count": null,
   "id": "1a406e48",
   "metadata": {},
   "outputs": [],
   "source": [
    "con.sql(\"\"\"\n",
    "SELECT * FROM states INNER JOIN wetlands ON states.id = wetlands.State\n",
    "\"\"\")"
   ]
  },
  {
   "cell_type": "markdown",
   "id": "22a95886",
   "metadata": {},
   "source": [
    "Export the joined table as a Pandas DataFrame."
   ]
  },
  {
   "cell_type": "code",
   "execution_count": null,
   "id": "8a5d4481",
   "metadata": {},
   "outputs": [],
   "source": [
    "df = con.sql(\"\"\"\n",
    "SELECT name, State, Count, ST_AsText(geometry) as geometry\n",
    "FROM states INNER JOIN wetlands ON states.id = wetlands.State\n",
    "\"\"\").df()\n",
    "df.head()"
   ]
  },
  {
   "cell_type": "markdown",
   "id": "1ffbd16c",
   "metadata": {},
   "source": [
    "Convert the Pandas DataFrame to a GeoDataFrame."
   ]
  },
  {
   "cell_type": "code",
   "execution_count": null,
   "id": "0810846b",
   "metadata": {},
   "outputs": [],
   "source": [
    "gdf = leafmap.df_to_gdf(df, src_crs=\"EPSG:4326\")"
   ]
  },
  {
   "cell_type": "markdown",
   "id": "707c2812",
   "metadata": {},
   "source": [
    "Visualize the data on the map."
   ]
  },
  {
   "cell_type": "code",
   "execution_count": null,
   "id": "12cf11d4",
   "metadata": {},
   "outputs": [],
   "source": [
    "m = leafmap.Map()\n",
    "m.add_data(\n",
    "    gdf, column='Count', scheme='Quantiles', cmap='Greens', legend_title='Wetland Count'\n",
    ")\n",
    "m"
   ]
  },
  {
   "cell_type": "markdown",
   "id": "8f9dff80",
   "metadata": {},
   "source": [
    "![](https://i.imgur.com/x9nJWZR.png)"
   ]
  },
  {
   "cell_type": "markdown",
   "id": "1dad7b1d",
   "metadata": {},
   "source": [
    "Create a pie chart to show the percentage of wetlands in each state."
   ]
  },
  {
   "cell_type": "code",
   "execution_count": null,
   "id": "b7da727a",
   "metadata": {},
   "outputs": [],
   "source": [
    "leafmap.pie_chart(count_df, 'State', 'Count', height=800, title='Number of Wetlands by State')"
   ]
  },
  {
   "cell_type": "markdown",
   "id": "bc6654ab",
   "metadata": {},
   "source": [
    "![](https://i.imgur.com/EQFZW4x.png)"
   ]
  },
  {
   "cell_type": "markdown",
   "id": "6f8b369d",
   "metadata": {},
   "source": [
    "Create a bar chart to show the number of wetlands in each state."
   ]
  },
  {
   "cell_type": "code",
   "execution_count": null,
   "id": "c18ec0d7",
   "metadata": {},
   "outputs": [],
   "source": [
    "leafmap.bar_chart(count_df, 'State', 'Count', title='Number of Wetlands by State')"
   ]
  },
  {
   "cell_type": "markdown",
   "id": "9fd0a961",
   "metadata": {},
   "source": [
    "![](https://i.imgur.com/dNjh9lp.png)"
   ]
  },
  {
   "cell_type": "markdown",
   "id": "148b9956",
   "metadata": {},
   "source": [
    "Calculate the total area of wetlands in the United States. It takes about 3 minutes to run this query. Please be patient."
   ]
  },
  {
   "cell_type": "code",
   "execution_count": null,
   "id": "9540d4d7",
   "metadata": {},
   "outputs": [],
   "source": [
    "con.sql(f\"\"\"\n",
    "SELECT SUM(Shape_Area) /  1000000 AS Area_SqKm\n",
    "FROM 's3://us-west-2.opendata.source.coop/giswqs/nwi/wetlands/*.parquet'\n",
    "\"\"\")"
   ]
  },
  {
   "cell_type": "markdown",
   "id": "4eb60def",
   "metadata": {},
   "source": [
    "Calculate the total area of wetlands in each state. It takes about 3 minutes to run this query. Please be patient."
   ]
  },
  {
   "cell_type": "code",
   "execution_count": null,
   "id": "256dac7a",
   "metadata": {},
   "outputs": [],
   "source": [
    "area_df = con.sql(f\"\"\"\n",
    "SELECT SUBSTRING(filename, LENGTH(filename) - 18, 2) AS State, SUM(Shape_Area) /  1000000 AS Area_SqKm\n",
    "FROM read_parquet('s3://us-west-2.opendata.source.coop/giswqs/nwi/wetlands/*.parquet', filename=true)\n",
    "GROUP BY State\n",
    "ORDER BY COUNT(*) DESC;\n",
    "\"\"\").df()\n",
    "area_df.head(10)"
   ]
  },
  {
   "cell_type": "markdown",
   "id": "1d67fa8b",
   "metadata": {},
   "source": [
    "Create a pie chart to show the percentage of wetlands in each state."
   ]
  },
  {
   "cell_type": "code",
   "execution_count": null,
   "id": "6f60996a",
   "metadata": {},
   "outputs": [],
   "source": [
    "leafmap.pie_chart(area_df, 'State', 'Area_SqKm', height=900, title='Wetland Area by State')"
   ]
  },
  {
   "cell_type": "markdown",
   "id": "257c6b59",
   "metadata": {},
   "source": [
    "![](https://i.imgur.com/tIy2fLt.png)"
   ]
  },
  {
   "cell_type": "markdown",
   "id": "d00316c9",
   "metadata": {},
   "source": [
    "Create a bar chart to show the wetland area in each state."
   ]
  },
  {
   "cell_type": "code",
   "execution_count": null,
   "id": "a878ee89",
   "metadata": {},
   "outputs": [],
   "source": [
    "leafmap.bar_chart(area_df, 'State', 'Area_SqKm', title='Wetland Area by State')"
   ]
  },
  {
   "cell_type": "markdown",
   "id": "c29287d0",
   "metadata": {},
   "source": [
    "![](https://i.imgur.com/EyJQZNP.png)"
   ]
  }
 ],
 "metadata": {
  "jupytext": {
   "text_representation": {
    "extension": ".md",
    "format_name": "myst",
    "format_version": 0.13,
    "jupytext_version": "1.15.2"
   }
  },
  "kernelspec": {
   "display_name": "geo",
   "language": "python",
   "name": "python3"
  },
  "source_map": [
   12,
   36,
   38,
   42,
   52,
   58,
   71,
   77,
   87,
   91,
   93,
   105,
   112,
   118,
   130,
   136,
   138,
   142,
   149,
   154,
   158,
   166,
   170,
   172,
   176,
   184,
   188,
   191,
   195,
   205,
   209,
   213,
   217,
   223,
   227,
   229,
   233,
   239,
   243,
   247,
   249,
   253,
   257,
   259,
   263,
   267,
   272,
   276,
   284,
   288,
   290,
   294,
   298,
   300
  ]
 },
 "nbformat": 4,
 "nbformat_minor": 5
}