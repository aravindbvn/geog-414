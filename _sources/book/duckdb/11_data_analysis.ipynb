{
 "cells": [
  {
   "cell_type": "markdown",
   "id": "c90b60cf",
   "metadata": {},
   "source": [
    "# Data Analysis\n",
    "\n",
    "## Introduction\n",
    "\n",
    "The tutorial uses the [National Wetlands Inventory](https://www.fws.gov/program/national-wetlands-inventory) dataset as an example to demonstrate how to use DuckDB to analyze large geospatial datasets. The National Wetlands Inventory is a [publicly available](https://www.fws.gov/wetlands/Data/Data-Download.html) dataset that provides information on the characteristics, extent, and status of the nation's wetlands and deepwater habitats. The dataset is distributed as zipped Geodatabase files, and is available for download from [here](https://www.fws.gov/program/national-wetlands-inventory/download-state-wetlands-data). I have downloaded the database by state and converted the data to GeoParquet format. The GeoParquet files are available from [Source Cooperative](https://beta.source.coop/repositories/giswqs/nwi/description). The total file size of the 51 Parquet files is 75.8 GB.\n",
    "\n",
    "## Data download\n",
    "\n",
    "The script below was used to download the data from the National Wetlands Inventory in Geodatabase format from [here](https://www.fws.gov/program/national-wetlands-inventory/download-state-wetlands-data). The script uses the [leafmap](https://leafmap.org) Python package.\n",
    "\n",
    "First, create a conda environment with the required packages:\n",
    "\n",
    "```bash\n",
    "conda create -n gdal python=3.11\n",
    "conda activate gdal\n",
    "conda install -c conda-forge mamba\n",
    "mamba install -c conda-forge libgdal-arrow-parquet gdal leafmap\n",
    "pip install lonboard\n",
    "```\n",
    "\n",
    "If you are using Google Colab, you can install the packages as follows:"
   ]
  },
  {
   "cell_type": "code",
   "execution_count": null,
   "id": "84b1bd98",
   "metadata": {},
   "outputs": [],
   "source": [
    "# %pip install leafmap lonboard"
   ]
  },
  {
   "cell_type": "markdown",
   "id": "6aae0cb7",
   "metadata": {},
   "source": [
    "Then, run the script below:"
   ]
  },
  {
   "cell_type": "code",
   "execution_count": null,
   "id": "f9f4ca34",
   "metadata": {},
   "outputs": [],
   "source": [
    "import leafmap\n",
    "import pandas as pd\n",
    "\n",
    "url = 'https://open.gishub.org/data/us/us_states.csv'\n",
    "df = pd.read_csv(url)\n",
    "ids = df['id'].tolist()\n",
    "ids.sort()\n",
    "urls = [f\"https://documentst.ecosphere.fws.gov/wetlands/data/State-Downloads/{id}_geodatabase_wetlands.zip\" for id in ids]\n",
    "leafmap.download_files(urls, out_dir='.', unzip=True)"
   ]
  },
  {
   "cell_type": "markdown",
   "id": "0f3f6ba8",
   "metadata": {},
   "source": [
    "## Data conversion\n",
    "\n",
    "The script below was used to convert the data from the original Geodatabase format to [Parquet](https://parquet.apache.org) format. The script uses the [leafmap](https://leafmap.org) Python package."
   ]
  },
  {
   "cell_type": "code",
   "execution_count": null,
   "id": "669e82d2",
   "metadata": {},
   "outputs": [],
   "source": [
    "import leafmap\n",
    "import pandas as pd\n",
    "\n",
    "url = 'https://open.gishub.org/data/us/us_states.csv'\n",
    "df = pd.read_csv(url)\n",
    "ids = df['id'].tolist()\n",
    "\n",
    "for index, state in enumerate(ids):\n",
    "    print(f'Processing {state} ({index+1}/{len(ids)})')\n",
    "    gdb = f\"{state}_geodatabase_wetlands.gdb/\"\n",
    "    layer_name = f'{state}_Wetlands'\n",
    "    leafmap.gdb_to_vector(gdb, \".\", gdal_driver=\"Parquet\", layers=[layer_name])"
   ]
  },
  {
   "cell_type": "markdown",
   "id": "1d4061c5",
   "metadata": {},
   "source": [
    "## Data access\n",
    "\n",
    "The script below can be used to access the data using [DuckDB](https://duckdb.org). The script uses the [duckdb](https://duckdb.org) Python package."
   ]
  },
  {
   "cell_type": "code",
   "execution_count": null,
   "id": "b895c6d4",
   "metadata": {},
   "outputs": [],
   "source": [
    "import duckdb\n",
    "\n",
    "con = duckdb.connect()\n",
    "con.install_extension(\"spatial\")\n",
    "con.load_extension(\"spatial\")\n",
    "\n",
    "state = \"DC\"    # Change to the US State of your choice\n",
    "url = f\"https://data.source.coop/giswqs/nwi/wetlands/{state}_Wetlands.parquet\"\n",
    "con.sql(f\"SELECT * EXCLUDE geometry, ST_GeomFromWKB(geometry) FROM '{url}'\")"
   ]
  },
  {
   "cell_type": "markdown",
   "id": "333e4d2a",
   "metadata": {},
   "source": [
    "Inspect the table schema:"
   ]
  },
  {
   "cell_type": "code",
   "execution_count": null,
   "id": "692e7eb8",
   "metadata": {},
   "outputs": [],
   "source": [
    "con.sql(f\"DESCRIBE FROM '{url}'\")"
   ]
  },
  {
   "cell_type": "markdown",
   "id": "c7439839",
   "metadata": {},
   "source": [
    "Alternatively, you can use the aws cli to access the data directly from the S3 bucket. The can be very useful when you need to access multiple files. \n",
    "\n",
    "```bash\n",
    "aws s3 ls s3://us-west-2.opendata.source.coop/giswqs/nwi/wetlands/\n",
    "```\n",
    "\n",
    "## Data visualization\n",
    "\n",
    "To visualize the data, you can use the [leafmap](https://leafmap.org) Python package with the [lonboard](https://github.com/developmentseed/lonboard) backend. The script below shows how to visualize the data."
   ]
  },
  {
   "cell_type": "code",
   "execution_count": null,
   "id": "3b1af3ba",
   "metadata": {},
   "outputs": [],
   "source": [
    "import leafmap\n",
    "\n",
    "state = \"DC\"   # Change to the US State of your choice\n",
    "url = f\"https://data.source.coop/giswqs/nwi/wetlands/{state}_Wetlands.parquet\"\n",
    "gdf = leafmap.read_parquet(url, return_type='gdf', src_crs='EPSG:5070', dst_crs='EPSG:4326')\n",
    "leafmap.view_vector(gdf, get_fill_color=[0, 0, 255, 128])"
   ]
  },
  {
   "cell_type": "markdown",
   "id": "453a0de6",
   "metadata": {},
   "source": [
    "![vector](https://i.imgur.com/HRtpiVd.png)\n",
    "\n",
    "Alternatively, you can specify a color map to visualize the data."
   ]
  },
  {
   "cell_type": "code",
   "execution_count": null,
   "id": "c0ad857d",
   "metadata": {},
   "outputs": [],
   "source": [
    "color_map =  {\n",
    "        \"Freshwater Forested/Shrub Wetland\": (0, 136, 55),\n",
    "        \"Freshwater Emergent Wetland\": (127, 195, 28),\n",
    "        \"Freshwater Pond\": (104, 140, 192),\n",
    "        \"Estuarine and Marine Wetland\": (102, 194, 165),\n",
    "        \"Riverine\": (1, 144, 191),\n",
    "        \"Lake\": (19, 0, 124),\n",
    "        \"Estuarine and Marine Deepwater\": (0, 124, 136),\n",
    "        \"Other\": (178, 134, 86),\n",
    "    }\n",
    "leafmap.view_vector(gdf, color_column='WETLAND_TYPE', color_map=color_map, opacity=0.5)"
   ]
  },
  {
   "cell_type": "markdown",
   "id": "7def822e",
   "metadata": {},
   "source": [
    "![vector-color](https://i.imgur.com/Ejh8hK6.png)\n",
    "\n",
    "Display a legend for the data."
   ]
  },
  {
   "cell_type": "code",
   "execution_count": null,
   "id": "a2ee4c5b",
   "metadata": {},
   "outputs": [],
   "source": [
    "leafmap.Legend(title=\"Wetland Type\", legend_dict=color_map)"
   ]
  },
  {
   "cell_type": "markdown",
   "id": "a9af3d80",
   "metadata": {},
   "source": [
    "![legend](https://i.imgur.com/fxzHHFN.png)"
   ]
  },
  {
   "cell_type": "markdown",
   "id": "9fc1d81c",
   "metadata": {},
   "source": [
    "## Data analysis\n",
    "\n",
    "\n",
    "Find out the total number of wetlands in the United States by aggregating the 51 parquet files."
   ]
  },
  {
   "cell_type": "code",
   "execution_count": null,
   "id": "3d5cee14",
   "metadata": {},
   "outputs": [],
   "source": [
    "con.sql(f\"\"\"\n",
    "SELECT COUNT(*) AS Count\n",
    "FROM 's3://us-west-2.opendata.source.coop/giswqs/nwi/wetlands/*.parquet'\n",
    "\"\"\")"
   ]
  },
  {
   "cell_type": "markdown",
   "id": "de96ab29",
   "metadata": {},
   "source": [
    "Find out the number of wetlands in each state. Note that the NWI datasets do not contain a field for state names. The `filename` argument can be used to add an extra `filename` column to the result that indicates which row came from which file."
   ]
  },
  {
   "cell_type": "code",
   "execution_count": null,
   "id": "9da2ab8f",
   "metadata": {},
   "outputs": [],
   "source": [
    "df = con.sql(f\"\"\"\n",
    "SELECT filename, COUNT(*) AS Count\n",
    "FROM read_parquet('s3://us-west-2.opendata.source.coop/giswqs/nwi/wetlands/*.parquet', filename=true)\n",
    "GROUP BY filename\n",
    "ORDER BY COUNT(*) DESC;\n",
    "\"\"\").df()\n",
    "df.head()"
   ]
  },
  {
   "cell_type": "markdown",
   "id": "135c4602",
   "metadata": {},
   "source": [
    "Inspect the list of filenames."
   ]
  },
  {
   "cell_type": "code",
   "execution_count": null,
   "id": "61c32a1c",
   "metadata": {},
   "outputs": [],
   "source": [
    "df['filename'].tolist()"
   ]
  },
  {
   "cell_type": "markdown",
   "id": "c2e0975e",
   "metadata": {},
   "source": [
    "Create a `State` column based on the `filename` column by extracting the state name from the filename."
   ]
  },
  {
   "cell_type": "code",
   "execution_count": null,
   "id": "8baedc81",
   "metadata": {},
   "outputs": [],
   "source": [
    "count_df = con.sql(f\"\"\"\n",
    "SELECT SUBSTRING(filename, LENGTH(filename) - 18, 2) AS State, COUNT(*) AS Count\n",
    "FROM read_parquet('s3://us-west-2.opendata.source.coop/giswqs/nwi/wetlands/*.parquet', filename=true)\n",
    "GROUP BY State\n",
    "ORDER BY COUNT(*) DESC;\n",
    "\"\"\").df()\n",
    "count_df.head(10)"
   ]
  },
  {
   "cell_type": "markdown",
   "id": "b26260b8",
   "metadata": {},
   "source": [
    "Create a `wetlands` table from the DataFrame above."
   ]
  },
  {
   "cell_type": "code",
   "execution_count": null,
   "id": "be050d43",
   "metadata": {},
   "outputs": [],
   "source": [
    "con.sql(\"CREATE OR REPLACE TABLE wetlands AS FROM count_df\")\n",
    "con.sql(\"FROM wetlands\")"
   ]
  },
  {
   "cell_type": "markdown",
   "id": "898e9e1c",
   "metadata": {},
   "source": [
    "To visualize the data on the map, we need a GeoDataFrame. Let's create a `states` table from the [us_states.parquet](https://open.gishub.org/data/us/us_states.parquet) file."
   ]
  },
  {
   "cell_type": "code",
   "execution_count": null,
   "id": "4ecf0f0e",
   "metadata": {},
   "outputs": [],
   "source": [
    "url = 'https://open.gishub.org/data/us/us_states.parquet'\n",
    "con.sql(\n",
    "    f\"\"\"\n",
    "CREATE OR REPLACE TABLE states AS\n",
    "SELECT * EXCLUDE geometry, ST_GeomFromWKB(geometry) \n",
    "AS geometry FROM '{url}'\n",
    "\"\"\"\n",
    ")\n",
    "con.sql(\"FROM states\")"
   ]
  },
  {
   "cell_type": "markdown",
   "id": "2d0cf0e7",
   "metadata": {},
   "source": [
    "Join the `wetlands` table with the `states` table."
   ]
  },
  {
   "cell_type": "code",
   "execution_count": null,
   "id": "8bbccadf",
   "metadata": {},
   "outputs": [],
   "source": [
    "con.sql(\"\"\"\n",
    "SELECT * FROM states INNER JOIN wetlands ON states.id = wetlands.State\n",
    "\"\"\")"
   ]
  },
  {
   "cell_type": "markdown",
   "id": "9a6d7919",
   "metadata": {},
   "source": [
    "Export the joined table as a Pandas DataFrame."
   ]
  },
  {
   "cell_type": "code",
   "execution_count": null,
   "id": "c4712b8d",
   "metadata": {},
   "outputs": [],
   "source": [
    "df = con.sql(\"\"\"\n",
    "SELECT name, State, Count, ST_AsText(geometry) as geometry\n",
    "FROM states INNER JOIN wetlands ON states.id = wetlands.State\n",
    "\"\"\").df()\n",
    "df.head()"
   ]
  },
  {
   "cell_type": "markdown",
   "id": "8f8291e8",
   "metadata": {},
   "source": [
    "Convert the Pandas DataFrame to a GeoDataFrame."
   ]
  },
  {
   "cell_type": "code",
   "execution_count": null,
   "id": "da135008",
   "metadata": {},
   "outputs": [],
   "source": [
    "gdf = leafmap.df_to_gdf(df, src_crs=\"EPSG:4326\")"
   ]
  },
  {
   "cell_type": "markdown",
   "id": "74d8335d",
   "metadata": {},
   "source": [
    "Visualize the data on the map."
   ]
  },
  {
   "cell_type": "code",
   "execution_count": null,
   "id": "c7d37f27",
   "metadata": {},
   "outputs": [],
   "source": [
    "m = leafmap.Map()\n",
    "m.add_data(\n",
    "    gdf, column='Count', scheme='Quantiles', cmap='Greens', legend_title='Wetland Count'\n",
    ")\n",
    "m"
   ]
  },
  {
   "cell_type": "markdown",
   "id": "c42bf19d",
   "metadata": {},
   "source": [
    "![](https://i.imgur.com/x9nJWZR.png)"
   ]
  },
  {
   "cell_type": "markdown",
   "id": "d04fd755",
   "metadata": {},
   "source": [
    "Create a pie chart to show the percentage of wetlands in each state."
   ]
  },
  {
   "cell_type": "code",
   "execution_count": null,
   "id": "c82cd7b4",
   "metadata": {},
   "outputs": [],
   "source": [
    "leafmap.pie_chart(count_df, 'State', 'Count', height=800, title='Number of Wetlands by State')"
   ]
  },
  {
   "cell_type": "markdown",
   "id": "12c622ba",
   "metadata": {},
   "source": [
    "![](https://i.imgur.com/EQFZW4x.png)"
   ]
  },
  {
   "cell_type": "markdown",
   "id": "d8307700",
   "metadata": {},
   "source": [
    "Create a bar chart to show the number of wetlands in each state."
   ]
  },
  {
   "cell_type": "code",
   "execution_count": null,
   "id": "d209c284",
   "metadata": {},
   "outputs": [],
   "source": [
    "leafmap.bar_chart(count_df, 'State', 'Count', title='Number of Wetlands by State')"
   ]
  },
  {
   "cell_type": "markdown",
   "id": "6252431d",
   "metadata": {},
   "source": [
    "![](https://i.imgur.com/dNjh9lp.png)"
   ]
  },
  {
   "cell_type": "markdown",
   "id": "99c0409e",
   "metadata": {},
   "source": [
    "Calculate the total area of wetlands in the United States. It takes about 3 minutes to run this query. Please be patient."
   ]
  },
  {
   "cell_type": "code",
   "execution_count": null,
   "id": "b66df8e3",
   "metadata": {},
   "outputs": [],
   "source": [
    "con.sql(f\"\"\"\n",
    "SELECT SUM(Shape_Area) /  1000000 AS Area_SqKm\n",
    "FROM 's3://us-west-2.opendata.source.coop/giswqs/nwi/wetlands/*.parquet'\n",
    "\"\"\")"
   ]
  },
  {
   "cell_type": "markdown",
   "id": "2f392230",
   "metadata": {},
   "source": [
    "Calculate the total area of wetlands in each state. It takes about 3 minutes to run this query. Please be patient."
   ]
  },
  {
   "cell_type": "code",
   "execution_count": null,
   "id": "523b2fcb",
   "metadata": {},
   "outputs": [],
   "source": [
    "area_df = con.sql(f\"\"\"\n",
    "SELECT SUBSTRING(filename, LENGTH(filename) - 18, 2) AS State, SUM(Shape_Area) /  1000000 AS Area_SqKm\n",
    "FROM read_parquet('s3://us-west-2.opendata.source.coop/giswqs/nwi/wetlands/*.parquet', filename=true)\n",
    "GROUP BY State\n",
    "ORDER BY COUNT(*) DESC;\n",
    "\"\"\").df()\n",
    "area_df.head(10)"
   ]
  },
  {
   "cell_type": "markdown",
   "id": "e6976b1c",
   "metadata": {},
   "source": [
    "Create a pie chart to show the percentage of wetlands in each state."
   ]
  },
  {
   "cell_type": "code",
   "execution_count": null,
   "id": "5cbdd8e1",
   "metadata": {},
   "outputs": [],
   "source": [
    "leafmap.pie_chart(area_df, 'State', 'Area_SqKm', height=900, title='Wetland Area by State')"
   ]
  },
  {
   "cell_type": "markdown",
   "id": "b9e0778b",
   "metadata": {},
   "source": [
    "![](https://i.imgur.com/tIy2fLt.png)"
   ]
  },
  {
   "cell_type": "markdown",
   "id": "b55416d5",
   "metadata": {},
   "source": [
    "Create a bar chart to show the wetland area in each state."
   ]
  },
  {
   "cell_type": "code",
   "execution_count": null,
   "id": "43db3569",
   "metadata": {},
   "outputs": [],
   "source": [
    "leafmap.bar_chart(area_df, 'State', 'Area_SqKm', title='Wetland Area by State')"
   ]
  },
  {
   "cell_type": "markdown",
   "id": "77862725",
   "metadata": {},
   "source": [
    "![](https://i.imgur.com/EyJQZNP.png)"
   ]
  }
 ],
 "metadata": {
  "jupytext": {
   "text_representation": {
    "extension": ".md",
    "format_name": "myst",
    "format_version": 0.13,
    "jupytext_version": "1.15.2"
   }
  },
  "kernelspec": {
   "display_name": "geo",
   "language": "python",
   "name": "python3"
  },
  "source_map": [
   12,
   36,
   38,
   42,
   52,
   58,
   71,
   77,
   87,
   91,
   93,
   105,
   112,
   118,
   130,
   136,
   138,
   142,
   149,
   154,
   158,
   166,
   170,
   172,
   176,
   184,
   188,
   191,
   195,
   205,
   209,
   213,
   217,
   223,
   227,
   229,
   233,
   239,
   243,
   247,
   249,
   253,
   257,
   259,
   263,
   267,
   272,
   276,
   284,
   288,
   290,
   294,
   298,
   300
  ]
 },
 "nbformat": 4,
 "nbformat_minor": 5
}