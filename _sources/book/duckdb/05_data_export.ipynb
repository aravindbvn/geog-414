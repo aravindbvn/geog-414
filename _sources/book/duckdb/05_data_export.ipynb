{
 "cells": [
  {
   "cell_type": "markdown",
   "id": "36adc23f",
   "metadata": {},
   "source": [
    "# Data Export\n",
    "\n",
    "## Introduction\n",
    "\n",
    "This notebook demonstrates how to export data from the database to various formats, including Pandas DataFrames, CSV, JSON, Excel, Parquet, GeoJSON, Shapefile, and GeoPackage.\n",
    "\n",
    "## Installation\n",
    "\n",
    "Uncomment the following cell to install the required packages if needed."
   ]
  },
  {
   "cell_type": "code",
   "execution_count": null,
   "id": "2a609304",
   "metadata": {},
   "outputs": [],
   "source": [
    "# %pip install duckdb"
   ]
  },
  {
   "cell_type": "markdown",
   "id": "6017dd92",
   "metadata": {},
   "source": [
    "## Library Import"
   ]
  },
  {
   "cell_type": "code",
   "execution_count": null,
   "id": "ab51a763",
   "metadata": {},
   "outputs": [],
   "source": [
    "import duckdb\n",
    "import pandas as pd"
   ]
  },
  {
   "cell_type": "markdown",
   "id": "65d1e998",
   "metadata": {},
   "source": [
    "## Installing Extensions\n",
    "\n",
    "DuckDB’s Python API provides functions for installing and loading extensions, which perform the equivalent operations to running the `INSTALL` and `LOAD` SQL commands, respectively. An example that installs and loads the [httpfs extension](https://duckdb.org/docs/extensions/httpfs) looks like follows:"
   ]
  },
  {
   "cell_type": "code",
   "execution_count": null,
   "id": "34c785dd",
   "metadata": {},
   "outputs": [],
   "source": [
    "con = duckdb.connect()"
   ]
  },
  {
   "cell_type": "code",
   "execution_count": null,
   "id": "4902e420",
   "metadata": {},
   "outputs": [],
   "source": [
    "con.install_extension(\"httpfs\")\n",
    "con.load_extension(\"httpfs\")"
   ]
  },
  {
   "cell_type": "code",
   "execution_count": null,
   "id": "cceae914",
   "metadata": {},
   "outputs": [],
   "source": [
    "con.install_extension(\"spatial\")\n",
    "con.load_extension(\"spatial\")"
   ]
  },
  {
   "cell_type": "markdown",
   "id": "3d47e414",
   "metadata": {},
   "source": [
    "## Sample Data"
   ]
  },
  {
   "cell_type": "code",
   "execution_count": null,
   "id": "2b76dfdd",
   "metadata": {},
   "outputs": [],
   "source": [
    "con.sql(\n",
    "    \"\"\"\n",
    "CREATE TABLE IF NOT EXISTS cities AS\n",
    "SELECT * EXCLUDE geometry, ST_GeomFromWKB(geometry) \n",
    "AS geometry FROM 'https://open.gishub.org/data/duckdb/cities.parquet'\n",
    "\"\"\"\n",
    ")"
   ]
  },
  {
   "cell_type": "code",
   "execution_count": null,
   "id": "fe3ae7d7",
   "metadata": {},
   "outputs": [],
   "source": [
    "con.table(\"cities\").show()"
   ]
  },
  {
   "cell_type": "markdown",
   "id": "dc66c693",
   "metadata": {},
   "source": [
    "## To DataFrames"
   ]
  },
  {
   "cell_type": "code",
   "execution_count": null,
   "id": "4fcb11d0",
   "metadata": {},
   "outputs": [],
   "source": [
    "con.table(\"cities\").df()"
   ]
  },
  {
   "cell_type": "markdown",
   "id": "a2531f2d",
   "metadata": {},
   "source": [
    "## To CSV"
   ]
  },
  {
   "cell_type": "code",
   "execution_count": null,
   "id": "5274936e",
   "metadata": {},
   "outputs": [],
   "source": [
    "con.sql(\"COPY cities TO 'cities.csv' (HEADER, DELIMITER ',')\")"
   ]
  },
  {
   "cell_type": "code",
   "execution_count": null,
   "id": "459bef03",
   "metadata": {},
   "outputs": [],
   "source": [
    "con.sql(\n",
    "    \"COPY (SELECT * FROM cities WHERE country='USA') TO 'cities_us.csv' (HEADER, DELIMITER ',')\"\n",
    ")"
   ]
  },
  {
   "cell_type": "markdown",
   "id": "b4d9b17b",
   "metadata": {},
   "source": [
    "## To JSON"
   ]
  },
  {
   "cell_type": "code",
   "execution_count": null,
   "id": "94245e3c",
   "metadata": {},
   "outputs": [],
   "source": [
    "con.sql(\"COPY cities TO 'cities.json'\")"
   ]
  },
  {
   "cell_type": "code",
   "execution_count": null,
   "id": "4e4502ab",
   "metadata": {},
   "outputs": [],
   "source": [
    "con.sql(\"COPY (SELECT * FROM cities WHERE country='USA') TO 'cities_us.json'\")"
   ]
  },
  {
   "cell_type": "markdown",
   "id": "9ffa433c",
   "metadata": {},
   "source": [
    "## To Excel"
   ]
  },
  {
   "cell_type": "code",
   "execution_count": null,
   "id": "49789659",
   "metadata": {},
   "outputs": [],
   "source": [
    "con.sql(\n",
    "    \"COPY (SELECT * EXCLUDE geometry FROM cities) TO 'cities.xlsx' WITH (FORMAT GDAL, DRIVER 'XLSX')\"\n",
    ")"
   ]
  },
  {
   "cell_type": "markdown",
   "id": "a7068591",
   "metadata": {},
   "source": [
    "## To Parquet"
   ]
  },
  {
   "cell_type": "code",
   "execution_count": null,
   "id": "a193646b",
   "metadata": {},
   "outputs": [],
   "source": [
    "con.sql(\"COPY cities TO 'cities.parquet' (FORMAT PARQUET)\")"
   ]
  },
  {
   "cell_type": "code",
   "execution_count": null,
   "id": "109102b9",
   "metadata": {},
   "outputs": [],
   "source": [
    "con.sql(\n",
    "    \"COPY (SELECT * FROM cities WHERE country='USA') TO 'cities_us.parquet' (FORMAT PARQUET)\"\n",
    ")"
   ]
  },
  {
   "cell_type": "markdown",
   "id": "31859772",
   "metadata": {},
   "source": [
    "## To GeoJSON"
   ]
  },
  {
   "cell_type": "code",
   "execution_count": null,
   "id": "6957a44b",
   "metadata": {},
   "outputs": [],
   "source": [
    "con.sql(\"COPY cities TO 'cities.geojson' WITH (FORMAT GDAL, DRIVER 'GeoJSON')\")"
   ]
  },
  {
   "cell_type": "code",
   "execution_count": null,
   "id": "87b835b6",
   "metadata": {},
   "outputs": [],
   "source": [
    "con.sql(\n",
    "    \"COPY (SELECT * FROM cities WHERE country='USA') TO 'cities_us.geojson' WITH (FORMAT GDAL, DRIVER 'GeoJSON')\"\n",
    ")"
   ]
  },
  {
   "cell_type": "markdown",
   "id": "415981ec",
   "metadata": {},
   "source": [
    "## To Shapefile\n",
    "\n",
    "Doens't work on Linux."
   ]
  },
  {
   "cell_type": "code",
   "execution_count": null,
   "id": "370288af",
   "metadata": {},
   "outputs": [],
   "source": [
    "# con.sql(\"COPY cities TO 'cities.shp' WITH (FORMAT GDAL, DRIVER 'ESRI Shapefile')\")"
   ]
  },
  {
   "cell_type": "markdown",
   "id": "aec497a0",
   "metadata": {},
   "source": [
    "## To GeoPackage"
   ]
  },
  {
   "cell_type": "code",
   "execution_count": null,
   "id": "612945ce",
   "metadata": {},
   "outputs": [],
   "source": [
    "con.sql(\"COPY cities TO 'cities.gpkg' WITH (FORMAT GDAL, DRIVER 'GPKG')\")"
   ]
  }
 ],
 "metadata": {
  "jupytext": {
   "text_representation": {
    "extension": ".md",
    "format_name": "myst",
    "format_version": 0.13,
    "jupytext_version": "1.15.2"
   }
  },
  "kernelspec": {
   "display_name": "geo",
   "language": "python",
   "name": "python3"
  },
  "source_map": [
   12,
   24,
   26,
   30,
   33,
   39,
   43,
   48,
   51,
   55,
   65,
   67,
   71,
   73,
   77,
   81,
   85,
   89,
   93,
   95,
   99,
   103,
   107,
   111,
   115,
   119,
   123,
   127,
   133,
   135,
   139
  ]
 },
 "nbformat": 4,
 "nbformat_minor": 5
}