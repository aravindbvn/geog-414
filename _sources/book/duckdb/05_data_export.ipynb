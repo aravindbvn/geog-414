{
 "cells": [
  {
   "cell_type": "markdown",
   "id": "14ff2930",
   "metadata": {},
   "source": [
    "# Data Export\n",
    "\n",
    "## Introduction\n",
    "\n",
    "This notebook demonstrates how to export data from the database to various formats, including Pandas DataFrames, CSV, JSON, Excel, Parquet, GeoJSON, Shapefile, and GeoPackage.\n",
    "\n",
    "## Installation\n",
    "\n",
    "Uncomment the following cell to install the required packages if needed."
   ]
  },
  {
   "cell_type": "code",
   "execution_count": null,
   "id": "2a21679d",
   "metadata": {},
   "outputs": [],
   "source": [
    "# %pip install duckdb duckdb-engine jupysql"
   ]
  },
  {
   "cell_type": "markdown",
   "id": "2673a953",
   "metadata": {},
   "source": [
    "## Library Import"
   ]
  },
  {
   "cell_type": "code",
   "execution_count": null,
   "id": "451f78e2",
   "metadata": {},
   "outputs": [],
   "source": [
    "import duckdb\n",
    "import pandas as pd"
   ]
  },
  {
   "cell_type": "markdown",
   "id": "708008c4",
   "metadata": {},
   "source": [
    "## Installing Extensions\n",
    "\n",
    "DuckDB’s Python API provides functions for installing and loading extensions, which perform the equivalent operations to running the `INSTALL` and `LOAD` SQL commands, respectively. An example that installs and loads the [httpfs extension](https://duckdb.org/docs/extensions/httpfs) looks like follows:"
   ]
  },
  {
   "cell_type": "code",
   "execution_count": null,
   "id": "6e7baba8",
   "metadata": {},
   "outputs": [],
   "source": [
    "con = duckdb.connect()"
   ]
  },
  {
   "cell_type": "code",
   "execution_count": null,
   "id": "b55898a1",
   "metadata": {},
   "outputs": [],
   "source": [
    "con.install_extension(\"httpfs\")\n",
    "con.load_extension(\"httpfs\")"
   ]
  },
  {
   "cell_type": "code",
   "execution_count": null,
   "id": "5976ff7a",
   "metadata": {},
   "outputs": [],
   "source": [
    "con.install_extension(\"spatial\")\n",
    "con.load_extension(\"spatial\")"
   ]
  },
  {
   "cell_type": "markdown",
   "id": "b0cfa81f",
   "metadata": {},
   "source": [
    "## Sample Data"
   ]
  },
  {
   "cell_type": "code",
   "execution_count": null,
   "id": "1f86d2a8",
   "metadata": {},
   "outputs": [],
   "source": [
    "con.sql(\n",
    "    \"\"\"\n",
    "CREATE TABLE IF NOT EXISTS cities AS\n",
    "SELECT * EXCLUDE geometry, ST_GeomFromWKB(geometry) \n",
    "AS geometry FROM 'https://open.gishub.org/data/duckdb/cities.parquet'\n",
    "\"\"\"\n",
    ")"
   ]
  },
  {
   "cell_type": "code",
   "execution_count": null,
   "id": "54e13f2f",
   "metadata": {},
   "outputs": [],
   "source": [
    "con.table(\"cities\").show()"
   ]
  },
  {
   "cell_type": "markdown",
   "id": "78bbf591",
   "metadata": {},
   "source": [
    "## To DataFrames"
   ]
  },
  {
   "cell_type": "code",
   "execution_count": null,
   "id": "d38c209b",
   "metadata": {},
   "outputs": [],
   "source": [
    "con.table(\"cities\").df()"
   ]
  },
  {
   "cell_type": "markdown",
   "id": "6e18f3f0",
   "metadata": {},
   "source": [
    "## To CSV"
   ]
  },
  {
   "cell_type": "code",
   "execution_count": null,
   "id": "251ea977",
   "metadata": {},
   "outputs": [],
   "source": [
    "con.sql(\"COPY cities TO 'cities.csv' (HEADER, DELIMITER ',')\")"
   ]
  },
  {
   "cell_type": "code",
   "execution_count": null,
   "id": "1d87091f",
   "metadata": {},
   "outputs": [],
   "source": [
    "con.sql(\n",
    "    \"COPY (SELECT * FROM cities WHERE country='USA') TO 'cities_us.csv' (HEADER, DELIMITER ',')\"\n",
    ")"
   ]
  },
  {
   "cell_type": "markdown",
   "id": "b4d009d1",
   "metadata": {},
   "source": [
    "## To JSON"
   ]
  },
  {
   "cell_type": "code",
   "execution_count": null,
   "id": "6b6fa582",
   "metadata": {},
   "outputs": [],
   "source": [
    "con.sql(\"COPY cities TO 'cities.json'\")"
   ]
  },
  {
   "cell_type": "code",
   "execution_count": null,
   "id": "30bf510c",
   "metadata": {},
   "outputs": [],
   "source": [
    "con.sql(\"COPY (SELECT * FROM cities WHERE country='USA') TO 'cities_us.json'\")"
   ]
  },
  {
   "cell_type": "markdown",
   "id": "8e1fbed5",
   "metadata": {},
   "source": [
    "## To Excel"
   ]
  },
  {
   "cell_type": "code",
   "execution_count": null,
   "id": "b3ed875c",
   "metadata": {},
   "outputs": [],
   "source": [
    "con.sql(\n",
    "    \"COPY (SELECT * EXCLUDE geometry FROM cities) TO 'cities.xlsx' WITH (FORMAT GDAL, DRIVER 'XLSX')\"\n",
    ")"
   ]
  },
  {
   "cell_type": "markdown",
   "id": "cea74377",
   "metadata": {},
   "source": [
    "## To Parquet"
   ]
  },
  {
   "cell_type": "code",
   "execution_count": null,
   "id": "96a2473d",
   "metadata": {},
   "outputs": [],
   "source": [
    "con.sql(\"COPY cities TO 'cities.parquet' (FORMAT PARQUET)\")"
   ]
  },
  {
   "cell_type": "code",
   "execution_count": null,
   "id": "a8f89fbf",
   "metadata": {},
   "outputs": [],
   "source": [
    "con.sql(\n",
    "    \"COPY (SELECT * FROM cities WHERE country='USA') TO 'cities_us.parquet' (FORMAT PARQUET)\"\n",
    ")"
   ]
  },
  {
   "cell_type": "markdown",
   "id": "f5ca8020",
   "metadata": {},
   "source": [
    "## To GeoJSON"
   ]
  },
  {
   "cell_type": "code",
   "execution_count": null,
   "id": "8f71e30e",
   "metadata": {},
   "outputs": [],
   "source": [
    "con.sql(\"COPY cities TO 'cities.geojson' WITH (FORMAT GDAL, DRIVER 'GeoJSON')\")"
   ]
  },
  {
   "cell_type": "code",
   "execution_count": null,
   "id": "be2dfedf",
   "metadata": {},
   "outputs": [],
   "source": [
    "con.sql(\n",
    "    \"COPY (SELECT * FROM cities WHERE country='USA') TO 'cities_us.geojson' WITH (FORMAT GDAL, DRIVER 'GeoJSON')\"\n",
    ")"
   ]
  },
  {
   "cell_type": "markdown",
   "id": "ed8f5815",
   "metadata": {},
   "source": [
    "## To Shapefile\n",
    "\n",
    "Doens't work on Linux."
   ]
  },
  {
   "cell_type": "code",
   "execution_count": null,
   "id": "76bd7995",
   "metadata": {},
   "outputs": [],
   "source": [
    "# con.sql(\"COPY cities TO 'cities.shp' WITH (FORMAT GDAL, DRIVER 'ESRI Shapefile')\")"
   ]
  },
  {
   "cell_type": "markdown",
   "id": "01de7888",
   "metadata": {},
   "source": [
    "## To GeoPackage"
   ]
  },
  {
   "cell_type": "code",
   "execution_count": null,
   "id": "161dd4a5",
   "metadata": {},
   "outputs": [],
   "source": [
    "con.sql(\"COPY cities TO 'cities.gpkg' WITH (FORMAT GDAL, DRIVER 'GPKG')\")"
   ]
  }
 ],
 "metadata": {
  "jupytext": {
   "text_representation": {
    "extension": ".md",
    "format_name": "myst",
    "format_version": 0.13,
    "jupytext_version": "1.15.2"
   }
  },
  "kernelspec": {
   "display_name": "geo",
   "language": "python",
   "name": "python3"
  },
  "source_map": [
   12,
   24,
   26,
   30,
   33,
   39,
   43,
   48,
   51,
   55,
   65,
   67,
   71,
   73,
   77,
   81,
   85,
   89,
   93,
   95,
   99,
   103,
   107,
   111,
   115,
   119,
   123,
   127,
   133,
   135,
   139
  ]
 },
 "nbformat": 4,
 "nbformat_minor": 5
}