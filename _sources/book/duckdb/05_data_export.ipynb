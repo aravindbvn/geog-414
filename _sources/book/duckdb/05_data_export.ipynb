{
 "cells": [
  {
   "cell_type": "markdown",
   "id": "f97984f2",
   "metadata": {},
   "source": [
    "# Data Export\n",
    "\n",
    "## Introduction\n",
    "\n",
    "This notebook demonstrates how to export data from the database to various formats, including Pandas DataFrames, CSV, JSON, Excel, Parquet, GeoJSON, Shapefile, and GeoPackage.\n",
    "\n",
    "## Installation\n",
    "\n",
    "Uncomment the following cell to install the required packages if needed."
   ]
  },
  {
   "cell_type": "code",
   "execution_count": null,
   "id": "b746aa63",
   "metadata": {},
   "outputs": [],
   "source": [
    "# %pip install duckdb duckdb-engine jupysql"
   ]
  },
  {
   "cell_type": "markdown",
   "id": "3d9f0544",
   "metadata": {},
   "source": [
    "## Library Import"
   ]
  },
  {
   "cell_type": "code",
   "execution_count": null,
   "id": "6ae1f440",
   "metadata": {},
   "outputs": [],
   "source": [
    "import duckdb\n",
    "import pandas as pd"
   ]
  },
  {
   "cell_type": "markdown",
   "id": "835457a4",
   "metadata": {},
   "source": [
    "## Installing Extensions\n",
    "\n",
    "DuckDB’s Python API provides functions for installing and loading extensions, which perform the equivalent operations to running the `INSTALL` and `LOAD` SQL commands, respectively. An example that installs and loads the [httpfs extension](https://duckdb.org/docs/extensions/httpfs) looks like follows:"
   ]
  },
  {
   "cell_type": "code",
   "execution_count": null,
   "id": "423b5f37",
   "metadata": {},
   "outputs": [],
   "source": [
    "con = duckdb.connect()"
   ]
  },
  {
   "cell_type": "code",
   "execution_count": null,
   "id": "4f60ceca",
   "metadata": {},
   "outputs": [],
   "source": [
    "con.install_extension(\"httpfs\")\n",
    "con.load_extension(\"httpfs\")"
   ]
  },
  {
   "cell_type": "code",
   "execution_count": null,
   "id": "27e7d49c",
   "metadata": {},
   "outputs": [],
   "source": [
    "con.install_extension(\"spatial\")\n",
    "con.load_extension(\"spatial\")"
   ]
  },
  {
   "cell_type": "markdown",
   "id": "70c51f65",
   "metadata": {},
   "source": [
    "## Sample Data"
   ]
  },
  {
   "cell_type": "code",
   "execution_count": null,
   "id": "a58e0844",
   "metadata": {},
   "outputs": [],
   "source": [
    "con.sql(\n",
    "\"\"\"\n",
    "CREATE TABLE IF NOT EXISTS cities AS\n",
    "SELECT * EXCLUDE geometry, ST_GeomFromWKB(geometry) \n",
    "AS geometry FROM 'https://open.gishub.org/data/duckdb/cities.parquet'\n",
    "\"\"\"\n",
    ")"
   ]
  },
  {
   "cell_type": "code",
   "execution_count": null,
   "id": "39283da4",
   "metadata": {},
   "outputs": [],
   "source": [
    "con.table(\"cities\").show()"
   ]
  },
  {
   "cell_type": "markdown",
   "id": "fb715b22",
   "metadata": {},
   "source": [
    "## To DataFrames"
   ]
  },
  {
   "cell_type": "code",
   "execution_count": null,
   "id": "e50418eb",
   "metadata": {},
   "outputs": [],
   "source": [
    "con.table(\"cities\").df()"
   ]
  },
  {
   "cell_type": "markdown",
   "id": "076c9949",
   "metadata": {},
   "source": [
    "## To CSV"
   ]
  },
  {
   "cell_type": "code",
   "execution_count": null,
   "id": "49a424c7",
   "metadata": {},
   "outputs": [],
   "source": [
    "con.sql(\"COPY cities TO 'cities.csv' (HEADER, DELIMITER ',')\")"
   ]
  },
  {
   "cell_type": "code",
   "execution_count": null,
   "id": "1de5e6ee",
   "metadata": {},
   "outputs": [],
   "source": [
    "con.sql(\"COPY (SELECT * FROM cities WHERE country='USA') TO 'cities_us.csv' (HEADER, DELIMITER ',')\")"
   ]
  },
  {
   "cell_type": "markdown",
   "id": "5d48a9f0",
   "metadata": {},
   "source": [
    "## To JSON"
   ]
  },
  {
   "cell_type": "code",
   "execution_count": null,
   "id": "894ac59a",
   "metadata": {},
   "outputs": [],
   "source": [
    "con.sql(\"COPY cities TO 'cities.json'\")"
   ]
  },
  {
   "cell_type": "code",
   "execution_count": null,
   "id": "1c25a668",
   "metadata": {},
   "outputs": [],
   "source": [
    "con.sql(\"COPY (SELECT * FROM cities WHERE country='USA') TO 'cities_us.json'\")"
   ]
  },
  {
   "cell_type": "markdown",
   "id": "e2befe75",
   "metadata": {},
   "source": [
    "## To Excel"
   ]
  },
  {
   "cell_type": "code",
   "execution_count": null,
   "id": "a6403387",
   "metadata": {},
   "outputs": [],
   "source": [
    "con.sql(\"COPY (SELECT * EXCLUDE geometry FROM cities) TO 'cities.xlsx' WITH (FORMAT GDAL, DRIVER 'XLSX')\")"
   ]
  },
  {
   "cell_type": "markdown",
   "id": "69c92930",
   "metadata": {},
   "source": [
    "## To Parquet"
   ]
  },
  {
   "cell_type": "code",
   "execution_count": null,
   "id": "62d4bf74",
   "metadata": {},
   "outputs": [],
   "source": [
    "con.sql(\"COPY cities TO 'cities.parquet' (FORMAT PARQUET)\")"
   ]
  },
  {
   "cell_type": "code",
   "execution_count": null,
   "id": "704c58c5",
   "metadata": {},
   "outputs": [],
   "source": [
    "con.sql(\"COPY (SELECT * FROM cities WHERE country='USA') TO 'cities_us.parquet' (FORMAT PARQUET)\")"
   ]
  },
  {
   "cell_type": "markdown",
   "id": "9512188f",
   "metadata": {},
   "source": [
    "## To GeoJSON"
   ]
  },
  {
   "cell_type": "code",
   "execution_count": null,
   "id": "1045730a",
   "metadata": {},
   "outputs": [],
   "source": [
    "con.sql(\"COPY cities TO 'cities.geojson' WITH (FORMAT GDAL, DRIVER 'GeoJSON')\")"
   ]
  },
  {
   "cell_type": "code",
   "execution_count": null,
   "id": "0cd7121f",
   "metadata": {},
   "outputs": [],
   "source": [
    "con.sql(\"COPY (SELECT * FROM cities WHERE country='USA') TO 'cities_us.geojson' WITH (FORMAT GDAL, DRIVER 'GeoJSON')\")"
   ]
  },
  {
   "cell_type": "markdown",
   "id": "b41cc6fa",
   "metadata": {},
   "source": [
    "## To Shapefile\n",
    "\n",
    "Doens't work on Linux."
   ]
  },
  {
   "cell_type": "code",
   "execution_count": null,
   "id": "faac1511",
   "metadata": {},
   "outputs": [],
   "source": [
    "# con.sql(\"COPY cities TO 'cities.shp' WITH (FORMAT GDAL, DRIVER 'ESRI Shapefile')\")"
   ]
  },
  {
   "cell_type": "markdown",
   "id": "c01237c7",
   "metadata": {},
   "source": [
    "## To GeoPackage"
   ]
  },
  {
   "cell_type": "code",
   "execution_count": null,
   "id": "f9416a9a",
   "metadata": {},
   "outputs": [],
   "source": [
    "con.sql(\"COPY cities TO 'cities.gpkg' WITH (FORMAT GDAL, DRIVER 'GPKG')\")"
   ]
  }
 ],
 "metadata": {
  "jupytext": {
   "text_representation": {
    "extension": ".md",
    "format_name": "myst",
    "format_version": 0.13,
    "jupytext_version": "1.15.2"
   }
  },
  "kernelspec": {
   "display_name": "geo",
   "language": "python",
   "name": "python3"
  },
  "source_map": [
   12,
   24,
   26,
   30,
   33,
   39,
   43,
   48,
   51,
   55,
   65,
   67,
   71,
   73,
   77,
   81,
   83,
   87,
   91,
   93,
   97,
   99,
   103,
   107,
   109,
   113,
   117,
   119,
   125,
   127,
   131
  ]
 },
 "nbformat": 4,
 "nbformat_minor": 5
}