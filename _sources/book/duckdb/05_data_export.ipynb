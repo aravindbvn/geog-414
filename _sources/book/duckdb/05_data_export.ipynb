{
 "cells": [
  {
   "cell_type": "markdown",
   "id": "7c9027d4",
   "metadata": {},
   "source": [
    "# Data Export\n",
    "\n",
    "## Introduction\n",
    "\n",
    "This notebook demonstrates how to export data from the database to various formats, including Pandas DataFrames, CSV, JSON, Excel, Parquet, GeoJSON, Shapefile, and GeoPackage.\n",
    "\n",
    "## Installation\n",
    "\n",
    "Uncomment the following cell to install the required packages if needed."
   ]
  },
  {
   "cell_type": "code",
   "execution_count": null,
   "id": "0ff3ec0e",
   "metadata": {},
   "outputs": [],
   "source": [
    "# %pip install duckdb"
   ]
  },
  {
   "cell_type": "markdown",
   "id": "28adc148",
   "metadata": {},
   "source": [
    "## Library Import"
   ]
  },
  {
   "cell_type": "code",
   "execution_count": null,
   "id": "862d2542",
   "metadata": {},
   "outputs": [],
   "source": [
    "import duckdb\n",
    "import pandas as pd"
   ]
  },
  {
   "cell_type": "markdown",
   "id": "833a9638",
   "metadata": {},
   "source": [
    "## Installing Extensions\n",
    "\n",
    "DuckDB’s Python API provides functions for installing and loading extensions, which perform the equivalent operations to running the `INSTALL` and `LOAD` SQL commands, respectively. An example that installs and loads the [httpfs extension](https://duckdb.org/docs/extensions/httpfs) looks like follows:"
   ]
  },
  {
   "cell_type": "code",
   "execution_count": null,
   "id": "9d865ccb",
   "metadata": {},
   "outputs": [],
   "source": [
    "con = duckdb.connect()"
   ]
  },
  {
   "cell_type": "code",
   "execution_count": null,
   "id": "38f0eb77",
   "metadata": {},
   "outputs": [],
   "source": [
    "con.install_extension(\"httpfs\")\n",
    "con.load_extension(\"httpfs\")"
   ]
  },
  {
   "cell_type": "code",
   "execution_count": null,
   "id": "d673af59",
   "metadata": {},
   "outputs": [],
   "source": [
    "con.install_extension(\"spatial\")\n",
    "con.load_extension(\"spatial\")"
   ]
  },
  {
   "cell_type": "markdown",
   "id": "8d801b35",
   "metadata": {},
   "source": [
    "## Sample Data"
   ]
  },
  {
   "cell_type": "code",
   "execution_count": null,
   "id": "2cf02902",
   "metadata": {},
   "outputs": [],
   "source": [
    "con.sql(\n",
    "    \"\"\"\n",
    "CREATE TABLE IF NOT EXISTS cities AS\n",
    "SELECT * EXCLUDE geometry, ST_GeomFromWKB(geometry) \n",
    "AS geometry FROM 'https://open.gishub.org/data/duckdb/cities.parquet'\n",
    "\"\"\"\n",
    ")"
   ]
  },
  {
   "cell_type": "code",
   "execution_count": null,
   "id": "6aeb498b",
   "metadata": {},
   "outputs": [],
   "source": [
    "con.table(\"cities\").show()"
   ]
  },
  {
   "cell_type": "markdown",
   "id": "3fa95fa1",
   "metadata": {},
   "source": [
    "## To DataFrames"
   ]
  },
  {
   "cell_type": "code",
   "execution_count": null,
   "id": "fc3f7589",
   "metadata": {},
   "outputs": [],
   "source": [
    "con.table(\"cities\").df()"
   ]
  },
  {
   "cell_type": "markdown",
   "id": "38eb3f12",
   "metadata": {},
   "source": [
    "## To CSV"
   ]
  },
  {
   "cell_type": "code",
   "execution_count": null,
   "id": "9d12c1af",
   "metadata": {},
   "outputs": [],
   "source": [
    "con.sql(\"COPY cities TO 'cities.csv' (HEADER, DELIMITER ',')\")"
   ]
  },
  {
   "cell_type": "code",
   "execution_count": null,
   "id": "08ba3e7d",
   "metadata": {},
   "outputs": [],
   "source": [
    "con.sql(\n",
    "    \"COPY (SELECT * FROM cities WHERE country='USA') TO 'cities_us.csv' (HEADER, DELIMITER ',')\"\n",
    ")"
   ]
  },
  {
   "cell_type": "markdown",
   "id": "7100b539",
   "metadata": {},
   "source": [
    "## To JSON"
   ]
  },
  {
   "cell_type": "code",
   "execution_count": null,
   "id": "bcb355fd",
   "metadata": {},
   "outputs": [],
   "source": [
    "con.sql(\"COPY cities TO 'cities.json'\")"
   ]
  },
  {
   "cell_type": "code",
   "execution_count": null,
   "id": "96ed0d28",
   "metadata": {},
   "outputs": [],
   "source": [
    "con.sql(\"COPY (SELECT * FROM cities WHERE country='USA') TO 'cities_us.json'\")"
   ]
  },
  {
   "cell_type": "markdown",
   "id": "b4ba5fb6",
   "metadata": {},
   "source": [
    "## To Excel"
   ]
  },
  {
   "cell_type": "code",
   "execution_count": null,
   "id": "c987736a",
   "metadata": {},
   "outputs": [],
   "source": [
    "con.sql(\n",
    "    \"COPY (SELECT * EXCLUDE geometry FROM cities) TO 'cities.xlsx' WITH (FORMAT GDAL, DRIVER 'XLSX')\"\n",
    ")"
   ]
  },
  {
   "cell_type": "markdown",
   "id": "e1572c0c",
   "metadata": {},
   "source": [
    "## To Parquet"
   ]
  },
  {
   "cell_type": "code",
   "execution_count": null,
   "id": "b3a9b052",
   "metadata": {},
   "outputs": [],
   "source": [
    "con.sql(\"COPY cities TO 'cities.parquet' (FORMAT PARQUET)\")"
   ]
  },
  {
   "cell_type": "code",
   "execution_count": null,
   "id": "b0855e49",
   "metadata": {},
   "outputs": [],
   "source": [
    "con.sql(\n",
    "    \"COPY (SELECT * FROM cities WHERE country='USA') TO 'cities_us.parquet' (FORMAT PARQUET)\"\n",
    ")"
   ]
  },
  {
   "cell_type": "markdown",
   "id": "4bde03ee",
   "metadata": {},
   "source": [
    "## To GeoJSON"
   ]
  },
  {
   "cell_type": "code",
   "execution_count": null,
   "id": "c6228319",
   "metadata": {},
   "outputs": [],
   "source": [
    "con.sql(\"COPY cities TO 'cities.geojson' WITH (FORMAT GDAL, DRIVER 'GeoJSON')\")"
   ]
  },
  {
   "cell_type": "code",
   "execution_count": null,
   "id": "72412a5b",
   "metadata": {},
   "outputs": [],
   "source": [
    "con.sql(\n",
    "    \"COPY (SELECT * FROM cities WHERE country='USA') TO 'cities_us.geojson' WITH (FORMAT GDAL, DRIVER 'GeoJSON')\"\n",
    ")"
   ]
  },
  {
   "cell_type": "markdown",
   "id": "80b9e77d",
   "metadata": {},
   "source": [
    "## To Shapefile\n",
    "\n",
    "Doens't work on Linux."
   ]
  },
  {
   "cell_type": "code",
   "execution_count": null,
   "id": "7585bc1d",
   "metadata": {},
   "outputs": [],
   "source": [
    "# con.sql(\"COPY cities TO 'cities.shp' WITH (FORMAT GDAL, DRIVER 'ESRI Shapefile')\")"
   ]
  },
  {
   "cell_type": "markdown",
   "id": "24d3d194",
   "metadata": {},
   "source": [
    "## To GeoPackage"
   ]
  },
  {
   "cell_type": "code",
   "execution_count": null,
   "id": "bc2a9bc4",
   "metadata": {},
   "outputs": [],
   "source": [
    "con.sql(\"COPY cities TO 'cities.gpkg' WITH (FORMAT GDAL, DRIVER 'GPKG')\")"
   ]
  }
 ],
 "metadata": {
  "jupytext": {
   "text_representation": {
    "extension": ".md",
    "format_name": "myst",
    "format_version": 0.13,
    "jupytext_version": "1.15.2"
   }
  },
  "kernelspec": {
   "display_name": "geo",
   "language": "python",
   "name": "python3"
  },
  "source_map": [
   12,
   24,
   26,
   30,
   33,
   39,
   43,
   48,
   51,
   55,
   65,
   67,
   71,
   73,
   77,
   81,
   85,
   89,
   93,
   95,
   99,
   103,
   107,
   111,
   115,
   119,
   123,
   127,
   133,
   135,
   139
  ]
 },
 "nbformat": 4,
 "nbformat_minor": 5
}