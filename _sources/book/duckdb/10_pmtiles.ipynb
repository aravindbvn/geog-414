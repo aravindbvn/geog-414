{
 "cells": [
  {
   "cell_type": "markdown",
   "id": "2723f7e6",
   "metadata": {},
   "source": [
    "# Visualizing PMTiles\n",
    "\n",
    "[PMTiles](https://github.com/protomaps/PMTiles) is a single-file archive format for tiled data. A PMTiles archive can be hosted on a common storage platform such as S3, and enables low-cost, zero-maintenance map applications that are \"serverless\" - free of a custom tile backend or third party provider."
   ]
  },
  {
   "cell_type": "markdown",
   "id": "a21ee1f6",
   "metadata": {},
   "source": [
    "## Installation\n",
    "\n",
    "Uncomment and run the following cell to install the dependencies."
   ]
  },
  {
   "cell_type": "code",
   "execution_count": null,
   "id": "e1b44596",
   "metadata": {},
   "outputs": [],
   "source": [
    "# %pip install -U \"leafmap[pmtiles]\""
   ]
  },
  {
   "cell_type": "markdown",
   "id": "7d9de918",
   "metadata": {},
   "source": [
    "## Import libraries\n",
    "\n",
    "Currently, ipyleaflet does not support PMTiles. We will use folium mapping backend with leafmap."
   ]
  },
  {
   "cell_type": "code",
   "execution_count": null,
   "id": "6a3612ce",
   "metadata": {},
   "outputs": [],
   "source": [
    "import leafmap.foliumap as leafmap"
   ]
  },
  {
   "cell_type": "markdown",
   "id": "629e3db8",
   "metadata": {},
   "source": [
    "## PMTiles Viewer\n",
    "\n",
    "The [PMTiles Viewer](https://protomaps.github.io/PMTiles) can be used to view the contents of a PMTiles archive using a web browser. This is a useful tool for visualizing the contents of a PMTiles archive without writing any code. However, you can't use it with Jupyter notebook."
   ]
  },
  {
   "cell_type": "markdown",
   "id": "0973d94f",
   "metadata": {},
   "source": [
    "## Remote PMTiles\n",
    "\n",
    "PMTiles can be hosted on a cloud storage platform or locally. In this section, we will visualize a PMTiles hosted on a remote server.\n",
    "\n",
    "### Protomaps sample data\n",
    "\n",
    "The [PMTiles Viewer](https://protomaps.github.io/PMTiles) provides a list of sample PMTiles archives. We will use the [ODbL_firenze.pmtiles](<https://protomaps.github.io/PMTiles/protomaps(vector)ODbL_firenze.pmtiles>). First, let's inspect the metadata of the PMTiles archive."
   ]
  },
  {
   "cell_type": "code",
   "execution_count": null,
   "id": "bfce8e49",
   "metadata": {},
   "outputs": [],
   "source": [
    "url = \"https://protomaps.github.io/PMTiles/protomaps(vector)ODbL_firenze.pmtiles\"\n",
    "metadata = leafmap.pmtiles_metadata(url)\n",
    "metadata"
   ]
  },
  {
   "cell_type": "markdown",
   "id": "c99ccf19",
   "metadata": {},
   "source": [
    "Get the list of layers."
   ]
  },
  {
   "cell_type": "code",
   "execution_count": null,
   "id": "ec2ffd3a",
   "metadata": {},
   "outputs": [],
   "source": [
    "print(f\"layer names: {metadata['layer_names']}\")"
   ]
  },
  {
   "cell_type": "markdown",
   "id": "7964d689",
   "metadata": {},
   "source": [
    "Get the layer center."
   ]
  },
  {
   "cell_type": "code",
   "execution_count": null,
   "id": "419e1e9f",
   "metadata": {},
   "outputs": [],
   "source": [
    "print(f\"center: {metadata['center']}\")"
   ]
  },
  {
   "cell_type": "markdown",
   "id": "25793122",
   "metadata": {},
   "source": [
    "Get the layer bounds."
   ]
  },
  {
   "cell_type": "code",
   "execution_count": null,
   "id": "665c5221",
   "metadata": {},
   "outputs": [],
   "source": [
    "print(f\"bounds: {metadata['bounds']}\")"
   ]
  },
  {
   "cell_type": "markdown",
   "id": "4e929580",
   "metadata": {},
   "source": [
    "Visualize the layer with the default style."
   ]
  },
  {
   "cell_type": "code",
   "execution_count": null,
   "id": "a2096deb",
   "metadata": {},
   "outputs": [],
   "source": [
    "style = leafmap.pmtiles_style(url, cmap='Set3')\n",
    "style"
   ]
  },
  {
   "cell_type": "code",
   "execution_count": null,
   "id": "e862c21e",
   "metadata": {},
   "outputs": [],
   "source": [
    "m = leafmap.Map()\n",
    "m.add_basemap('CartoDB.DarkMatter')\n",
    "m.add_pmtiles(\n",
    "    url,\n",
    "    name='PMTiles',\n",
    "    style=style,\n",
    "    zoom_to_layer=True,\n",
    "    tooltip=False,\n",
    ")\n",
    "m"
   ]
  },
  {
   "cell_type": "markdown",
   "id": "057b845d",
   "metadata": {},
   "source": [
    "Visualize the layer with a custom style."
   ]
  },
  {
   "cell_type": "code",
   "execution_count": null,
   "id": "36565ebf",
   "metadata": {},
   "outputs": [],
   "source": [
    "m = leafmap.Map()\n",
    "\n",
    "style = {\n",
    "    \"version\": 8,\n",
    "    \"sources\": {\n",
    "        \"example_source\": {\n",
    "            \"type\": \"vector\",\n",
    "            \"url\": \"pmtiles://\" + url,\n",
    "            \"attribution\": 'PMTiles',\n",
    "        }\n",
    "    },\n",
    "    \"layers\": [\n",
    "        {\n",
    "            \"id\": \"buildings\",\n",
    "            \"source\": \"example_source\",\n",
    "            \"source-layer\": \"landuse\",\n",
    "            \"type\": \"fill\",\n",
    "            \"paint\": {\"fill-color\": \"steelblue\"},\n",
    "        },\n",
    "        {\n",
    "            \"id\": \"roads\",\n",
    "            \"source\": \"example_source\",\n",
    "            \"source-layer\": \"roads\",\n",
    "            \"type\": \"line\",\n",
    "            \"paint\": {\"line-color\": \"black\"},\n",
    "        },\n",
    "    ],\n",
    "}\n",
    "\n",
    "m.add_pmtiles(\n",
    "    url, name='PMTiles', style=style, zoom_to_layer=True, tooltip=True\n",
    ")\n",
    "m"
   ]
  },
  {
   "cell_type": "markdown",
   "id": "8020c313",
   "metadata": {},
   "source": [
    "### Overture data"
   ]
  },
  {
   "cell_type": "markdown",
   "id": "be7f266f",
   "metadata": {},
   "source": [
    "You can also visualize [Overture data](https://overturemaps.org/). First, let's inspect the metadata of the PMTiles archive."
   ]
  },
  {
   "cell_type": "code",
   "execution_count": null,
   "id": "122d833f",
   "metadata": {},
   "outputs": [],
   "source": [
    "url = \"https://storage.googleapis.com/ahp-research/overture/pmtiles/overture.pmtiles\"\n",
    "metadata = leafmap.pmtiles_metadata(url)\n",
    "print(f\"layer names: {metadata['layer_names']}\")\n",
    "print(f\"bounds: {metadata['bounds']}\")"
   ]
  },
  {
   "cell_type": "markdown",
   "id": "5a1cfd18",
   "metadata": {},
   "source": [
    "Visualize the layer with the default style."
   ]
  },
  {
   "cell_type": "code",
   "execution_count": null,
   "id": "bcf8b309",
   "metadata": {},
   "outputs": [],
   "source": [
    "m = leafmap.Map(height='800px')\n",
    "m.add_basemap('CartoDB.DarkMatter')\n",
    "m.add_pmtiles(url, name='PMTiles', tooltip=False)\n",
    "m"
   ]
  },
  {
   "cell_type": "markdown",
   "id": "613eb57e",
   "metadata": {},
   "source": [
    "Visualize the layer with a custom style."
   ]
  },
  {
   "cell_type": "code",
   "execution_count": null,
   "id": "fd31184b",
   "metadata": {},
   "outputs": [],
   "source": [
    "m = leafmap.Map(height='800px')\n",
    "m.add_basemap('CartoDB.DarkMatter')\n",
    "\n",
    "style = {\n",
    "    \"version\": 8,\n",
    "    \"sources\": {\n",
    "        \"example_source\": {\n",
    "            \"type\": \"vector\",\n",
    "            \"url\": \"pmtiles://\" + url,\n",
    "            \"attribution\": 'PMTiles',\n",
    "        }\n",
    "    },\n",
    "    \"layers\": [\n",
    "        {\n",
    "            \"id\": \"admins\",\n",
    "            \"source\": \"example_source\",\n",
    "            \"source-layer\": \"admins\",\n",
    "            \"type\": \"fill\",\n",
    "            \"paint\": {\"fill-color\": \"#BDD3C7\", \"fill-opacity\": 0.1},\n",
    "        },\n",
    "        {\n",
    "            \"id\": \"buildings\",\n",
    "            \"source\": \"example_source\",\n",
    "            \"source-layer\": \"buildings\",\n",
    "            \"type\": \"fill\",\n",
    "            \"paint\": {\"fill-color\": \"#FFFFB3\", \"fill-opacity\": 0.5},\n",
    "        },\n",
    "        {\n",
    "            \"id\": \"places\",\n",
    "            \"source\": \"example_source\",\n",
    "            \"source-layer\": \"places\",\n",
    "            \"type\": \"fill\",\n",
    "            \"paint\": {\"fill-color\": \"#BEBADA\", \"fill-opacity\": 0.5},\n",
    "        },\n",
    "        {\n",
    "            \"id\": \"roads\",\n",
    "            \"source\": \"example_source\",\n",
    "            \"source-layer\": \"roads\",\n",
    "            \"type\": \"line\",\n",
    "            \"paint\": {\"line-color\": \"#FB8072\"},\n",
    "        },\n",
    "    ],\n",
    "}\n",
    "\n",
    "m.add_pmtiles(url, name='PMTiles', style=style, tooltip=False)\n",
    "\n",
    "legend_dict = {\n",
    "    'admins': 'BDD3C7',\n",
    "    'buildings': 'FFFFB3',\n",
    "    'places': 'BEBADA',\n",
    "    'roads': 'FB8072',\n",
    "}\n",
    "\n",
    "m.add_legend(legend_dict=legend_dict)\n",
    "m"
   ]
  },
  {
   "cell_type": "markdown",
   "id": "90048c5f",
   "metadata": {},
   "source": [
    "### Source Cooperative\n",
    "\n",
    "[Source Cooperative](https://source.coop) hosts a variety of open geospatial data in PMTiles format. In this example, we will visualize the [Google-Microsoft Open Buildings](https://beta.source.coop/repositories/vida/google-microsoft-open-buildings/description) dataset (193.9 GB). First, let's inspect the metadata of the PMTiles archive."
   ]
  },
  {
   "cell_type": "code",
   "execution_count": null,
   "id": "e74a3ece",
   "metadata": {},
   "outputs": [],
   "source": [
    "url = 'https://data.source.coop/vida/google-microsoft-open-buildings/pmtiles/go_ms_building_footprints.pmtiles'\n",
    "metadata = leafmap.pmtiles_metadata(url)\n",
    "print(f\"layer names: {metadata['layer_names']}\")\n",
    "print(f\"bounds: {metadata['bounds']}\")"
   ]
  },
  {
   "cell_type": "code",
   "execution_count": null,
   "id": "f76dcb7f",
   "metadata": {},
   "outputs": [],
   "source": [
    "m = leafmap.Map(center=[20, 0], zoom=2, height='800px')\n",
    "m.add_basemap('CartoDB.DarkMatter')\n",
    "m.add_basemap('Esri.WorldImagery', show=False)\n",
    "\n",
    "style = {\n",
    "    \"version\": 8,\n",
    "    \"sources\": {\n",
    "        \"example_source\": {\n",
    "            \"type\": \"vector\",\n",
    "            \"url\": \"pmtiles://\" + url,\n",
    "            \"attribution\": 'PMTiles',\n",
    "        }\n",
    "    },\n",
    "    \"layers\": [\n",
    "        {\n",
    "            \"id\": \"buildings\",\n",
    "            \"source\": \"example_source\",\n",
    "            \"source-layer\": \"building_footprints\",\n",
    "            \"type\": \"fill\",\n",
    "            \"paint\": {\"fill-color\": \"#3388ff\", \"fill-opacity\": 0.5},\n",
    "        },\n",
    "    ],\n",
    "}\n",
    "\n",
    "m.add_pmtiles(\n",
    "    url, name='Buildings', style=style, tooltip=False\n",
    ")\n",
    "\n",
    "html = \"Source: <a href='https://beta.source.coop/repositories/vida/google-microsoft-open-buildings/description' target='_blank'>source.coop</a>\"\n",
    "m.add_html(html, position='bottomright')\n",
    "\n",
    "m"
   ]
  },
  {
   "cell_type": "code",
   "execution_count": null,
   "id": "f25e1ac0",
   "metadata": {},
   "outputs": [],
   "source": [
    "m.save('buildings.html')"
   ]
  },
  {
   "cell_type": "markdown",
   "id": "dfd490d0",
   "metadata": {},
   "source": [
    "## Local PMTiles\n",
    "\n",
    "tippecanoe is required to convert vector data to pmtiles. Install it with `mamba install -c conda-forge tippecanoe`.\n",
    "\n",
    "Download [building footprints](https://github.com/opengeos/open-data/blob/main/datasets/libya/Derna_buildings.geojson) of Derna, Libya."
   ]
  },
  {
   "cell_type": "code",
   "execution_count": null,
   "id": "07dd11da",
   "metadata": {},
   "outputs": [],
   "source": [
    "url = 'https://raw.githubusercontent.com/opengeos/open-data/main/datasets/libya/Derna_buildings.geojson'\n",
    "leafmap.download_file(url, 'buildings.geojson')"
   ]
  },
  {
   "cell_type": "markdown",
   "id": "e13a1e1e",
   "metadata": {},
   "source": [
    "Convert vector to PMTiles."
   ]
  },
  {
   "cell_type": "code",
   "execution_count": null,
   "id": "caae2ab1",
   "metadata": {},
   "outputs": [],
   "source": [
    "pmtiles = 'buildings.pmtiles'\n",
    "leafmap.geojson_to_pmtiles(\n",
    "    'buildings.geojson',\n",
    "    pmtiles,\n",
    "    layer_name='buildings',\n",
    "    overwrite=True,\n",
    "    quiet=True\n",
    ")"
   ]
  },
  {
   "cell_type": "markdown",
   "id": "b990ca75",
   "metadata": {},
   "source": [
    "Start a HTTP Sever"
   ]
  },
  {
   "cell_type": "code",
   "execution_count": null,
   "id": "62605cbf",
   "metadata": {},
   "outputs": [],
   "source": [
    "leafmap.start_server(port=8000)"
   ]
  },
  {
   "cell_type": "code",
   "execution_count": null,
   "id": "2c1c40d2",
   "metadata": {},
   "outputs": [],
   "source": [
    "url = f'http://127.0.0.1:8000/{pmtiles}'\n",
    "# leafmap.pmtiles_metadata(url)"
   ]
  },
  {
   "cell_type": "markdown",
   "id": "70218d07",
   "metadata": {},
   "source": [
    "Diplay the PMTiles on the map."
   ]
  },
  {
   "cell_type": "code",
   "execution_count": null,
   "id": "4239cead",
   "metadata": {},
   "outputs": [],
   "source": [
    "m = leafmap.Map()\n",
    "m.add_basemap('CartoDB.DarkMatter')\n",
    "m.add_basemap('SATELLITE')\n",
    "\n",
    "style = {\n",
    "    \"version\": 8,\n",
    "    \"sources\": {\n",
    "        \"example_source\": {\n",
    "            \"type\": \"vector\",\n",
    "            \"url\": \"pmtiles://\" + url,\n",
    "            \"attribution\": 'PMTiles',\n",
    "        }\n",
    "    },\n",
    "    \"layers\": [\n",
    "        {\n",
    "            \"id\": \"buildings\",\n",
    "            \"source\": \"example_source\",\n",
    "            \"source-layer\": \"buildings\",\n",
    "            \"type\": \"fill\",\n",
    "            \"paint\": {\"fill-color\": \"#3388ff\", \"fill-opacity\": 0.5},\n",
    "        },\n",
    "    ],\n",
    "}\n",
    "\n",
    "# style = leafmap.pmtiles_style(url)  # Use default style\n",
    "\n",
    "m.add_pmtiles(url, name='Buildings', show=True, zoom_to_layer=True, style=style)\n",
    "m"
   ]
  }
 ],
 "metadata": {
  "jupytext": {
   "text_representation": {
    "extension": ".md",
    "format_name": "myst",
    "format_version": 0.13,
    "jupytext_version": "1.15.2"
   }
  },
  "kernelspec": {
   "display_name": "Python 3 (ipykernel)",
   "language": "python",
   "name": "python3"
  },
  "source_map": [
   12,
   18,
   24,
   26,
   32,
   34,
   40,
   50,
   54,
   58,
   60,
   64,
   66,
   70,
   72,
   76,
   81,
   92,
   96,
   130,
   134,
   138,
   143,
   147,
   152,
   156,
   212,
   218,
   225,
   260,
   262,
   270,
   273,
   277,
   286,
   290,
   294,
   297,
   301
  ]
 },
 "nbformat": 4,
 "nbformat_minor": 5
}