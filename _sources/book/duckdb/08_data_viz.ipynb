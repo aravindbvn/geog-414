{
 "cells": [
  {
   "cell_type": "markdown",
   "id": "3517e950",
   "metadata": {},
   "source": [
    "## Data Visualization"
   ]
  },
  {
   "cell_type": "code",
   "execution_count": null,
   "id": "1eb0595e",
   "metadata": {},
   "outputs": [],
   "source": [
    "# %pip install -U leafmap lonboard "
   ]
  },
  {
   "cell_type": "code",
   "execution_count": null,
   "id": "7d1d4117",
   "metadata": {},
   "outputs": [],
   "source": [
    "import leafmap"
   ]
  },
  {
   "cell_type": "markdown",
   "id": "bac48bdb",
   "metadata": {},
   "source": [
    "## Visualizing point data"
   ]
  },
  {
   "cell_type": "code",
   "execution_count": null,
   "id": "be1b7fb8",
   "metadata": {},
   "outputs": [],
   "source": [
    "url = 'https://open.gishub.org/data/duckdb/cities.parquet'"
   ]
  },
  {
   "cell_type": "markdown",
   "id": "35ab46a2",
   "metadata": {},
   "source": [
    "Read GeoParquet and return a GeoPandas GeoDataFrame."
   ]
  },
  {
   "cell_type": "code",
   "execution_count": null,
   "id": "4192ecda",
   "metadata": {},
   "outputs": [],
   "source": [
    "gdf = leafmap.read_parquet(url, return_type='gdf', src_crs='EPSG:4326')\n",
    "gdf.head()"
   ]
  },
  {
   "cell_type": "markdown",
   "id": "b4112b6a",
   "metadata": {},
   "source": [
    "View the GeoDataFrame interactively using folium."
   ]
  },
  {
   "cell_type": "code",
   "execution_count": null,
   "id": "a8739e2d",
   "metadata": {},
   "outputs": [],
   "source": [
    "gdf.explore()"
   ]
  },
  {
   "cell_type": "markdown",
   "id": "fb28e48f",
   "metadata": {},
   "source": [
    "Visualize the GeoDataFrame using [lonboard](https://github.com/developmentseed/lonboard)."
   ]
  },
  {
   "cell_type": "code",
   "execution_count": null,
   "id": "7e4a72f3",
   "metadata": {},
   "outputs": [],
   "source": [
    "leafmap.view_vector(gdf, get_radius=20000, get_fill_color='blue')"
   ]
  },
  {
   "cell_type": "markdown",
   "id": "9a590285",
   "metadata": {},
   "source": [
    "## Visualizing polygon data"
   ]
  },
  {
   "cell_type": "code",
   "execution_count": null,
   "id": "41f79a5d",
   "metadata": {},
   "outputs": [],
   "source": [
    "url = 'https://data.source.coop/giswqs/nwi/wetlands/DC_Wetlands.parquet'"
   ]
  },
  {
   "cell_type": "code",
   "execution_count": null,
   "id": "1c157c18",
   "metadata": {},
   "outputs": [],
   "source": [
    "gdf = leafmap.read_parquet(url, return_type='gdf', src_crs='EPSG:5070', dst_crs='EPSG:4326')\n",
    "gdf.head()"
   ]
  },
  {
   "cell_type": "code",
   "execution_count": null,
   "id": "9d75c7fe",
   "metadata": {},
   "outputs": [],
   "source": [
    "gdf.explore()"
   ]
  },
  {
   "cell_type": "code",
   "execution_count": null,
   "id": "3a1f73a7",
   "metadata": {},
   "outputs": [],
   "source": [
    "leafmap.view_vector(gdf, get_fill_color=[0, 0, 255, 128])"
   ]
  },
  {
   "cell_type": "markdown",
   "id": "98ac8c6f",
   "metadata": {},
   "source": [
    "![vector](https://i.imgur.com/HRtpiVd.png)"
   ]
  },
  {
   "cell_type": "markdown",
   "id": "3c0854c2",
   "metadata": {},
   "source": [
    "Alternatively, you can specify a color map to visualize the data."
   ]
  },
  {
   "cell_type": "code",
   "execution_count": null,
   "id": "f3f1d5ce",
   "metadata": {},
   "outputs": [],
   "source": [
    "color_map =  {\n",
    "        \"Freshwater Forested/Shrub Wetland\": (0, 136, 55),\n",
    "        \"Freshwater Emergent Wetland\": (127, 195, 28),\n",
    "        \"Freshwater Pond\": (104, 140, 192),\n",
    "        \"Estuarine and Marine Wetland\": (102, 194, 165),\n",
    "        \"Riverine\": (1, 144, 191),\n",
    "        \"Lake\": (19, 0, 124),\n",
    "        \"Estuarine and Marine Deepwater\": (0, 124, 136),\n",
    "        \"Other Freshwater Wetland\": (178, 134, 86),\n",
    "    }"
   ]
  },
  {
   "cell_type": "code",
   "execution_count": null,
   "id": "d4dcb1eb",
   "metadata": {},
   "outputs": [],
   "source": [
    "leafmap.view_vector(gdf, color_column='WETLAND_TYPE', color_map=color_map, opacity=0.5)"
   ]
  },
  {
   "cell_type": "markdown",
   "id": "1d66a6e3",
   "metadata": {},
   "source": [
    "![vector-color](https://i.imgur.com/Ejh8hK6.png)"
   ]
  },
  {
   "cell_type": "markdown",
   "id": "70ef5ee8",
   "metadata": {},
   "source": [
    "Display a legend for the data."
   ]
  },
  {
   "cell_type": "code",
   "execution_count": null,
   "id": "3cff7330",
   "metadata": {},
   "outputs": [],
   "source": [
    "leafmap.Legend(title=\"Wetland Type\", legend_dict=color_map)"
   ]
  },
  {
   "cell_type": "markdown",
   "id": "13e3e20a",
   "metadata": {},
   "source": [
    "![legend](https://i.imgur.com/fxzHHFN.png)"
   ]
  },
  {
   "cell_type": "markdown",
   "id": "9e899b3a",
   "metadata": {},
   "source": [
    "## Visualizing multiple layers"
   ]
  },
  {
   "cell_type": "code",
   "execution_count": null,
   "id": "a46bdcca",
   "metadata": {},
   "outputs": [],
   "source": [
    "import leafmap.deckgl as leafmap"
   ]
  },
  {
   "cell_type": "code",
   "execution_count": null,
   "id": "4d11f8ed",
   "metadata": {},
   "outputs": [],
   "source": [
    "m = leafmap.Map()\n",
    "countries = 'https://open.gishub.org/data/duckdb/countries.geojson'\n",
    "cities = 'https://open.gishub.org/data/duckdb/cities.geojson'\n",
    "m.add_vector(countries, get_fill_color='blue', opacity=0.1)\n",
    "m.add_vector(cities, get_radius=20000, get_fill_color='red', opacity=0.5)\n",
    "m"
   ]
  }
 ],
 "metadata": {
  "jupytext": {
   "text_representation": {
    "extension": ".md",
    "format_name": "myst",
    "format_version": 0.13,
    "jupytext_version": "1.15.2"
   }
  },
  "kernelspec": {
   "display_name": "Python 3",
   "language": "python",
   "name": "python3"
  },
  "source_map": [
   12,
   16,
   20,
   22,
   26,
   28,
   32,
   35,
   39,
   41,
   45,
   47,
   51,
   55,
   60,
   64,
   66,
   70,
   74,
   87,
   89,
   93,
   97,
   99,
   103,
   107,
   111
  ]
 },
 "nbformat": 4,
 "nbformat_minor": 5
}