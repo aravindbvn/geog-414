{
 "cells": [
  {
   "cell_type": "markdown",
   "id": "4788be2b",
   "metadata": {},
   "source": [
    "## Data Visualization"
   ]
  },
  {
   "cell_type": "code",
   "execution_count": null,
   "id": "a1b33834",
   "metadata": {},
   "outputs": [],
   "source": [
    "# %pip install -U leafmap lonboard "
   ]
  },
  {
   "cell_type": "code",
   "execution_count": null,
   "id": "507287ea",
   "metadata": {},
   "outputs": [],
   "source": [
    "import leafmap"
   ]
  },
  {
   "cell_type": "markdown",
   "id": "a76b6ad9",
   "metadata": {},
   "source": [
    "## Visualizing point data"
   ]
  },
  {
   "cell_type": "code",
   "execution_count": null,
   "id": "77cffd2b",
   "metadata": {},
   "outputs": [],
   "source": [
    "url = 'https://open.gishub.org/data/duckdb/cities.parquet'"
   ]
  },
  {
   "cell_type": "markdown",
   "id": "12f5a1bb",
   "metadata": {},
   "source": [
    "Read GeoParquet and return a GeoPandas GeoDataFrame."
   ]
  },
  {
   "cell_type": "code",
   "execution_count": null,
   "id": "3434aa6c",
   "metadata": {},
   "outputs": [],
   "source": [
    "gdf = leafmap.read_parquet(url, return_type='gdf', src_crs='EPSG:4326')\n",
    "gdf.head()"
   ]
  },
  {
   "cell_type": "markdown",
   "id": "44f4b47b",
   "metadata": {},
   "source": [
    "View the GeoDataFrame interactively using folium."
   ]
  },
  {
   "cell_type": "code",
   "execution_count": null,
   "id": "3d7d229c",
   "metadata": {},
   "outputs": [],
   "source": [
    "gdf.explore()"
   ]
  },
  {
   "cell_type": "markdown",
   "id": "b00b113e",
   "metadata": {},
   "source": [
    "Visualize the GeoDataFrame using [lonboard](https://github.com/developmentseed/lonboard)."
   ]
  },
  {
   "cell_type": "code",
   "execution_count": null,
   "id": "dcaa4b4d",
   "metadata": {},
   "outputs": [],
   "source": [
    "leafmap.view_vector(gdf, get_radius=20000, get_fill_color='blue')"
   ]
  },
  {
   "cell_type": "markdown",
   "id": "338e06f3",
   "metadata": {},
   "source": [
    "## Visualizing polygon data"
   ]
  },
  {
   "cell_type": "code",
   "execution_count": null,
   "id": "12dec519",
   "metadata": {},
   "outputs": [],
   "source": [
    "url = 'https://data.source.coop/giswqs/nwi/wetlands/DC_Wetlands.parquet'"
   ]
  },
  {
   "cell_type": "code",
   "execution_count": null,
   "id": "669f86cd",
   "metadata": {},
   "outputs": [],
   "source": [
    "gdf = leafmap.read_parquet(url, return_type='gdf', src_crs='EPSG:5070', dst_crs='EPSG:4326')\n",
    "gdf.head()"
   ]
  },
  {
   "cell_type": "code",
   "execution_count": null,
   "id": "77829908",
   "metadata": {},
   "outputs": [],
   "source": [
    "gdf.explore()"
   ]
  },
  {
   "cell_type": "code",
   "execution_count": null,
   "id": "a6e25bf0",
   "metadata": {},
   "outputs": [],
   "source": [
    "leafmap.view_vector(gdf, get_fill_color=[0, 0, 255, 128])"
   ]
  },
  {
   "cell_type": "markdown",
   "id": "806ed133",
   "metadata": {},
   "source": [
    "![vector](https://i.imgur.com/HRtpiVd.png)"
   ]
  },
  {
   "cell_type": "markdown",
   "id": "7a21c9d3",
   "metadata": {},
   "source": [
    "Alternatively, you can specify a color map to visualize the data."
   ]
  },
  {
   "cell_type": "code",
   "execution_count": null,
   "id": "2f5c3677",
   "metadata": {},
   "outputs": [],
   "source": [
    "color_map =  {\n",
    "        \"Freshwater Forested/Shrub Wetland\": (0, 136, 55),\n",
    "        \"Freshwater Emergent Wetland\": (127, 195, 28),\n",
    "        \"Freshwater Pond\": (104, 140, 192),\n",
    "        \"Estuarine and Marine Wetland\": (102, 194, 165),\n",
    "        \"Riverine\": (1, 144, 191),\n",
    "        \"Lake\": (19, 0, 124),\n",
    "        \"Estuarine and Marine Deepwater\": (0, 124, 136),\n",
    "        \"Other Freshwater Wetland\": (178, 134, 86),\n",
    "    }"
   ]
  },
  {
   "cell_type": "code",
   "execution_count": null,
   "id": "ea7ae7ca",
   "metadata": {},
   "outputs": [],
   "source": [
    "leafmap.view_vector(gdf, color_column='WETLAND_TYPE', color_map=color_map, opacity=0.5)"
   ]
  },
  {
   "cell_type": "markdown",
   "id": "8b5cfcbc",
   "metadata": {},
   "source": [
    "![vector-color](https://i.imgur.com/Ejh8hK6.png)"
   ]
  },
  {
   "cell_type": "markdown",
   "id": "08b39915",
   "metadata": {},
   "source": [
    "Display a legend for the data."
   ]
  },
  {
   "cell_type": "code",
   "execution_count": null,
   "id": "8f864f65",
   "metadata": {},
   "outputs": [],
   "source": [
    "leafmap.Legend(title=\"Wetland Type\", legend_dict=color_map)"
   ]
  },
  {
   "cell_type": "markdown",
   "id": "3da71fa0",
   "metadata": {},
   "source": [
    "![legend](https://i.imgur.com/fxzHHFN.png)"
   ]
  },
  {
   "cell_type": "markdown",
   "id": "a971852c",
   "metadata": {},
   "source": [
    "## Visualizing multiple layers"
   ]
  },
  {
   "cell_type": "code",
   "execution_count": null,
   "id": "7e6bed4b",
   "metadata": {},
   "outputs": [],
   "source": [
    "import leafmap.deckgl as leafmap"
   ]
  },
  {
   "cell_type": "code",
   "execution_count": null,
   "id": "97898454",
   "metadata": {},
   "outputs": [],
   "source": [
    "m = leafmap.Map()\n",
    "countries = 'https://open.gishub.org/data/duckdb/countries.geojson'\n",
    "cities = 'https://open.gishub.org/data/duckdb/cities.geojson'\n",
    "m.add_vector(countries, get_fill_color='blue', opacity=0.1)\n",
    "m.add_vector(cities, get_radius=20000, get_fill_color='red', opacity=0.5)\n",
    "m"
   ]
  }
 ],
 "metadata": {
  "jupytext": {
   "text_representation": {
    "extension": ".md",
    "format_name": "myst",
    "format_version": 0.13,
    "jupytext_version": "1.15.2"
   }
  },
  "kernelspec": {
   "display_name": "Python 3",
   "language": "python",
   "name": "python3"
  },
  "source_map": [
   12,
   16,
   20,
   22,
   26,
   28,
   32,
   35,
   39,
   41,
   45,
   47,
   51,
   55,
   60,
   64,
   66,
   70,
   74,
   87,
   89,
   93,
   97,
   99,
   103,
   107,
   111
  ]
 },
 "nbformat": 4,
 "nbformat_minor": 5
}