{
 "cells": [
  {
   "cell_type": "markdown",
   "id": "ede9aaeb",
   "metadata": {},
   "source": [
    "## Data Visualization"
   ]
  },
  {
   "cell_type": "code",
   "execution_count": null,
   "id": "3e5acbf9",
   "metadata": {},
   "outputs": [],
   "source": [
    "# %pip install -U leafmap lonboard "
   ]
  },
  {
   "cell_type": "code",
   "execution_count": null,
   "id": "7f86a7ee",
   "metadata": {},
   "outputs": [],
   "source": [
    "import leafmap"
   ]
  },
  {
   "cell_type": "markdown",
   "id": "cea2057a",
   "metadata": {},
   "source": [
    "Visualizing point data."
   ]
  },
  {
   "cell_type": "code",
   "execution_count": null,
   "id": "9fee1e02",
   "metadata": {},
   "outputs": [],
   "source": [
    "url = 'https://open.gishub.org/data/duckdb/cities.parquet'"
   ]
  },
  {
   "cell_type": "markdown",
   "id": "6f284db4",
   "metadata": {},
   "source": [
    "Read GeoParquet and return a GeoPandas GeoDataFrame."
   ]
  },
  {
   "cell_type": "code",
   "execution_count": null,
   "id": "3a4ea58b",
   "metadata": {},
   "outputs": [],
   "source": [
    "gdf = leafmap.read_parquet(url, return_type='gdf', src_crs='EPSG:4326')\n",
    "gdf.head()"
   ]
  },
  {
   "cell_type": "markdown",
   "id": "50b8fafc",
   "metadata": {},
   "source": [
    "View the GeoDataFrame interactively using folium."
   ]
  },
  {
   "cell_type": "code",
   "execution_count": null,
   "id": "980c8cae",
   "metadata": {},
   "outputs": [],
   "source": [
    "gdf.explore()"
   ]
  },
  {
   "cell_type": "markdown",
   "id": "394c8324",
   "metadata": {},
   "source": [
    "Visualize the GeoDataFrame using [lonboard](https://github.com/developmentseed/lonboard)."
   ]
  },
  {
   "cell_type": "code",
   "execution_count": null,
   "id": "f3e3e863",
   "metadata": {},
   "outputs": [],
   "source": [
    "leafmap.view_vector(gdf, get_radius=20000, get_fill_color='blue')"
   ]
  },
  {
   "cell_type": "markdown",
   "id": "c27305e7",
   "metadata": {},
   "source": [
    "Visualizing polygon data."
   ]
  },
  {
   "cell_type": "code",
   "execution_count": null,
   "id": "97faced1",
   "metadata": {},
   "outputs": [],
   "source": [
    "url = 'https://data.source.coop/giswqs/nwi/wetlands/DC_Wetlands.parquet'"
   ]
  },
  {
   "cell_type": "code",
   "execution_count": null,
   "id": "b0137539",
   "metadata": {},
   "outputs": [],
   "source": [
    "gdf = leafmap.read_parquet(url, return_type='gdf', src_crs='EPSG:5070', dst_crs='EPSG:4326')\n",
    "gdf.head()"
   ]
  },
  {
   "cell_type": "code",
   "execution_count": null,
   "id": "f6751335",
   "metadata": {},
   "outputs": [],
   "source": [
    "gdf.explore()"
   ]
  },
  {
   "cell_type": "code",
   "execution_count": null,
   "id": "a3f79f48",
   "metadata": {},
   "outputs": [],
   "source": [
    "leafmap.view_vector(gdf, get_fill_color=[0, 0, 255, 128])"
   ]
  },
  {
   "cell_type": "markdown",
   "id": "2a827cef",
   "metadata": {},
   "source": [
    "![vector](https://i.imgur.com/HRtpiVd.png)"
   ]
  },
  {
   "cell_type": "markdown",
   "id": "1167f609",
   "metadata": {},
   "source": [
    "Alternatively, you can specify a color map to visualize the data."
   ]
  },
  {
   "cell_type": "code",
   "execution_count": null,
   "id": "467e77b5",
   "metadata": {},
   "outputs": [],
   "source": [
    "color_map =  {\n",
    "        \"Freshwater Forested/Shrub Wetland\": (0, 136, 55),\n",
    "        \"Freshwater Emergent Wetland\": (127, 195, 28),\n",
    "        \"Freshwater Pond\": (104, 140, 192),\n",
    "        \"Estuarine and Marine Wetland\": (102, 194, 165),\n",
    "        \"Riverine\": (1, 144, 191),\n",
    "        \"Lake\": (19, 0, 124),\n",
    "        \"Estuarine and Marine Deepwater\": (0, 124, 136),\n",
    "        \"Other Freshwater Wetland\": (178, 134, 86),\n",
    "    }"
   ]
  },
  {
   "cell_type": "code",
   "execution_count": null,
   "id": "cf4fe8c5",
   "metadata": {},
   "outputs": [],
   "source": [
    "leafmap.view_vector(gdf, color_column='WETLAND_TYPE', color_map=color_map, opacity=0.5)"
   ]
  },
  {
   "cell_type": "markdown",
   "id": "584d503f",
   "metadata": {},
   "source": [
    "![vector-color](https://i.imgur.com/Ejh8hK6.png)"
   ]
  },
  {
   "cell_type": "markdown",
   "id": "380140e2",
   "metadata": {},
   "source": [
    "Display a legend for the data."
   ]
  },
  {
   "cell_type": "code",
   "execution_count": null,
   "id": "b250e0e9",
   "metadata": {},
   "outputs": [],
   "source": [
    "leafmap.Legend(title=\"Wetland Type\", legend_dict=color_map)"
   ]
  },
  {
   "cell_type": "markdown",
   "id": "b11aabfd",
   "metadata": {},
   "source": [
    "![legend](https://i.imgur.com/fxzHHFN.png)"
   ]
  }
 ],
 "metadata": {
  "jupytext": {
   "text_representation": {
    "extension": ".md",
    "format_name": "myst",
    "format_version": 0.13,
    "jupytext_version": "1.15.2"
   }
  },
  "kernelspec": {
   "display_name": "Python 3",
   "language": "python",
   "name": "python3"
  },
  "source_map": [
   12,
   16,
   20,
   22,
   26,
   28,
   32,
   35,
   39,
   41,
   45,
   47,
   51,
   55,
   60,
   64,
   66,
   70,
   74,
   87,
   89,
   93,
   97,
   99
  ]
 },
 "nbformat": 4,
 "nbformat_minor": 5
}