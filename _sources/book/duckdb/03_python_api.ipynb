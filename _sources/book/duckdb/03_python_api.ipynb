{
 "cells": [
  {
   "cell_type": "markdown",
   "id": "dda0329f",
   "metadata": {},
   "source": [
    "# Python API\n",
    "\n",
    "## Introduction\n",
    "\n",
    "There are various client APIs for DuckDB. DuckDB’s “native” API is C++, with “official” wrappers available for C, Python, R, Java, Node.js, WebAssembly/Wasm, ODBC API, Julia, and a Command Line Interface (CLI).\n",
    "\n",
    "In this notebook, we will explore the [DuckDB Python API](https://duckdb.org/docs/api/python/overview).\n",
    "\n",
    "## Datasets\n",
    "\n",
    "The following datasets are used in this notebook. You don't need to download them, they can be accessed directly from the notebook.\n",
    "\n",
    "- [cities.csv](https://open.gishub.org/data/duckdb/cities.csv)\n",
    "- [countries.csv](https://open.gishub.org/data/duckdb/countries.csv)\n",
    "\n",
    "## Installation\n",
    "\n",
    "Uncomment the following cell to install the required packages if needed."
   ]
  },
  {
   "cell_type": "code",
   "execution_count": null,
   "id": "79e67ce4",
   "metadata": {},
   "outputs": [],
   "source": [
    "# %pip install duckdb duckdb-engine jupysql"
   ]
  },
  {
   "cell_type": "markdown",
   "id": "b8e90281",
   "metadata": {},
   "source": [
    "## Library Import"
   ]
  },
  {
   "cell_type": "code",
   "execution_count": null,
   "id": "a28c5e49",
   "metadata": {},
   "outputs": [],
   "source": [
    "import duckdb\n",
    "import pandas as pd"
   ]
  },
  {
   "cell_type": "markdown",
   "id": "957341e0",
   "metadata": {},
   "source": [
    "## Installing Extensions\n",
    "\n",
    "DuckDB’s Python API provides functions for installing and loading extensions, which perform the equivalent operations to running the `INSTALL` and `LOAD` SQL commands, respectively. An example that installs and loads the [httpfs extension](https://duckdb.org/docs/extensions/httpfs) looks like follows:"
   ]
  },
  {
   "cell_type": "code",
   "execution_count": null,
   "id": "c1a21aff",
   "metadata": {},
   "outputs": [],
   "source": [
    "con = duckdb.connect()\n",
    "con.install_extension(\"httpfs\")\n",
    "con.load_extension(\"httpfs\")"
   ]
  },
  {
   "cell_type": "markdown",
   "id": "c675891e",
   "metadata": {},
   "source": [
    "## Data Input\n",
    "\n",
    "DuckDB can ingest data from a wide variety of formats – both on-disk and in-memory. See the [data ingestion page](https://duckdb.org/docs/api/python/data_ingestion) for more information."
   ]
  },
  {
   "cell_type": "code",
   "execution_count": null,
   "id": "6de19d12",
   "metadata": {},
   "outputs": [],
   "source": [
    "con.sql('SELECT 42').show()"
   ]
  },
  {
   "cell_type": "code",
   "execution_count": null,
   "id": "66b7d54d",
   "metadata": {},
   "outputs": [],
   "source": [
    "con.read_csv('https://open.gishub.org/data/duckdb/cities.csv')"
   ]
  },
  {
   "cell_type": "code",
   "execution_count": null,
   "id": "fab67614",
   "metadata": {},
   "outputs": [],
   "source": [
    "con.read_csv('https://open.gishub.org/data/duckdb/countries.csv')"
   ]
  },
  {
   "cell_type": "markdown",
   "id": "43e8fe9e",
   "metadata": {},
   "source": [
    "## DataFrames\n",
    "\n",
    "DuckDB can also directly query Pandas DataFrames."
   ]
  },
  {
   "cell_type": "code",
   "execution_count": null,
   "id": "9efd6bc6",
   "metadata": {},
   "outputs": [],
   "source": [
    "pandas_df = pd.DataFrame({'a': [42]})\n",
    "con.sql('SELECT * FROM pandas_df')"
   ]
  },
  {
   "cell_type": "markdown",
   "id": "64bbd841",
   "metadata": {},
   "source": [
    "DuckDB can also ingest data from remote sources (e.g., HTTP, S3) and return a Pandas DataFrame."
   ]
  },
  {
   "cell_type": "code",
   "execution_count": null,
   "id": "11e51c66",
   "metadata": {},
   "outputs": [],
   "source": [
    "df = con.read_csv('https://open.gishub.org/data/duckdb/cities.csv').df()\n",
    "df.head()"
   ]
  },
  {
   "cell_type": "markdown",
   "id": "e56a1924",
   "metadata": {},
   "source": [
    "## Result Conversion\n",
    "\n",
    "DuckDB supports converting query results efficiently to a variety of formats. See the [result conversion page](https://duckdb.org/docs/api/python/result_conversion) for more information."
   ]
  },
  {
   "cell_type": "code",
   "execution_count": null,
   "id": "c602dc19",
   "metadata": {},
   "outputs": [],
   "source": [
    "con.sql('SELECT 42').fetchall()  # Python objects"
   ]
  },
  {
   "cell_type": "code",
   "execution_count": null,
   "id": "83c1f1d0",
   "metadata": {},
   "outputs": [],
   "source": [
    "con.sql('SELECT 42').df()  # Pandas DataFrame"
   ]
  },
  {
   "cell_type": "code",
   "execution_count": null,
   "id": "f47505f5",
   "metadata": {},
   "outputs": [],
   "source": [
    "con.sql('SELECT 42').fetchnumpy()  # NumPy Arrays"
   ]
  },
  {
   "cell_type": "markdown",
   "id": "8e9af995",
   "metadata": {},
   "source": [
    "## Writing Data to Disk\n",
    "\n",
    "DuckDB supports writing Relation objects directly to disk in a variety of formats. The [COPY](https://duckdb.org/docs/sql/statements/copy) statement can be used to write data to disk using SQL as an alternative."
   ]
  },
  {
   "cell_type": "code",
   "execution_count": null,
   "id": "2632477e",
   "metadata": {},
   "outputs": [],
   "source": [
    "con.sql('SELECT 42').write_parquet('out.parquet')  # Write to a Parquet file\n",
    "con.sql('SELECT 42').write_csv('out.csv')  # Write to a CSV file\n",
    "con.sql(\"COPY (SELECT 42) TO 'out.parquet'\")  # Copy to a parquet file"
   ]
  },
  {
   "cell_type": "markdown",
   "id": "c2702523",
   "metadata": {},
   "source": [
    "## Persistent Storage\n",
    "\n",
    "By default DuckDB operates on an **in-memory** database. That means that any tables that are created are not persisted to disk. Using the `.connect` method a connection can be made to a persistent database. Any data written to that connection will be persisted, and can be reloaded by re-connecting to the same file."
   ]
  },
  {
   "cell_type": "code",
   "execution_count": null,
   "id": "9684b8ec",
   "metadata": {},
   "outputs": [],
   "source": [
    "# create a connection to a file called 'file.db'\n",
    "con = duckdb.connect('file.db')\n",
    "# create a table and load data into it\n",
    "con.sql(\n",
    "    'CREATE TABLE IF NOT EXISTS cities AS FROM read_csv_auto(\"https://open.gishub.org/data/duckdb/cities.csv\")'\n",
    ")\n",
    "# query the table\n",
    "con.table('cities').show()\n",
    "# Note: connections also closed implicitly when they go out of scope"
   ]
  },
  {
   "cell_type": "code",
   "execution_count": null,
   "id": "57c4e0db",
   "metadata": {},
   "outputs": [],
   "source": [
    "# explicitly close the connection\n",
    "con.close()"
   ]
  },
  {
   "cell_type": "markdown",
   "id": "c13965a5",
   "metadata": {},
   "source": [
    "You can also use a context manager to ensure that the connection is closed:"
   ]
  },
  {
   "cell_type": "code",
   "execution_count": null,
   "id": "1ef84c0c",
   "metadata": {},
   "outputs": [],
   "source": [
    "with duckdb.connect('file.db') as con:\n",
    "    con.sql(\n",
    "        'CREATE TABLE IF NOT EXISTS cities AS FROM read_csv_auto(\"https://open.gishub.org/data/duckdb/cities.csv\")'\n",
    "    )\n",
    "    con.table('cities').show()\n",
    "    # the context manager closes the connection automatically"
   ]
  },
  {
   "cell_type": "markdown",
   "id": "c7edde07",
   "metadata": {},
   "source": [
    "## Connection Object and Module\n",
    "\n",
    "The connection object and the `duckdb` module can be used interchangeably – they support the same methods. The only difference is that when using the `duckdb` module a global in-memory database is used.\n",
    "\n",
    "Note that if you are developing a package designed for others to use, and use DuckDB in the package, it is recommend that you create connection objects instead of using the methods on the `duckdb` module. That is because the `duckdb` module uses a shared global database – which can cause hard to debug issues if used from within multiple different packages."
   ]
  },
  {
   "cell_type": "code",
   "execution_count": null,
   "id": "764d4036",
   "metadata": {},
   "outputs": [],
   "source": [
    "duckdb.sql('SELECT 42')"
   ]
  },
  {
   "cell_type": "code",
   "execution_count": null,
   "id": "f585cb8e",
   "metadata": {},
   "outputs": [],
   "source": [
    "con = duckdb.connect()\n",
    "con.sql('SELECT 42')"
   ]
  },
  {
   "cell_type": "markdown",
   "id": "9b2f8a67",
   "metadata": {},
   "source": [
    "## References\n",
    "\n",
    "- [DuckDB Python API Overview](https://duckdb.org/docs/api/python/overview)"
   ]
  }
 ],
 "metadata": {
  "jupytext": {
   "text_representation": {
    "extension": ".md",
    "format_name": "myst",
    "format_version": 0.13,
    "jupytext_version": "1.15.2"
   }
  },
  "kernelspec": {
   "display_name": "geo",
   "language": "python",
   "name": "python3"
  },
  "source_map": [
   12,
   33,
   35,
   39,
   42,
   48,
   52,
   58,
   62,
   66,
   68,
   74,
   77,
   81,
   84,
   90,
   94,
   98,
   100,
   106,
   110,
   116,
   128,
   131,
   135,
   142,
   150,
   154,
   157
  ]
 },
 "nbformat": 4,
 "nbformat_minor": 5
}