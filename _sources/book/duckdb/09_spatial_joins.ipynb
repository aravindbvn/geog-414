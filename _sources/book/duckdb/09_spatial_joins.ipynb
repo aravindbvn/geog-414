{
 "cells": [
  {
   "cell_type": "markdown",
   "id": "631c8043",
   "metadata": {},
   "source": [
    "# Spatial Joins\n",
    "\n",
    "## Introduction\n",
    "\n",
    "Spatial joins are the bread-and-butter of spatial databases. They allow you to combine information from different tables by using spatial relationships as the join key. Much of what we think of as “standard GIS analysis” can be expressed as spatial joins.\n",
    "\n",
    "## Installation\n",
    "\n",
    "Uncomment the following cell to install the required packages if needed."
   ]
  },
  {
   "cell_type": "code",
   "execution_count": null,
   "id": "c4b0d14e",
   "metadata": {},
   "outputs": [],
   "source": [
    "# %pip install duckdb leafmap"
   ]
  },
  {
   "cell_type": "markdown",
   "id": "1d5c1f1e",
   "metadata": {},
   "source": [
    "## Library Import and Configuration"
   ]
  },
  {
   "cell_type": "code",
   "execution_count": null,
   "id": "1f953797",
   "metadata": {},
   "outputs": [],
   "source": [
    "import duckdb\n",
    "import leafmap"
   ]
  },
  {
   "cell_type": "markdown",
   "id": "115904f3",
   "metadata": {},
   "source": [
    "## Sample Data\n",
    "\n",
    "The datasets in the database are in NAD83 / UTM zone 18N projection, EPSG:26918."
   ]
  },
  {
   "cell_type": "code",
   "execution_count": null,
   "id": "ab7868e8",
   "metadata": {},
   "outputs": [],
   "source": [
    "url = \"https://open.gishub.org/data/duckdb/nyc_data.db.zip\"\n",
    "leafmap.download_file(url, unzip=True)"
   ]
  },
  {
   "cell_type": "markdown",
   "id": "b531cab4",
   "metadata": {},
   "source": [
    "## Connecting to DuckDB\n",
    "\n",
    "Connect jupysql to DuckDB using a SQLAlchemy-style connection string. You may either connect to an in memory DuckDB, or a file backed db."
   ]
  },
  {
   "cell_type": "code",
   "execution_count": null,
   "id": "3a7ec57d",
   "metadata": {},
   "outputs": [],
   "source": [
    "con = duckdb.connect('nyc_data.db')"
   ]
  },
  {
   "cell_type": "code",
   "execution_count": null,
   "id": "613da655",
   "metadata": {},
   "outputs": [],
   "source": [
    "con.install_extension('spatial')\n",
    "con.load_extension('spatial')"
   ]
  },
  {
   "cell_type": "code",
   "execution_count": null,
   "id": "590673d0",
   "metadata": {},
   "outputs": [],
   "source": [
    "con.sql(\"SHOW TABLES;\")"
   ]
  },
  {
   "cell_type": "markdown",
   "id": "86da2a9a",
   "metadata": {},
   "source": [
    "## Intersection\n",
    "\n",
    "In the previous section, we explored spatial relationships using a two-step process: first we extracted a subway station point for ‘Broad St’; then, we used that point to ask further questions such as “what neighborhood is the ‘Broad St’ station in?”\n",
    "\n",
    "Using a spatial join, we can answer the question in one step, retrieving information about the subway station and the neighborhood that contains it. \n",
    "\n",
    "Let's start by looking at the subway stations and neighborhoods separately."
   ]
  },
  {
   "cell_type": "code",
   "execution_count": null,
   "id": "e3413ae5",
   "metadata": {},
   "outputs": [],
   "source": [
    "con.sql(\"FROM nyc_neighborhoods SELECT * LIMIT 5;\")"
   ]
  },
  {
   "cell_type": "code",
   "execution_count": null,
   "id": "f1dc22f4",
   "metadata": {},
   "outputs": [],
   "source": [
    "con.sql(\"FROM nyc_subway_stations SELECT * LIMIT 5;\")"
   ]
  },
  {
   "cell_type": "markdown",
   "id": "dd8bf0ea",
   "metadata": {},
   "source": [
    "Let's find out what neighborhood the `Broad St` station is in:"
   ]
  },
  {
   "cell_type": "code",
   "execution_count": null,
   "id": "e48769fa",
   "metadata": {},
   "outputs": [],
   "source": [
    "con.sql(\"\"\"\n",
    "SELECT\n",
    "  subways.name AS subway_name,\n",
    "  neighborhoods.name AS neighborhood_name,\n",
    "  neighborhoods.boroname AS borough\n",
    "FROM nyc_neighborhoods AS neighborhoods\n",
    "JOIN nyc_subway_stations AS subways\n",
    "ON ST_Intersects(neighborhoods.geom, subways.geom)\n",
    "WHERE subways.NAME = 'Broad St';\n",
    "\"\"\")"
   ]
  },
  {
   "cell_type": "markdown",
   "id": "aa0a19fe",
   "metadata": {},
   "source": [
    "Note that the subway stations table has a `color` column."
   ]
  },
  {
   "cell_type": "code",
   "execution_count": null,
   "id": "ab1e8715",
   "metadata": {},
   "outputs": [],
   "source": [
    "con.sql(\"\"\"\n",
    "SELECT DISTINCT COLOR FROM nyc_subway_stations;\n",
    "\"\"\")"
   ]
  },
  {
   "cell_type": "markdown",
   "id": "04a501d3",
   "metadata": {},
   "source": [
    "Let's find out what neighborhood the `RED` subway stations are in:"
   ]
  },
  {
   "cell_type": "code",
   "execution_count": null,
   "id": "da4719b0",
   "metadata": {},
   "outputs": [],
   "source": [
    "con.sql(\"\"\"\n",
    "SELECT\n",
    "  subways.name AS subway_name,\n",
    "  neighborhoods.name AS neighborhood_name,\n",
    "  neighborhoods.boroname AS borough\n",
    "FROM nyc_neighborhoods AS neighborhoods\n",
    "JOIN nyc_subway_stations AS subways\n",
    "ON ST_Intersects(neighborhoods.geom, subways.geom)\n",
    "WHERE subways.color = 'RED';\n",
    "\"\"\")"
   ]
  },
  {
   "cell_type": "markdown",
   "id": "a53ba2b7",
   "metadata": {},
   "source": [
    "## Distance Within\n",
    "\n",
    "One of the common spatial operations is to find all the features within a certain distance of another feature. For example, you might want to find all the subway stations within 500 meters of a bike share station. Let’s explore the racial geography of New York using distance queries.\n",
    "\n",
    "First, let’s get the baseline racial make-up of the city."
   ]
  },
  {
   "cell_type": "code",
   "execution_count": null,
   "id": "70843448",
   "metadata": {},
   "outputs": [],
   "source": [
    "con.sql(\"\"\"\n",
    "SELECT\n",
    "  100.0 * Sum(popn_white) / Sum(popn_total) AS white_pct,\n",
    "  100.0 * Sum(popn_black) / Sum(popn_total) AS black_pct,\n",
    "  Sum(popn_total) AS popn_total\n",
    "FROM nyc_census_blocks;\n",
    "\"\"\")"
   ]
  },
  {
   "cell_type": "markdown",
   "id": "45c6fc19",
   "metadata": {},
   "source": [
    "So, of the 8M people in New York, about 44% are recorded as “white” and 26% are recorded as “black”.\n",
    "\n",
    "Note that the contents of the `nyc_subway_stations` table routes field is what we are interested in to find the A-train. The values in there are a little complex."
   ]
  },
  {
   "cell_type": "code",
   "execution_count": null,
   "id": "65a0e475",
   "metadata": {},
   "outputs": [],
   "source": [
    "con.sql(\"\"\"\n",
    "SELECT DISTINCT routes FROM nyc_subway_stations;\n",
    "\"\"\")"
   ]
  },
  {
   "cell_type": "markdown",
   "id": "08da0b10",
   "metadata": {},
   "source": [
    "So to find the A-train, we will want any row in `routes` that has an ‘A’ in it. We can do this a number of ways, but here we will use the fact that **strpos(routes,'A')** will return a non-zero number only if ‘A’ is in the `routes` field."
   ]
  },
  {
   "cell_type": "code",
   "execution_count": null,
   "id": "1bc6eefe",
   "metadata": {},
   "outputs": [],
   "source": [
    "con.sql(\"\"\"\n",
    "SELECT DISTINCT routes\n",
    "FROM nyc_subway_stations AS subways\n",
    "WHERE strpos(subways.routes,'A') > 0;\n",
    "\"\"\")"
   ]
  },
  {
   "cell_type": "markdown",
   "id": "e6decc3d",
   "metadata": {},
   "source": [
    "Let’s summarize the racial make-up of within 200 meters of the A-train line."
   ]
  },
  {
   "cell_type": "code",
   "execution_count": null,
   "id": "4a7076a2",
   "metadata": {},
   "outputs": [],
   "source": [
    "con.sql(\"\"\"\n",
    "SELECT\n",
    "  100.0 * Sum(popn_white) / Sum(popn_total) AS white_pct,\n",
    "  100.0 * Sum(popn_black) / Sum(popn_total) AS black_pct,\n",
    "  Sum(popn_total) AS popn_total\n",
    "FROM nyc_census_blocks AS census\n",
    "JOIN nyc_subway_stations AS subways\n",
    "ON ST_DWithin(census.geom, subways.geom, 200)\n",
    "WHERE strpos(subways.routes,'A') > 0;\n",
    "\"\"\")"
   ]
  },
  {
   "cell_type": "markdown",
   "id": "e5a57906",
   "metadata": {},
   "source": [
    "So the racial make-up along the A-train isn’t radically different from the make-up of New York City as a whole.\n",
    "\n",
    "## Advanced Join\n",
    "\n",
    "In the last section we saw that the A-train didn’t serve a population that differed much from the racial make-up of the rest of the city. Are there any trains that have a non-average racial make-up?\n",
    "\n",
    "To answer that question, we’ll add another join to our query, so that we can simultaneously calculate the make-up of many subway lines at once. To do that, we’ll need to create a new table that enumerates all the lines we want to summarize."
   ]
  },
  {
   "cell_type": "code",
   "execution_count": null,
   "id": "f00841bc",
   "metadata": {},
   "outputs": [],
   "source": [
    "con.sql(\"\"\"\n",
    "CREATE OR REPLACE TABLE subway_lines ( route char(1) );\n",
    "INSERT INTO subway_lines (route) VALUES\n",
    "  ('A'),('B'),('C'),('D'),('E'),('F'),('G'),\n",
    "  ('J'),('L'),('M'),('N'),('Q'),('R'),('S'),\n",
    "  ('Z'),('1'),('2'),('3'),('4'),('5'),('6'),\n",
    "  ('7');\n",
    "\"\"\")"
   ]
  },
  {
   "cell_type": "markdown",
   "id": "e17a3757",
   "metadata": {},
   "source": [
    "Now we can join the table of subway lines onto our original query."
   ]
  },
  {
   "cell_type": "code",
   "execution_count": null,
   "id": "dbc27362",
   "metadata": {},
   "outputs": [],
   "source": [
    "con.sql(\"\"\"\n",
    "SELECT\n",
    "  lines.route,\n",
    "  100.0 * Sum(popn_white) / Sum(popn_total) AS white_pct,\n",
    "  100.0 * Sum(popn_black) / Sum(popn_total) AS black_pct,\n",
    "  Sum(popn_total) AS popn_total\n",
    "FROM nyc_census_blocks AS census\n",
    "JOIN nyc_subway_stations AS subways\n",
    "ON ST_DWithin(census.geom, subways.geom, 200)\n",
    "JOIN subway_lines AS lines\n",
    "ON strpos(subways.routes, lines.route) > 0\n",
    "GROUP BY lines.route\n",
    "ORDER BY black_pct DESC;\n",
    "\"\"\")"
   ]
  },
  {
   "cell_type": "markdown",
   "id": "b99a0e27",
   "metadata": {},
   "source": [
    "As before, the joins create a virtual table of all the possible combinations available within the constraints of the JOIN ON restrictions, and those rows are then fed into a GROUP summary. The spatial magic is in the ST_DWithin function, that ensures only census blocks close to the appropriate subway stations are included in the calculation."
   ]
  },
  {
   "cell_type": "markdown",
   "id": "0bb05fed",
   "metadata": {},
   "source": [
    "## Projection"
   ]
  },
  {
   "cell_type": "markdown",
   "id": "bfe6c879",
   "metadata": {},
   "source": [
    "DuckDB provides the `ST_Transform` function to transform geometries from one projection to another. The function takes three arguments: the geometry to transform, and the EPSG code of the projection of the input geometry, and the EPSG code of the projection to transform to."
   ]
  },
  {
   "cell_type": "code",
   "execution_count": null,
   "id": "7b75de8f",
   "metadata": {},
   "outputs": [],
   "source": [
    "url = 'https://open.gishub.org/data/duckdb/cities.parquet'\n",
    "con.sql(f\"SELECT * EXCLUDE geometry, ST_GeomFromWKB(geometry) AS geometry FROM '{url}'\")"
   ]
  },
  {
   "cell_type": "markdown",
   "id": "8a46e773",
   "metadata": {},
   "source": [
    "Let's convert the data from EPSG:4326 to [EPSG:5070](https://epsg.io/5070-1252) (NAD83 / Conus Albers)."
   ]
  },
  {
   "cell_type": "code",
   "execution_count": null,
   "id": "d2926ea8",
   "metadata": {},
   "outputs": [],
   "source": [
    "con.sql(f\"\"\"\n",
    "SELECT * EXCLUDE geometry, ST_Transform(ST_GeomFromWKB(geometry), 'EPSG:4326', 'EPSG:5070', true) AS geometry FROM '{url}'\n",
    "\"\"\")"
   ]
  },
  {
   "cell_type": "markdown",
   "id": "2fc0e127",
   "metadata": {},
   "source": [
    "## Function List\n",
    "\n",
    "https://duckdb.org/docs/archive/0.9.2/extensions/spatial#spatial-relationships\n",
    "\n",
    "![](https://i.imgur.com/ogJojVX.png)"
   ]
  },
  {
   "cell_type": "markdown",
   "id": "175c74e3",
   "metadata": {},
   "source": [
    "## References\n",
    "\n",
    "- [Introduction to PostGIS - Spatial Joins](https://postgis.net/workshops/postgis-intro/joins.html)"
   ]
  }
 ],
 "metadata": {
  "jupytext": {
   "text_representation": {
    "extension": ".md",
    "format_name": "myst",
    "format_version": 0.13,
    "jupytext_version": "1.15.2"
   }
  },
  "kernelspec": {
   "display_name": "Python 3",
   "language": "python",
   "name": "python3"
  },
  "source_map": [
   12,
   24,
   26,
   30,
   33,
   39,
   42,
   48,
   52,
   57,
   59,
   69,
   73,
   75,
   79,
   90,
   94,
   98,
   102,
   113,
   121,
   129,
   135,
   139,
   143,
   149,
   153,
   164,
   174,
   183,
   187,
   202,
   206,
   210,
   214,
   217,
   221,
   225,
   233
  ]
 },
 "nbformat": 4,
 "nbformat_minor": 5
}