{
 "cells": [
  {
   "cell_type": "markdown",
   "id": "92a221dd",
   "metadata": {},
   "source": [
    "# Data Import\n",
    "\n",
    "## Introduction\n",
    "\n",
    "This notebook shows how to import data into a DuckDB database. It uses the `duckdb` Python package to connect to a DuckDB database and import data from various formats, including CSV, JSON, DataFrame, parquet, GeoJSON, Shapefile, GeoParquet, and more.\n",
    "\n",
    "## Datasets\n",
    "\n",
    "The following datasets are used in this notebook. You don't need to download them, they can be accessed directly from the notebook.\n",
    "\n",
    "- [cities.csv](https://open.gishub.org/data/duckdb/cities.csv)\n",
    "- [countries.csv](https://open.gishub.org/data/duckdb/countries.csv)\n",
    "\n",
    "## Installation\n",
    "\n",
    "Uncomment the following cell to install the required packages if needed."
   ]
  },
  {
   "cell_type": "code",
   "execution_count": null,
   "id": "601ab8ba",
   "metadata": {},
   "outputs": [],
   "source": [
    "# %pip install duckdb leafmap"
   ]
  },
  {
   "cell_type": "markdown",
   "id": "aecba939",
   "metadata": {},
   "source": [
    "## Library Import"
   ]
  },
  {
   "cell_type": "code",
   "execution_count": null,
   "id": "3b1aff4b",
   "metadata": {},
   "outputs": [],
   "source": [
    "import duckdb\n",
    "import leafmap\n",
    "import pandas as pd"
   ]
  },
  {
   "cell_type": "markdown",
   "id": "2a31ea70",
   "metadata": {},
   "source": [
    "## Installing Extensions\n",
    "\n",
    "DuckDB’s Python API provides functions for installing and loading extensions, which perform the equivalent operations to running the `INSTALL` and `LOAD` SQL commands, respectively. An example that installs and loads the [httpfs extension](https://duckdb.org/docs/extensions/httpfs) looks like follows:"
   ]
  },
  {
   "cell_type": "code",
   "execution_count": null,
   "id": "7ecf8130",
   "metadata": {},
   "outputs": [],
   "source": [
    "con = duckdb.connect()"
   ]
  },
  {
   "cell_type": "code",
   "execution_count": null,
   "id": "46c9220c",
   "metadata": {},
   "outputs": [],
   "source": [
    "con.install_extension(\"httpfs\")\n",
    "con.load_extension(\"httpfs\")"
   ]
  },
  {
   "cell_type": "code",
   "execution_count": null,
   "id": "57f77fd5",
   "metadata": {},
   "outputs": [],
   "source": [
    "con.install_extension(\"spatial\")\n",
    "con.load_extension(\"spatial\")"
   ]
  },
  {
   "cell_type": "markdown",
   "id": "77e61251",
   "metadata": {},
   "source": [
    "## Downloading Sample Data"
   ]
  },
  {
   "cell_type": "code",
   "execution_count": null,
   "id": "172d23bf",
   "metadata": {},
   "outputs": [],
   "source": [
    "url = \"https://open.gishub.org/data/duckdb/cities.zip\"\n",
    "leafmap.download_file(url, unzip=True)"
   ]
  },
  {
   "cell_type": "markdown",
   "id": "6faf7b81",
   "metadata": {},
   "source": [
    "## CSV Files\n",
    "\n",
    "CSV files can be read using the `read_csv` function, called either from within Python or directly from within SQL. By default, the `read_csv` function attempts to auto-detect the CSV settings by sampling from the provided file."
   ]
  },
  {
   "cell_type": "code",
   "execution_count": null,
   "id": "ee0f5078",
   "metadata": {},
   "outputs": [],
   "source": [
    "# read from a file using fully auto-detected settings\n",
    "con.read_csv('cities.csv')"
   ]
  },
  {
   "cell_type": "code",
   "execution_count": null,
   "id": "7f66925e",
   "metadata": {},
   "outputs": [],
   "source": [
    "# specify options on how the CSV is formatted internally\n",
    "con.read_csv('cities.csv', header=True, sep=',')"
   ]
  },
  {
   "cell_type": "code",
   "execution_count": null,
   "id": "d0ef0b7a",
   "metadata": {},
   "outputs": [],
   "source": [
    "# use the (experimental) parallel CSV reader\n",
    "con.read_csv('cities.csv', parallel=True)"
   ]
  },
  {
   "cell_type": "code",
   "execution_count": null,
   "id": "1ff3a6f7",
   "metadata": {},
   "outputs": [],
   "source": [
    "# directly read a CSV file from within SQL\n",
    "con.sql(\"SELECT * FROM 'cities.csv'\")"
   ]
  },
  {
   "cell_type": "code",
   "execution_count": null,
   "id": "9d9d154d",
   "metadata": {},
   "outputs": [],
   "source": [
    "# call read_csv from within SQL\n",
    "con.sql(\"SELECT * FROM read_csv_auto('cities.csv')\")"
   ]
  },
  {
   "cell_type": "markdown",
   "id": "7fe4c797",
   "metadata": {},
   "source": [
    "## JSON Files\n",
    "\n",
    "JSON files can be read using the `read_json` function, called either from within Python or directly from within SQL. By default, the `read_json` function will automatically detect if a file contains newline-delimited JSON or regular JSON, and will detect the schema of the objects stored within the JSON file."
   ]
  },
  {
   "cell_type": "code",
   "execution_count": null,
   "id": "96531aa2",
   "metadata": {},
   "outputs": [],
   "source": [
    "# read from a single JSON file\n",
    "con.read_json('cities.json')"
   ]
  },
  {
   "cell_type": "code",
   "execution_count": null,
   "id": "7fb9baef",
   "metadata": {},
   "outputs": [],
   "source": [
    "# directly read a JSON file from within SQL\n",
    "con.sql(\"SELECT * FROM 'cities.json'\")"
   ]
  },
  {
   "cell_type": "code",
   "execution_count": null,
   "id": "51725827",
   "metadata": {},
   "outputs": [],
   "source": [
    "# call read_json from within SQL\n",
    "con.sql(\"SELECT * FROM read_json_auto('cities.json')\")"
   ]
  },
  {
   "cell_type": "markdown",
   "id": "f4044cfb",
   "metadata": {},
   "source": [
    "## DataFrames\n",
    "\n",
    "DuckDB is automatically able to query a Pandas DataFrame."
   ]
  },
  {
   "cell_type": "code",
   "execution_count": null,
   "id": "fea2513e",
   "metadata": {},
   "outputs": [],
   "source": [
    "df = pd.read_csv('cities.csv')\n",
    "df"
   ]
  },
  {
   "cell_type": "code",
   "execution_count": null,
   "id": "b05f586c",
   "metadata": {},
   "outputs": [],
   "source": [
    "con.sql('SELECT * FROM df').fetchall()"
   ]
  },
  {
   "cell_type": "markdown",
   "id": "4e4a84e6",
   "metadata": {},
   "source": [
    "## Parquet Files\n",
    "\n",
    "Parquet files can be read using the `read_parquet` function, called either from within Python or directly from within SQL."
   ]
  },
  {
   "cell_type": "code",
   "execution_count": null,
   "id": "84e58227",
   "metadata": {},
   "outputs": [],
   "source": [
    "# read from a single Parquet file\n",
    "con.read_parquet('cities.parquet')"
   ]
  },
  {
   "cell_type": "code",
   "execution_count": null,
   "id": "5fe7473a",
   "metadata": {},
   "outputs": [],
   "source": [
    "# directly read a Parquet file from within SQL\n",
    "con.sql(\"SELECT * FROM 'cities.parquet'\")"
   ]
  },
  {
   "cell_type": "code",
   "execution_count": null,
   "id": "e7c2bfbd",
   "metadata": {},
   "outputs": [],
   "source": [
    "# call read_parquet from within SQL\n",
    "con.sql(\"SELECT * FROM read_parquet('cities.parquet')\")"
   ]
  },
  {
   "cell_type": "markdown",
   "id": "5318d91a",
   "metadata": {},
   "source": [
    "## GeoJSON Files"
   ]
  },
  {
   "cell_type": "code",
   "execution_count": null,
   "id": "a016cbbe",
   "metadata": {},
   "outputs": [],
   "source": [
    "con.sql('SELECT * FROM ST_Drivers()')"
   ]
  },
  {
   "cell_type": "code",
   "execution_count": null,
   "id": "3a8a3b8d",
   "metadata": {},
   "outputs": [],
   "source": [
    "con.sql(\"SELECT * FROM ST_Read('cities.geojson')\")"
   ]
  },
  {
   "cell_type": "code",
   "execution_count": null,
   "id": "7c6621b1",
   "metadata": {},
   "outputs": [],
   "source": [
    "con.sql(\"FROM ST_Read('cities.geojson')\")"
   ]
  },
  {
   "cell_type": "code",
   "execution_count": null,
   "id": "2b805ada",
   "metadata": {},
   "outputs": [],
   "source": [
    "con.sql(\"CREATE TABLE cities AS SELECT * FROM ST_Read('cities.geojson')\")"
   ]
  },
  {
   "cell_type": "code",
   "execution_count": null,
   "id": "91c3f6e3",
   "metadata": {},
   "outputs": [],
   "source": [
    "con.table('cities')"
   ]
  },
  {
   "cell_type": "code",
   "execution_count": null,
   "id": "650286a9",
   "metadata": {},
   "outputs": [],
   "source": [
    "con.sql(\"SELECT * FROM cities\")"
   ]
  },
  {
   "cell_type": "markdown",
   "id": "77d5e5e6",
   "metadata": {},
   "source": [
    "## Shapefiles"
   ]
  },
  {
   "cell_type": "code",
   "execution_count": null,
   "id": "89e7269d",
   "metadata": {},
   "outputs": [],
   "source": [
    "con.sql(\"SELECT * FROM ST_Read('cities.shp')\")"
   ]
  },
  {
   "cell_type": "code",
   "execution_count": null,
   "id": "592e725a",
   "metadata": {},
   "outputs": [],
   "source": [
    "con.sql(\"FROM ST_Read('cities.shp')\")"
   ]
  },
  {
   "cell_type": "code",
   "execution_count": null,
   "id": "1d4584b5",
   "metadata": {},
   "outputs": [],
   "source": [
    "con.sql(\n",
    "    \"\"\"\n",
    "        CREATE TABLE IF NOT EXISTS cities2 AS \n",
    "        SELECT * FROM ST_Read('cities.shp')\n",
    "        \"\"\"\n",
    ")"
   ]
  },
  {
   "cell_type": "code",
   "execution_count": null,
   "id": "428cbeaa",
   "metadata": {},
   "outputs": [],
   "source": [
    "con.table('cities2')"
   ]
  },
  {
   "cell_type": "code",
   "execution_count": null,
   "id": "4dbb3a7a",
   "metadata": {},
   "outputs": [],
   "source": [
    "con.sql('SELECT * FROM cities2')"
   ]
  },
  {
   "cell_type": "markdown",
   "id": "57915f0d",
   "metadata": {},
   "source": [
    "## GeoParquet Files"
   ]
  },
  {
   "cell_type": "code",
   "execution_count": null,
   "id": "b6963398",
   "metadata": {},
   "outputs": [],
   "source": [
    "con.sql(\"SELECT * FROM 'cities.parquet'\")"
   ]
  },
  {
   "cell_type": "code",
   "execution_count": null,
   "id": "87a56a0b",
   "metadata": {},
   "outputs": [],
   "source": [
    "con.sql(\n",
    "    \"\"\"\n",
    "CREATE TABLE IF NOT EXISTS cities3 AS\n",
    "SELECT * EXCLUDE geometry, ST_GeomFromWKB(geometry) \n",
    "AS geometry FROM 'cities.parquet'\n",
    "\"\"\"\n",
    ")"
   ]
  },
  {
   "cell_type": "code",
   "execution_count": null,
   "id": "31f08403",
   "metadata": {},
   "outputs": [],
   "source": [
    "con.table('cities3')"
   ]
  },
  {
   "cell_type": "code",
   "execution_count": null,
   "id": "dfd84c21",
   "metadata": {},
   "outputs": [],
   "source": [
    "con.sql(\n",
    "    \"\"\"\n",
    "CREATE TABLE IF NOT EXISTS country AS\n",
    "SELECT * EXCLUDE geometry, ST_GeomFromWKB(geometry) FROM\n",
    "        's3://us-west-2.opendata.source.coop/google-research-open-buildings/v2/geoparquet-admin1/country=SSD/*.parquet'\n",
    "\"\"\"\n",
    ")"
   ]
  },
  {
   "cell_type": "code",
   "execution_count": null,
   "id": "b6eecbc9",
   "metadata": {},
   "outputs": [],
   "source": [
    "con.table('country')"
   ]
  },
  {
   "cell_type": "code",
   "execution_count": null,
   "id": "6e7dc048",
   "metadata": {},
   "outputs": [],
   "source": [
    "con.sql('SELECT COUNT(*) FROM country')"
   ]
  },
  {
   "cell_type": "markdown",
   "id": "06284286",
   "metadata": {},
   "source": [
    "## References\n",
    "\n",
    "- [DuckDB Data Ingestion](https://duckdb.org/docs/api/python/data_ingestion)"
   ]
  }
 ],
 "metadata": {
  "jupytext": {
   "text_representation": {
    "extension": ".md",
    "format_name": "myst",
    "format_version": 0.13,
    "jupytext_version": "1.15.2"
   }
  },
  "kernelspec": {
   "display_name": "geo",
   "language": "python",
   "name": "python3"
  },
  "source_map": [
   12,
   31,
   33,
   37,
   41,
   47,
   51,
   56,
   59,
   63,
   66,
   72,
   77,
   82,
   87,
   92,
   95,
   101,
   106,
   111,
   114,
   120,
   125,
   127,
   133,
   138,
   143,
   146,
   150,
   154,
   158,
   162,
   166,
   170,
   172,
   176,
   180,
   184,
   193,
   197,
   199,
   203,
   207,
   217,
   221,
   231,
   235,
   237
  ]
 },
 "nbformat": 4,
 "nbformat_minor": 5
}