{
 "cells": [
  {
   "cell_type": "markdown",
   "id": "e54b6345",
   "metadata": {},
   "source": [
    "# Data Import\n",
    "\n",
    "## Introduction\n",
    "\n",
    "\n",
    "## Datasets\n",
    "\n",
    "The following datasets are used in this notebook. You don't need to download them, they can be accessed directly from the notebook.\n",
    "\n",
    "- [cities.csv](https://open.gishub.org/data/duckdb/cities.csv)\n",
    "- [countries.csv](https://open.gishub.org/data/duckdb/countries.csv)\n",
    "\n",
    "## Installation\n",
    "\n",
    "Uncomment the following cell to install the required packages if needed."
   ]
  },
  {
   "cell_type": "code",
   "execution_count": null,
   "id": "c9fce428",
   "metadata": {},
   "outputs": [],
   "source": [
    "# %pip install duckdb duckdb-engine jupysql leafmap"
   ]
  },
  {
   "cell_type": "markdown",
   "id": "406482a0",
   "metadata": {},
   "source": [
    "## Library Import"
   ]
  },
  {
   "cell_type": "code",
   "execution_count": null,
   "id": "297b30ff",
   "metadata": {},
   "outputs": [],
   "source": [
    "import duckdb\n",
    "import leafmap\n",
    "import pandas as pd"
   ]
  },
  {
   "cell_type": "markdown",
   "id": "9e301fb0",
   "metadata": {},
   "source": [
    "## Installing Extensions\n",
    "\n",
    "DuckDB’s Python API provides functions for installing and loading extensions, which perform the equivalent operations to running the `INSTALL` and `LOAD` SQL commands, respectively. An example that installs and loads the [httpfs extension](https://duckdb.org/docs/extensions/httpfs) looks like follows:"
   ]
  },
  {
   "cell_type": "code",
   "execution_count": null,
   "id": "72938a31",
   "metadata": {},
   "outputs": [],
   "source": [
    "con = duckdb.connect()"
   ]
  },
  {
   "cell_type": "code",
   "execution_count": null,
   "id": "d32b0d37",
   "metadata": {},
   "outputs": [],
   "source": [
    "con.install_extension(\"httpfs\")\n",
    "con.load_extension(\"httpfs\")"
   ]
  },
  {
   "cell_type": "code",
   "execution_count": null,
   "id": "8688a921",
   "metadata": {},
   "outputs": [],
   "source": [
    "con.install_extension(\"spatial\")\n",
    "con.load_extension(\"spatial\")"
   ]
  },
  {
   "cell_type": "markdown",
   "id": "dda21168",
   "metadata": {},
   "source": [
    "## Downloading Sample Data"
   ]
  },
  {
   "cell_type": "code",
   "execution_count": null,
   "id": "a69451d9",
   "metadata": {},
   "outputs": [],
   "source": [
    "url = \"https://open.gishub.org/data/duckdb/cities.zip\"\n",
    "leafmap.download_file(url, unzip=True)"
   ]
  },
  {
   "cell_type": "markdown",
   "id": "79471888",
   "metadata": {},
   "source": [
    "## CSV Files\n",
    "\n",
    "CSV files can be read using the `read_csv` function, called either from within Python or directly from within SQL. By default, the `read_csv` function attempts to auto-detect the CSV settings by sampling from the provided file."
   ]
  },
  {
   "cell_type": "code",
   "execution_count": null,
   "id": "2a355352",
   "metadata": {},
   "outputs": [],
   "source": [
    "# read from a file using fully auto-detected settings\n",
    "con.read_csv('cities.csv')"
   ]
  },
  {
   "cell_type": "code",
   "execution_count": null,
   "id": "a36ec014",
   "metadata": {},
   "outputs": [],
   "source": [
    "# specify options on how the CSV is formatted internally\n",
    "con.read_csv('cities.csv', header=True, sep=',')"
   ]
  },
  {
   "cell_type": "code",
   "execution_count": null,
   "id": "3f782823",
   "metadata": {},
   "outputs": [],
   "source": [
    "# use the (experimental) parallel CSV reader\n",
    "con.read_csv('cities.csv', parallel=True)"
   ]
  },
  {
   "cell_type": "code",
   "execution_count": null,
   "id": "25f1c237",
   "metadata": {},
   "outputs": [],
   "source": [
    "# directly read a CSV file from within SQL\n",
    "con.sql(\"SELECT * FROM 'cities.csv'\")"
   ]
  },
  {
   "cell_type": "code",
   "execution_count": null,
   "id": "7a88202d",
   "metadata": {},
   "outputs": [],
   "source": [
    "# call read_csv from within SQL\n",
    "con.sql(\"SELECT * FROM read_csv_auto('cities.csv')\")"
   ]
  },
  {
   "cell_type": "markdown",
   "id": "63376697",
   "metadata": {},
   "source": [
    "## JSON Files\n",
    "\n",
    "JSON files can be read using the `read_json` function, called either from within Python or directly from within SQL. By default, the `read_json` function will automatically detect if a file contains newline-delimited JSON or regular JSON, and will detect the schema of the objects stored within the JSON file."
   ]
  },
  {
   "cell_type": "code",
   "execution_count": null,
   "id": "0bc59506",
   "metadata": {},
   "outputs": [],
   "source": [
    "# read from a single JSON file\n",
    "con.read_json('cities.json')"
   ]
  },
  {
   "cell_type": "code",
   "execution_count": null,
   "id": "c5818e22",
   "metadata": {},
   "outputs": [],
   "source": [
    "# directly read a JSON file from within SQL\n",
    "con.sql(\"SELECT * FROM 'cities.json'\")"
   ]
  },
  {
   "cell_type": "code",
   "execution_count": null,
   "id": "2a937f8e",
   "metadata": {},
   "outputs": [],
   "source": [
    "# call read_json from within SQL\n",
    "con.sql(\"SELECT * FROM read_json_auto('cities.json')\")"
   ]
  },
  {
   "cell_type": "markdown",
   "id": "b60c2a7c",
   "metadata": {},
   "source": [
    "## DataFrames\n",
    "\n",
    "DuckDB is automatically able to query a Pandas DataFrame."
   ]
  },
  {
   "cell_type": "code",
   "execution_count": null,
   "id": "d1e9e7dc",
   "metadata": {},
   "outputs": [],
   "source": [
    "df = pd.read_csv('cities.csv')\n",
    "df"
   ]
  },
  {
   "cell_type": "code",
   "execution_count": null,
   "id": "b38f459c",
   "metadata": {},
   "outputs": [],
   "source": [
    "con.sql('SELECT * FROM df').fetchall()"
   ]
  },
  {
   "cell_type": "markdown",
   "id": "c85db1d8",
   "metadata": {},
   "source": [
    "## Parquet Files\n",
    "\n",
    "Parquet files can be read using the `read_parquet` function, called either from within Python or directly from within SQL."
   ]
  },
  {
   "cell_type": "code",
   "execution_count": null,
   "id": "ff9bb60e",
   "metadata": {},
   "outputs": [],
   "source": [
    "# read from a single Parquet file\n",
    "con.read_parquet('cities.parquet')"
   ]
  },
  {
   "cell_type": "code",
   "execution_count": null,
   "id": "b449b0ca",
   "metadata": {},
   "outputs": [],
   "source": [
    "# directly read a Parquet file from within SQL\n",
    "con.sql(\"SELECT * FROM 'cities.parquet'\")"
   ]
  },
  {
   "cell_type": "code",
   "execution_count": null,
   "id": "ae345f56",
   "metadata": {},
   "outputs": [],
   "source": [
    "# call read_parquet from within SQL\n",
    "con.sql(\"SELECT * FROM read_parquet('cities.parquet')\")"
   ]
  },
  {
   "cell_type": "markdown",
   "id": "86fbf9b9",
   "metadata": {},
   "source": [
    "## GeoJSON Files"
   ]
  },
  {
   "cell_type": "code",
   "execution_count": null,
   "id": "f0751610",
   "metadata": {},
   "outputs": [],
   "source": [
    "con.sql('SELECT * FROM ST_Drivers()')"
   ]
  },
  {
   "cell_type": "code",
   "execution_count": null,
   "id": "6b79950f",
   "metadata": {},
   "outputs": [],
   "source": [
    "con.sql(\"SELECT * FROM ST_Read('cities.geojson')\")"
   ]
  },
  {
   "cell_type": "code",
   "execution_count": null,
   "id": "7b0b7daf",
   "metadata": {},
   "outputs": [],
   "source": [
    "con.sql(\"FROM ST_Read('cities.geojson')\")"
   ]
  },
  {
   "cell_type": "code",
   "execution_count": null,
   "id": "558fdfb5",
   "metadata": {},
   "outputs": [],
   "source": [
    "con.sql(\"CREATE TABLE cities AS SELECT * FROM ST_Read('cities.geojson')\")"
   ]
  },
  {
   "cell_type": "code",
   "execution_count": null,
   "id": "f5e35369",
   "metadata": {},
   "outputs": [],
   "source": [
    "con.table('cities')"
   ]
  },
  {
   "cell_type": "code",
   "execution_count": null,
   "id": "96222ac1",
   "metadata": {},
   "outputs": [],
   "source": [
    "con.sql(\"SELECT * FROM cities\")"
   ]
  },
  {
   "cell_type": "markdown",
   "id": "f5033e2a",
   "metadata": {},
   "source": [
    "## Shapefiles"
   ]
  },
  {
   "cell_type": "code",
   "execution_count": null,
   "id": "0cb4de18",
   "metadata": {},
   "outputs": [],
   "source": [
    "con.sql(\"SELECT * FROM ST_Read('cities.shp')\")"
   ]
  },
  {
   "cell_type": "code",
   "execution_count": null,
   "id": "f3d6854a",
   "metadata": {},
   "outputs": [],
   "source": [
    "con.sql(\"FROM ST_Read('cities.shp')\")"
   ]
  },
  {
   "cell_type": "code",
   "execution_count": null,
   "id": "6b15dc9a",
   "metadata": {},
   "outputs": [],
   "source": [
    "con.sql(\n",
    "    \"\"\"\n",
    "        CREATE TABLE IF NOT EXISTS cities2 AS \n",
    "        SELECT * FROM ST_Read('cities.shp')\n",
    "        \"\"\"\n",
    ")"
   ]
  },
  {
   "cell_type": "code",
   "execution_count": null,
   "id": "3e8b0c90",
   "metadata": {},
   "outputs": [],
   "source": [
    "con.table('cities2')"
   ]
  },
  {
   "cell_type": "code",
   "execution_count": null,
   "id": "84e7864e",
   "metadata": {},
   "outputs": [],
   "source": [
    "con.sql('SELECT * FROM cities2')"
   ]
  },
  {
   "cell_type": "markdown",
   "id": "c19d9a20",
   "metadata": {},
   "source": [
    "## GeoParquet Files"
   ]
  },
  {
   "cell_type": "code",
   "execution_count": null,
   "id": "6252f0b3",
   "metadata": {},
   "outputs": [],
   "source": [
    "con.sql(\"SELECT * FROM 'cities.parquet'\")"
   ]
  },
  {
   "cell_type": "code",
   "execution_count": null,
   "id": "529b286f",
   "metadata": {},
   "outputs": [],
   "source": [
    "con.sql(\n",
    "    \"\"\"\n",
    "CREATE TABLE IF NOT EXISTS cities3 AS\n",
    "SELECT * EXCLUDE geometry, ST_GeomFromWKB(geometry) \n",
    "AS geometry FROM 'cities.parquet'\n",
    "\"\"\"\n",
    ")"
   ]
  },
  {
   "cell_type": "code",
   "execution_count": null,
   "id": "99fb1148",
   "metadata": {},
   "outputs": [],
   "source": [
    "con.table('cities3')"
   ]
  },
  {
   "cell_type": "code",
   "execution_count": null,
   "id": "3b0322bc",
   "metadata": {},
   "outputs": [],
   "source": [
    "con.sql(\n",
    "    \"\"\"\n",
    "CREATE TABLE IF NOT EXISTS country AS\n",
    "SELECT * EXCLUDE geometry, ST_GeomFromWKB(geometry) FROM\n",
    "        's3://us-west-2.opendata.source.coop/google-research-open-buildings/v2/geoparquet-admin1/country=SSD/*.parquet'\n",
    "\"\"\"\n",
    ")"
   ]
  },
  {
   "cell_type": "code",
   "execution_count": null,
   "id": "5d411e69",
   "metadata": {},
   "outputs": [],
   "source": [
    "con.table('country')"
   ]
  },
  {
   "cell_type": "code",
   "execution_count": null,
   "id": "595de389",
   "metadata": {},
   "outputs": [],
   "source": [
    "con.sql('SELECT COUNT(*) FROM country')"
   ]
  },
  {
   "cell_type": "markdown",
   "id": "9c8cb363",
   "metadata": {},
   "source": [
    "## References\n",
    "\n",
    "- [DuckDB Data Ingestion](https://duckdb.org/docs/api/python/data_ingestion)"
   ]
  }
 ],
 "metadata": {
  "jupytext": {
   "text_representation": {
    "extension": ".md",
    "format_name": "myst",
    "format_version": 0.13,
    "jupytext_version": "1.15.2"
   }
  },
  "kernelspec": {
   "display_name": "geo",
   "language": "python",
   "name": "python3"
  },
  "source_map": [
   12,
   30,
   32,
   36,
   40,
   46,
   50,
   55,
   58,
   62,
   65,
   71,
   76,
   81,
   86,
   91,
   94,
   100,
   105,
   110,
   113,
   119,
   124,
   126,
   132,
   137,
   142,
   145,
   149,
   153,
   157,
   161,
   165,
   169,
   171,
   175,
   179,
   183,
   192,
   196,
   198,
   202,
   206,
   216,
   220,
   230,
   234,
   236
  ]
 },
 "nbformat": 4,
 "nbformat_minor": 5
}