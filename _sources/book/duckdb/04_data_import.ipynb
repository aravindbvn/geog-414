{
 "cells": [
  {
   "cell_type": "markdown",
   "id": "ed3160a8",
   "metadata": {},
   "source": [
    "# Data Import\n",
    "\n",
    "## Introduction\n",
    "\n",
    "This notebook shows how to import data into a DuckDB database. It uses the `duckdb` Python package to connect to a DuckDB database and import data from various formats, including CSV, JSON, DataFrame, parquet, GeoJSON, Shapefile, GeoParquet, and more.\n",
    "\n",
    "## Datasets\n",
    "\n",
    "The following datasets are used in this notebook. You don't need to download them, they can be accessed directly from the notebook.\n",
    "\n",
    "- [cities.csv](https://open.gishub.org/data/duckdb/cities.csv)\n",
    "- [countries.csv](https://open.gishub.org/data/duckdb/countries.csv)\n",
    "\n",
    "## Installation\n",
    "\n",
    "Uncomment the following cell to install the required packages if needed."
   ]
  },
  {
   "cell_type": "code",
   "execution_count": null,
   "id": "ad7a4f13",
   "metadata": {},
   "outputs": [],
   "source": [
    "# %pip install duckdb leafmap"
   ]
  },
  {
   "cell_type": "markdown",
   "id": "dd295a10",
   "metadata": {},
   "source": [
    "## Library Import"
   ]
  },
  {
   "cell_type": "code",
   "execution_count": null,
   "id": "9146e9f6",
   "metadata": {},
   "outputs": [],
   "source": [
    "import duckdb\n",
    "import leafmap\n",
    "import pandas as pd"
   ]
  },
  {
   "cell_type": "markdown",
   "id": "c11b4a0f",
   "metadata": {},
   "source": [
    "## Installing Extensions\n",
    "\n",
    "DuckDB’s Python API provides functions for installing and loading extensions, which perform the equivalent operations to running the `INSTALL` and `LOAD` SQL commands, respectively. An example that installs and loads the [httpfs extension](https://duckdb.org/docs/extensions/httpfs) looks like follows:"
   ]
  },
  {
   "cell_type": "code",
   "execution_count": null,
   "id": "2b2ddee4",
   "metadata": {},
   "outputs": [],
   "source": [
    "con = duckdb.connect()"
   ]
  },
  {
   "cell_type": "code",
   "execution_count": null,
   "id": "a20d82d6",
   "metadata": {},
   "outputs": [],
   "source": [
    "con.install_extension(\"httpfs\")\n",
    "con.load_extension(\"httpfs\")"
   ]
  },
  {
   "cell_type": "code",
   "execution_count": null,
   "id": "b43626e2",
   "metadata": {},
   "outputs": [],
   "source": [
    "con.install_extension(\"spatial\")\n",
    "con.load_extension(\"spatial\")"
   ]
  },
  {
   "cell_type": "markdown",
   "id": "11678d2e",
   "metadata": {},
   "source": [
    "## Downloading Sample Data"
   ]
  },
  {
   "cell_type": "code",
   "execution_count": null,
   "id": "866c2fdd",
   "metadata": {},
   "outputs": [],
   "source": [
    "url = \"https://open.gishub.org/data/duckdb/cities.zip\"\n",
    "leafmap.download_file(url, unzip=True)"
   ]
  },
  {
   "cell_type": "markdown",
   "id": "a1c02997",
   "metadata": {},
   "source": [
    "## CSV Files\n",
    "\n",
    "CSV files can be read using the `read_csv` function, called either from within Python or directly from within SQL. By default, the `read_csv` function attempts to auto-detect the CSV settings by sampling from the provided file."
   ]
  },
  {
   "cell_type": "code",
   "execution_count": null,
   "id": "570e4a64",
   "metadata": {},
   "outputs": [],
   "source": [
    "# read from a file using fully auto-detected settings\n",
    "con.read_csv('cities.csv')"
   ]
  },
  {
   "cell_type": "code",
   "execution_count": null,
   "id": "985fbf7d",
   "metadata": {},
   "outputs": [],
   "source": [
    "# specify options on how the CSV is formatted internally\n",
    "con.read_csv('cities.csv', header=True, sep=',')"
   ]
  },
  {
   "cell_type": "code",
   "execution_count": null,
   "id": "53c38983",
   "metadata": {},
   "outputs": [],
   "source": [
    "# use the (experimental) parallel CSV reader\n",
    "con.read_csv('cities.csv', parallel=True)"
   ]
  },
  {
   "cell_type": "code",
   "execution_count": null,
   "id": "ff21522d",
   "metadata": {},
   "outputs": [],
   "source": [
    "# directly read a CSV file from within SQL\n",
    "con.sql(\"SELECT * FROM 'cities.csv'\")"
   ]
  },
  {
   "cell_type": "code",
   "execution_count": null,
   "id": "2b55531a",
   "metadata": {},
   "outputs": [],
   "source": [
    "# call read_csv from within SQL\n",
    "con.sql(\"SELECT * FROM read_csv_auto('cities.csv')\")"
   ]
  },
  {
   "cell_type": "markdown",
   "id": "c7d9f86e",
   "metadata": {},
   "source": [
    "## JSON Files\n",
    "\n",
    "JSON files can be read using the `read_json` function, called either from within Python or directly from within SQL. By default, the `read_json` function will automatically detect if a file contains newline-delimited JSON or regular JSON, and will detect the schema of the objects stored within the JSON file."
   ]
  },
  {
   "cell_type": "code",
   "execution_count": null,
   "id": "2fa2b26b",
   "metadata": {},
   "outputs": [],
   "source": [
    "# read from a single JSON file\n",
    "con.read_json('cities.json')"
   ]
  },
  {
   "cell_type": "code",
   "execution_count": null,
   "id": "17bdd11f",
   "metadata": {},
   "outputs": [],
   "source": [
    "# directly read a JSON file from within SQL\n",
    "con.sql(\"SELECT * FROM 'cities.json'\")"
   ]
  },
  {
   "cell_type": "code",
   "execution_count": null,
   "id": "1220cc4d",
   "metadata": {},
   "outputs": [],
   "source": [
    "# call read_json from within SQL\n",
    "con.sql(\"SELECT * FROM read_json_auto('cities.json')\")"
   ]
  },
  {
   "cell_type": "markdown",
   "id": "c06a1860",
   "metadata": {},
   "source": [
    "## DataFrames\n",
    "\n",
    "DuckDB is automatically able to query a Pandas DataFrame."
   ]
  },
  {
   "cell_type": "code",
   "execution_count": null,
   "id": "b16217fe",
   "metadata": {},
   "outputs": [],
   "source": [
    "df = pd.read_csv('cities.csv')\n",
    "df"
   ]
  },
  {
   "cell_type": "code",
   "execution_count": null,
   "id": "67135503",
   "metadata": {},
   "outputs": [],
   "source": [
    "con.sql('SELECT * FROM df').fetchall()"
   ]
  },
  {
   "cell_type": "markdown",
   "id": "c17b9dd5",
   "metadata": {},
   "source": [
    "## Parquet Files\n",
    "\n",
    "Parquet files can be read using the `read_parquet` function, called either from within Python or directly from within SQL."
   ]
  },
  {
   "cell_type": "code",
   "execution_count": null,
   "id": "b5c5e6ff",
   "metadata": {},
   "outputs": [],
   "source": [
    "# read from a single Parquet file\n",
    "con.read_parquet('cities.parquet')"
   ]
  },
  {
   "cell_type": "code",
   "execution_count": null,
   "id": "b43d3010",
   "metadata": {},
   "outputs": [],
   "source": [
    "# directly read a Parquet file from within SQL\n",
    "con.sql(\"SELECT * FROM 'cities.parquet'\")"
   ]
  },
  {
   "cell_type": "code",
   "execution_count": null,
   "id": "5649416c",
   "metadata": {},
   "outputs": [],
   "source": [
    "# call read_parquet from within SQL\n",
    "con.sql(\"SELECT * FROM read_parquet('cities.parquet')\")"
   ]
  },
  {
   "cell_type": "markdown",
   "id": "e28af349",
   "metadata": {},
   "source": [
    "## GeoJSON Files"
   ]
  },
  {
   "cell_type": "code",
   "execution_count": null,
   "id": "0f1f6764",
   "metadata": {},
   "outputs": [],
   "source": [
    "con.sql('SELECT * FROM ST_Drivers()')"
   ]
  },
  {
   "cell_type": "code",
   "execution_count": null,
   "id": "d79a38a0",
   "metadata": {},
   "outputs": [],
   "source": [
    "con.sql(\"SELECT * FROM ST_Read('cities.geojson')\")"
   ]
  },
  {
   "cell_type": "code",
   "execution_count": null,
   "id": "0d7fa23e",
   "metadata": {},
   "outputs": [],
   "source": [
    "con.sql(\"FROM ST_Read('cities.geojson')\")"
   ]
  },
  {
   "cell_type": "code",
   "execution_count": null,
   "id": "25ce4a28",
   "metadata": {},
   "outputs": [],
   "source": [
    "con.sql(\"CREATE TABLE cities AS SELECT * FROM ST_Read('cities.geojson')\")"
   ]
  },
  {
   "cell_type": "code",
   "execution_count": null,
   "id": "455b7b9e",
   "metadata": {},
   "outputs": [],
   "source": [
    "con.table('cities')"
   ]
  },
  {
   "cell_type": "code",
   "execution_count": null,
   "id": "1182dab2",
   "metadata": {},
   "outputs": [],
   "source": [
    "con.sql(\"SELECT * FROM cities\")"
   ]
  },
  {
   "cell_type": "markdown",
   "id": "2a8e9c5f",
   "metadata": {},
   "source": [
    "## Shapefiles"
   ]
  },
  {
   "cell_type": "code",
   "execution_count": null,
   "id": "c95a12e3",
   "metadata": {},
   "outputs": [],
   "source": [
    "con.sql(\"SELECT * FROM ST_Read('cities.shp')\")"
   ]
  },
  {
   "cell_type": "code",
   "execution_count": null,
   "id": "427c8fb4",
   "metadata": {},
   "outputs": [],
   "source": [
    "con.sql(\"FROM ST_Read('cities.shp')\")"
   ]
  },
  {
   "cell_type": "code",
   "execution_count": null,
   "id": "a714bff0",
   "metadata": {},
   "outputs": [],
   "source": [
    "con.sql(\n",
    "    \"\"\"\n",
    "        CREATE TABLE IF NOT EXISTS cities2 AS \n",
    "        SELECT * FROM ST_Read('cities.shp')\n",
    "        \"\"\"\n",
    ")"
   ]
  },
  {
   "cell_type": "code",
   "execution_count": null,
   "id": "ecc7ae41",
   "metadata": {},
   "outputs": [],
   "source": [
    "con.table('cities2')"
   ]
  },
  {
   "cell_type": "code",
   "execution_count": null,
   "id": "3cae1334",
   "metadata": {},
   "outputs": [],
   "source": [
    "con.sql('SELECT * FROM cities2')"
   ]
  },
  {
   "cell_type": "markdown",
   "id": "8411b565",
   "metadata": {},
   "source": [
    "## GeoParquet Files"
   ]
  },
  {
   "cell_type": "code",
   "execution_count": null,
   "id": "7dcfb6e4",
   "metadata": {},
   "outputs": [],
   "source": [
    "con.sql(\"SELECT * FROM 'cities.parquet'\")"
   ]
  },
  {
   "cell_type": "code",
   "execution_count": null,
   "id": "f3640904",
   "metadata": {},
   "outputs": [],
   "source": [
    "con.sql(\n",
    "    \"\"\"\n",
    "CREATE TABLE IF NOT EXISTS cities3 AS\n",
    "SELECT * EXCLUDE geometry, ST_GeomFromWKB(geometry) \n",
    "AS geometry FROM 'cities.parquet'\n",
    "\"\"\"\n",
    ")"
   ]
  },
  {
   "cell_type": "code",
   "execution_count": null,
   "id": "faf531a1",
   "metadata": {},
   "outputs": [],
   "source": [
    "con.table('cities3')"
   ]
  },
  {
   "cell_type": "code",
   "execution_count": null,
   "id": "a981a135",
   "metadata": {},
   "outputs": [],
   "source": [
    "con.sql(\n",
    "    \"\"\"\n",
    "CREATE TABLE IF NOT EXISTS country AS\n",
    "SELECT * EXCLUDE geometry, ST_GeomFromWKB(geometry) FROM\n",
    "        's3://us-west-2.opendata.source.coop/google-research-open-buildings/v2/geoparquet-admin1/country=SSD/*.parquet'\n",
    "\"\"\"\n",
    ")"
   ]
  },
  {
   "cell_type": "code",
   "execution_count": null,
   "id": "41299db4",
   "metadata": {},
   "outputs": [],
   "source": [
    "con.table('country')"
   ]
  },
  {
   "cell_type": "code",
   "execution_count": null,
   "id": "e5e95d38",
   "metadata": {},
   "outputs": [],
   "source": [
    "con.sql('SELECT COUNT(*) FROM country')"
   ]
  },
  {
   "cell_type": "markdown",
   "id": "bec4493c",
   "metadata": {},
   "source": [
    "## References\n",
    "\n",
    "- [DuckDB Data Ingestion](https://duckdb.org/docs/api/python/data_ingestion)"
   ]
  }
 ],
 "metadata": {
  "jupytext": {
   "text_representation": {
    "extension": ".md",
    "format_name": "myst",
    "format_version": 0.13,
    "jupytext_version": "1.15.2"
   }
  },
  "kernelspec": {
   "display_name": "geo",
   "language": "python",
   "name": "python3"
  },
  "source_map": [
   12,
   31,
   33,
   37,
   41,
   47,
   51,
   56,
   59,
   63,
   66,
   72,
   77,
   82,
   87,
   92,
   95,
   101,
   106,
   111,
   114,
   120,
   125,
   127,
   133,
   138,
   143,
   146,
   150,
   154,
   158,
   162,
   166,
   170,
   172,
   176,
   180,
   184,
   193,
   197,
   199,
   203,
   207,
   217,
   221,
   231,
   235,
   237
  ]
 },
 "nbformat": 4,
 "nbformat_minor": 5
}