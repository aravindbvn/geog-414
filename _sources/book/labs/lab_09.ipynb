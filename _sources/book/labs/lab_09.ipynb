{
 "cells": [
  {
   "cell_type": "markdown",
   "id": "b08c0a05",
   "metadata": {},
   "source": [
    "# Lab 9\n",
    "\n",
    "In this lab, you will explore spatial data analysis using Python and DuckDB. You'll work with real-world datasets, ranging from global country statistics to specific building datasets. This will give you a practical understanding of handling, analyzing, and visualizing spatial data.\n",
    "\n",
    "**Submission requirements**\n",
    "\n",
    "1. **HTML Version:** Submit an HTML version of your notebook. Ensure all code outputs are visible. (Export via VS Code: Notebook > Export > HTML).\n",
    "2. **Colab Link:** Provide a link to your notebook hosted on Google Colab for interactive review.\n",
    "\n",
    "## Setup\n",
    "\n",
    "Ensure you have DuckDB and Leafmap installed. Run the following command if needed:"
   ]
  },
  {
   "cell_type": "code",
   "execution_count": null,
   "id": "6bc451ce",
   "metadata": {},
   "outputs": [],
   "source": [
    "# %pip install duckdb leafmap"
   ]
  },
  {
   "cell_type": "code",
   "execution_count": null,
   "id": "758316f3",
   "metadata": {},
   "outputs": [],
   "source": [
    "import duckdb\n",
    "import leafmap"
   ]
  },
  {
   "cell_type": "markdown",
   "id": "17d62639",
   "metadata": {},
   "source": [
    "## Question 1\n",
    "\n",
    "Connect to a duckdb database and install the `httpfs` and `spatial` extensions"
   ]
  },
  {
   "cell_type": "code",
   "execution_count": null,
   "id": "5107ea95",
   "metadata": {},
   "outputs": [],
   "source": [
    "# Add your code here"
   ]
  },
  {
   "cell_type": "markdown",
   "id": "ca6b8aba",
   "metadata": {},
   "source": [
    "## Question 2\n",
    "\n",
    "Download the [Admin 0 – Countries](https://www.naturalearthdata.com/downloads/10m-cultural-vectors/) vector dataset from Natural Earth using the `leafmap.download_file()` function."
   ]
  },
  {
   "cell_type": "code",
   "execution_count": null,
   "id": "5be44753",
   "metadata": {},
   "outputs": [],
   "source": [
    "# Add your code here"
   ]
  },
  {
   "cell_type": "markdown",
   "id": "4d3af928",
   "metadata": {},
   "source": [
    "## Question 3\n",
    "\n",
    "Create a new table in your database called `countries` and load the data from the downloaded country shapefile into it."
   ]
  },
  {
   "cell_type": "code",
   "execution_count": null,
   "id": "afcdd532",
   "metadata": {},
   "outputs": [],
   "source": [
    "# Add your code here"
   ]
  },
  {
   "cell_type": "markdown",
   "id": "af05ec3a",
   "metadata": {},
   "source": [
    "Calculate the total population of all countries in the database using the `POP_EST` column."
   ]
  },
  {
   "cell_type": "code",
   "execution_count": null,
   "id": "ba9958c6",
   "metadata": {},
   "outputs": [],
   "source": [
    "# Add your code here"
   ]
  },
  {
   "cell_type": "markdown",
   "id": "d589c1a7",
   "metadata": {},
   "source": [
    "Show the top 10 countries with the largest population."
   ]
  },
  {
   "cell_type": "code",
   "execution_count": null,
   "id": "41608649",
   "metadata": {},
   "outputs": [],
   "source": [
    "# Add your code here"
   ]
  },
  {
   "cell_type": "markdown",
   "id": "f751ac26",
   "metadata": {},
   "source": [
    "Select countries in Europe with a population greater than 10 million and order them by population in descending order."
   ]
  },
  {
   "cell_type": "code",
   "execution_count": null,
   "id": "2a7423e0",
   "metadata": {},
   "outputs": [],
   "source": [
    "# Add your code here"
   ]
  },
  {
   "cell_type": "markdown",
   "id": "7740f1b0",
   "metadata": {},
   "source": [
    "Save the results of the previous query as a new table called `europe`."
   ]
  },
  {
   "cell_type": "code",
   "execution_count": null,
   "id": "842cb27f",
   "metadata": {},
   "outputs": [],
   "source": [
    "# Add your code here"
   ]
  },
  {
   "cell_type": "markdown",
   "id": "e4d8c750",
   "metadata": {},
   "source": [
    "Export the `europe` table as a GeoJSON file."
   ]
  },
  {
   "cell_type": "code",
   "execution_count": null,
   "id": "7beaf633",
   "metadata": {},
   "outputs": [],
   "source": [
    "# Add your code here"
   ]
  },
  {
   "cell_type": "markdown",
   "id": "371446c7",
   "metadata": {},
   "source": [
    "## Question 4\n",
    "\n",
    "Create a table called `text_zones` and load the data from the [taxi_zones.parquet](https://beta.source.coop/cholmes/nyc-taxi-zones/taxi_zones.parquet) into it."
   ]
  },
  {
   "cell_type": "code",
   "execution_count": null,
   "id": "8039f687",
   "metadata": {},
   "outputs": [],
   "source": [
    "# Add your code here"
   ]
  },
  {
   "cell_type": "markdown",
   "id": "7c2aa656",
   "metadata": {},
   "source": [
    "Find out the unique values in the `borough` column and order them alphabetically."
   ]
  },
  {
   "cell_type": "code",
   "execution_count": null,
   "id": "b452dc9b",
   "metadata": {},
   "outputs": [],
   "source": [
    "# Add your code here"
   ]
  },
  {
   "cell_type": "markdown",
   "id": "e3979bd4",
   "metadata": {},
   "source": [
    "Export the `text_zones` table as a parquet file."
   ]
  },
  {
   "cell_type": "code",
   "execution_count": null,
   "id": "9c0e4890",
   "metadata": {},
   "outputs": [],
   "source": [
    "# Add your code here"
   ]
  },
  {
   "cell_type": "markdown",
   "id": "c12f6b3d",
   "metadata": {},
   "source": [
    "## Question 5\n",
    "\n",
    "Explore the [Google Open Buildings](https://beta.source.coop/cholmes/google-open-buildings/v2/geoparquet-admin1/) and select a country of your choice with relatively small number of buildings (i.e., small file size). Get the three character country code and replace `[COUNTRY_NAME]` in the following path with the country code. Use it to load all the parquet files for the selected country into a new table called `buildings`.\n",
    "\n",
    "`s3://us-west-2.opendata.source.coop/google-research-open-buildings/v2/geoparquet-admin1/country=[COUNTRY_NAME]/*.parquet`"
   ]
  },
  {
   "cell_type": "code",
   "execution_count": null,
   "id": "d75fea9d",
   "metadata": {},
   "outputs": [],
   "source": [
    "# Add your code here"
   ]
  },
  {
   "cell_type": "markdown",
   "id": "2922867a",
   "metadata": {},
   "source": [
    "Find out the number of buildings in the selected country."
   ]
  },
  {
   "cell_type": "code",
   "execution_count": null,
   "id": "ef8dfdd7",
   "metadata": {},
   "outputs": [],
   "source": [
    "# Add your code here"
   ]
  },
  {
   "cell_type": "markdown",
   "id": "9e215451",
   "metadata": {},
   "source": [
    "Find out the total area of all buildings in the selected country."
   ]
  },
  {
   "cell_type": "code",
   "execution_count": null,
   "id": "2cfd6f1c",
   "metadata": {},
   "outputs": [],
   "source": [
    "# Add your code here"
   ]
  },
  {
   "cell_type": "markdown",
   "id": "c35bac37",
   "metadata": {},
   "source": [
    "Export the `buildings` table as a GeoPackage file."
   ]
  },
  {
   "cell_type": "code",
   "execution_count": null,
   "id": "9af5e5c5",
   "metadata": {},
   "outputs": [],
   "source": [
    "# Add your code here"
   ]
  }
 ],
 "metadata": {
  "jupytext": {
   "text_representation": {
    "extension": ".md",
    "format_name": "myst",
    "format_version": 0.13,
    "jupytext_version": "1.15.2"
   }
  },
  "kernelspec": {
   "display_name": "Python 3",
   "language": "python",
   "name": "python3"
  },
  "source_map": [
   12,
   27,
   31,
   34,
   40,
   42,
   48,
   50,
   56,
   58,
   62,
   64,
   68,
   70,
   74,
   76,
   80,
   82,
   86,
   88,
   94,
   96,
   100,
   102,
   106,
   108,
   116,
   118,
   122,
   124,
   128,
   130,
   134
  ]
 },
 "nbformat": 4,
 "nbformat_minor": 5
}