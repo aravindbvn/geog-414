{
 "cells": [
  {
   "cell_type": "markdown",
   "id": "5ddd4c86",
   "metadata": {},
   "source": [
    "# Lab 10\n",
    "\n",
    "**Submission requirements**\n",
    "\n",
    "1. **HTML Version:** Submit an HTML version of your notebook. Ensure all code outputs are visible. (Export via VS Code: Notebook > Export > HTML).\n",
    "2. **Colab Link:** Provide a link to your notebook hosted on Google Colab for interactive review.\n",
    "\n",
    "## Setup\n",
    "\n",
    "Uncomment and run the following cell to install the required packages."
   ]
  },
  {
   "cell_type": "code",
   "execution_count": null,
   "id": "a5ca29dd",
   "metadata": {},
   "outputs": [],
   "source": [
    "# %pip install duckdb leafmap lonboard"
   ]
  },
  {
   "cell_type": "code",
   "execution_count": null,
   "id": "beb54155",
   "metadata": {},
   "outputs": [],
   "source": [
    "import duckdb\n",
    "import leafmap"
   ]
  },
  {
   "cell_type": "markdown",
   "id": "5ec2c91c",
   "metadata": {},
   "source": [
    "## Question 1\n",
    "\n",
    "Download the [nyc_data.zip](https://github.com/opengeos/data/raw/main/duckdb/nyc_data.zip) dataset using leafmap. The zip file contains the following datasets. Create a new DuckDB database and import the datasets into the database. Each dataset should be imported into a separate table. \n",
    "\n",
    "- nyc_census_blocks\n",
    "- nyc_homicides\n",
    "- nyc_neighborhoods\n",
    "- nyc_streets\n",
    "- nyc_subway_stations"
   ]
  },
  {
   "cell_type": "code",
   "execution_count": null,
   "id": "88cc764a",
   "metadata": {},
   "outputs": [],
   "source": [
    "# Add your code here"
   ]
  },
  {
   "cell_type": "markdown",
   "id": "47210dda",
   "metadata": {},
   "source": [
    "## Question 2"
   ]
  },
  {
   "cell_type": "markdown",
   "id": "c1185f70",
   "metadata": {},
   "source": [
    "Visualize the `nyc_subway_stations` and `nyc_streets` datasets on the same map using leafmap and lonboard."
   ]
  },
  {
   "cell_type": "code",
   "execution_count": null,
   "id": "17a7b970",
   "metadata": {},
   "outputs": [],
   "source": [
    "# Add your code here"
   ]
  },
  {
   "cell_type": "markdown",
   "id": "d4345985",
   "metadata": {},
   "source": [
    "## Question 3\n",
    "\n",
    "Find out what neighborhood the `BLUE` subway stations are in."
   ]
  },
  {
   "cell_type": "code",
   "execution_count": null,
   "id": "1cd2bef0",
   "metadata": {},
   "outputs": [],
   "source": [
    "# Add your code here"
   ]
  },
  {
   "cell_type": "markdown",
   "id": "3556587b",
   "metadata": {},
   "source": [
    "## Question 4\n",
    "\n",
    "Find out what streets are within 200 meters of the `BLUE` subway stations."
   ]
  },
  {
   "cell_type": "code",
   "execution_count": null,
   "id": "a631f8fc",
   "metadata": {},
   "outputs": [],
   "source": [
    "# Add your code here"
   ]
  },
  {
   "cell_type": "markdown",
   "id": "e6f5c3ac",
   "metadata": {},
   "source": [
    "## Question 5\n",
    "\n",
    "Visualize the `BLUE` subway stations and the streets within 200 meters of the `BLUE` subway stations on the same map using leafmap and lonboard."
   ]
  },
  {
   "cell_type": "code",
   "execution_count": null,
   "id": "8656c1b9",
   "metadata": {},
   "outputs": [],
   "source": [
    "# Add your code here"
   ]
  }
 ],
 "metadata": {
  "jupytext": {
   "text_representation": {
    "extension": ".md",
    "format_name": "myst",
    "format_version": 0.13,
    "jupytext_version": "1.15.2"
   }
  },
  "kernelspec": {
   "display_name": "Python 3",
   "language": "python",
   "name": "python3"
  },
  "source_map": [
   12,
   25,
   29,
   32,
   44,
   46,
   50,
   54,
   56,
   62,
   64,
   70,
   72,
   78
  ]
 },
 "nbformat": 4,
 "nbformat_minor": 5
}