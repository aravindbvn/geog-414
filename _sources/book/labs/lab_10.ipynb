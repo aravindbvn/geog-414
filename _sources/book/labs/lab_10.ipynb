{
 "cells": [
  {
   "cell_type": "markdown",
   "id": "f4acda39",
   "metadata": {},
   "source": [
    "# Lab 10\n",
    "\n",
    "**Submission requirements**\n",
    "\n",
    "1. **HTML Version:** Submit an HTML version of your notebook. Ensure all code outputs are visible. (Export via VS Code: Notebook > Export > HTML).\n",
    "2. **Colab Link:** Provide a link to your notebook hosted on Google Colab for interactive review.\n",
    "\n",
    "## Setup\n",
    "\n",
    "Uncomment and run the following cell to install the required packages."
   ]
  },
  {
   "cell_type": "code",
   "execution_count": null,
   "id": "dee0f795",
   "metadata": {},
   "outputs": [],
   "source": [
    "# %pip install duckdb leafmap lonboard"
   ]
  },
  {
   "cell_type": "code",
   "execution_count": null,
   "id": "54ed2e86",
   "metadata": {},
   "outputs": [],
   "source": [
    "import duckdb\n",
    "import leafmap"
   ]
  },
  {
   "cell_type": "markdown",
   "id": "489c24fe",
   "metadata": {},
   "source": [
    "## Question 1\n",
    "\n",
    "Download the [nyc_data.zip](https://github.com/opengeos/data/raw/main/duckdb/nyc_data.zip) dataset using leafmap. The zip file contains the following datasets. Create a new DuckDB database and import the datasets into the database. Each dataset should be imported into a separate table. \n",
    "\n",
    "- nyc_census_blocks\n",
    "- nyc_homicides\n",
    "- nyc_neighborhoods\n",
    "- nyc_streets\n",
    "- nyc_subway_stations"
   ]
  },
  {
   "cell_type": "code",
   "execution_count": null,
   "id": "3e747e49",
   "metadata": {},
   "outputs": [],
   "source": [
    "# Add your code here"
   ]
  },
  {
   "cell_type": "markdown",
   "id": "df8b40d9",
   "metadata": {},
   "source": [
    "## Question 2"
   ]
  },
  {
   "cell_type": "markdown",
   "id": "af3b634f",
   "metadata": {},
   "source": [
    "Visualize the `nyc_subway_stations` and `nyc_streets` datasets on the same map using leafmap and lonboard."
   ]
  },
  {
   "cell_type": "code",
   "execution_count": null,
   "id": "5637ad79",
   "metadata": {},
   "outputs": [],
   "source": [
    "# Add your code here"
   ]
  },
  {
   "cell_type": "markdown",
   "id": "06ef05f1",
   "metadata": {},
   "source": [
    "## Question 3\n",
    "\n",
    "Find out what neighborhood the `BLUE` subway stations are in."
   ]
  },
  {
   "cell_type": "code",
   "execution_count": null,
   "id": "c24f3aba",
   "metadata": {},
   "outputs": [],
   "source": [
    "# Add your code here"
   ]
  },
  {
   "cell_type": "markdown",
   "id": "a0fd1e3f",
   "metadata": {},
   "source": [
    "## Question 4\n",
    "\n",
    "Find out what streets are within 200 meters of the `BLUE` subway stations."
   ]
  },
  {
   "cell_type": "code",
   "execution_count": null,
   "id": "8b94da18",
   "metadata": {},
   "outputs": [],
   "source": [
    "# Add your code here"
   ]
  },
  {
   "cell_type": "markdown",
   "id": "d66e4b63",
   "metadata": {},
   "source": [
    "## Question 5\n",
    "\n",
    "Visualize the `BLUE` subway stations and the streets within 200 meters of the `BLUE` subway stations on the same map using leafmap and lonboard."
   ]
  },
  {
   "cell_type": "code",
   "execution_count": null,
   "id": "6f998fae",
   "metadata": {},
   "outputs": [],
   "source": [
    "# Add your code here"
   ]
  }
 ],
 "metadata": {
  "jupytext": {
   "text_representation": {
    "extension": ".md",
    "format_name": "myst",
    "format_version": 0.13,
    "jupytext_version": "1.15.2"
   }
  },
  "kernelspec": {
   "display_name": "Python 3",
   "language": "python",
   "name": "python3"
  },
  "source_map": [
   12,
   25,
   29,
   32,
   44,
   46,
   50,
   54,
   56,
   62,
   64,
   70,
   72,
   78
  ]
 },
 "nbformat": 4,
 "nbformat_minor": 5
}