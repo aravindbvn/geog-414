{
 "cells": [
  {
   "cell_type": "markdown",
   "id": "4e8b38ea",
   "metadata": {},
   "source": [
    "# Lab 7\n",
    "\n",
    "**Submission instructions**\n",
    "\n",
    "Submit the Colab link to your notebook in Canvas. In addition, take screenshots of the map for each question and submit them to Canvas as well."
   ]
  },
  {
   "cell_type": "code",
   "execution_count": null,
   "id": "042b2686",
   "metadata": {},
   "outputs": [],
   "source": [
    "import ee\n",
    "import geemap"
   ]
  },
  {
   "cell_type": "code",
   "execution_count": null,
   "id": "678b72ff",
   "metadata": {},
   "outputs": [],
   "source": [
    "geemap.ee_initialize()"
   ]
  },
  {
   "cell_type": "markdown",
   "id": "fc8975aa",
   "metadata": {},
   "source": [
    "## Datasets\n",
    "\n",
    "The datasets being used in the lab are listed below:\n",
    "\n",
    "- [TIGER: US Census Counties](https://developers.google.com/earth-engine/datasets/catalog/TIGER_2018_Counties)\n",
    "- [Landsat-9](https://developers.google.com/earth-engine/datasets/catalog/LANDSAT_LC09_C02_T1_L2)\n",
    "- [Sentinel-2](https://developers.google.com/earth-engine/datasets/catalog/COPERNICUS_S2_SR)\n",
    "- [NAIP](https://developers.google.com/earth-engine/datasets/catalog/USDA_NAIP_DOQQ)"
   ]
  },
  {
   "cell_type": "markdown",
   "id": "4af309b8",
   "metadata": {},
   "source": [
    "## Question 1\n",
    "\n",
    "Create a fishnet with a 4-degree interval based on the extent of `[-112.5439, 34.0891, -85.0342, 49.6858]`. Use the fishnet to download the Landsat 7 image tiles by the fishnet using the `geemap.download_ee_image_tiles()` function. Relevant Earth Engine assets:\n",
    "\n",
    "-   `ee.Image('LANDSAT/LE7_TOA_5YEAR/1999_2003')`\n",
    "\n",
    "![](https://i.imgur.com/L1IH3fq.png)"
   ]
  },
  {
   "cell_type": "code",
   "execution_count": null,
   "id": "0ba21aff",
   "metadata": {},
   "outputs": [],
   "source": [
    "# Add your code here."
   ]
  },
  {
   "cell_type": "markdown",
   "id": "2545f114",
   "metadata": {},
   "source": [
    "## Question 2\n",
    "\n",
    "Create annual cloud-free Landsat imagery for the years 2017-2023 for a US county of your choice. Download the images to your computer. \n",
    "\n",
    "![](https://i.imgur.com/MN2UXHx.png)"
   ]
  },
  {
   "cell_type": "code",
   "execution_count": null,
   "id": "3b16ba01",
   "metadata": {},
   "outputs": [],
   "source": [
    "# Add your code here."
   ]
  },
  {
   "cell_type": "markdown",
   "id": "c8b178a8",
   "metadata": {},
   "source": [
    "## Question 3\n",
    "\n",
    "Create annual cloud-free Sentinel-2 imagery for the years 2017-2023 for a US county of your choice. Download the images to your computer. You can download a coarse resolution image to speed up the download process. Narrow down the date range (e.g., summer months) to reduce the number of images, which can avoid memory errors.\n",
    "\n",
    "![](https://i.imgur.com/r5RQlEJ.png)"
   ]
  },
  {
   "cell_type": "code",
   "execution_count": null,
   "id": "5ea2ab5d",
   "metadata": {},
   "outputs": [],
   "source": [
    "# Add your code here."
   ]
  },
  {
   "cell_type": "markdown",
   "id": "144bcb0e",
   "metadata": {},
   "source": [
    "## Question 4\n",
    "\n",
    "Create annual cloud-free NAIP imagery for the years 2010-2023 for a US county of your choice. Download the images to your computer. You can download a coarse resolution image to speed up the download process. \n",
    "\n",
    "![](https://i.imgur.com/h66FC8h.png)"
   ]
  },
  {
   "cell_type": "code",
   "execution_count": null,
   "id": "8a60eba9",
   "metadata": {},
   "outputs": [],
   "source": [
    "# Add your code here."
   ]
  },
  {
   "cell_type": "markdown",
   "id": "be30ec74",
   "metadata": {},
   "source": [
    "## Question 5\n",
    "\n",
    "Download a US county of your choice and save it as a shapefile or GeoJSON file. \n",
    "\n",
    "![](https://i.imgur.com/PuK2Vp3.png)"
   ]
  },
  {
   "cell_type": "code",
   "execution_count": null,
   "id": "05e50602",
   "metadata": {},
   "outputs": [],
   "source": [
    "# Add your code here."
   ]
  }
 ],
 "metadata": {
  "jupytext": {
   "text_representation": {
    "extension": ".md",
    "format_name": "myst",
    "format_version": 0.13,
    "jupytext_version": "1.15.2"
   }
  },
  "kernelspec": {
   "display_name": "Python 3",
   "language": "python",
   "name": "python3"
  },
  "source_map": [
   12,
   20,
   25,
   27,
   38,
   48,
   50,
   58,
   60,
   68,
   70,
   78,
   80,
   88
  ]
 },
 "nbformat": 4,
 "nbformat_minor": 5
}