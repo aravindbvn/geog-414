{
 "cells": [
  {
   "cell_type": "markdown",
   "id": "9b4bed71",
   "metadata": {},
   "source": [
    "# Lab 8\n",
    "\n",
    "**Submission requirements**\n",
    "\n",
    "1. An HTML version of your notebook (VS Code > Notebook > Export > HTML). The HTML file must show the output of your code.\n",
    "2. A link to your notebook on Colab.\n",
    "\n",
    "**Datasets**:\n",
    "\n",
    "The following datasets are used in this lab. You don't need to download them manually, they can be accessed directly from the notebook.\n",
    "\n",
    "- [nyc_subway_stations.tsv](https://open.gishub.org/data/duckdb/nyc_subway_stations.tsv)\n",
    "- [nyc_neighborhoods.tsv](https://open.gishub.org/data/duckdb/nyc_neighborhoods.tsv)"
   ]
  },
  {
   "cell_type": "code",
   "execution_count": null,
   "id": "63ecdc3f",
   "metadata": {},
   "outputs": [],
   "source": [
    "# %pip install duckdb duckdb-engine jupysql"
   ]
  },
  {
   "cell_type": "code",
   "execution_count": null,
   "id": "01d0b2d5",
   "metadata": {},
   "outputs": [],
   "source": [
    "import duckdb\n",
    "\n",
    "%load_ext sql"
   ]
  },
  {
   "cell_type": "code",
   "execution_count": null,
   "id": "eacf2d76",
   "metadata": {},
   "outputs": [],
   "source": [
    "%config SqlMagic.autopandas = True\n",
    "%config SqlMagic.feedback = False\n",
    "%config SqlMagic.displaycon = False"
   ]
  },
  {
   "cell_type": "markdown",
   "id": "e15f7913",
   "metadata": {},
   "source": [
    "## Question 1: Creating Tables\n",
    "\n",
    "Create a database, then write a SQL query to create a table named `nyc_subway_stations` and load the data from the file `nyc_subway_stations.tsv` into it. Similarly, create a table named `nyc_neighborhoods` and load the data from the file `nyc_neighborhoods.tsv` into it."
   ]
  },
  {
   "cell_type": "code",
   "execution_count": null,
   "id": "570ddcde",
   "metadata": {},
   "outputs": [],
   "source": [
    "# Add your code here."
   ]
  },
  {
   "cell_type": "markdown",
   "id": "d1402cc0",
   "metadata": {},
   "source": [
    "## Question 2: Column Filtering\n",
    "\n",
    "Write a SQL query to display the `ID`, `NAME`, and `BOROUGH` of each subway station in the `nyc_subway_stations` dataset."
   ]
  },
  {
   "cell_type": "code",
   "execution_count": null,
   "id": "ead36862",
   "metadata": {},
   "outputs": [],
   "source": [
    "# Add your code here."
   ]
  },
  {
   "cell_type": "markdown",
   "id": "0e4775cb",
   "metadata": {},
   "source": [
    "## Question 3: Row Filtering\n",
    "\n",
    "Write a SQL query to find all subway stations in the `nyc_subway_stations` dataset that are located in the borough of Manhattan."
   ]
  },
  {
   "cell_type": "code",
   "execution_count": null,
   "id": "482d1e4d",
   "metadata": {},
   "outputs": [],
   "source": [
    "# Add your code here."
   ]
  },
  {
   "cell_type": "markdown",
   "id": "86804fa4",
   "metadata": {},
   "source": [
    "## Question 4: Sorting Results\n",
    "\n",
    "Write a SQL query to list the subway stations in the `nyc_subway_stations` dataset in alphabetical order by their names."
   ]
  },
  {
   "cell_type": "code",
   "execution_count": null,
   "id": "641ec3b0",
   "metadata": {},
   "outputs": [],
   "source": [
    "# Add your code here."
   ]
  },
  {
   "cell_type": "markdown",
   "id": "d0c901e2",
   "metadata": {},
   "source": [
    "## Question 5: Unique Values\n",
    "\n",
    "Write a SQL query to find the distinct boroughs represented in the `nyc_subway_stations` dataset."
   ]
  },
  {
   "cell_type": "code",
   "execution_count": null,
   "id": "5dc455ee",
   "metadata": {},
   "outputs": [],
   "source": [
    "# Add your code here."
   ]
  },
  {
   "cell_type": "markdown",
   "id": "811e4c3c",
   "metadata": {},
   "source": [
    "## Question 6: Counting Rows\n",
    "\n",
    "Write a SQL query to count the number of subway stations in each borough in the `nyc_subway_stations` dataset."
   ]
  },
  {
   "cell_type": "code",
   "execution_count": null,
   "id": "49ad9515",
   "metadata": {},
   "outputs": [],
   "source": [
    "# Add your code here."
   ]
  },
  {
   "cell_type": "markdown",
   "id": "8ce3459c",
   "metadata": {},
   "source": [
    "## Question 7: Aggregating Data\n",
    "\n",
    "Write a SQL query to list the number of subway stations in each borough, sorted in descending order by the count."
   ]
  },
  {
   "cell_type": "code",
   "execution_count": null,
   "id": "df707a70",
   "metadata": {},
   "outputs": [],
   "source": [
    "# Add your code here."
   ]
  },
  {
   "cell_type": "markdown",
   "id": "2792a0af",
   "metadata": {},
   "source": [
    "## Question 8: Joining Tables\n",
    "\n",
    "Write a SQL query to join the `nyc_subway_stations` and `nyc_neighborhoods` datasets on the borough name, displaying the subway station name and the neighborhood name."
   ]
  },
  {
   "cell_type": "code",
   "execution_count": null,
   "id": "b2e62a2d",
   "metadata": {},
   "outputs": [],
   "source": [
    "# Add your code here."
   ]
  },
  {
   "cell_type": "markdown",
   "id": "93c782b3",
   "metadata": {},
   "source": [
    "## Question 9: String Manipulation\n",
    "\n",
    "Write a SQL query to display the names of subway stations in the `nyc_subway_stations` dataset that contain the word \"St\" in their names."
   ]
  },
  {
   "cell_type": "code",
   "execution_count": null,
   "id": "906f6f45",
   "metadata": {},
   "outputs": [],
   "source": [
    "# Add your code here."
   ]
  },
  {
   "cell_type": "markdown",
   "id": "fa5113f0",
   "metadata": {},
   "source": [
    "## Question 10: Filtering with Multiple Conditions\n",
    "\n",
    "Write a SQL query to find all subway stations in the `nyc_subway_stations` dataset that are in the borough of Brooklyn and have routes that include the letter \"R\"."
   ]
  },
  {
   "cell_type": "code",
   "execution_count": null,
   "id": "04e8d6f6",
   "metadata": {},
   "outputs": [],
   "source": [
    "# Add your code here."
   ]
  }
 ],
 "metadata": {
  "jupytext": {
   "text_representation": {
    "extension": ".md",
    "format_name": "myst",
    "format_version": 0.13,
    "jupytext_version": "1.15.2"
   }
  },
  "kernelspec": {
   "display_name": "Python 3",
   "language": "python",
   "name": "python3"
  },
  "source_map": [
   12,
   28,
   32,
   38,
   42,
   48,
   50,
   56,
   58,
   64,
   66,
   72,
   74,
   80,
   82,
   88,
   90,
   96,
   98,
   104,
   106,
   112,
   114,
   120
  ]
 },
 "nbformat": 4,
 "nbformat_minor": 5
}