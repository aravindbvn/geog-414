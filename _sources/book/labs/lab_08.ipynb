{
 "cells": [
  {
   "cell_type": "markdown",
   "id": "b4b0517d",
   "metadata": {},
   "source": [
    "# Lab 8\n",
    "\n",
    "**Firstname Lastname**\n",
    "\n",
    "**Submission requirements**\n",
    "\n",
    "1. An HTML version of your notebook (VS Code > Notebook > Export > HTML). The HTML file must show the output of your code.\n",
    "2. A link to your notebook on Colab.\n",
    "\n",
    "**Datasets**:\n",
    "\n",
    "The following datasets are used in this lab. You don't need to download them manually, they can be accessed directly from the notebook.\n",
    "\n",
    "- [nyc_subway_stations.tsv](https://open.gishub.org/data/duckdb/nyc_subway_stations.tsv)\n",
    "- [nyc_neighborhoods.tsv](https://open.gishub.org/data/duckdb/nyc_neighborhoods.tsv)"
   ]
  },
  {
   "cell_type": "code",
   "execution_count": null,
   "id": "68deca3a",
   "metadata": {},
   "outputs": [],
   "source": [
    "# %pip install duckdb duckdb-engine jupysql"
   ]
  },
  {
   "cell_type": "code",
   "execution_count": null,
   "id": "eaffb153",
   "metadata": {},
   "outputs": [],
   "source": [
    "import duckdb\n",
    "\n",
    "%load_ext sql"
   ]
  },
  {
   "cell_type": "code",
   "execution_count": null,
   "id": "baa75c31",
   "metadata": {},
   "outputs": [],
   "source": [
    "%config SqlMagic.autopandas = True\n",
    "%config SqlMagic.feedback = False\n",
    "%config SqlMagic.displaycon = False"
   ]
  },
  {
   "cell_type": "markdown",
   "id": "757c6e1c",
   "metadata": {},
   "source": [
    "## Question 1: Creating Tables\n",
    "\n",
    "Create a database, then write a SQL query to create a table named `nyc_subway_stations` and load the data from the file `nyc_subway_stations.tsv` into it. Similarly, create a table named `nyc_neighborhoods` and load the data from the file `nyc_neighborhoods.tsv` into it."
   ]
  },
  {
   "cell_type": "code",
   "execution_count": null,
   "id": "cd7c1471",
   "metadata": {},
   "outputs": [],
   "source": [
    "# Add your code here."
   ]
  },
  {
   "cell_type": "markdown",
   "id": "5bce608c",
   "metadata": {},
   "source": [
    "## Question 2: Column Filtering\n",
    "\n",
    "Write a SQL query to display the `ID`, `NAME`, and `BOROUGH` of each subway station in the `nyc_subway_stations` dataset."
   ]
  },
  {
   "cell_type": "code",
   "execution_count": null,
   "id": "c21837f8",
   "metadata": {},
   "outputs": [],
   "source": [
    "# Add your code here."
   ]
  },
  {
   "cell_type": "markdown",
   "id": "4bd08317",
   "metadata": {},
   "source": [
    "## Question 3: Row Filtering\n",
    "\n",
    "Write a SQL query to find all subway stations in the `nyc_subway_stations` dataset that are located in the borough of Manhattan."
   ]
  },
  {
   "cell_type": "code",
   "execution_count": null,
   "id": "e5c8eac3",
   "metadata": {},
   "outputs": [],
   "source": [
    "# Add your code here."
   ]
  },
  {
   "cell_type": "markdown",
   "id": "81e672b9",
   "metadata": {},
   "source": [
    "## Question 4: Sorting Results\n",
    "\n",
    "Write a SQL query to list the subway stations in the `nyc_subway_stations` dataset in alphabetical order by their names."
   ]
  },
  {
   "cell_type": "code",
   "execution_count": null,
   "id": "e728349a",
   "metadata": {},
   "outputs": [],
   "source": [
    "# Add your code here."
   ]
  },
  {
   "cell_type": "markdown",
   "id": "fac0e14c",
   "metadata": {},
   "source": [
    "## Question 5: Unique Values\n",
    "\n",
    "Write a SQL query to find the distinct boroughs represented in the `nyc_subway_stations` dataset."
   ]
  },
  {
   "cell_type": "code",
   "execution_count": null,
   "id": "c29118f3",
   "metadata": {},
   "outputs": [],
   "source": [
    "# Add your code here."
   ]
  },
  {
   "cell_type": "markdown",
   "id": "5a776d88",
   "metadata": {},
   "source": [
    "## Question 6: Counting Rows\n",
    "\n",
    "Write a SQL query to count the number of subway stations in each borough in the `nyc_subway_stations` dataset."
   ]
  },
  {
   "cell_type": "code",
   "execution_count": null,
   "id": "2bf52f02",
   "metadata": {},
   "outputs": [],
   "source": [
    "# Add your code here."
   ]
  },
  {
   "cell_type": "markdown",
   "id": "1cf1b499",
   "metadata": {},
   "source": [
    "## Question 7: Aggregating Data\n",
    "\n",
    "Write a SQL query to list the number of subway stations in each borough, sorted in descending order by the count."
   ]
  },
  {
   "cell_type": "code",
   "execution_count": null,
   "id": "463809d9",
   "metadata": {},
   "outputs": [],
   "source": [
    "# Add your code here."
   ]
  },
  {
   "cell_type": "markdown",
   "id": "5f06c4ae",
   "metadata": {},
   "source": [
    "## Question 8: Joining Tables\n",
    "\n",
    "Write a SQL query to join the `nyc_subway_stations` and `nyc_neighborhoods` datasets on the borough name, displaying the subway station name and the neighborhood name."
   ]
  },
  {
   "cell_type": "code",
   "execution_count": null,
   "id": "17519ab8",
   "metadata": {},
   "outputs": [],
   "source": [
    "# Add your code here."
   ]
  },
  {
   "cell_type": "markdown",
   "id": "dba58aa9",
   "metadata": {},
   "source": [
    "## Question 9: String Manipulation\n",
    "\n",
    "Write a SQL query to display the names of subway stations in the `nyc_subway_stations` dataset that contain the word \"St\" in their names."
   ]
  },
  {
   "cell_type": "code",
   "execution_count": null,
   "id": "555ca62d",
   "metadata": {},
   "outputs": [],
   "source": [
    "# Add your code here."
   ]
  },
  {
   "cell_type": "markdown",
   "id": "bacf38ec",
   "metadata": {},
   "source": [
    "## Question 10: Filtering with Multiple Conditions\n",
    "\n",
    "Write a SQL query to find all subway stations in the `nyc_subway_stations` dataset that are in the borough of Brooklyn and have routes that include the letter \"R\"."
   ]
  },
  {
   "cell_type": "code",
   "execution_count": null,
   "id": "d35b4848",
   "metadata": {},
   "outputs": [],
   "source": [
    "# Add your code here."
   ]
  }
 ],
 "metadata": {
  "jupytext": {
   "text_representation": {
    "extension": ".md",
    "format_name": "myst",
    "format_version": 0.13,
    "jupytext_version": "1.15.2"
   }
  },
  "kernelspec": {
   "display_name": "Python 3",
   "language": "python",
   "name": "python3"
  },
  "source_map": [
   12,
   30,
   34,
   40,
   44,
   50,
   52,
   58,
   60,
   66,
   68,
   74,
   76,
   82,
   84,
   90,
   92,
   98,
   100,
   106,
   108,
   114,
   116,
   122
  ]
 },
 "nbformat": 4,
 "nbformat_minor": 5
}