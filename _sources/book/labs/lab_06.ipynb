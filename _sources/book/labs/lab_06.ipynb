{
 "cells": [
  {
   "cell_type": "markdown",
   "id": "0bd70b99",
   "metadata": {},
   "source": [
    "# Lab 6\n",
    "\n",
    "**Firstname Lastname**\n",
    "\n",
    "**Submission instructions**\n",
    "\n",
    "Submit the Colab link to your notebook in Canvas. In addition, take screenshots of the map for each question and submit them to Canvas as well."
   ]
  },
  {
   "cell_type": "code",
   "execution_count": null,
   "id": "8cc2539d",
   "metadata": {},
   "outputs": [],
   "source": [
    "import ee\n",
    "import geemap"
   ]
  },
  {
   "cell_type": "code",
   "execution_count": null,
   "id": "0a0a5fc4",
   "metadata": {},
   "outputs": [],
   "source": [
    "geemap.ee_initialize()"
   ]
  },
  {
   "cell_type": "markdown",
   "id": "989eca5b",
   "metadata": {},
   "source": [
    "## Question 1\n",
    "\n",
    "Create a map to visualize [NOAA GFS Temperature Data](https://developers.google.com/earth-engine/datasets/catalog/NOAA_GFS0P25) and add a color bar and [NOAA logo](https://i.imgur.com/spILFEi.png) to the map."
   ]
  },
  {
   "cell_type": "code",
   "execution_count": null,
   "id": "7df4a6f6",
   "metadata": {},
   "outputs": [],
   "source": [
    "# Add your code here."
   ]
  },
  {
   "cell_type": "markdown",
   "id": "b8e30447",
   "metadata": {},
   "source": [
    "![](https://i.imgur.com/bBoRswR.png)"
   ]
  },
  {
   "cell_type": "markdown",
   "id": "5cf49c22",
   "metadata": {},
   "source": [
    "## Question 2\n",
    "\n",
    "**Linked Maps:** Create a 2*2 linked map to visualize the Landsat imagery (`ee.Image('LANDSAT/LE7_TOA_5YEAR/1999_2003')`) with different band combinations."
   ]
  },
  {
   "cell_type": "code",
   "execution_count": null,
   "id": "70f5cf59",
   "metadata": {},
   "outputs": [],
   "source": [
    "# Add your code here."
   ]
  },
  {
   "cell_type": "markdown",
   "id": "88fad550",
   "metadata": {},
   "source": [
    "![](https://i.imgur.com/Xp15uOo.png)"
   ]
  },
  {
   "cell_type": "markdown",
   "id": "ff614228",
   "metadata": {},
   "source": [
    "## Question 3\n",
    "\n",
    "**Timeseries Inspector:** Create a map with timeseries inspector to visualize [USDA NASS Cropland Data Layers](https://developers.google.com/earth-engine/datasets/catalog/USDA_NASS_CDL) from 2010 to 2022. Add your name and [USDA logo](https://i.imgur.com/tzH2dNr.png) to the map."
   ]
  },
  {
   "cell_type": "code",
   "execution_count": null,
   "id": "8d2fb1e5",
   "metadata": {},
   "outputs": [],
   "source": [
    "# Add your code here."
   ]
  },
  {
   "cell_type": "markdown",
   "id": "e167ab82",
   "metadata": {},
   "source": [
    "![](https://i.imgur.com/gW1XPhL.png)"
   ]
  },
  {
   "cell_type": "markdown",
   "id": "f0b1d97d",
   "metadata": {},
   "source": [
    "## Question 4\n",
    "\n",
    "**Time slider:** Create a map with the time slider to visualize [Sentinel-2](https://developers.google.com/earth-engine/datasets/catalog/COPERNICUS_S2_SR) for Knoxville, TN."
   ]
  },
  {
   "cell_type": "code",
   "execution_count": null,
   "id": "a0ad0f55",
   "metadata": {},
   "outputs": [],
   "source": [
    "# Add your code here."
   ]
  },
  {
   "cell_type": "markdown",
   "id": "cc45ea77",
   "metadata": {},
   "source": [
    "![](https://i.imgur.com/rJe2rvP.png)"
   ]
  },
  {
   "cell_type": "markdown",
   "id": "daf62dfd",
   "metadata": {},
   "source": [
    "## Question 5\n",
    "\n",
    "**Split-panel Map:** Use the following datasets to create a split-panel map for visualizing the ESA land cover data in the US. Add the ESA land cover legend to the map (Hint: the built-in legend for ESA land cover is `ESA_WorldCover`).\n",
    "\n",
    "- [US Census States](https://developers.google.com/earth-engine/datasets/catalog/TIGER_2018_States): `ee.FeatureCollection(\"TIGER/2018/States\")`\n",
    "- [ESA WorldCover 10m](https://developers.google.com/earth-engine/datasets/catalog/ESA_WorldCover_v100): `ee.ImageCollection(\"ESA/WorldCover/v100\")`\n",
    "- Landsat: `LANDSAT/LE7_TOA_5YEAR/1999_2003`"
   ]
  },
  {
   "cell_type": "markdown",
   "id": "336a50a5",
   "metadata": {},
   "source": [
    "Currently, the split-map control of ipyleaflet plotting backend has a bug ([source](https://github.com/jupyter-widgets/ipyleaflet/issues/1066)). Use the folium plotting backend instead."
   ]
  },
  {
   "cell_type": "code",
   "execution_count": null,
   "id": "9d084d85",
   "metadata": {},
   "outputs": [],
   "source": [
    "# Add your code here."
   ]
  },
  {
   "cell_type": "markdown",
   "id": "4f3b4f9e",
   "metadata": {},
   "source": [
    "![](https://i.imgur.com/y0GW6k8.png)"
   ]
  }
 ],
 "metadata": {
  "jupytext": {
   "text_representation": {
    "extension": ".md",
    "format_name": "myst",
    "format_version": 0.13,
    "jupytext_version": "1.15.0"
   }
  },
  "kernelspec": {
   "display_name": "Python 3",
   "language": "python",
   "name": "python3"
  },
  "source_map": [
   12,
   22,
   27,
   29,
   35,
   37,
   41,
   47,
   49,
   53,
   59,
   61,
   65,
   71,
   73,
   77,
   87,
   91,
   93
  ]
 },
 "nbformat": 4,
 "nbformat_minor": 5
}