{
 "cells": [
  {
   "cell_type": "markdown",
   "id": "495b2e9c",
   "metadata": {},
   "source": [
    "# Lab 4\n",
    "\n",
    "**Submission instructions**\n",
    "\n",
    "Submit the Colab link to your notebook in Canvas. In addition, take screenshots of the map for each question and submit them to Canvas as well."
   ]
  },
  {
   "cell_type": "code",
   "execution_count": null,
   "id": "a20fa189",
   "metadata": {},
   "outputs": [],
   "source": [
    "import ee\n",
    "import geemap"
   ]
  },
  {
   "cell_type": "code",
   "execution_count": null,
   "id": "6d64c68e",
   "metadata": {},
   "outputs": [],
   "source": [
    "geemap.ee_initialize()"
   ]
  },
  {
   "cell_type": "markdown",
   "id": "0c74257f",
   "metadata": {},
   "source": [
    "## Datasets\n",
    "\n",
    "The datasets being used in the lab are listed below:\n",
    "\n",
    "- [TIGER: US Census Counties](https://developers.google.com/earth-engine/datasets/catalog/TIGER_2018_Counties)\n",
    "- [Landsat-9](https://developers.google.com/earth-engine/datasets/catalog/LANDSAT_LC09_C02_T1_L2)\n",
    "- [Sentinel-2](https://developers.google.com/earth-engine/datasets/catalog/COPERNICUS_S2_SR)\n",
    "- [NAIP](https://developers.google.com/earth-engine/datasets/catalog/USDA_NAIP_DOQQ)"
   ]
  },
  {
   "cell_type": "markdown",
   "id": "d51a7f12",
   "metadata": {},
   "source": [
    "## Question 1\n",
    "\n",
    "Write a program to find out how many counties are named `Knox` in the US."
   ]
  },
  {
   "cell_type": "code",
   "execution_count": null,
   "id": "be988f28",
   "metadata": {},
   "outputs": [],
   "source": [
    "# Add your code here"
   ]
  },
  {
   "cell_type": "markdown",
   "id": "ca1d4438",
   "metadata": {},
   "source": [
    "![](https://i.imgur.com/3Jg9P6X.png)"
   ]
  },
  {
   "cell_type": "markdown",
   "id": "88867583",
   "metadata": {},
   "source": [
    "## Question 2\n",
    "\n",
    "Display Knox county of Tennesse with outline only (no fill color) on the map. (Hint: The `STATEFP` of Tennessee is `47`)"
   ]
  },
  {
   "cell_type": "code",
   "execution_count": null,
   "id": "f4ef00af",
   "metadata": {},
   "outputs": [],
   "source": [
    "# Add your code here"
   ]
  },
  {
   "cell_type": "markdown",
   "id": "14797b21",
   "metadata": {},
   "source": [
    "![](https://i.imgur.com/28Iaw9b.png)"
   ]
  },
  {
   "cell_type": "markdown",
   "id": "cc657f1f",
   "metadata": {},
   "source": [
    "## Question 3\n",
    "\n",
    "Use [Landsat-9](https://developers.google.com/earth-engine/datasets/catalog/LANDSAT_LC09_C02_T1_L2) data to create a cloud-free imagery for Knox County, TN. Display the imagery on the map with a proper band combination."
   ]
  },
  {
   "cell_type": "code",
   "execution_count": null,
   "id": "a11a24c2",
   "metadata": {},
   "outputs": [],
   "source": [
    "# Add your code here"
   ]
  },
  {
   "cell_type": "markdown",
   "id": "d6df9df1",
   "metadata": {},
   "source": [
    "![](https://i.imgur.com/m72amN0.png)"
   ]
  },
  {
   "cell_type": "markdown",
   "id": "2fef3099",
   "metadata": {},
   "source": [
    "## Question 4\n",
    "\n",
    "Use [Sentinel-2](https://developers.google.com/earth-engine/datasets/catalog/COPERNICUS_S2_SR) data to create a cloud-free imagery for Knox County, TN. Display the imagery on the map with a proper band combination."
   ]
  },
  {
   "cell_type": "code",
   "execution_count": null,
   "id": "d8768f88",
   "metadata": {},
   "outputs": [],
   "source": [
    "# Add your code here"
   ]
  },
  {
   "cell_type": "markdown",
   "id": "44a75757",
   "metadata": {},
   "source": [
    "![](https://i.imgur.com/vM1M8Gc.png)"
   ]
  },
  {
   "cell_type": "markdown",
   "id": "5a2e89fd",
   "metadata": {},
   "source": [
    "## Question 5\n",
    "\n",
    "Use [NAIP](https://developers.google.com/earth-engine/datasets/catalog/USDA_NAIP_DOQQ) imagery to create a cloud-free imagery for Knox County, TN. Display the imagery on the map with a proper band combination."
   ]
  },
  {
   "cell_type": "code",
   "execution_count": null,
   "id": "b2a4cb86",
   "metadata": {},
   "outputs": [],
   "source": [
    "# Add your code here"
   ]
  },
  {
   "cell_type": "markdown",
   "id": "0336b3b1",
   "metadata": {},
   "source": [
    "![](https://i.imgur.com/iZSGqGS.png)"
   ]
  }
 ],
 "metadata": {
  "jupytext": {
   "text_representation": {
    "extension": ".md",
    "format_name": "myst",
    "format_version": 0.13,
    "jupytext_version": "1.15.0"
   }
  },
  "kernelspec": {
   "display_name": "Python 3",
   "language": "python",
   "name": "python3"
  },
  "source_map": [
   12,
   20,
   25,
   27,
   38,
   44,
   46,
   50,
   56,
   58,
   62,
   68,
   70,
   74,
   80,
   82,
   86,
   92,
   94
  ]
 },
 "nbformat": 4,
 "nbformat_minor": 5
}