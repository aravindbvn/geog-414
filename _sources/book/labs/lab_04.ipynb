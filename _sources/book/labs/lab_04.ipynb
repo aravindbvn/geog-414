{
 "cells": [
  {
   "cell_type": "markdown",
   "id": "675eecfa",
   "metadata": {},
   "source": [
    "# Lab 4\n",
    "\n",
    "**Firstname Lastname**\n",
    "\n",
    "**Submission instructions**\n",
    "\n",
    "Submit the Colab link to your notebook in Canvas. In addition, take screenshots of the map for each question and submit them to Canvas as well."
   ]
  },
  {
   "cell_type": "code",
   "execution_count": null,
   "id": "f09255b7",
   "metadata": {},
   "outputs": [],
   "source": [
    "import ee\n",
    "import geemap"
   ]
  },
  {
   "cell_type": "code",
   "execution_count": null,
   "id": "8474cf43",
   "metadata": {},
   "outputs": [],
   "source": [
    "geemap.ee_initialize()"
   ]
  },
  {
   "cell_type": "markdown",
   "id": "aab6e011",
   "metadata": {},
   "source": [
    "## Datasets\n",
    "\n",
    "The datasets being used in the lab are listed below:\n",
    "\n",
    "- [TIGER: US Census Counties](https://developers.google.com/earth-engine/datasets/catalog/TIGER_2018_Counties)\n",
    "- [Landsat-9](https://developers.google.com/earth-engine/datasets/catalog/LANDSAT_LC09_C02_T1_L2)\n",
    "- [Sentinel-2](https://developers.google.com/earth-engine/datasets/catalog/COPERNICUS_S2_SR)\n",
    "- [NAIP](https://developers.google.com/earth-engine/datasets/catalog/USDA_NAIP_DOQQ)"
   ]
  },
  {
   "cell_type": "markdown",
   "id": "8a674614",
   "metadata": {},
   "source": [
    "## Question 1\n",
    "\n",
    "Write a program to find out how many counties are named `Knox` in the US."
   ]
  },
  {
   "cell_type": "code",
   "execution_count": null,
   "id": "4aa022f6",
   "metadata": {},
   "outputs": [],
   "source": [
    "# Add your code here"
   ]
  },
  {
   "cell_type": "markdown",
   "id": "6fb24c9f",
   "metadata": {},
   "source": [
    "![](https://i.imgur.com/3Jg9P6X.png)"
   ]
  },
  {
   "cell_type": "markdown",
   "id": "2ce31f5f",
   "metadata": {},
   "source": [
    "## Question 2\n",
    "\n",
    "Display Knox county of Tennesse with outline only (no fill color) on the map. (Hint: The `STATEFP` of Tennessee is `47`)"
   ]
  },
  {
   "cell_type": "code",
   "execution_count": null,
   "id": "36544500",
   "metadata": {},
   "outputs": [],
   "source": [
    "# Add your code here"
   ]
  },
  {
   "cell_type": "markdown",
   "id": "984c36af",
   "metadata": {},
   "source": [
    "![](https://i.imgur.com/28Iaw9b.png)"
   ]
  },
  {
   "cell_type": "markdown",
   "id": "c12f59a7",
   "metadata": {},
   "source": [
    "## Question 3\n",
    "\n",
    "Use [Landsat-9](https://developers.google.com/earth-engine/datasets/catalog/LANDSAT_LC09_C02_T1_L2) data to create a cloud-free imagery for Knox County, TN. Display the imagery on the map with a proper band combination."
   ]
  },
  {
   "cell_type": "code",
   "execution_count": null,
   "id": "d8dd3fb8",
   "metadata": {},
   "outputs": [],
   "source": [
    "# Add your code here"
   ]
  },
  {
   "cell_type": "markdown",
   "id": "fd6dea58",
   "metadata": {},
   "source": [
    "![](https://i.imgur.com/m72amN0.png)"
   ]
  },
  {
   "cell_type": "markdown",
   "id": "6a0e9605",
   "metadata": {},
   "source": [
    "## Question 4\n",
    "\n",
    "Use [Sentinel-2](https://developers.google.com/earth-engine/datasets/catalog/COPERNICUS_S2_SR) data to create a cloud-free imagery for Knox County, TN. Display the imagery on the map with a proper band combination."
   ]
  },
  {
   "cell_type": "code",
   "execution_count": null,
   "id": "b5c79fb4",
   "metadata": {},
   "outputs": [],
   "source": [
    "# Add your code here"
   ]
  },
  {
   "cell_type": "markdown",
   "id": "af168234",
   "metadata": {},
   "source": [
    "![](https://i.imgur.com/vM1M8Gc.png)"
   ]
  },
  {
   "cell_type": "markdown",
   "id": "b8457d36",
   "metadata": {},
   "source": [
    "## Question 5\n",
    "\n",
    "Use [NAIP](https://developers.google.com/earth-engine/datasets/catalog/USDA_NAIP_DOQQ) imagery to create a cloud-free imagery for Knox County, TN. Display the imagery on the map with a proper band combination."
   ]
  },
  {
   "cell_type": "code",
   "execution_count": null,
   "id": "a085ba1d",
   "metadata": {},
   "outputs": [],
   "source": [
    "# Add your code here"
   ]
  },
  {
   "cell_type": "markdown",
   "id": "9faa2764",
   "metadata": {},
   "source": [
    "![](https://i.imgur.com/iZSGqGS.png)"
   ]
  }
 ],
 "metadata": {
  "jupytext": {
   "text_representation": {
    "extension": ".md",
    "format_name": "myst",
    "format_version": 0.13,
    "jupytext_version": "1.15.0"
   }
  },
  "kernelspec": {
   "display_name": "Python 3",
   "language": "python",
   "name": "python3"
  },
  "source_map": [
   12,
   22,
   27,
   29,
   40,
   46,
   48,
   52,
   58,
   60,
   64,
   70,
   72,
   76,
   82,
   84,
   88,
   94,
   96
  ]
 },
 "nbformat": 4,
 "nbformat_minor": 5
}