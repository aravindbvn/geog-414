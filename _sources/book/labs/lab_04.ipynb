{
 "cells": [
  {
   "cell_type": "markdown",
   "id": "ef5ed0b7",
   "metadata": {},
   "source": [
    "# Lab 4\n",
    "\n",
    "**Submission instructions**\n",
    "\n",
    "Submit the Colab link to your notebook in Canvas. In addition, take screenshots of the map for each question and submit them to Canvas as well."
   ]
  },
  {
   "cell_type": "code",
   "execution_count": null,
   "id": "c920fdb1",
   "metadata": {},
   "outputs": [],
   "source": [
    "import ee\n",
    "import geemap"
   ]
  },
  {
   "cell_type": "code",
   "execution_count": null,
   "id": "a858320f",
   "metadata": {},
   "outputs": [],
   "source": [
    "geemap.ee_initialize()"
   ]
  },
  {
   "cell_type": "markdown",
   "id": "ec01efc3",
   "metadata": {},
   "source": [
    "## Datasets\n",
    "\n",
    "The datasets being used in the lab are listed below:\n",
    "\n",
    "- [TIGER: US Census Counties](https://developers.google.com/earth-engine/datasets/catalog/TIGER_2018_Counties)\n",
    "- [Landsat-9](https://developers.google.com/earth-engine/datasets/catalog/LANDSAT_LC09_C02_T1_L2)\n",
    "- [Sentinel-2](https://developers.google.com/earth-engine/datasets/catalog/COPERNICUS_S2_SR)\n",
    "- [NAIP](https://developers.google.com/earth-engine/datasets/catalog/USDA_NAIP_DOQQ)"
   ]
  },
  {
   "cell_type": "markdown",
   "id": "099bce52",
   "metadata": {},
   "source": [
    "## Question 1\n",
    "\n",
    "Write a program to find out how many counties are named `Knox` in the US."
   ]
  },
  {
   "cell_type": "code",
   "execution_count": null,
   "id": "ceb03ec7",
   "metadata": {},
   "outputs": [],
   "source": [
    "# Add your code here"
   ]
  },
  {
   "cell_type": "markdown",
   "id": "07b9446c",
   "metadata": {},
   "source": [
    "![](https://i.imgur.com/3Jg9P6X.png)"
   ]
  },
  {
   "cell_type": "markdown",
   "id": "046ae5d2",
   "metadata": {},
   "source": [
    "## Question 2\n",
    "\n",
    "Display Knox county of Tennesse with outline only (no fill color) on the map. (Hint: The `STATEFP` of Tennessee is `47`)"
   ]
  },
  {
   "cell_type": "code",
   "execution_count": null,
   "id": "a5b39683",
   "metadata": {},
   "outputs": [],
   "source": [
    "# Add your code here"
   ]
  },
  {
   "cell_type": "markdown",
   "id": "fc2b7c19",
   "metadata": {},
   "source": [
    "![](https://i.imgur.com/28Iaw9b.png)"
   ]
  },
  {
   "cell_type": "markdown",
   "id": "5600f2b8",
   "metadata": {},
   "source": [
    "## Question 3\n",
    "\n",
    "Use [Landsat-9](https://developers.google.com/earth-engine/datasets/catalog/LANDSAT_LC09_C02_T1_L2) data to create a cloud-free imagery for Knox County, TN. Display the imagery on the map with a proper band combination."
   ]
  },
  {
   "cell_type": "code",
   "execution_count": null,
   "id": "ca16a568",
   "metadata": {},
   "outputs": [],
   "source": [
    "# Add your code here"
   ]
  },
  {
   "cell_type": "markdown",
   "id": "fe1af118",
   "metadata": {},
   "source": [
    "![](https://i.imgur.com/m72amN0.png)"
   ]
  },
  {
   "cell_type": "markdown",
   "id": "49a51db4",
   "metadata": {},
   "source": [
    "## Question 4\n",
    "\n",
    "Use [Sentinel-2](https://developers.google.com/earth-engine/datasets/catalog/COPERNICUS_S2_SR) data to create a cloud-free imagery for Knox County, TN. Display the imagery on the map with a proper band combination."
   ]
  },
  {
   "cell_type": "code",
   "execution_count": null,
   "id": "017340bf",
   "metadata": {},
   "outputs": [],
   "source": [
    "# Add your code here"
   ]
  },
  {
   "cell_type": "markdown",
   "id": "29b1493d",
   "metadata": {},
   "source": [
    "![](https://i.imgur.com/vM1M8Gc.png)"
   ]
  },
  {
   "cell_type": "markdown",
   "id": "4b7943e8",
   "metadata": {},
   "source": [
    "## Question 5\n",
    "\n",
    "Use [NAIP](https://developers.google.com/earth-engine/datasets/catalog/USDA_NAIP_DOQQ) imagery to create a cloud-free imagery for Knox County, TN. Display the imagery on the map with a proper band combination."
   ]
  },
  {
   "cell_type": "code",
   "execution_count": null,
   "id": "3bac7524",
   "metadata": {},
   "outputs": [],
   "source": [
    "# Add your code here"
   ]
  },
  {
   "cell_type": "markdown",
   "id": "0716f42f",
   "metadata": {},
   "source": [
    "![](https://i.imgur.com/iZSGqGS.png)"
   ]
  }
 ],
 "metadata": {
  "jupytext": {
   "text_representation": {
    "extension": ".md",
    "format_name": "myst",
    "format_version": 0.13,
    "jupytext_version": "1.15.2"
   }
  },
  "kernelspec": {
   "display_name": "Python 3",
   "language": "python",
   "name": "python3"
  },
  "source_map": [
   12,
   20,
   25,
   27,
   38,
   44,
   46,
   50,
   56,
   58,
   62,
   68,
   70,
   74,
   80,
   82,
   86,
   92,
   94
  ]
 },
 "nbformat": 4,
 "nbformat_minor": 5
}