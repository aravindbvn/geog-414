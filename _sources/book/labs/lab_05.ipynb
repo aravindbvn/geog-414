{
 "cells": [
  {
   "cell_type": "markdown",
   "id": "88b949f9",
   "metadata": {},
   "source": [
    "# Lab 5\n",
    "\n",
    "**Submission instructions**\n",
    "\n",
    "Submit the Colab link to your notebook in Canvas. In addition, take screenshots of the map for each question and submit them to Canvas as well."
   ]
  },
  {
   "cell_type": "code",
   "execution_count": null,
   "id": "5b5df9f5",
   "metadata": {},
   "outputs": [],
   "source": [
    "import ee\n",
    "import geemap"
   ]
  },
  {
   "cell_type": "code",
   "execution_count": null,
   "id": "212d61c1",
   "metadata": {},
   "outputs": [],
   "source": [
    "geemap.ee_initialize()"
   ]
  },
  {
   "cell_type": "markdown",
   "id": "332b0c0d",
   "metadata": {},
   "source": [
    "## Question 1\n",
    "\n",
    "Visualize the [USGS Watershed Boundary Dataset](https://developers.google.com/earth-engine/datasets/catalog/USGS_WBD_2017_HUC04) with outline color only, no fill color."
   ]
  },
  {
   "cell_type": "code",
   "execution_count": null,
   "id": "0bc915f2",
   "metadata": {},
   "outputs": [],
   "source": [
    "# Add your code here."
   ]
  },
  {
   "cell_type": "markdown",
   "id": "9219c1e5",
   "metadata": {},
   "source": [
    "![](https://i.imgur.com/PLlNFq3.png)"
   ]
  },
  {
   "cell_type": "markdown",
   "id": "93a12da4",
   "metadata": {},
   "source": [
    "## Question 2 \n",
    "\n",
    "Filter the USGS Watershed Boundary dataset and select the watershed that intersects the county of your choice."
   ]
  },
  {
   "cell_type": "code",
   "execution_count": null,
   "id": "9eb884ff",
   "metadata": {},
   "outputs": [],
   "source": [
    "# Add your code here."
   ]
  },
  {
   "cell_type": "markdown",
   "id": "672ec79d",
   "metadata": {},
   "source": [
    "![](https://i.imgur.com/F2QfqZu.png)"
   ]
  },
  {
   "cell_type": "markdown",
   "id": "523d38cb",
   "metadata": {},
   "source": [
    "## Question 3\n",
    "\n",
    "Clip the [USGS 3DEP 10m DEM](https://developers.google.com/earth-engine/datasets/catalog/USGS_3DEP_10m) with the watershed that intersects the county of your choice. Display the DEM with a proper color palette and color bar."
   ]
  },
  {
   "cell_type": "code",
   "execution_count": null,
   "id": "8f2532ce",
   "metadata": {},
   "outputs": [],
   "source": [
    "# Add your code here."
   ]
  },
  {
   "cell_type": "markdown",
   "id": "44f72dd4",
   "metadata": {},
   "source": [
    "![](https://i.imgur.com/okR39pf.png)"
   ]
  },
  {
   "cell_type": "markdown",
   "id": "07c9b7fd",
   "metadata": {},
   "source": [
    "## Question 4\n",
    "\n",
    "Use the [USGS National Land Cover Database](https://developers.google.com/earth-engine/datasets/catalog/USGS_NLCD_RELEASES_2019_REL_NLCD) and [US Census States](https://developers.google.com/earth-engine/datasets/catalog/TIGER_2018_States) to create a split-panel map for visualizing land cover change (2001-2019) for a US state of your choice. Make sure you add the NLCD legend to the map."
   ]
  },
  {
   "cell_type": "code",
   "execution_count": null,
   "id": "8eadc68e",
   "metadata": {},
   "outputs": [],
   "source": [
    "# Add your code here."
   ]
  },
  {
   "cell_type": "markdown",
   "id": "670c76c9",
   "metadata": {},
   "source": [
    "![](https://i.imgur.com/Au7Q5Ln.png)"
   ]
  },
  {
   "cell_type": "markdown",
   "id": "5eb518ef",
   "metadata": {},
   "source": [
    "## Questions 5\n",
    "\n",
    "Download OpenStreetMap data for a city of your choice and visualize the city boundary and restaurants in the city."
   ]
  },
  {
   "cell_type": "code",
   "execution_count": null,
   "id": "16f11637",
   "metadata": {},
   "outputs": [],
   "source": [
    "# Add your code here."
   ]
  },
  {
   "cell_type": "markdown",
   "id": "21bd1d6c",
   "metadata": {},
   "source": [
    "![](https://i.imgur.com/AUlO1CV.png)"
   ]
  }
 ],
 "metadata": {
  "jupytext": {
   "text_representation": {
    "extension": ".md",
    "format_name": "myst",
    "format_version": 0.13,
    "jupytext_version": "1.15.2"
   }
  },
  "kernelspec": {
   "display_name": "Python 3",
   "language": "python",
   "name": "python3"
  },
  "source_map": [
   12,
   20,
   25,
   27,
   33,
   35,
   39,
   45,
   47,
   51,
   57,
   59,
   63,
   69,
   71,
   75,
   81,
   83
  ]
 },
 "nbformat": 4,
 "nbformat_minor": 5
}