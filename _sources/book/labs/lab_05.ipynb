{
 "cells": [
  {
   "cell_type": "markdown",
   "id": "93b18676",
   "metadata": {},
   "source": [
    "# Lab 5\n",
    "\n",
    "**Firstname Lastname**\n",
    "\n",
    "**Submission instructions**\n",
    "\n",
    "Submit the Colab link to your notebook in Canvas. In addition, take screenshots of the map for each question and submit them to Canvas as well."
   ]
  },
  {
   "cell_type": "code",
   "execution_count": null,
   "id": "50fb047d",
   "metadata": {},
   "outputs": [],
   "source": [
    "import ee\n",
    "import geemap"
   ]
  },
  {
   "cell_type": "code",
   "execution_count": null,
   "id": "a5acac9e",
   "metadata": {},
   "outputs": [],
   "source": [
    "geemap.ee_initialize()"
   ]
  },
  {
   "cell_type": "markdown",
   "id": "e1244595",
   "metadata": {},
   "source": [
    "## Question 1\n",
    "\n",
    "Visualize the [USGS Watershed Boundary Dataset](https://developers.google.com/earth-engine/datasets/catalog/USGS_WBD_2017_HUC04) with outline color only, no fill color."
   ]
  },
  {
   "cell_type": "code",
   "execution_count": null,
   "id": "26af3c8d",
   "metadata": {},
   "outputs": [],
   "source": [
    "# Add your code here."
   ]
  },
  {
   "cell_type": "markdown",
   "id": "1790c507",
   "metadata": {},
   "source": [
    "![](https://i.imgur.com/PLlNFq3.png)"
   ]
  },
  {
   "cell_type": "markdown",
   "id": "4fa498fe",
   "metadata": {},
   "source": [
    "## Question 2 \n",
    "\n",
    "Filter the USGS Watershed Boundary dataset and select the watershed that intersects the county of your choice."
   ]
  },
  {
   "cell_type": "code",
   "execution_count": null,
   "id": "053c9504",
   "metadata": {},
   "outputs": [],
   "source": [
    "# Add your code here."
   ]
  },
  {
   "cell_type": "markdown",
   "id": "c7bed411",
   "metadata": {},
   "source": [
    "![](https://i.imgur.com/F2QfqZu.png)"
   ]
  },
  {
   "cell_type": "markdown",
   "id": "2bbc735c",
   "metadata": {},
   "source": [
    "## Question 3\n",
    "\n",
    "Clip the [USGS 3DEP 10m DEM](https://developers.google.com/earth-engine/datasets/catalog/USGS_3DEP_10m) with the watershed that intersects the county of your choice. Display the DEM with a proper color palette and color bar."
   ]
  },
  {
   "cell_type": "code",
   "execution_count": null,
   "id": "c9cc12aa",
   "metadata": {},
   "outputs": [],
   "source": [
    "# Add your code here."
   ]
  },
  {
   "cell_type": "markdown",
   "id": "912d8ff5",
   "metadata": {},
   "source": [
    "![](https://i.imgur.com/okR39pf.png)"
   ]
  },
  {
   "cell_type": "markdown",
   "id": "95dc5256",
   "metadata": {},
   "source": [
    "## Question 4\n",
    "\n",
    "Use the [USGS National Land Cover Database](https://developers.google.com/earth-engine/datasets/catalog/USGS_NLCD_RELEASES_2019_REL_NLCD) and [US Census States](https://developers.google.com/earth-engine/datasets/catalog/TIGER_2018_States) to create a split-panel map for visualizing land cover change (2001-2019) for a US state of your choice. Make sure you add the NLCD legend to the map."
   ]
  },
  {
   "cell_type": "code",
   "execution_count": null,
   "id": "5173dc45",
   "metadata": {},
   "outputs": [],
   "source": [
    "# Add your code here."
   ]
  },
  {
   "cell_type": "markdown",
   "id": "a0983726",
   "metadata": {},
   "source": [
    "![](https://i.imgur.com/Au7Q5Ln.png)"
   ]
  },
  {
   "cell_type": "markdown",
   "id": "a69892cf",
   "metadata": {},
   "source": [
    "## Questions 5\n",
    "\n",
    "Download OpenStreetMap data for a city of your choice and visualize the city boundary and restaurants in the city."
   ]
  },
  {
   "cell_type": "code",
   "execution_count": null,
   "id": "4069bb97",
   "metadata": {},
   "outputs": [],
   "source": [
    "# Add your code here."
   ]
  },
  {
   "cell_type": "markdown",
   "id": "9b8a265d",
   "metadata": {},
   "source": [
    "![](https://i.imgur.com/AUlO1CV.png)"
   ]
  }
 ],
 "metadata": {
  "jupytext": {
   "text_representation": {
    "extension": ".md",
    "format_name": "myst",
    "format_version": 0.13,
    "jupytext_version": "1.15.0"
   }
  },
  "kernelspec": {
   "display_name": "Python 3",
   "language": "python",
   "name": "python3"
  },
  "source_map": [
   12,
   22,
   27,
   29,
   35,
   37,
   41,
   47,
   49,
   53,
   59,
   61,
   65,
   71,
   73,
   77,
   83,
   85
  ]
 },
 "nbformat": 4,
 "nbformat_minor": 5
}