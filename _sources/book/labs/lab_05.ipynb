{
 "cells": [
  {
   "cell_type": "markdown",
   "id": "896b5652",
   "metadata": {},
   "source": [
    "# Lab 5\n",
    "\n",
    "[![Open In Colab](https://colab.research.google.com/assets/colab-badge.svg)](https://colab.research.google.com/github/giswqs/geog-414/blob/master/book/labs/lab_05.ipynb)\n",
    "\n",
    "## Submission requirements\n",
    "\n",
    "1. Upload a screenshot of your map for each question.\n",
    "2. Provide a link to your notebook on Colab. See instructions [here](https://geog-414.gishub.org/book/labs/instructions.html)."
   ]
  },
  {
   "cell_type": "markdown",
   "id": "c42583eb",
   "metadata": {},
   "source": [
    "## Question 1\n",
    "\n",
    "Visualize the [USGS Watershed Boundary Dataset](https://developers.google.com/earth-engine/datasets/catalog/USGS_WBD_2017_HUC04) with outline color only, no fill color."
   ]
  },
  {
   "cell_type": "code",
   "execution_count": null,
   "id": "22828084",
   "metadata": {},
   "outputs": [],
   "source": [
    "# Add your code here."
   ]
  },
  {
   "cell_type": "markdown",
   "id": "d0af0250",
   "metadata": {},
   "source": [
    "![](https://i.imgur.com/PLlNFq3.png)"
   ]
  },
  {
   "cell_type": "markdown",
   "id": "0db336d7",
   "metadata": {},
   "source": [
    "## Question 2 \n",
    "\n",
    "Filter the USGS Watershed Boundary dataset and select the watershed that intersects the county of your choice."
   ]
  },
  {
   "cell_type": "code",
   "execution_count": null,
   "id": "da4ef96a",
   "metadata": {},
   "outputs": [],
   "source": [
    "# Add your code here."
   ]
  },
  {
   "cell_type": "markdown",
   "id": "0462c7d1",
   "metadata": {},
   "source": [
    "![](https://i.imgur.com/F2QfqZu.png)"
   ]
  },
  {
   "cell_type": "markdown",
   "id": "55cc26f0",
   "metadata": {},
   "source": [
    "## Question 3\n",
    "\n",
    "Clip the [USGS 3DEP 10m DEM](https://developers.google.com/earth-engine/datasets/catalog/USGS_3DEP_10m) with the watershed that intersects the county of your choice. Display the DEM with a proper color palette and color bar."
   ]
  },
  {
   "cell_type": "code",
   "execution_count": null,
   "id": "98a6a369",
   "metadata": {},
   "outputs": [],
   "source": [
    "# Add your code here."
   ]
  },
  {
   "cell_type": "markdown",
   "id": "facaa125",
   "metadata": {},
   "source": [
    "![](https://i.imgur.com/okR39pf.png)"
   ]
  },
  {
   "cell_type": "markdown",
   "id": "a619808a",
   "metadata": {},
   "source": [
    "## Question 4\n",
    "\n",
    "Use the [USGS National Land Cover Database](https://developers.google.com/earth-engine/datasets/catalog/USGS_NLCD_RELEASES_2019_REL_NLCD) and [US Census States](https://developers.google.com/earth-engine/datasets/catalog/TIGER_2018_States) to create a split-panel map for visualizing land cover change (2001-2019) for a US state of your choice. Make sure you add the NLCD legend to the map."
   ]
  },
  {
   "cell_type": "code",
   "execution_count": null,
   "id": "7a7b2098",
   "metadata": {},
   "outputs": [],
   "source": [
    "# Add your code here."
   ]
  },
  {
   "cell_type": "markdown",
   "id": "3773bb9e",
   "metadata": {},
   "source": [
    "![](https://i.imgur.com/Au7Q5Ln.png)"
   ]
  },
  {
   "cell_type": "markdown",
   "id": "70f0f8af",
   "metadata": {},
   "source": [
    "## Questions 5\n",
    "\n",
    "Download OpenStreetMap data for a city of your choice and visualize the city boundary and restaurants in the city."
   ]
  },
  {
   "cell_type": "code",
   "execution_count": null,
   "id": "d1284f83",
   "metadata": {},
   "outputs": [],
   "source": [
    "# Add your code here."
   ]
  },
  {
   "cell_type": "markdown",
   "id": "8e091452",
   "metadata": {},
   "source": [
    "![](https://i.imgur.com/AUlO1CV.png)"
   ]
  }
 ],
 "metadata": {
  "jupytext": {
   "text_representation": {
    "extension": ".md",
    "format_name": "myst",
    "format_version": 0.13,
    "jupytext_version": "1.15.2"
   }
  },
  "kernelspec": {
   "display_name": "Python 3",
   "language": "python",
   "name": "python3"
  },
  "source_map": [
   12,
   23,
   29,
   31,
   35,
   41,
   43,
   47,
   53,
   55,
   59,
   65,
   67,
   71,
   77,
   79
  ]
 },
 "nbformat": 4,
 "nbformat_minor": 5
}