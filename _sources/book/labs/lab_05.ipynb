{
 "cells": [
  {
   "cell_type": "markdown",
   "id": "5ffbac0a",
   "metadata": {},
   "source": [
    "# Lab 5\n",
    "\n",
    "**Firstname Lastname**\n",
    "\n",
    "**Submission instructions**\n",
    "\n",
    "Submit the Colab link to your notebook in Canvas. In addition, take screenshots of the map for each question and submit them to Canvas as well."
   ]
  },
  {
   "cell_type": "code",
   "execution_count": null,
   "id": "da5f355c",
   "metadata": {},
   "outputs": [],
   "source": [
    "import ee\n",
    "import geemap"
   ]
  },
  {
   "cell_type": "code",
   "execution_count": null,
   "id": "ae29d274",
   "metadata": {},
   "outputs": [],
   "source": [
    "geemap.ee_initialize()"
   ]
  },
  {
   "cell_type": "markdown",
   "id": "42ba3390",
   "metadata": {},
   "source": [
    "## Question 1\n",
    "\n",
    "Visualize the [USGS Watershed Boundary Dataset](https://developers.google.com/earth-engine/datasets/catalog/USGS_WBD_2017_HUC04) with outline color only, no fill color."
   ]
  },
  {
   "cell_type": "code",
   "execution_count": null,
   "id": "81356f5d",
   "metadata": {},
   "outputs": [],
   "source": [
    "# Add your code here."
   ]
  },
  {
   "cell_type": "markdown",
   "id": "9453618b",
   "metadata": {},
   "source": [
    "![](https://i.imgur.com/PLlNFq3.png)"
   ]
  },
  {
   "cell_type": "markdown",
   "id": "30492445",
   "metadata": {},
   "source": [
    "## Question 2 \n",
    "\n",
    "Filter the USGS Watershed Boundary dataset and select the watershed that intersects the county of your choice."
   ]
  },
  {
   "cell_type": "code",
   "execution_count": null,
   "id": "3bfbc835",
   "metadata": {},
   "outputs": [],
   "source": [
    "# Add your code here."
   ]
  },
  {
   "cell_type": "markdown",
   "id": "78f3b90d",
   "metadata": {},
   "source": [
    "![](https://i.imgur.com/F2QfqZu.png)"
   ]
  },
  {
   "cell_type": "markdown",
   "id": "04c65a78",
   "metadata": {},
   "source": [
    "## Question 3\n",
    "\n",
    "Clip the [USGS 3DEP 10m DEM](https://developers.google.com/earth-engine/datasets/catalog/USGS_3DEP_10m) with the watershed that intersects the county of your choice. Display the DEM with a proper color palette and color bar."
   ]
  },
  {
   "cell_type": "code",
   "execution_count": null,
   "id": "8a834bfe",
   "metadata": {},
   "outputs": [],
   "source": [
    "# Add your code here."
   ]
  },
  {
   "cell_type": "markdown",
   "id": "63f88150",
   "metadata": {},
   "source": [
    "![](https://i.imgur.com/okR39pf.png)"
   ]
  },
  {
   "cell_type": "markdown",
   "id": "f617822c",
   "metadata": {},
   "source": [
    "## Question 4\n",
    "\n",
    "Use the [USGS National Land Cover Database](https://developers.google.com/earth-engine/datasets/catalog/USGS_NLCD_RELEASES_2019_REL_NLCD) and [US Census States](https://developers.google.com/earth-engine/datasets/catalog/TIGER_2018_States) to create a split-panel map for visualizing land cover change (2001-2019) for a US state of your choice. Make sure you add the NLCD legend to the map."
   ]
  },
  {
   "cell_type": "code",
   "execution_count": null,
   "id": "c6ad9579",
   "metadata": {},
   "outputs": [],
   "source": [
    "# Add your code here."
   ]
  },
  {
   "cell_type": "markdown",
   "id": "afd24bbe",
   "metadata": {},
   "source": [
    "![](https://i.imgur.com/Au7Q5Ln.png)"
   ]
  },
  {
   "cell_type": "markdown",
   "id": "c1b2d16d",
   "metadata": {},
   "source": [
    "## Questions 5\n",
    "\n",
    "Download OpenStreetMap data for a city of your choice and visualize the city boundary and restaurants in the city."
   ]
  },
  {
   "cell_type": "code",
   "execution_count": null,
   "id": "b2107fbc",
   "metadata": {},
   "outputs": [],
   "source": [
    "# Add your code here."
   ]
  },
  {
   "cell_type": "markdown",
   "id": "859e513b",
   "metadata": {},
   "source": [
    "![](https://i.imgur.com/AUlO1CV.png)"
   ]
  }
 ],
 "metadata": {
  "jupytext": {
   "text_representation": {
    "extension": ".md",
    "format_name": "myst",
    "format_version": 0.13,
    "jupytext_version": "1.15.0"
   }
  },
  "kernelspec": {
   "display_name": "Python 3",
   "language": "python",
   "name": "python3"
  },
  "source_map": [
   12,
   22,
   27,
   29,
   35,
   37,
   41,
   47,
   49,
   53,
   59,
   61,
   65,
   71,
   73,
   77,
   83,
   85
  ]
 },
 "nbformat": 4,
 "nbformat_minor": 5
}