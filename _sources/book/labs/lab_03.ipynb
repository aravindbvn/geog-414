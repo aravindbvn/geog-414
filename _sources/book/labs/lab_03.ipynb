{
 "cells": [
  {
   "cell_type": "markdown",
   "id": "36e6581f",
   "metadata": {},
   "source": [
    "# Lab 3\n",
    "\n",
    "**Submission instructions**\n",
    "\n",
    "Submit the Colab link to your notebook in Canvas. In addition, take screenshots of the map for each question and submit them to Canvas as well."
   ]
  },
  {
   "cell_type": "code",
   "execution_count": null,
   "id": "751c7127",
   "metadata": {},
   "outputs": [],
   "source": [
    "from datetime import datetime\n",
    "\n",
    "now = datetime.now()\n",
    "print(f\"Submitted time: {now}\")"
   ]
  },
  {
   "cell_type": "markdown",
   "id": "b1e7b6f8",
   "metadata": {},
   "source": [
    "## Readings\n",
    "\n",
    "- [3.3 Earth Engine data types](https://book.geemap.org/chapters/03_gee_data.html#earth-engine-data-types)\n",
    "- [3.4. Earth Engine Data Catalog](https://book.geemap.org/chapters/03_gee_data.html#earth-engine-data-catalog)"
   ]
  },
  {
   "cell_type": "markdown",
   "id": "933ee2bb",
   "metadata": {},
   "source": [
    "## Question 1\n",
    "\n",
    "Find a DEM dataset in the [Earth Engine Data Catalog](https://developers.google.com/earth-engine/datasets/), clip the DEM to your home state, and display the DEM with a proper color palette on the map. For example, the sample map below shows the DEM of the state of Colorado."
   ]
  },
  {
   "cell_type": "code",
   "execution_count": null,
   "id": "8561ab90",
   "metadata": {},
   "outputs": [],
   "source": [
    "import ee\n",
    "import geemap"
   ]
  },
  {
   "cell_type": "code",
   "execution_count": null,
   "id": "da1850f5",
   "metadata": {},
   "outputs": [],
   "source": [
    "# Add your code here."
   ]
  },
  {
   "cell_type": "markdown",
   "id": "82ddca1b",
   "metadata": {},
   "source": [
    "![](https://i.imgur.com/RhUy93b.png)"
   ]
  },
  {
   "cell_type": "markdown",
   "id": "ca5987f9",
   "metadata": {},
   "source": [
    "## Question 2\n",
    "\n",
    "Use [Sentinel-2](https://developers.google.com/earth-engine/datasets/catalog/sentinel-2) or [Landsat-9 data](https://developers.google.com/earth-engine/datasets/catalog/landsat-9), create a cloud-free imagery of the year 2021 for your home state. Display the imagery on the map with a proper band combination. For example, the sample map below shows a cloud-free false-color composite of Sentinel-2 imagery of the year 2021 for the state of Colorado."
   ]
  },
  {
   "cell_type": "code",
   "execution_count": null,
   "id": "0731f0fc",
   "metadata": {},
   "outputs": [],
   "source": [
    "# Add your code here."
   ]
  },
  {
   "cell_type": "markdown",
   "id": "5562a58e",
   "metadata": {},
   "source": [
    "![](https://i.imgur.com/xkxpkS1.png)"
   ]
  }
 ],
 "metadata": {
  "jupytext": {
   "text_representation": {
    "extension": ".md",
    "format_name": "myst",
    "format_version": 0.13,
    "jupytext_version": "1.15.0"
   }
  },
  "kernelspec": {
   "display_name": "Python 3",
   "language": "python",
   "name": "python3"
  },
  "source_map": [
   12,
   20,
   25,
   32,
   38,
   43,
   45,
   49,
   55,
   57
  ]
 },
 "nbformat": 4,
 "nbformat_minor": 5
}