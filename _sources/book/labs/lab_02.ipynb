{
 "cells": [
  {
   "cell_type": "markdown",
   "id": "b2d487ca",
   "metadata": {},
   "source": [
    "# Lab 2\n",
    "\n",
    "Use [geemap](https://geemap.org) to create a map similar to the one below. You can use similar source code used in [Lab 1](https://geog-414.gishub.org/book/labs/lab_01.html), but make sure you change leafmap to geemap. Try out different basemaps. Change the text `Made by Your Name` to your name. Update the [geemap logo](https://i.imgur.com/7nu5GNl.png) to your own image if you wish. Then run the code cell to generate an interactive map. Note that you name must be visible on the map. Take a screenshot of your map and save it as an image. Upload the screenshot to Canvas. In addition, submit the link to your Colab notebook on Canvas. Make sure you set the sharing permission of your Colab notebook to anyone with the link can view."
   ]
  },
  {
   "cell_type": "code",
   "execution_count": null,
   "id": "36cee7a4",
   "metadata": {},
   "outputs": [],
   "source": [
    "# Add your code here..."
   ]
  },
  {
   "cell_type": "markdown",
   "id": "34bfec37",
   "metadata": {},
   "source": [
    "![](https://i.imgur.com/ClnsQPY.png)"
   ]
  }
 ],
 "metadata": {
  "jupytext": {
   "text_representation": {
    "extension": ".md",
    "format_name": "myst",
    "format_version": 0.13,
    "jupytext_version": "1.15.2"
   }
  },
  "kernelspec": {
   "display_name": "Python 3",
   "language": "python",
   "name": "python3"
  },
  "source_map": [
   12,
   18,
   20
  ]
 },
 "nbformat": 4,
 "nbformat_minor": 5
}