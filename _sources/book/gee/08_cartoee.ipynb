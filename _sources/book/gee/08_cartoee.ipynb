{
 "cells": [
  {
   "cell_type": "markdown",
   "id": "e6daccd9",
   "metadata": {},
   "source": [
    "# Making Maps with Cartoee\n",
    "\n",
    "```{contents}\n",
    ":local:\n",
    ":depth: 2\n",
    "```\n",
    "\n",
    "## Introduction\n",
    "\n",
    "## Technical requirements\n",
    "\n",
    "```bash\n",
    "conda create -n gee python\n",
    "conda activate gee\n",
    "conda install -c conda-forge mamba\n",
    "mamba install -c conda-forge geemap pygis\n",
    "mamba install -c conda-forge cartopy\n",
    "```\n",
    "\n",
    "```bash\n",
    "jupyter lab\n",
    "```"
   ]
  },
  {
   "cell_type": "code",
   "execution_count": null,
   "id": "217cf96f",
   "metadata": {},
   "outputs": [],
   "source": [
    "# %pip install pygis"
   ]
  },
  {
   "cell_type": "code",
   "execution_count": null,
   "id": "e60210b1",
   "metadata": {},
   "outputs": [],
   "source": [
    "# %pip install cartopy"
   ]
  },
  {
   "cell_type": "code",
   "execution_count": null,
   "id": "bfc8579c",
   "metadata": {},
   "outputs": [],
   "source": [
    "import ee\n",
    "import geemap"
   ]
  },
  {
   "cell_type": "code",
   "execution_count": null,
   "id": "252a856b",
   "metadata": {},
   "outputs": [],
   "source": [
    "geemap.ee_initialize()"
   ]
  },
  {
   "cell_type": "code",
   "execution_count": null,
   "id": "6a9742e5",
   "metadata": {},
   "outputs": [],
   "source": [
    "from geemap import cartoee\n",
    "import matplotlib.pyplot as plt"
   ]
  },
  {
   "cell_type": "markdown",
   "id": "96810269",
   "metadata": {},
   "source": [
    "## Plotting single-band images"
   ]
  },
  {
   "cell_type": "code",
   "execution_count": null,
   "id": "5db2e2f8",
   "metadata": {},
   "outputs": [],
   "source": [
    "srtm = ee.Image(\"CGIAR/SRTM90_V4\")\n",
    "\n",
    "# define bounding box [east, south, west, north] to request data\n",
    "region = [180, -60, -180, 85]\n",
    "vis = {'min': 0, 'max': 3000}"
   ]
  },
  {
   "cell_type": "code",
   "execution_count": null,
   "id": "bb14bf74",
   "metadata": {},
   "outputs": [],
   "source": [
    "fig = plt.figure(figsize=(15, 9))\n",
    "\n",
    "# use cartoee to get a map\n",
    "ax = cartoee.get_map(srtm, region=region, vis_params=vis)\n",
    "\n",
    "# add a color bar to the map using the visualization params we passed to the map\n",
    "cartoee.add_colorbar(ax, vis, loc=\"bottom\", label=\"Elevation (m)\", orientation=\"horizontal\")\n",
    "\n",
    "# add grid lines to the map at a specified interval\n",
    "cartoee.add_gridlines(ax, interval=[60, 30], linestyle=\":\")\n",
    "\n",
    "# add coastlines using the cartopy api\n",
    "ax.coastlines(color=\"red\")\n",
    "\n",
    "plt.show()"
   ]
  },
  {
   "cell_type": "code",
   "execution_count": null,
   "id": "cdf12e88",
   "metadata": {},
   "outputs": [],
   "source": [
    "fig = plt.figure(figsize=(15, 7))\n",
    "\n",
    "cmap = \"terrain\"\n",
    "\n",
    "ax = cartoee.get_map(srtm, region=region, vis_params=vis, cmap=cmap)\n",
    "cartoee.add_colorbar(\n",
    "    ax, vis, cmap=cmap, loc=\"right\", label=\"Elevation (m)\", orientation=\"vertical\"\n",
    ")\n",
    "\n",
    "cartoee.add_gridlines(ax, interval=[60, 30], linestyle=\"--\")\n",
    "ax.coastlines(color=\"red\")\n",
    "ax.set_title(label='Global Elevation Map', fontsize=15)\n",
    "\n",
    "plt.show()"
   ]
  },
  {
   "cell_type": "code",
   "execution_count": null,
   "id": "71be901a",
   "metadata": {},
   "outputs": [],
   "source": [
    "cartoee.savefig(fig, fname=\"srtm.jpg\", dpi=300, bbox_inches='tight')"
   ]
  },
  {
   "cell_type": "markdown",
   "id": "c3d75665",
   "metadata": {},
   "source": [
    "## Plotting multi-band images"
   ]
  },
  {
   "cell_type": "code",
   "execution_count": null,
   "id": "73a7d053",
   "metadata": {},
   "outputs": [],
   "source": [
    "image = ee.Image('LANDSAT/LC08/C01/T1_SR/LC08_044034_20140318')\n",
    "vis = {\"bands\": ['B5', 'B4', 'B3'], \"min\": 0, \"max\": 5000, \"gamma\": 1.3}"
   ]
  },
  {
   "cell_type": "code",
   "execution_count": null,
   "id": "bcee25b3",
   "metadata": {},
   "outputs": [],
   "source": [
    "fig = plt.figure(figsize=(15, 10))\n",
    "\n",
    "ax = cartoee.get_map(image, vis_params=vis)\n",
    "cartoee.pad_view(ax)\n",
    "cartoee.add_gridlines(ax, interval=0.5, xtick_rotation=0, linestyle=\":\")\n",
    "ax.coastlines(color=\"yellow\")\n",
    "\n",
    "plt.show()"
   ]
  },
  {
   "cell_type": "code",
   "execution_count": null,
   "id": "22de3ec3",
   "metadata": {},
   "outputs": [],
   "source": [
    "fig = plt.figure(figsize=(15, 10))\n",
    "\n",
    "region = [-121.8025, 37.3458, -122.6265, 37.9178]\n",
    "ax = cartoee.get_map(image, vis_params=vis, region=region)\n",
    "cartoee.add_gridlines(ax, interval=0.15, xtick_rotation=0, linestyle=\":\")\n",
    "ax.coastlines(color=\"yellow\")\n",
    "\n",
    "plt.show()"
   ]
  },
  {
   "cell_type": "markdown",
   "id": "0040af79",
   "metadata": {},
   "source": [
    "## Adding north arrows and scale bars"
   ]
  },
  {
   "cell_type": "code",
   "execution_count": null,
   "id": "33182389",
   "metadata": {},
   "outputs": [],
   "source": [
    "fig = plt.figure(figsize=(15, 10))\n",
    "\n",
    "region = [-121.8025, 37.3458, -122.6265, 37.9178]\n",
    "ax = cartoee.get_map(image, vis_params=vis, region=region)\n",
    "cartoee.add_gridlines(ax, interval=0.15, xtick_rotation=0, linestyle=\":\")\n",
    "ax.coastlines(color=\"yellow\")\n",
    "\n",
    "cartoee.add_north_arrow(\n",
    "    ax, text=\"N\", xy=(0.05, 0.25), text_color=\"white\", arrow_color=\"white\", fontsize=20\n",
    ")\n",
    "cartoee.add_scale_bar_lite(\n",
    "    ax, length=10, xy=(0.1, 0.05), fontsize=20, color=\"white\", unit=\"km\"\n",
    ")\n",
    "ax.set_title(label='Landsat False Color Composite (Band 5/4/3)', fontsize=15)\n",
    "\n",
    "plt.show()"
   ]
  },
  {
   "cell_type": "code",
   "execution_count": null,
   "id": "7f3d0d34",
   "metadata": {},
   "outputs": [],
   "source": [
    "fig = plt.figure(figsize=(15, 10))\n",
    "\n",
    "region = [-121.8025, 37.3458, -122.6265, 37.9178]\n",
    "ax = cartoee.get_map(image, vis_params=vis, region=region)\n",
    "cartoee.add_gridlines(ax, interval=0.15, xtick_rotation=0, linestyle=\":\")\n",
    "ax.coastlines(color=\"yellow\")\n",
    "\n",
    "# add north arrow\n",
    "north_arrow_dict = {\n",
    "    \"text\": \"N\",\n",
    "    \"xy\": (0.05, 0.30),\n",
    "    \"arrow_length\": 0.10,\n",
    "    \"text_color\": \"white\",\n",
    "    \"arrow_color\": \"white\",\n",
    "    \"fontsize\": 20,\n",
    "    \"width\": 5,\n",
    "    \"headwidth\": 15,\n",
    "    \"ha\": \"center\",\n",
    "    \"va\": \"center\",\n",
    "}\n",
    "cartoee.add_north_arrow(ax, **north_arrow_dict)\n",
    "\n",
    "# add scale bar\n",
    "scale_bar_dict = {\n",
    "    'metric_distance': 4,\n",
    "    'unit': \"km\",\n",
    "    'at_x': (0.03, 0.15),\n",
    "    'at_y': (0.08, 0.11),\n",
    "    'max_stripes': 4,\n",
    "    'ytick_label_margins': 0.25,\n",
    "    'fontsize': 8,\n",
    "    'font_weight': \"bold\",\n",
    "    'rotation': 0,\n",
    "    'zorder': 999,\n",
    "    'paddings': {\"xmin\": 0.05, \"xmax\": 0.05, \"ymin\": 1.5, \"ymax\": 0.5},\n",
    "}\n",
    "\n",
    "cartoee.add_scale_bar(ax, **scale_bar_dict)\n",
    "ax.set_title(label='Landsat False Color Composite (Band 5/4/3)', fontsize=15)\n",
    "\n",
    "plt.show()"
   ]
  },
  {
   "cell_type": "code",
   "execution_count": null,
   "id": "1a81e3c7",
   "metadata": {},
   "outputs": [],
   "source": [
    "cartoee.savefig(fig, fname=\"landsat.jpg\")"
   ]
  },
  {
   "cell_type": "markdown",
   "id": "12636ea8",
   "metadata": {},
   "source": [
    "## Adding legends"
   ]
  },
  {
   "cell_type": "code",
   "execution_count": null,
   "id": "b58abbe5",
   "metadata": {},
   "outputs": [],
   "source": [
    "fuels = [\n",
    "    'Coal',\n",
    "    'Oil',\n",
    "    'Gas',\n",
    "    'Hydro',\n",
    "    'Nuclear',\n",
    "    'Solar',\n",
    "    'Waste',\n",
    "    'Wind',\n",
    "    'Geothermal',\n",
    "    'Biomass',\n",
    "]\n",
    "\n",
    "fc = ee.FeatureCollection(\"WRI/GPPD/power_plants\").filter(\n",
    "    ee.Filter.inList('fuel1', fuels)\n",
    ")\n",
    "\n",
    "colors = [\n",
    "    '000000',\n",
    "    '593704',\n",
    "    'BC80BD',\n",
    "    '0565A6',\n",
    "    'E31A1C',\n",
    "    'FF7F00',\n",
    "    '6A3D9A',\n",
    "    '5CA2D1',\n",
    "    'FDBF6F',\n",
    "    '229A00',\n",
    "]\n",
    "\n",
    "styled_fc = geemap.ee_vector_style(fc, column=\"fuel1\", labels=fuels, color=colors, pointSize=1)"
   ]
  },
  {
   "cell_type": "code",
   "execution_count": null,
   "id": "7319f88d",
   "metadata": {},
   "outputs": [],
   "source": [
    "Map = geemap.Map()\n",
    "Map.addLayer(styled_fc, {}, 'Power Plants')\n",
    "Map.add_legend(title=\"Power Plant Fuel Type\", labels=fuels, colors=colors)\n",
    "Map"
   ]
  },
  {
   "cell_type": "code",
   "execution_count": null,
   "id": "071f1c70",
   "metadata": {},
   "outputs": [],
   "source": [
    "from matplotlib.lines import Line2D"
   ]
  },
  {
   "cell_type": "code",
   "execution_count": null,
   "id": "43dcf512",
   "metadata": {},
   "outputs": [],
   "source": [
    "legend = []\n",
    "\n",
    "for index, fuel in enumerate(fuels):\n",
    "    item = Line2D(\n",
    "                    [],\n",
    "                    [],\n",
    "                    marker=\"o\",\n",
    "                    color='#' + colors[index],\n",
    "                    label=fuel,\n",
    "                    markerfacecolor='#' + colors[index],\n",
    "                    markersize=5,\n",
    "                    ls=\"\",\n",
    "                )\n",
    "    legend.append(item)"
   ]
  },
  {
   "cell_type": "code",
   "execution_count": null,
   "id": "62b16216",
   "metadata": {},
   "outputs": [],
   "source": [
    "fig = plt.figure(figsize=(15, 10))\n",
    "\n",
    "bbox = [180, -88, -180, 88]\n",
    "ax = cartoee.get_map(styled_fc, region=bbox)\n",
    "ax.set_title(label='Global Power Plant Database', fontsize=15)\n",
    "cartoee.add_gridlines(ax, interval=30)\n",
    "cartoee.add_legend(ax, legend_elements=legend, font_size=10, title='Fule Type', title_fontize=12, loc='lower left')\n",
    "ax.coastlines(color=\"black\")\n",
    "\n",
    "plt.show()"
   ]
  },
  {
   "cell_type": "code",
   "execution_count": null,
   "id": "4052e1aa",
   "metadata": {},
   "outputs": [],
   "source": [
    "cartoee.savefig(fig, 'ch08_power_plants.jpg', dpi=150)"
   ]
  },
  {
   "cell_type": "markdown",
   "id": "d08b9269",
   "metadata": {},
   "source": [
    "## Adding basemaps"
   ]
  },
  {
   "cell_type": "code",
   "execution_count": null,
   "id": "98dd8c04",
   "metadata": {},
   "outputs": [],
   "source": [
    "image = ee.Image('LANDSAT/LC08/C01/T1_SR/LC08_044034_20140318')\n",
    "vis = {\"bands\": ['B5', 'B4', 'B3'], \"min\": 0, \"max\": 5000, \"gamma\": 1.3}\n",
    "\n",
    "fig = plt.figure(figsize=(15, 10))\n",
    "ax = cartoee.get_map(image, vis_params=vis, basemap='ROADMAP', zoom_level=8)\n",
    "cartoee.pad_view(ax)\n",
    "cartoee.add_gridlines(ax, interval=0.5, xtick_rotation=0, linestyle=\":\")\n",
    "ax.coastlines(color=\"yellow\")\n",
    "\n",
    "plt.show()"
   ]
  },
  {
   "cell_type": "code",
   "execution_count": null,
   "id": "5854ef4b",
   "metadata": {},
   "outputs": [],
   "source": [
    "import cartopy.io.img_tiles as cimgt"
   ]
  },
  {
   "cell_type": "code",
   "execution_count": null,
   "id": "3d82d2b3",
   "metadata": {},
   "outputs": [],
   "source": [
    "basemap = cimgt.Stamen('terrain-background')\n",
    "\n",
    "fig = plt.figure(figsize=(15, 10))\n",
    "\n",
    "ax = cartoee.get_map(image, vis_params=vis, basemap=basemap, zoom_level=8)\n",
    "cartoee.pad_view(ax)\n",
    "cartoee.add_gridlines(ax, interval=0.5, xtick_rotation=0, linestyle=\":\")\n",
    "ax.coastlines(color=\"yellow\")\n",
    "\n",
    "plt.show()"
   ]
  },
  {
   "cell_type": "code",
   "execution_count": null,
   "id": "9b62104f",
   "metadata": {},
   "outputs": [],
   "source": [
    "basemap = cimgt.OSM()\n",
    "\n",
    "fig = plt.figure(figsize=(15, 10))\n",
    "ax = cartoee.get_map(image, vis_params=vis, basemap=basemap, zoom_level=8)\n",
    "cartoee.pad_view(ax)\n",
    "cartoee.add_gridlines(ax, interval=0.5, xtick_rotation=0, linestyle=\":\")\n",
    "ax.coastlines(color=\"yellow\")\n",
    "\n",
    "plt.show()"
   ]
  },
  {
   "cell_type": "markdown",
   "id": "6aa90fa0",
   "metadata": {},
   "source": [
    "## Using custom projections\n",
    "\n",
    "### The PlateCarree projection"
   ]
  },
  {
   "cell_type": "code",
   "execution_count": null,
   "id": "9586c5dd",
   "metadata": {},
   "outputs": [],
   "source": [
    "ocean = (\n",
    "    ee.ImageCollection('NASA/OCEANDATA/MODIS-Terra/L3SMI')\n",
    "    .filter(ee.Filter.date('2018-01-01', '2018-03-01'))\n",
    "    .median()\n",
    "    .select([\"sst\"], [\"SST\"])\n",
    ")"
   ]
  },
  {
   "cell_type": "code",
   "execution_count": null,
   "id": "1158131b",
   "metadata": {},
   "outputs": [],
   "source": [
    "visualization = {'bands': \"SST\", 'min': -2, 'max': 30}\n",
    "bbox = [180, -88, -180, 88]"
   ]
  },
  {
   "cell_type": "code",
   "execution_count": null,
   "id": "fe080d76",
   "metadata": {},
   "outputs": [],
   "source": [
    "fig = plt.figure(figsize=(15, 10))\n",
    "\n",
    "ax = cartoee.get_map(ocean, cmap='plasma', vis_params=visualization, region=bbox)\n",
    "cb = cartoee.add_colorbar(ax, vis_params=visualization, loc='right', cmap='plasma')\n",
    "\n",
    "ax.set_title(label='Sea Surface Temperature', fontsize=15)\n",
    "\n",
    "ax.coastlines()\n",
    "plt.show()"
   ]
  },
  {
   "cell_type": "code",
   "execution_count": null,
   "id": "01b89e6a",
   "metadata": {},
   "outputs": [],
   "source": [
    "cartoee.savefig(fig, 'SST.jpg', dpi=300)"
   ]
  },
  {
   "cell_type": "markdown",
   "id": "7372d1e9",
   "metadata": {},
   "source": [
    "### Custom projections"
   ]
  },
  {
   "cell_type": "code",
   "execution_count": null,
   "id": "b7a47669",
   "metadata": {},
   "outputs": [],
   "source": [
    "import cartopy.crs as ccrs"
   ]
  },
  {
   "cell_type": "code",
   "execution_count": null,
   "id": "e2dfd6ff",
   "metadata": {},
   "outputs": [],
   "source": [
    "fig = plt.figure(figsize=(15, 10))\n",
    "\n",
    "projection = ccrs.Mollweide(central_longitude=-180)\n",
    "ax = cartoee.get_map(\n",
    "    ocean, vis_params=visualization, region=bbox, cmap='plasma', proj=projection\n",
    ")\n",
    "cb = cartoee.add_colorbar(\n",
    "    ax, vis_params=visualization, loc='bottom', cmap='plasma', orientation='horizontal'\n",
    ")\n",
    "ax.set_title(\"Mollweide projection\")\n",
    "ax.coastlines()\n",
    "\n",
    "plt.show()"
   ]
  },
  {
   "cell_type": "code",
   "execution_count": null,
   "id": "3581dd81",
   "metadata": {},
   "outputs": [],
   "source": [
    "fig = plt.figure(figsize=(15, 10))\n",
    "\n",
    "projection = ccrs.Robinson(central_longitude=-180)\n",
    "ax = cartoee.get_map(\n",
    "    ocean, vis_params=visualization, region=bbox, cmap='plasma', proj=projection\n",
    ")\n",
    "cb = cartoee.add_colorbar(\n",
    "    ax, vis_params=visualization, loc='bottom', cmap='plasma', orientation='horizontal'\n",
    ")\n",
    "ax.set_title(\"Robinson projection\")\n",
    "ax.coastlines()\n",
    "\n",
    "plt.show()"
   ]
  },
  {
   "cell_type": "code",
   "execution_count": null,
   "id": "807f5885",
   "metadata": {},
   "outputs": [],
   "source": [
    "fig = plt.figure(figsize=(15, 10))\n",
    "\n",
    "projection = ccrs.InterruptedGoodeHomolosine(central_longitude=-180)\n",
    "ax = cartoee.get_map(\n",
    "    ocean, vis_params=visualization, region=bbox, cmap='plasma', proj=projection\n",
    ")\n",
    "cb = cartoee.add_colorbar(\n",
    "    ax, vis_params=visualization, loc='bottom', cmap='plasma', orientation='horizontal'\n",
    ")\n",
    "ax.set_title(\"Goode homolosine projection\")\n",
    "ax.coastlines()\n",
    "\n",
    "plt.show()"
   ]
  },
  {
   "cell_type": "code",
   "execution_count": null,
   "id": "b810f026",
   "metadata": {},
   "outputs": [],
   "source": [
    "fig = plt.figure(figsize=(15, 10))\n",
    "\n",
    "projection = ccrs.EqualEarth(central_longitude=-180)\n",
    "ax = cartoee.get_map(\n",
    "    ocean, vis_params=visualization, region=bbox, cmap='plasma', proj=projection\n",
    ")\n",
    "cb = cartoee.add_colorbar(\n",
    "    ax, vis_params=visualization, loc='right', cmap='plasma', orientation='vertical'\n",
    ")\n",
    "ax.set_title(\"Equal Earth projection\")\n",
    "ax.coastlines()\n",
    "\n",
    "plt.show()"
   ]
  },
  {
   "cell_type": "code",
   "execution_count": null,
   "id": "ed86e1d3",
   "metadata": {},
   "outputs": [],
   "source": [
    "fig = plt.figure(figsize=(11, 10))\n",
    "\n",
    "projection = ccrs.Orthographic(-130, -10)\n",
    "ax = cartoee.get_map(\n",
    "    ocean, vis_params=visualization, region=bbox, cmap='plasma', proj=projection\n",
    ")\n",
    "cb = cartoee.add_colorbar(\n",
    "    ax, vis_params=visualization, loc='right', cmap='plasma', orientation='vertical'\n",
    ")\n",
    "ax.set_title(\"Orographic projection\")\n",
    "ax.coastlines()\n",
    "\n",
    "plt.show()"
   ]
  },
  {
   "cell_type": "markdown",
   "id": "a65a7eb0",
   "metadata": {},
   "source": [
    "### The warping artifacts"
   ]
  },
  {
   "cell_type": "code",
   "execution_count": null,
   "id": "f5c48058",
   "metadata": {},
   "outputs": [],
   "source": [
    "fig = plt.figure(figsize=(11, 10))\n",
    "\n",
    "spole = [180, -88, -180, 0]\n",
    "projection = ccrs.SouthPolarStereo()\n",
    "\n",
    "ax = cartoee.get_map(\n",
    "    ocean, cmap='plasma', vis_params=visualization, region=spole, proj=projection\n",
    ")\n",
    "cb = cartoee.add_colorbar(ax, vis_params=visualization, loc='right', cmap='plasma')\n",
    "ax.coastlines()\n",
    "ax.set_title('The South Pole')\n",
    "\n",
    "plt.show()"
   ]
  },
  {
   "cell_type": "code",
   "execution_count": null,
   "id": "b0dcafbb",
   "metadata": {},
   "outputs": [],
   "source": [
    "fig = plt.figure(figsize=(11, 10))\n",
    "\n",
    "ax = cartoee.get_map(\n",
    "    ocean, cmap='plasma', vis_params=visualization, region=spole, proj=projection\n",
    ")\n",
    "cb = cartoee.add_colorbar(ax, vis_params=visualization, loc='right', cmap='plasma')\n",
    "ax.coastlines()\n",
    "ax.set_title('The South Pole')\n",
    "\n",
    "# get bounding box coordinates of a zoom area\n",
    "zoom = spole\n",
    "zoom[-1] = -20\n",
    "\n",
    "# convert bbox coordinate from [W,S,E,N] to [W,E,S,N] as matplotlib expects\n",
    "zoom_extent = cartoee.bbox_to_extent(zoom)\n",
    "\n",
    "# set the extent of the map to the zoom area\n",
    "ax.set_extent(zoom_extent, ccrs.PlateCarree())\n",
    "\n",
    "plt.show()"
   ]
  },
  {
   "cell_type": "markdown",
   "id": "3a5a66c9",
   "metadata": {},
   "source": [
    "## Plotting multiple Earth Engine layers\n",
    "\n",
    "### Creating a blended image"
   ]
  },
  {
   "cell_type": "code",
   "execution_count": null,
   "id": "4a10d6a4",
   "metadata": {},
   "outputs": [],
   "source": [
    "Map = geemap.Map()\n",
    "\n",
    "image = (\n",
    "    ee.ImageCollection('MODIS/MCD43A4_006_NDVI')\n",
    "    .filter(ee.Filter.date('2022-05-01', '2022-06-01'))\n",
    "    .select(\"NDVI\")\n",
    "    .first()\n",
    ")\n",
    "\n",
    "vis_params = {'min': 0.0, 'max': 1.0, 'palette': 'ndvi'}\n",
    "Map.setCenter(-7.03125, 31.0529339857, 2)\n",
    "Map.addLayer(image, vis_params, 'MODIS NDVI')\n",
    "\n",
    "countries = ee.FeatureCollection(geemap.examples.get_ee_path('countries'))\n",
    "style = {\"color\": \"00000088\", \"width\": 1, \"fillColor\": \"00000000\"}\n",
    "Map.addLayer(countries.style(**style), {}, \"Countries\")\n",
    "\n",
    "ndvi = image.visualize(**vis_params)\n",
    "blend = ndvi.blend(countries.style(**style))\n",
    "\n",
    "Map.addLayer(blend, {}, \"Blend\")\n",
    "Map"
   ]
  },
  {
   "cell_type": "markdown",
   "id": "2ce3de30",
   "metadata": {},
   "source": [
    "### Plotting a blended image with the default projection"
   ]
  },
  {
   "cell_type": "code",
   "execution_count": null,
   "id": "69237eaf",
   "metadata": {},
   "outputs": [],
   "source": [
    "fig = plt.figure(figsize=(15, 10))\n",
    "\n",
    "bbox = [180, -88, -180, 88]\n",
    "ax = cartoee.get_map(blend, region=bbox)\n",
    "cb = cartoee.add_colorbar(ax, vis_params=vis_params, loc='right')\n",
    "ax.set_title(label='MODIS NDVI (May 2022)', fontsize=15)\n",
    "\n",
    "plt.show()"
   ]
  },
  {
   "cell_type": "markdown",
   "id": "1d9bb6ef",
   "metadata": {},
   "source": [
    "### Plotting a blended image with a custom projection"
   ]
  },
  {
   "cell_type": "code",
   "execution_count": null,
   "id": "88c1c77d",
   "metadata": {},
   "outputs": [],
   "source": [
    "import cartopy.crs as ccrs"
   ]
  },
  {
   "cell_type": "code",
   "execution_count": null,
   "id": "1bd85f1f",
   "metadata": {},
   "outputs": [],
   "source": [
    "fig = plt.figure(figsize=(15, 10))\n",
    "\n",
    "projection = ccrs.EqualEarth(central_longitude=0)\n",
    "ax = cartoee.get_map(blend, region=bbox, proj=projection)\n",
    "cb = cartoee.add_colorbar(ax, vis_params=vis_params, loc='right')\n",
    "ax.set_title(label='MODIS NDVI (May 2022)', fontsize=15)\n",
    "\n",
    "plt.show()"
   ]
  },
  {
   "cell_type": "markdown",
   "id": "9b351fdd",
   "metadata": {},
   "source": [
    "## Creating timelapse animations\n",
    "\n",
    "### Creating an ImageCollection"
   ]
  },
  {
   "cell_type": "code",
   "execution_count": null,
   "id": "4dddb690",
   "metadata": {},
   "outputs": [],
   "source": [
    "lon = -115.1585\n",
    "lat = 36.1500\n",
    "start_year = 1984\n",
    "end_year = 2011\n",
    "\n",
    "point = ee.Geometry.Point(lon, lat)\n",
    "years = ee.List.sequence(start_year, end_year)\n",
    "\n",
    "def get_best_image(year):\n",
    "\n",
    "    start_date = ee.Date.fromYMD(year, 1, 1)\n",
    "    end_date = ee.Date.fromYMD(year, 12, 31)\n",
    "    image = (\n",
    "        ee.ImageCollection(\"LANDSAT/LT05/C02/T1_L2\")\n",
    "        .filterBounds(point)\n",
    "        .filterDate(start_date, end_date)\n",
    "        .sort(\"CLOUD_COVER\")\n",
    "        .first()\n",
    "    )\n",
    "    image = (\n",
    "        image.select('SR_B.')\n",
    "        .multiply(0.0000275)\n",
    "        .add(-0.2)\n",
    "        .set({'system:time_start': image.get('system:time_start')}))\n",
    "    return ee.Image(image)\n",
    "\n",
    "collection = ee.ImageCollection(years.map(get_best_image))"
   ]
  },
  {
   "cell_type": "markdown",
   "id": "872d79b4",
   "metadata": {},
   "source": [
    "### Displaying a sample image"
   ]
  },
  {
   "cell_type": "code",
   "execution_count": null,
   "id": "bf82e8f1",
   "metadata": {},
   "outputs": [],
   "source": [
    "Map = geemap.Map()\n",
    "\n",
    "vis_params = {\"bands\": ['SR_B5', 'SR_B4', 'SR_B3'], \"min\": 0, \"max\": 0.5}\n",
    "image = ee.Image(collection.first())\n",
    "Map.addLayer(image, vis_params, 'First image')\n",
    "Map.setCenter(lon, lat, 8)\n",
    "\n",
    "Map"
   ]
  },
  {
   "cell_type": "markdown",
   "id": "50806cfc",
   "metadata": {},
   "source": [
    "### Getting a sample output image"
   ]
  },
  {
   "cell_type": "code",
   "execution_count": null,
   "id": "8c5df096",
   "metadata": {},
   "outputs": [],
   "source": [
    "w = 0.4\n",
    "h = 0.3\n",
    "region = [lon + w, lat - h, lon - w, lat + h]\n",
    "\n",
    "fig = plt.figure(figsize=(10, 8))\n",
    "\n",
    "ax = cartoee.get_map(image, region=region, vis_params=vis_params)\n",
    "cartoee.add_gridlines(ax, interval=[0.2, 0.2], linestyle=\":\")\n",
    "\n",
    "# add north arrow\n",
    "north_arrow_dict = {\n",
    "    \"text\": \"N\",\n",
    "    \"xy\": (0.1, 0.3),\n",
    "    \"arrow_length\": 0.15,\n",
    "    \"text_color\": \"white\",\n",
    "    \"arrow_color\": \"white\",\n",
    "    \"fontsize\": 20,\n",
    "    \"width\": 5,\n",
    "    \"headwidth\": 15,\n",
    "    \"ha\": \"center\",\n",
    "    \"va\": \"center\",\n",
    "}\n",
    "cartoee.add_north_arrow(ax, **north_arrow_dict)\n",
    "\n",
    "# add scale bar\n",
    "scale_bar_dict = {\n",
    "    \"length\": 10,\n",
    "    \"xy\": (0.1, 0.05),\n",
    "    \"linewidth\": 3,\n",
    "    \"fontsize\": 20,\n",
    "    \"color\": \"white\",\n",
    "    \"unit\": \"km\",\n",
    "    \"ha\": \"center\",\n",
    "    \"va\": \"bottom\",\n",
    "}\n",
    "cartoee.add_scale_bar_lite(ax, **scale_bar_dict)\n",
    "ax.set_title(label='Las Vegas, NV', fontsize=15)\n",
    "\n",
    "plt.show()"
   ]
  },
  {
   "cell_type": "markdown",
   "id": "0d7dd01f",
   "metadata": {},
   "source": [
    "### Creating timelapse"
   ]
  },
  {
   "cell_type": "code",
   "execution_count": null,
   "id": "70421e00",
   "metadata": {},
   "outputs": [],
   "source": [
    "cartoee.get_image_collection_gif(\n",
    "    ee_ic=collection,\n",
    "    out_dir='timelapse',\n",
    "    out_gif=\"animation.gif\",\n",
    "    vis_params=vis_params,\n",
    "    region=region,\n",
    "    fps=5,\n",
    "    mp4=True,\n",
    "    grid_interval=(0.2, 0.2),\n",
    "    plot_title=\"Las Vegas, NV - \",\n",
    "    date_format='YYYY',\n",
    "    fig_size=(10, 8),\n",
    "    dpi_plot=100,\n",
    "    file_format=\"jpg\",\n",
    "    north_arrow_dict=north_arrow_dict,\n",
    "    scale_bar_dict=scale_bar_dict,\n",
    "    verbose=True,\n",
    ")\n",
    "geemap.show_image('timelapse/animation.gif')"
   ]
  },
  {
   "cell_type": "markdown",
   "id": "d0d5944d",
   "metadata": {},
   "source": [
    "## Summary"
   ]
  }
 ],
 "metadata": {
  "jupytext": {
   "text_representation": {
    "extension": ".md",
    "format_name": "myst",
    "format_version": 0.13,
    "jupytext_version": "1.14.4"
   }
  },
  "kernelspec": {
   "display_name": "Python 3 (ipykernel)",
   "language": "python",
   "name": "python3"
  },
  "source_map": [
   12,
   37,
   41,
   45,
   50,
   54,
   57,
   61,
   69,
   87,
   104,
   106,
   110,
   115,
   126,
   135,
   139,
   158,
   202,
   204,
   208,
   242,
   249,
   253,
   270,
   283,
   285,
   289,
   302,
   306,
   319,
   329,
   335,
   344,
   349,
   361,
   363,
   367,
   371,
   387,
   403,
   419,
   435,
   449,
   453,
   469,
   490,
   496,
   519,
   523,
   532,
   536,
   540,
   549,
   555,
   583,
   587,
   596,
   600,
   640,
   644,
   664
  ]
 },
 "nbformat": 4,
 "nbformat_minor": 5
}