{
 "cells": [
  {
   "cell_type": "markdown",
   "id": "9f69323f",
   "metadata": {},
   "source": [
    "# Analyzing Geospatial Data\n",
    "\n",
    "```{contents}\n",
    ":local:\n",
    ":depth: 2\n",
    "```\n",
    "\n",
    "## Introduction\n",
    "\n",
    "## Technical requirements\n",
    "\n",
    "```bash\n",
    "conda create -n gee python\n",
    "conda activate gee\n",
    "conda install -c conda-forge mamba\n",
    "mamba install -c conda-forge pygis\n",
    "```\n",
    "\n",
    "```bash\n",
    "jupyter lab\n",
    "```"
   ]
  },
  {
   "cell_type": "code",
   "execution_count": null,
   "id": "e49f78e1",
   "metadata": {},
   "outputs": [],
   "source": [
    "# %pip install pygis"
   ]
  },
  {
   "cell_type": "code",
   "execution_count": null,
   "id": "3ca908f6",
   "metadata": {},
   "outputs": [],
   "source": [
    "import ee\n",
    "import geemap"
   ]
  },
  {
   "cell_type": "code",
   "execution_count": null,
   "id": "6a0834d4",
   "metadata": {},
   "outputs": [],
   "source": [
    "geemap.ee_initialize()"
   ]
  },
  {
   "cell_type": "markdown",
   "id": "fad3cf9c",
   "metadata": {},
   "source": [
    "## Earth Engine data reductions\n",
    "\n",
    "### List reductions"
   ]
  },
  {
   "cell_type": "code",
   "execution_count": null,
   "id": "fd40027b",
   "metadata": {},
   "outputs": [],
   "source": [
    "values = ee.List.sequence(1, 10)\n",
    "print(values.getInfo())"
   ]
  },
  {
   "cell_type": "code",
   "execution_count": null,
   "id": "d8c20acb",
   "metadata": {},
   "outputs": [],
   "source": [
    "count = values.reduce(ee.Reducer.count())\n",
    "print(count.getInfo())  # 10"
   ]
  },
  {
   "cell_type": "code",
   "execution_count": null,
   "id": "7be81733",
   "metadata": {},
   "outputs": [],
   "source": [
    "min_value = values.reduce(ee.Reducer.min())\n",
    "print(min_value.getInfo())  # 1"
   ]
  },
  {
   "cell_type": "code",
   "execution_count": null,
   "id": "bcdaf519",
   "metadata": {},
   "outputs": [],
   "source": [
    "max_value = values.reduce(ee.Reducer.max())\n",
    "print(max_value.getInfo())  # 10"
   ]
  },
  {
   "cell_type": "code",
   "execution_count": null,
   "id": "11bf4964",
   "metadata": {},
   "outputs": [],
   "source": [
    "min_max_value = values.reduce(ee.Reducer.minMax())\n",
    "print(min_max_value.getInfo())"
   ]
  },
  {
   "cell_type": "code",
   "execution_count": null,
   "id": "5e23f879",
   "metadata": {},
   "outputs": [],
   "source": [
    "mean_value = values.reduce(ee.Reducer.mean())\n",
    "print(mean_value.getInfo())  # 5.5"
   ]
  },
  {
   "cell_type": "code",
   "execution_count": null,
   "id": "a6697582",
   "metadata": {},
   "outputs": [],
   "source": [
    "median_value = values.reduce(ee.Reducer.median())\n",
    "print(median_value.getInfo())  # 5.5"
   ]
  },
  {
   "cell_type": "code",
   "execution_count": null,
   "id": "5c863818",
   "metadata": {},
   "outputs": [],
   "source": [
    "sum_value = values.reduce(ee.Reducer.sum())\n",
    "print(sum_value.getInfo())  # 55"
   ]
  },
  {
   "cell_type": "code",
   "execution_count": null,
   "id": "3c49c250",
   "metadata": {},
   "outputs": [],
   "source": [
    "std_value = values.reduce(ee.Reducer.stdDev())\n",
    "print(std_value.getInfo())  # 2.8723"
   ]
  },
  {
   "cell_type": "markdown",
   "id": "12af0dfb",
   "metadata": {},
   "source": [
    "### ImageCollection reductions"
   ]
  },
  {
   "cell_type": "code",
   "execution_count": null,
   "id": "899b0bcb",
   "metadata": {},
   "outputs": [],
   "source": [
    "Map = geemap.Map()\n",
    "\n",
    "# Load an image collection, filtered so it's not too much data.\n",
    "collection = (\n",
    "    ee.ImageCollection('LANDSAT/LC08/C01/T1_TOA')\n",
    "    .filterDate('2021-01-01', '2021-12-31')\n",
    "    .filter(ee.Filter.eq('WRS_PATH', 44))\n",
    "    .filter(ee.Filter.eq('WRS_ROW', 34))\n",
    ")\n",
    "\n",
    "# Compute the median in each band, each pixel.\n",
    "# Band names are B1_median, B2_median, etc.\n",
    "median = collection.reduce(ee.Reducer.median())\n",
    "\n",
    "# The output is an Image.  Add it to the map.\n",
    "vis_param = {'bands': ['B5_median', 'B4_median', 'B3_median'], 'gamma': 2}\n",
    "Map.setCenter(-122.3355, 37.7924, 8)\n",
    "Map.addLayer(median, vis_param)\n",
    "Map"
   ]
  },
  {
   "cell_type": "code",
   "execution_count": null,
   "id": "25086236",
   "metadata": {},
   "outputs": [],
   "source": [
    "median = collection.median()\n",
    "print(median.bandNames().getInfo())"
   ]
  },
  {
   "cell_type": "markdown",
   "id": "1c785b90",
   "metadata": {},
   "source": [
    "### Image reductions"
   ]
  },
  {
   "cell_type": "code",
   "execution_count": null,
   "id": "a99714c1",
   "metadata": {},
   "outputs": [],
   "source": [
    "Map = geemap.Map()\n",
    "image = ee.Image('LANDSAT/LC08/C01/T1/LC08_044034_20140318').select(['B4', 'B3', 'B2'])\n",
    "maxValue = image.reduce(ee.Reducer.max())\n",
    "Map.centerObject(image, 8)\n",
    "Map.addLayer(image, {}, 'Original image')\n",
    "Map.addLayer(maxValue, {'max': 13000}, 'Maximum value image')\n",
    "Map"
   ]
  },
  {
   "cell_type": "markdown",
   "id": "f822605d",
   "metadata": {},
   "source": [
    "### FeatureCollection reductions"
   ]
  },
  {
   "cell_type": "code",
   "execution_count": null,
   "id": "45ccc7fb",
   "metadata": {},
   "outputs": [],
   "source": [
    "Map = geemap.Map()\n",
    "census = ee.FeatureCollection('TIGER/2010/Blocks')\n",
    "benton = census.filter(\n",
    "    ee.Filter.And(ee.Filter.eq('statefp10', '41'), ee.Filter.eq('countyfp10', '003'))\n",
    ")\n",
    "Map.setCenter(-123.27, 44.57, 13)\n",
    "Map.addLayer(benton)\n",
    "Map"
   ]
  },
  {
   "cell_type": "code",
   "execution_count": null,
   "id": "0de0a3e2",
   "metadata": {},
   "outputs": [],
   "source": [
    "# Compute sums of the specified properties.\n",
    "properties = ['pop10', 'housing10']\n",
    "sums = benton.filter(ee.Filter.notNull(properties)).reduceColumns(\n",
    "    **{'reducer': ee.Reducer.sum().repeat(2), 'selectors': properties}\n",
    ")\n",
    "sums"
   ]
  },
  {
   "cell_type": "code",
   "execution_count": null,
   "id": "d8e5b98a",
   "metadata": {},
   "outputs": [],
   "source": [
    "print(benton.aggregate_sum('pop10'))  # 85579\n",
    "print(benton.aggregate_sum('housing10'))  # 36245"
   ]
  },
  {
   "cell_type": "code",
   "execution_count": null,
   "id": "697c53e3",
   "metadata": {},
   "outputs": [],
   "source": [
    "benton.aggregate_stats('pop10')"
   ]
  },
  {
   "cell_type": "markdown",
   "id": "75e60eaa",
   "metadata": {},
   "source": [
    "## Image descriptive statistics"
   ]
  },
  {
   "cell_type": "code",
   "execution_count": null,
   "id": "016f1f9d",
   "metadata": {},
   "outputs": [],
   "source": [
    "Map = geemap.Map()\n",
    "\n",
    "centroid = ee.Geometry.Point([-122.4439, 37.7538])\n",
    "image = ee.ImageCollection('LANDSAT/LC08/C01/T1_SR').filterBounds(centroid).first()\n",
    "vis = {'min': 0, 'max': 3000, 'bands': ['B5', 'B4', 'B3']}\n",
    "\n",
    "Map.centerObject(centroid, 8)\n",
    "Map.addLayer(image, vis, \"Landsat-8\")\n",
    "Map"
   ]
  },
  {
   "cell_type": "code",
   "execution_count": null,
   "id": "796398ab",
   "metadata": {},
   "outputs": [],
   "source": [
    "image.propertyNames()"
   ]
  },
  {
   "cell_type": "code",
   "execution_count": null,
   "id": "1f760620",
   "metadata": {},
   "outputs": [],
   "source": [
    "image.get('CLOUD_COVER')  # 0.05"
   ]
  },
  {
   "cell_type": "code",
   "execution_count": null,
   "id": "57f60d06",
   "metadata": {},
   "outputs": [],
   "source": [
    "props = geemap.image_props(image)\n",
    "props"
   ]
  },
  {
   "cell_type": "code",
   "execution_count": null,
   "id": "aeade4a8",
   "metadata": {},
   "outputs": [],
   "source": [
    "stats = geemap.image_stats(image, scale=30)\n",
    "stats"
   ]
  },
  {
   "cell_type": "markdown",
   "id": "d4783245",
   "metadata": {},
   "source": [
    "## Zonal statistics with Earth Engine\n",
    "\n",
    "### Zonal statistics"
   ]
  },
  {
   "cell_type": "code",
   "execution_count": null,
   "id": "f80965e4",
   "metadata": {},
   "outputs": [],
   "source": [
    "Map = geemap.Map(center=[40, -100], zoom=4)\n",
    "\n",
    "# Add NASA SRTM\n",
    "dem = ee.Image('USGS/SRTMGL1_003')\n",
    "dem_vis = {\n",
    "    'min': 0,\n",
    "    'max': 4000,\n",
    "    'palette': ['006633', 'E5FFCC', '662A00', 'D8D8D8', 'F5F5F5'],\n",
    "}\n",
    "Map.addLayer(dem, dem_vis, 'SRTM DEM')\n",
    "\n",
    "# Add 5-year Landsat TOA composite\n",
    "landsat = ee.Image('LANDSAT/LE7_TOA_5YEAR/1999_2003')\n",
    "landsat_vis = {'bands': ['B4', 'B3', 'B2'], 'gamma': 1.4}\n",
    "Map.addLayer(landsat, landsat_vis, \"Landsat\", False)\n",
    "\n",
    "# Add US Census States\n",
    "states = ee.FeatureCollection(\"TIGER/2018/States\")\n",
    "style = {'fillColor': '00000000'}\n",
    "Map.addLayer(states.style(**style), {}, 'US States')\n",
    "Map"
   ]
  },
  {
   "cell_type": "code",
   "execution_count": null,
   "id": "e40bd8ea",
   "metadata": {},
   "outputs": [],
   "source": [
    "out_dem_stats = 'dem_stats.csv'\n",
    "geemap.zonal_stats(\n",
    "    dem, states, out_dem_stats, statistics_type='MEAN', scale=1000, return_fc=False\n",
    ")"
   ]
  },
  {
   "cell_type": "code",
   "execution_count": null,
   "id": "e67295ce",
   "metadata": {},
   "outputs": [],
   "source": [
    "out_landsat_stats = 'landsat_stats.csv'\n",
    "geemap.zonal_stats(\n",
    "    landsat,\n",
    "    states,\n",
    "    out_landsat_stats,\n",
    "    statistics_type='MEAN',\n",
    "    scale=1000,\n",
    "    return_fc=False,\n",
    ")"
   ]
  },
  {
   "cell_type": "markdown",
   "id": "7c28b243",
   "metadata": {},
   "source": [
    "### Zonal statistics by group"
   ]
  },
  {
   "cell_type": "code",
   "execution_count": null,
   "id": "be623dc9",
   "metadata": {},
   "outputs": [],
   "source": [
    "Map = geemap.Map(center=[40, -100], zoom=4)\n",
    "\n",
    "# Add NLCD data\n",
    "dataset = ee.Image('USGS/NLCD_RELEASES/2019_REL/NLCD/2019')\n",
    "landcover = dataset.select('landcover')\n",
    "Map.addLayer(landcover, {}, 'NLCD 2019')\n",
    "\n",
    "# Add US census states\n",
    "states = ee.FeatureCollection(\"TIGER/2018/States\")\n",
    "style = {'fillColor': '00000000'}\n",
    "Map.addLayer(states.style(**style), {}, 'US States')\n",
    "\n",
    "# Add NLCD legend\n",
    "Map.add_legend(title='NLCD Land Cover', builtin_legend='NLCD')\n",
    "Map"
   ]
  },
  {
   "cell_type": "code",
   "execution_count": null,
   "id": "15b38df7",
   "metadata": {},
   "outputs": [],
   "source": [
    "nlcd_stats = 'nlcd_stats.csv'\n",
    "\n",
    "geemap.zonal_stats_by_group(\n",
    "    landcover,\n",
    "    states,\n",
    "    nlcd_stats,\n",
    "    statistics_type='SUM',\n",
    "    denominator=1e6,\n",
    "    decimal_places=2,\n",
    ")"
   ]
  },
  {
   "cell_type": "code",
   "execution_count": null,
   "id": "45f17083",
   "metadata": {},
   "outputs": [],
   "source": [
    "nlcd_stats = 'nlcd_stats_pct.csv'\n",
    "\n",
    "geemap.zonal_stats_by_group(\n",
    "    landcover,\n",
    "    states,\n",
    "    nlcd_stats,\n",
    "    statistics_type='PERCENTAGE',\n",
    "    denominator=1e6,\n",
    "    decimal_places=2,\n",
    ")"
   ]
  },
  {
   "cell_type": "markdown",
   "id": "b5e36cff",
   "metadata": {},
   "source": [
    "### Zonal statistics with two images"
   ]
  },
  {
   "cell_type": "code",
   "execution_count": null,
   "id": "e78e5044",
   "metadata": {},
   "outputs": [],
   "source": [
    "Map = geemap.Map(center=[40, -100], zoom=4)\n",
    "dem = ee.Image('USGS/3DEP/10m')\n",
    "vis = {'min': 0, 'max': 4000, 'palette': 'terrain'}\n",
    "Map.addLayer(dem, vis, 'DEM')\n",
    "Map"
   ]
  },
  {
   "cell_type": "code",
   "execution_count": null,
   "id": "c2ce9655",
   "metadata": {},
   "outputs": [],
   "source": [
    "landcover = ee.Image(\"USGS/NLCD_RELEASES/2019_REL/NLCD/2019\").select('landcover')\n",
    "Map.addLayer(landcover, {}, 'NLCD 2019')\n",
    "Map.add_legend(title='NLCD Land Cover Classification', builtin_legend='NLCD')"
   ]
  },
  {
   "cell_type": "code",
   "execution_count": null,
   "id": "4407c9be",
   "metadata": {},
   "outputs": [],
   "source": [
    "stats = geemap.image_stats_by_zone(dem, landcover, reducer='MEAN')\n",
    "stats"
   ]
  },
  {
   "cell_type": "code",
   "execution_count": null,
   "id": "b03f2ca7",
   "metadata": {},
   "outputs": [],
   "source": [
    "stats.to_csv('mean.csv', index=False)"
   ]
  },
  {
   "cell_type": "code",
   "execution_count": null,
   "id": "ced56fe1",
   "metadata": {},
   "outputs": [],
   "source": [
    "geemap.image_stats_by_zone(dem, landcover, out_csv=\"std.csv\", reducer='STD')"
   ]
  },
  {
   "cell_type": "markdown",
   "id": "6e2a0906",
   "metadata": {},
   "source": [
    "## Coordinate grids and fishnets\n",
    "\n",
    "### Creating coordinate grids"
   ]
  },
  {
   "cell_type": "code",
   "execution_count": null,
   "id": "5a117893",
   "metadata": {},
   "outputs": [],
   "source": [
    "lat_grid = geemap.latitude_grid(step=5.0, west=-180, east=180, south=-85, north=85)"
   ]
  },
  {
   "cell_type": "code",
   "execution_count": null,
   "id": "dbeb4958",
   "metadata": {},
   "outputs": [],
   "source": [
    "Map = geemap.Map()\n",
    "style = {'fillColor': '00000000'}\n",
    "Map.addLayer(lat_grid.style(**style), {}, 'Latitude Grid')\n",
    "Map"
   ]
  },
  {
   "cell_type": "code",
   "execution_count": null,
   "id": "7ce5763a",
   "metadata": {},
   "outputs": [],
   "source": [
    "df = geemap.ee_to_df(lat_grid)\n",
    "df"
   ]
  },
  {
   "cell_type": "code",
   "execution_count": null,
   "id": "4620725e",
   "metadata": {},
   "outputs": [],
   "source": [
    "lon_grid = geemap.longitude_grid(step=5.0, west=-180, east=180, south=-85, north=85)"
   ]
  },
  {
   "cell_type": "code",
   "execution_count": null,
   "id": "bf99738b",
   "metadata": {},
   "outputs": [],
   "source": [
    "Map = geemap.Map()\n",
    "style = {'fillColor': '00000000'}\n",
    "Map.addLayer(lon_grid.style(**style), {}, 'Longitude Grid')\n",
    "Map"
   ]
  },
  {
   "cell_type": "code",
   "execution_count": null,
   "id": "609007a2",
   "metadata": {},
   "outputs": [],
   "source": [
    "grid = geemap.latlon_grid(\n",
    "    lat_step=10, lon_step=10, west=-180, east=180, south=-85, north=85\n",
    ")"
   ]
  },
  {
   "cell_type": "code",
   "execution_count": null,
   "id": "90164875",
   "metadata": {},
   "outputs": [],
   "source": [
    "Map = geemap.Map()\n",
    "style = {'fillColor': '00000000'}\n",
    "Map.addLayer(grid.style(**style), {}, 'Coordinate Grid')\n",
    "Map"
   ]
  },
  {
   "cell_type": "markdown",
   "id": "dad56808",
   "metadata": {},
   "source": [
    "### Creating fishnets"
   ]
  },
  {
   "cell_type": "code",
   "execution_count": null,
   "id": "f6176eb3",
   "metadata": {},
   "outputs": [],
   "source": [
    "Map = geemap.Map()\n",
    "Map"
   ]
  },
  {
   "cell_type": "code",
   "execution_count": null,
   "id": "fccd6e38",
   "metadata": {},
   "outputs": [],
   "source": [
    "roi = Map.user_roi\n",
    "\n",
    "if roi is None:\n",
    "    roi = ee.Geometry.BBox(-112.8089, 33.7306, -88.5951, 46.6244)\n",
    "    Map.addLayer(roi, {}, 'ROI')\n",
    "    Map.user_roi = None\n",
    "\n",
    "Map.centerObject(roi)"
   ]
  },
  {
   "cell_type": "code",
   "execution_count": null,
   "id": "53ad64cf",
   "metadata": {},
   "outputs": [],
   "source": [
    "fishnet = geemap.fishnet(roi, h_interval=2.0, v_interval=2.0, delta=1)\n",
    "style = {'color': 'blue', 'fillColor': '00000000'}\n",
    "Map.addLayer(fishnet.style(**style), {}, 'Fishnet')"
   ]
  },
  {
   "cell_type": "code",
   "execution_count": null,
   "id": "3c356425",
   "metadata": {},
   "outputs": [],
   "source": [
    "Map = geemap.Map()\n",
    "Map"
   ]
  },
  {
   "cell_type": "code",
   "execution_count": null,
   "id": "487afd1a",
   "metadata": {},
   "outputs": [],
   "source": [
    "roi = Map.user_roi\n",
    "\n",
    "if roi is None:\n",
    "    roi = ee.Geometry.Polygon(\n",
    "        [\n",
    "            [\n",
    "                [-64.602356, -1.127399],\n",
    "                [-68.821106, -12.625598],\n",
    "                [-60.647278, -22.498601],\n",
    "                [-47.815247, -21.111406],\n",
    "                [-43.860168, -8.913564],\n",
    "                [-54.582825, -0.775886],\n",
    "                [-60.823059, 0.454555],\n",
    "                [-64.602356, -1.127399],\n",
    "            ]\n",
    "        ]\n",
    "    )\n",
    "    Map.addLayer(roi, {}, 'ROI')\n",
    "\n",
    "Map.centerObject(roi)\n",
    "Map"
   ]
  },
  {
   "cell_type": "code",
   "execution_count": null,
   "id": "be958604",
   "metadata": {},
   "outputs": [],
   "source": [
    "fishnet = geemap.fishnet(roi, rows=6, cols=8, delta=1)\n",
    "style = {'color': 'blue', 'fillColor': '00000000'}\n",
    "Map.addLayer(fishnet.style(**style), {}, 'Fishnet')"
   ]
  },
  {
   "cell_type": "markdown",
   "id": "eaf65f36",
   "metadata": {},
   "source": [
    "## Extracting pixel values\n",
    "\n",
    "### Extracting values to points"
   ]
  },
  {
   "cell_type": "code",
   "execution_count": null,
   "id": "ebc3aa2b",
   "metadata": {},
   "outputs": [],
   "source": [
    "Map = geemap.Map(center=[40, -100], zoom=4)\n",
    "\n",
    "dem = ee.Image('USGS/SRTMGL1_003')\n",
    "landsat7 = ee.Image('LANDSAT/LE7_TOA_5YEAR/1999_2003')\n",
    "\n",
    "vis_params = {\n",
    "    'min': 0,\n",
    "    'max': 4000,\n",
    "    'palette': ['006633', 'E5FFCC', '662A00', 'D8D8D8', 'F5F5F5'],\n",
    "}\n",
    "\n",
    "Map.addLayer(\n",
    "    landsat7,\n",
    "    {'bands': ['B4', 'B3', 'B2'], 'min': 20, 'max': 200, 'gamma': 2},\n",
    "    'Landsat 7',\n",
    ")\n",
    "Map.addLayer(dem, vis_params, 'SRTM DEM', True, 1)\n",
    "Map"
   ]
  },
  {
   "cell_type": "code",
   "execution_count": null,
   "id": "04ff86a8",
   "metadata": {},
   "outputs": [],
   "source": [
    "in_shp = 'us_cities.shp'\n",
    "url = 'https://github.com/giswqs/data/raw/main/us/us_cities.zip'\n",
    "geemap.download_file(url)"
   ]
  },
  {
   "cell_type": "code",
   "execution_count": null,
   "id": "4878d420",
   "metadata": {},
   "outputs": [],
   "source": [
    "in_fc = geemap.shp_to_ee(in_shp)\n",
    "Map.addLayer(in_fc, {}, 'Cities')"
   ]
  },
  {
   "cell_type": "code",
   "execution_count": null,
   "id": "4ec676f0",
   "metadata": {},
   "outputs": [],
   "source": [
    "geemap.extract_values_to_points(in_fc, dem, out_fc=\"dem.shp\")"
   ]
  },
  {
   "cell_type": "code",
   "execution_count": null,
   "id": "99d66069",
   "metadata": {},
   "outputs": [],
   "source": [
    "geemap.shp_to_gdf(\"dem.shp\")"
   ]
  },
  {
   "cell_type": "code",
   "execution_count": null,
   "id": "ff551217",
   "metadata": {},
   "outputs": [],
   "source": [
    "geemap.extract_values_to_points(in_fc, landsat7, 'landsat.csv')"
   ]
  },
  {
   "cell_type": "code",
   "execution_count": null,
   "id": "ce1a21d4",
   "metadata": {},
   "outputs": [],
   "source": [
    "geemap.csv_to_df('landsat.csv')"
   ]
  },
  {
   "cell_type": "markdown",
   "id": "dab01666",
   "metadata": {},
   "source": [
    "### Extracting pixel values along a transect"
   ]
  },
  {
   "cell_type": "code",
   "execution_count": null,
   "id": "7b49edaf",
   "metadata": {},
   "outputs": [],
   "source": [
    "Map = geemap.Map(center=[40, -100], zoom=4)\n",
    "Map.add_basemap(\"TERRAIN\")\n",
    "\n",
    "image = ee.Image('USGS/SRTMGL1_003')\n",
    "vis_params = {\n",
    "    'min': 0,\n",
    "    'max': 4000,\n",
    "    'palette': ['006633', 'E5FFCC', '662A00', 'D8D8D8', 'F5F5F5'],\n",
    "}\n",
    "Map.addLayer(image, vis_params, 'SRTM DEM', True, 0.5)\n",
    "Map"
   ]
  },
  {
   "cell_type": "code",
   "execution_count": null,
   "id": "3c25b66d",
   "metadata": {},
   "outputs": [],
   "source": [
    "line = Map.user_roi\n",
    "if line is None:\n",
    "    line = ee.Geometry.LineString(\n",
    "        [[-120.2232, 36.3148], [-118.9269, 36.7121], [-117.2022, 36.7562]]\n",
    "    )\n",
    "    Map.addLayer(line, {}, \"ROI\")\n",
    "Map.centerObject(line)"
   ]
  },
  {
   "cell_type": "code",
   "execution_count": null,
   "id": "477849d5",
   "metadata": {},
   "outputs": [],
   "source": [
    "reducer = 'mean'\n",
    "transect = geemap.extract_transect(\n",
    "    image, line, n_segments=100, reducer=reducer, to_pandas=True\n",
    ")\n",
    "transect"
   ]
  },
  {
   "cell_type": "code",
   "execution_count": null,
   "id": "10806222",
   "metadata": {},
   "outputs": [],
   "source": [
    "geemap.line_chart(\n",
    "    data=transect,\n",
    "    x='distance',\n",
    "    y='mean',\n",
    "    markers=True,\n",
    "    x_label='Distance (m)',\n",
    "    y_label='Elevation (m)',\n",
    "    height=400,\n",
    ")"
   ]
  },
  {
   "cell_type": "code",
   "execution_count": null,
   "id": "2618744d",
   "metadata": {},
   "outputs": [],
   "source": [
    "transect.to_csv('transect.csv')"
   ]
  },
  {
   "cell_type": "markdown",
   "id": "d825b314",
   "metadata": {},
   "source": [
    "### Interactive region reduction"
   ]
  },
  {
   "cell_type": "code",
   "execution_count": null,
   "id": "a094aee4",
   "metadata": {},
   "outputs": [],
   "source": [
    "Map = geemap.Map()\n",
    "\n",
    "collection = (\n",
    "    ee.ImageCollection('MODIS/061/MOD13A2')\n",
    "    .filterDate('2015-01-01', '2019-12-31')\n",
    "    .select('NDVI')\n",
    ")\n",
    "\n",
    "image = collection.toBands()\n",
    "\n",
    "ndvi_vis = {\n",
    "    'min': 0.0,\n",
    "    'max': 9000.0,\n",
    "    'palette': 'ndvi',\n",
    "}\n",
    "\n",
    "Map.addLayer(image, {}, 'MODIS NDVI Time-series')\n",
    "Map.addLayer(image.select(0), ndvi_vis, 'First image')\n",
    "\n",
    "Map"
   ]
  },
  {
   "cell_type": "code",
   "execution_count": null,
   "id": "634042b8",
   "metadata": {},
   "outputs": [],
   "source": [
    "dates = geemap.image_dates(collection).getInfo()\n",
    "dates"
   ]
  },
  {
   "cell_type": "code",
   "execution_count": null,
   "id": "b1ab02fd",
   "metadata": {},
   "outputs": [],
   "source": [
    "len(dates)"
   ]
  },
  {
   "cell_type": "code",
   "execution_count": null,
   "id": "ed4bba77",
   "metadata": {},
   "outputs": [],
   "source": [
    "Map.set_plot_options(add_marker_cluster=True)\n",
    "Map.roi_reducer = ee.Reducer.mean()\n",
    "Map"
   ]
  },
  {
   "cell_type": "code",
   "execution_count": null,
   "id": "b9298d12",
   "metadata": {},
   "outputs": [],
   "source": [
    "Map.extract_values_to_points('ndvi.csv')"
   ]
  },
  {
   "cell_type": "markdown",
   "id": "d39f414f",
   "metadata": {},
   "source": [
    "## Mapping available image count"
   ]
  },
  {
   "cell_type": "code",
   "execution_count": null,
   "id": "53dd6176",
   "metadata": {},
   "outputs": [],
   "source": [
    "collection = ee.ImageCollection(\"LANDSAT/LC08/C02/T1_L2\")\n",
    "image = geemap.image_count(\n",
    "    collection, region=None, start_date='2021-01-01', end_date='2022-01-01', clip=False\n",
    ")"
   ]
  },
  {
   "cell_type": "code",
   "execution_count": null,
   "id": "6408614c",
   "metadata": {},
   "outputs": [],
   "source": [
    "Map = geemap.Map()\n",
    "vis = {'min': 0, 'max': 60, 'palette': 'coolwarm'}\n",
    "Map.addLayer(image, vis, 'Image Count')\n",
    "Map.add_colorbar(vis, label='Landsat 8 Image Count')\n",
    "\n",
    "countries = ee.FeatureCollection(geemap.examples.get_ee_path('countries'))\n",
    "style = {\"color\": \"00000088\", \"width\": 1, \"fillColor\": \"00000000\"}\n",
    "Map.addLayer(countries.style(**style), {}, \"Countries\")\n",
    "Map"
   ]
  },
  {
   "cell_type": "markdown",
   "id": "926abdd0",
   "metadata": {},
   "source": [
    "## Cloud-free composites"
   ]
  },
  {
   "cell_type": "code",
   "execution_count": null,
   "id": "ee88d0e0",
   "metadata": {},
   "outputs": [],
   "source": [
    "Map = geemap.Map()\n",
    "\n",
    "collection = ee.ImageCollection('LANDSAT/LC08/C02/T1').filterDate(\n",
    "    '2021-01-01', '2022-01-01'\n",
    ")\n",
    "\n",
    "composite = ee.Algorithms.Landsat.simpleComposite(collection)\n",
    "\n",
    "vis_params = {'bands': ['B5', 'B4', 'B3'], 'max': 128}\n",
    "\n",
    "Map.setCenter(-122.3578, 37.7726, 10)\n",
    "Map.addLayer(composite, vis_params, 'TOA composite')\n",
    "Map"
   ]
  },
  {
   "cell_type": "code",
   "execution_count": null,
   "id": "5b08b2e0",
   "metadata": {},
   "outputs": [],
   "source": [
    "customComposite = ee.Algorithms.Landsat.simpleComposite(\n",
    "    **{'collection': collection, 'percentile': 30, 'cloudScoreRange': 5}\n",
    ")\n",
    "\n",
    "Map.addLayer(customComposite, vis_params, 'Custom TOA composite')\n",
    "Map.setCenter(-105.4317, 52.5536, 11)"
   ]
  },
  {
   "cell_type": "code",
   "execution_count": null,
   "id": "c3f8808c",
   "metadata": {},
   "outputs": [],
   "source": [
    "vis_params = [\n",
    "    {'bands': ['B4', 'B3', 'B2'], 'min': 0, 'max': 128},\n",
    "    {'bands': ['B5', 'B4', 'B3'], 'min': 0, 'max': 128},\n",
    "    {'bands': ['B7', 'B6', 'B4'], 'min': 0, 'max': 128},\n",
    "    {'bands': ['B6', 'B5', 'B2'], 'min': 0, 'max': 128},\n",
    "]\n",
    "\n",
    "labels = [\n",
    "    'Natural Color (4, 3, 2)',\n",
    "    'Color Infrared (5, 4, 3)',\n",
    "    'Short-Wave Infrared (7, 6 4)',\n",
    "    'Agriculture (6, 5, 2)',\n",
    "]"
   ]
  },
  {
   "cell_type": "code",
   "execution_count": null,
   "id": "c8aaced4",
   "metadata": {},
   "outputs": [],
   "source": [
    "geemap.linked_maps(\n",
    "    rows=2,\n",
    "    cols=2,\n",
    "    height=\"300px\",\n",
    "    center=[37.7726, -122.1578],\n",
    "    zoom=9,\n",
    "    ee_objects=[composite],\n",
    "    vis_params=vis_params,\n",
    "    labels=labels,\n",
    "    label_position=\"topright\",\n",
    ")"
   ]
  },
  {
   "cell_type": "markdown",
   "id": "d0a9207b",
   "metadata": {},
   "source": [
    "## Quality mosaicking"
   ]
  },
  {
   "cell_type": "code",
   "execution_count": null,
   "id": "0fdc2465",
   "metadata": {},
   "outputs": [],
   "source": [
    "Map = geemap.Map(center=[40, -100], zoom=4)\n",
    "countries = ee.FeatureCollection(geemap.examples.get_ee_path('countries'))\n",
    "roi = countries.filter(ee.Filter.eq('ISO_A3', 'USA'))\n",
    "Map.addLayer(roi, {}, 'roi')\n",
    "Map"
   ]
  },
  {
   "cell_type": "code",
   "execution_count": null,
   "id": "a49b9a33",
   "metadata": {},
   "outputs": [],
   "source": [
    "start_date = '2020-01-01'\n",
    "end_date = '2021-01-01'\n",
    "collection = (\n",
    "    ee.ImageCollection('LANDSAT/LC08/C01/T1_TOA')\n",
    "    .filterBounds(roi)\n",
    "    .filterDate(start_date, end_date)\n",
    ")"
   ]
  },
  {
   "cell_type": "code",
   "execution_count": null,
   "id": "b0c072d8",
   "metadata": {},
   "outputs": [],
   "source": [
    "median = collection.median()\n",
    "vis_rgb = {\n",
    "    'bands': ['B4', 'B3', 'B2'],\n",
    "    'min': 0,\n",
    "    'max': 0.4,\n",
    "}\n",
    "Map.addLayer(median, vis_rgb, 'Median')\n",
    "Map"
   ]
  },
  {
   "cell_type": "code",
   "execution_count": null,
   "id": "2c2d5ef9",
   "metadata": {},
   "outputs": [],
   "source": [
    "def add_ndvi(image):\n",
    "    ndvi = image.normalizedDifference(['B5', 'B4']).rename('NDVI')\n",
    "    return image.addBands(ndvi)"
   ]
  },
  {
   "cell_type": "code",
   "execution_count": null,
   "id": "96a21fb3",
   "metadata": {},
   "outputs": [],
   "source": [
    "def add_time(image):\n",
    "    date = ee.Date(image.date())\n",
    "\n",
    "    img_date = ee.Number.parse(date.format('YYYYMMdd'))\n",
    "    image = image.addBands(ee.Image(img_date).rename('date').toInt())\n",
    "\n",
    "    img_month = ee.Number.parse(date.format('M'))\n",
    "    image = image.addBands(ee.Image(img_month).rename('month').toInt())\n",
    "\n",
    "    img_doy = ee.Number.parse(date.format('D'))\n",
    "    image = image.addBands(ee.Image(img_doy).rename('doy').toInt())\n",
    "\n",
    "    return image"
   ]
  },
  {
   "cell_type": "code",
   "execution_count": null,
   "id": "9cb0af0f",
   "metadata": {},
   "outputs": [],
   "source": [
    "images = collection.map(add_ndvi).map(add_time)"
   ]
  },
  {
   "cell_type": "code",
   "execution_count": null,
   "id": "afe87b23",
   "metadata": {},
   "outputs": [],
   "source": [
    "greenest = images.qualityMosaic('NDVI')"
   ]
  },
  {
   "cell_type": "code",
   "execution_count": null,
   "id": "f032f3f4",
   "metadata": {},
   "outputs": [],
   "source": [
    "greenest.bandNames()"
   ]
  },
  {
   "cell_type": "code",
   "execution_count": null,
   "id": "40d087bc",
   "metadata": {},
   "outputs": [],
   "source": [
    "ndvi = greenest.select('NDVI')\n",
    "vis_ndvi = {'min': 0, 'max': 1, 'palette': 'ndvi'}\n",
    "Map.addLayer(ndvi, vis_ndvi, 'NDVI')\n",
    "Map.add_colorbar(vis_ndvi, label='NDVI', layer_name='NDVI')\n",
    "Map"
   ]
  },
  {
   "cell_type": "code",
   "execution_count": null,
   "id": "6294fe3d",
   "metadata": {},
   "outputs": [],
   "source": [
    "Map.addLayer(greenest, vis_rgb, 'Greenest pixel')"
   ]
  },
  {
   "cell_type": "code",
   "execution_count": null,
   "id": "39fd0d81",
   "metadata": {},
   "outputs": [],
   "source": [
    "vis_month = {'palette': ['red', 'blue'], 'min': 1, 'max': 12}\n",
    "Map.addLayer(greenest.select('month'), vis_month, 'Greenest month')\n",
    "Map.add_colorbar(vis_month, label='Month', layer_name='Greenest month')"
   ]
  },
  {
   "cell_type": "code",
   "execution_count": null,
   "id": "698faccd",
   "metadata": {},
   "outputs": [],
   "source": [
    "vis_doy = {'palette': ['brown', 'green'], 'min': 1, 'max': 365}\n",
    "Map.addLayer(greenest.select('doy'), vis_doy, 'Greenest doy')\n",
    "Map.add_colorbar(vis_doy, label='Day of year', layer_name='Greenest doy')"
   ]
  },
  {
   "cell_type": "markdown",
   "id": "97aa226e",
   "metadata": {},
   "source": [
    "## Interactive charts\n",
    "\n",
    "### Chart Overview\n",
    "\n",
    "### Data table charts"
   ]
  },
  {
   "cell_type": "code",
   "execution_count": null,
   "id": "644c1a0a",
   "metadata": {},
   "outputs": [],
   "source": [
    "data = geemap.examples.get_path('countries.geojson')\n",
    "df = geemap.geojson_to_df(data)\n",
    "df.head()"
   ]
  },
  {
   "cell_type": "code",
   "execution_count": null,
   "id": "b49fdbe3",
   "metadata": {},
   "outputs": [],
   "source": [
    "geemap.bar_chart(\n",
    "    data=df,\n",
    "    x='NAME',\n",
    "    y='POP_EST',\n",
    "    x_label='Country',\n",
    "    y_label='Population',\n",
    "    descending=True,\n",
    "    max_rows=30,\n",
    "    title='World Population',\n",
    "    height=500,\n",
    "    layout_args={'title_x': 0.5, 'title_y': 0.85},\n",
    ")"
   ]
  },
  {
   "cell_type": "code",
   "execution_count": null,
   "id": "58290369",
   "metadata": {},
   "outputs": [],
   "source": [
    "geemap.pie_chart(\n",
    "    data=df,\n",
    "    names='NAME',\n",
    "    values='POP_EST',\n",
    "    max_rows=30,\n",
    "    height=600,\n",
    "    title='World Population',\n",
    "    legend_title='Country',\n",
    "    layout_args={'title_x': 0.47, 'title_y': 0.87},\n",
    ")"
   ]
  },
  {
   "cell_type": "code",
   "execution_count": null,
   "id": "2052f270",
   "metadata": {},
   "outputs": [],
   "source": [
    "data = geemap.examples.get_path('life_exp.csv')\n",
    "df = geemap.csv_to_df(data)\n",
    "df = df[df['continent'] == 'Oceania']\n",
    "df.head()"
   ]
  },
  {
   "cell_type": "code",
   "execution_count": null,
   "id": "d327f3c9",
   "metadata": {},
   "outputs": [],
   "source": [
    "geemap.line_chart(\n",
    "    df,\n",
    "    x='year',\n",
    "    y='lifeExp',\n",
    "    color='country',\n",
    "    x_label='Year',\n",
    "    y_label='Life expectancy',\n",
    "    legend_title='Country',\n",
    "    height=400,\n",
    "    markers=True,\n",
    ")"
   ]
  },
  {
   "cell_type": "markdown",
   "id": "ea55f488",
   "metadata": {},
   "source": [
    "### Earth Engine object charts"
   ]
  },
  {
   "cell_type": "code",
   "execution_count": null,
   "id": "1dae06ec",
   "metadata": {},
   "outputs": [],
   "source": [
    "import geemap.chart as chart"
   ]
  },
  {
   "cell_type": "code",
   "execution_count": null,
   "id": "07493560",
   "metadata": {},
   "outputs": [],
   "source": [
    "Map = geemap.Map(center=[40, -100], zoom=4)\n",
    "collection = ee.FeatureCollection('projects/google/charts_feature_example')\n",
    "Map.addLayer(collection, {}, \"Ecoregions\")\n",
    "Map"
   ]
  },
  {
   "cell_type": "markdown",
   "id": "a4d2e9b1",
   "metadata": {},
   "source": [
    "#### Chart by feature"
   ]
  },
  {
   "cell_type": "code",
   "execution_count": null,
   "id": "5d25178d",
   "metadata": {},
   "outputs": [],
   "source": [
    "features = collection.select('[0-9][0-9]_tmean|label')\n",
    "df = geemap.ee_to_df(features, sort_columns=True)\n",
    "df"
   ]
  },
  {
   "cell_type": "code",
   "execution_count": null,
   "id": "37388b5c",
   "metadata": {},
   "outputs": [],
   "source": [
    "xProperty = \"label\"\n",
    "yProperties = df.columns[:12]\n",
    "\n",
    "labels = [\n",
    "    'Jan',\n",
    "    'Feb',\n",
    "    'Mar',\n",
    "    'Apr',\n",
    "    'May',\n",
    "    'Jun',\n",
    "    'Jul',\n",
    "    'Aug',\n",
    "    'Sep',\n",
    "    'Oct',\n",
    "    'Nov',\n",
    "    'Dec',\n",
    "]\n",
    "colors = [\n",
    "    '#604791',\n",
    "    '#1d6b99',\n",
    "    '#39a8a7',\n",
    "    '#0f8755',\n",
    "    '#76b349',\n",
    "    '#f0af07',\n",
    "    '#e37d05',\n",
    "    '#cf513e',\n",
    "    '#96356f',\n",
    "    '#724173',\n",
    "    '#9c4f97',\n",
    "    '#696969',\n",
    "]\n",
    "title = \"Average Monthly Temperature by Ecoregion\"\n",
    "xlabel = \"Ecoregion\"\n",
    "ylabel = \"Temperature\""
   ]
  },
  {
   "cell_type": "code",
   "execution_count": null,
   "id": "fc8e7e2f",
   "metadata": {},
   "outputs": [],
   "source": [
    "options = {\n",
    "    \"labels\": labels,\n",
    "    \"colors\": colors,\n",
    "    \"title\": title,\n",
    "    \"xlabel\": xlabel,\n",
    "    \"ylabel\": ylabel,\n",
    "    \"legend_location\": \"top-left\",\n",
    "    \"height\": \"500px\",\n",
    "}"
   ]
  },
  {
   "cell_type": "code",
   "execution_count": null,
   "id": "70f039c7",
   "metadata": {},
   "outputs": [],
   "source": [
    "chart.feature_byFeature(features, xProperty, yProperties, **options)"
   ]
  },
  {
   "cell_type": "markdown",
   "id": "f0b60ebb",
   "metadata": {},
   "source": [
    "#### Chart by property"
   ]
  },
  {
   "cell_type": "code",
   "execution_count": null,
   "id": "681bf091",
   "metadata": {},
   "outputs": [],
   "source": [
    "features = collection.select('[0-9][0-9]_ppt|label')\n",
    "df = geemap.ee_to_df(features, sort_columns=True)\n",
    "df"
   ]
  },
  {
   "cell_type": "code",
   "execution_count": null,
   "id": "e50ded01",
   "metadata": {},
   "outputs": [],
   "source": [
    "keys = df.columns[:12]\n",
    "values = [\n",
    "    'Jan',\n",
    "    'Feb',\n",
    "    'Mar',\n",
    "    'Apr',\n",
    "    'May',\n",
    "    'Jun',\n",
    "    'Jul',\n",
    "    'Aug',\n",
    "    'Sep',\n",
    "    'Oct',\n",
    "    'Nov',\n",
    "    'Dec',\n",
    "]\n",
    "xProperties = dict(zip(keys, values))\n",
    "seriesProperty = \"label\""
   ]
  },
  {
   "cell_type": "code",
   "execution_count": null,
   "id": "b188ec6e",
   "metadata": {},
   "outputs": [],
   "source": [
    "options = {\n",
    "    'title': \"Average Ecoregion Precipitation by Month\",\n",
    "    'colors': ['#f0af07', '#0f8755', '#76b349'],\n",
    "    'xlabel': \"Month\",\n",
    "    'ylabel': \"Precipitation (mm)\",\n",
    "    'legend_location': \"top-left\",\n",
    "    \"height\": \"500px\",\n",
    "}"
   ]
  },
  {
   "cell_type": "code",
   "execution_count": null,
   "id": "88e11019",
   "metadata": {},
   "outputs": [],
   "source": [
    "chart.feature_byProperty(features, xProperties, seriesProperty, **options)"
   ]
  },
  {
   "cell_type": "markdown",
   "id": "b03dc5ad",
   "metadata": {},
   "source": [
    "#### Feature histograms"
   ]
  },
  {
   "cell_type": "code",
   "execution_count": null,
   "id": "213e672f",
   "metadata": {},
   "outputs": [],
   "source": [
    "source = ee.ImageCollection('OREGONSTATE/PRISM/Norm81m').toBands()\n",
    "region = ee.Geometry.Rectangle(-123.41, 40.43, -116.38, 45.14)\n",
    "samples = source.sample(region, 5000)\n",
    "prop = '07_ppt'"
   ]
  },
  {
   "cell_type": "code",
   "execution_count": null,
   "id": "9305dbf1",
   "metadata": {},
   "outputs": [],
   "source": [
    "options = {\n",
    "    \"title\": 'July Precipitation Distribution for NW USA',\n",
    "    \"xlabel\": 'Precipitation (mm)',\n",
    "    \"ylabel\": 'Pixel count',\n",
    "    \"colors\": ['#1d6b99'],\n",
    "}"
   ]
  },
  {
   "cell_type": "code",
   "execution_count": null,
   "id": "56af0854",
   "metadata": {},
   "outputs": [],
   "source": [
    "chart.feature_histogram(samples, prop, **options)"
   ]
  },
  {
   "cell_type": "code",
   "execution_count": null,
   "id": "75df793d",
   "metadata": {},
   "outputs": [],
   "source": [
    "chart.feature_histogram(samples, prop, maxBuckets=30, **options)"
   ]
  },
  {
   "cell_type": "code",
   "execution_count": null,
   "id": "20cabadc",
   "metadata": {},
   "outputs": [],
   "source": [
    "chart.feature_histogram(samples, prop, minBucketWidth=0.5, **options)"
   ]
  },
  {
   "cell_type": "code",
   "execution_count": null,
   "id": "17ff5301",
   "metadata": {},
   "outputs": [],
   "source": [
    "chart.feature_histogram(samples, prop, minBucketWidth=3, maxBuckets=30, **options)"
   ]
  },
  {
   "cell_type": "markdown",
   "id": "a32f9ed1",
   "metadata": {},
   "source": [
    "## Unsupervised classification"
   ]
  },
  {
   "cell_type": "code",
   "execution_count": null,
   "id": "b7325629",
   "metadata": {},
   "outputs": [],
   "source": [
    "Map = geemap.Map()\n",
    "\n",
    "point = ee.Geometry.Point([-88.0664, 41.9411])\n",
    "\n",
    "image = (\n",
    "    ee.ImageCollection('LANDSAT/LC09/C02/T1_L2')\n",
    "    .filterBounds(point)\n",
    "    .filterDate('2022-01-01', '2022-12-31')\n",
    "    .sort('CLOUD_COVER')\n",
    "    .first()\n",
    "    .select('SR_B[1-7]')\n",
    ")\n",
    "\n",
    "region = image.geometry()\n",
    "image = image.multiply(0.0000275).add(-0.2).set(image.toDictionary())\n",
    "vis_params = {'min': 0, 'max': 0.3, 'bands': ['SR_B5', 'SR_B4', 'SR_B3']}\n",
    "\n",
    "Map.centerObject(region, 8)\n",
    "Map.addLayer(image, vis_params, \"Landsat-9\")\n",
    "Map"
   ]
  },
  {
   "cell_type": "code",
   "execution_count": null,
   "id": "d2c8f415",
   "metadata": {},
   "outputs": [],
   "source": [
    "geemap.get_info(image)"
   ]
  },
  {
   "cell_type": "code",
   "execution_count": null,
   "id": "994df2c7",
   "metadata": {},
   "outputs": [],
   "source": [
    "image.get('DATE_ACQUIRED').getInfo()"
   ]
  },
  {
   "cell_type": "code",
   "execution_count": null,
   "id": "a2d87815",
   "metadata": {},
   "outputs": [],
   "source": [
    "image.get('CLOUD_COVER').getInfo()"
   ]
  },
  {
   "cell_type": "code",
   "execution_count": null,
   "id": "4ebebe53",
   "metadata": {},
   "outputs": [],
   "source": [
    "training = image.sample(\n",
    "    **{\n",
    "        # \"region\": region,\n",
    "        'scale': 30,\n",
    "        'numPixels': 5000,\n",
    "        'seed': 0,\n",
    "        'geometries': True,  # Set this to False to ignore geometries\n",
    "    }\n",
    ")\n",
    "\n",
    "Map.addLayer(training, {}, 'Training samples')\n",
    "Map"
   ]
  },
  {
   "cell_type": "code",
   "execution_count": null,
   "id": "0fb72002",
   "metadata": {},
   "outputs": [],
   "source": [
    "geemap.ee_to_df(training.limit(5))"
   ]
  },
  {
   "cell_type": "code",
   "execution_count": null,
   "id": "79b3e7c2",
   "metadata": {},
   "outputs": [],
   "source": [
    "n_clusters = 5\n",
    "clusterer = ee.Clusterer.wekaKMeans(n_clusters).train(training)"
   ]
  },
  {
   "cell_type": "code",
   "execution_count": null,
   "id": "905d5529",
   "metadata": {},
   "outputs": [],
   "source": [
    "result = image.cluster(clusterer)\n",
    "Map.addLayer(result.randomVisualizer(), {}, 'clusters')\n",
    "Map"
   ]
  },
  {
   "cell_type": "code",
   "execution_count": null,
   "id": "6c9601c8",
   "metadata": {},
   "outputs": [],
   "source": [
    "legend_dict = {\n",
    "    'Open Water': '#466b9f',\n",
    "    'Developed, High Intensity': '#ab0000',\n",
    "    'Developed, Low Intensity': '#d99282',\n",
    "    'Forest': '#1c5f2c',\n",
    "    'Cropland': '#ab6c28'\n",
    "\n",
    "}\n",
    "\n",
    "palette = list(legend_dict.values())\n",
    "\n",
    "Map.addLayer(\n",
    "    result, {'min': 0, 'max': 4, 'palette': palette}, 'Labelled clusters'\n",
    ")\n",
    "Map.add_legend(title='Land Cover Type',legend_dict=legend_dict , position='bottomright')\n",
    "Map"
   ]
  },
  {
   "cell_type": "code",
   "execution_count": null,
   "id": "f7893a52",
   "metadata": {},
   "outputs": [],
   "source": [
    "geemap.download_ee_image(image, filename='unsupervised.tif', region=region, scale=90)"
   ]
  },
  {
   "cell_type": "markdown",
   "id": "e24a8c91",
   "metadata": {},
   "source": [
    "## Supervised classification"
   ]
  },
  {
   "cell_type": "code",
   "execution_count": null,
   "id": "24f522ce",
   "metadata": {},
   "outputs": [],
   "source": [
    "Map = geemap.Map()\n",
    "point = ee.Geometry.Point([-122.4439, 37.7538])\n",
    "\n",
    "image = (\n",
    "    ee.ImageCollection('LANDSAT/LC08/C02/T1_L2')\n",
    "    .filterBounds(point)\n",
    "    .filterDate('2019-01-01', '2020-01-01')\n",
    "    .sort('CLOUD_COVER')\n",
    "    .first()\n",
    "    .select('SR_B[1-7]')\n",
    ")\n",
    "\n",
    "image = image.multiply(0.0000275).add(-0.2).set(image.toDictionary())\n",
    "vis_params = {'min': 0, 'max': 0.3, 'bands': ['SR_B5', 'SR_B4', 'SR_B3']}\n",
    "\n",
    "Map.centerObject(point, 8)\n",
    "Map.addLayer(image, vis_params, \"Landsat-8\")\n",
    "Map"
   ]
  },
  {
   "cell_type": "code",
   "execution_count": null,
   "id": "8b9e1efe",
   "metadata": {},
   "outputs": [],
   "source": [
    "geemap.get_info(image)"
   ]
  },
  {
   "cell_type": "code",
   "execution_count": null,
   "id": "9066ae67",
   "metadata": {},
   "outputs": [],
   "source": [
    "image.get('DATE_ACQUIRED').getInfo()"
   ]
  },
  {
   "cell_type": "code",
   "execution_count": null,
   "id": "38edcdf1",
   "metadata": {},
   "outputs": [],
   "source": [
    "image.get('CLOUD_COVER').getInfo()"
   ]
  },
  {
   "cell_type": "code",
   "execution_count": null,
   "id": "a325f5dc",
   "metadata": {},
   "outputs": [],
   "source": [
    "nlcd = ee.Image('USGS/NLCD_RELEASES/2019_REL/NLCD/2019')\n",
    "landcover = nlcd.select('landcover').clip(image.geometry())\n",
    "Map.addLayer(landcover, {}, 'NLCD Landcover')\n",
    "Map"
   ]
  },
  {
   "cell_type": "code",
   "execution_count": null,
   "id": "c8069878",
   "metadata": {},
   "outputs": [],
   "source": [
    "points = landcover.sample(\n",
    "    **{\n",
    "        'region': image.geometry(),\n",
    "        'scale': 30,\n",
    "        'numPixels': 5000,\n",
    "        'seed': 0,\n",
    "        'geometries': True,\n",
    "    }\n",
    ")\n",
    "\n",
    "Map.addLayer(points, {}, 'training', False)"
   ]
  },
  {
   "cell_type": "code",
   "execution_count": null,
   "id": "35376d79",
   "metadata": {},
   "outputs": [],
   "source": [
    "print(points.size().getInfo())"
   ]
  },
  {
   "cell_type": "code",
   "execution_count": null,
   "id": "72257bf3",
   "metadata": {},
   "outputs": [],
   "source": [
    "bands = ['SR_B1', 'SR_B2', 'SR_B3', 'SR_B4', 'SR_B5', 'SR_B6', 'SR_B7']\n",
    "label = 'landcover'\n",
    "features = image.select(bands).sampleRegions(\n",
    "    **{'collection': points, 'properties': [label], 'scale': 30}\n",
    ")"
   ]
  },
  {
   "cell_type": "code",
   "execution_count": null,
   "id": "db88813e",
   "metadata": {},
   "outputs": [],
   "source": [
    "geemap.ee_to_df(features.limit(5))"
   ]
  },
  {
   "cell_type": "code",
   "execution_count": null,
   "id": "919d202d",
   "metadata": {},
   "outputs": [],
   "source": [
    "params = {\n",
    "\n",
    "    'features': features,\n",
    "    'classProperty': label,\n",
    "    'inputProperties': bands,\n",
    "\n",
    "}\n",
    "classifier = ee.Classifier.smileCart(maxNodes=None).train(**params)"
   ]
  },
  {
   "cell_type": "code",
   "execution_count": null,
   "id": "ea0e7e79",
   "metadata": {},
   "outputs": [],
   "source": [
    "classified = image.select(bands).classify(classifier).rename('landcover')\n",
    "Map.addLayer(classified.randomVisualizer(), {}, 'Classified')\n",
    "Map"
   ]
  },
  {
   "cell_type": "code",
   "execution_count": null,
   "id": "285337df",
   "metadata": {},
   "outputs": [],
   "source": [
    "geemap.get_info(nlcd)"
   ]
  },
  {
   "cell_type": "code",
   "execution_count": null,
   "id": "174a0f44",
   "metadata": {},
   "outputs": [],
   "source": [
    "class_values = nlcd.get('landcover_class_values')\n",
    "class_palette = nlcd.get('landcover_class_palette')\n",
    "classified = classified.set({\n",
    "    'landcover_class_values': class_values,\n",
    "    'landcover_class_palette': class_palette\n",
    "})"
   ]
  },
  {
   "cell_type": "code",
   "execution_count": null,
   "id": "e411c4f5",
   "metadata": {},
   "outputs": [],
   "source": [
    "Map.addLayer(classified, {}, 'Land cover')\n",
    "Map.add_legend(title=\"Land cover type\", builtin_legend='NLCD')\n",
    "Map"
   ]
  },
  {
   "cell_type": "code",
   "execution_count": null,
   "id": "64f603fa",
   "metadata": {},
   "outputs": [],
   "source": [
    "geemap.download_ee_image(\n",
    "    landcover,\n",
    "    filename='supervised.tif',\n",
    "    region=image.geometry(),\n",
    "    scale=30\n",
    "    )"
   ]
  },
  {
   "cell_type": "markdown",
   "id": "f5e942d6",
   "metadata": {},
   "source": [
    "## Accuracy assessment"
   ]
  },
  {
   "cell_type": "code",
   "execution_count": null,
   "id": "009881c6",
   "metadata": {},
   "outputs": [],
   "source": [
    "Map = geemap.Map()\n",
    "point = ee.Geometry.Point([-122.4439, 37.7538])\n",
    "\n",
    "img = (\n",
    "    ee.ImageCollection('COPERNICUS/S2_SR')\n",
    "    .filterBounds(point)\n",
    "    .filterDate('2020-01-01', '2021-01-01')\n",
    "    .sort('CLOUDY_PIXEL_PERCENTAGE')\n",
    "    .first()\n",
    "    .select('B.*')\n",
    ")\n",
    "\n",
    "vis_params = {'min': 100, 'max': 3500, 'bands': ['B11',  'B8',  'B3']}\n",
    "\n",
    "Map.centerObject(point, 9)\n",
    "Map.addLayer(img, vis_params, \"Sentinel-2\")\n",
    "Map"
   ]
  },
  {
   "cell_type": "code",
   "execution_count": null,
   "id": "97fd6eb7",
   "metadata": {},
   "outputs": [],
   "source": [
    "lc = ee.Image('ESA/WorldCover/v100/2020')\n",
    "classValues = [10, 20, 30, 40, 50, 60, 70, 80, 90, 95, 100]\n",
    "remapValues = ee.List.sequence(0, 10)\n",
    "label = 'lc'\n",
    "lc = lc.remap(classValues, remapValues).rename(label).toByte()"
   ]
  },
  {
   "cell_type": "code",
   "execution_count": null,
   "id": "bbd75174",
   "metadata": {},
   "outputs": [],
   "source": [
    "sample = img.addBands(lc).stratifiedSample(**{\n",
    "  'numPoints': 100,\n",
    "  'classBand': label,\n",
    "  'region': img.geometry(),\n",
    "  'scale': 10,\n",
    "  'geometries': True\n",
    "})"
   ]
  },
  {
   "cell_type": "code",
   "execution_count": null,
   "id": "20244983",
   "metadata": {},
   "outputs": [],
   "source": [
    "sample = sample.randomColumn()\n",
    "trainingSample = sample.filter('random <= 0.8')\n",
    "validationSample = sample.filter('random > 0.8')"
   ]
  },
  {
   "cell_type": "code",
   "execution_count": null,
   "id": "b2494103",
   "metadata": {},
   "outputs": [],
   "source": [
    "trainedClassifier = ee.Classifier.smileRandomForest(numberOfTrees=10).train(**{\n",
    "  'features': trainingSample,\n",
    "  'classProperty': label,\n",
    "  'inputProperties': img.bandNames()\n",
    "})"
   ]
  },
  {
   "cell_type": "code",
   "execution_count": null,
   "id": "73ff82da",
   "metadata": {},
   "outputs": [],
   "source": [
    "print('Results of trained classifier', trainedClassifier.explain().getInfo())"
   ]
  },
  {
   "cell_type": "code",
   "execution_count": null,
   "id": "59c049f5",
   "metadata": {},
   "outputs": [],
   "source": [
    "trainAccuracy = trainedClassifier.confusionMatrix()\n",
    "trainAccuracy.getInfo()"
   ]
  },
  {
   "cell_type": "code",
   "execution_count": null,
   "id": "dc63bd5a",
   "metadata": {},
   "outputs": [],
   "source": [
    "trainAccuracy.accuracy().getInfo()"
   ]
  },
  {
   "cell_type": "code",
   "execution_count": null,
   "id": "a89be95d",
   "metadata": {},
   "outputs": [],
   "source": [
    "trainAccuracy.kappa().getInfo()"
   ]
  },
  {
   "cell_type": "code",
   "execution_count": null,
   "id": "76a09f85",
   "metadata": {},
   "outputs": [],
   "source": [
    "validationSample = validationSample.classify(trainedClassifier)\n",
    "validationAccuracy = validationSample.errorMatrix(label, 'classification')\n",
    "validationAccuracy.getInfo()"
   ]
  },
  {
   "cell_type": "code",
   "execution_count": null,
   "id": "5f931c8d",
   "metadata": {},
   "outputs": [],
   "source": [
    "validationAccuracy.accuracy().getInfo()"
   ]
  },
  {
   "cell_type": "code",
   "execution_count": null,
   "id": "2cade0fe",
   "metadata": {},
   "outputs": [],
   "source": [
    "validationAccuracy.producersAccuracy().getInfo()"
   ]
  },
  {
   "cell_type": "code",
   "execution_count": null,
   "id": "452f0e4f",
   "metadata": {},
   "outputs": [],
   "source": [
    "validationAccuracy.consumersAccuracy().getInfo()"
   ]
  },
  {
   "cell_type": "code",
   "execution_count": null,
   "id": "77a84cfa",
   "metadata": {},
   "outputs": [],
   "source": [
    "import csv\n",
    "\n",
    "with open(\"training.csv\", \"w\", newline=\"\") as f:\n",
    "    writer = csv.writer(f)\n",
    "    writer.writerows(trainAccuracy.getInfo())\n",
    "\n",
    "with open(\"validation.csv\", \"w\", newline=\"\") as f:\n",
    "    writer = csv.writer(f)\n",
    "    writer.writerows(validationAccuracy.getInfo())"
   ]
  },
  {
   "cell_type": "code",
   "execution_count": null,
   "id": "ae46dc6c",
   "metadata": {},
   "outputs": [],
   "source": [
    "imgClassified = img.classify(trainedClassifier)"
   ]
  },
  {
   "cell_type": "code",
   "execution_count": null,
   "id": "b36b0f31",
   "metadata": {},
   "outputs": [],
   "source": [
    "classVis = {\n",
    "  'min': 0,\n",
    "  'max': 10,\n",
    "  'palette': ['006400' ,'ffbb22', 'ffff4c', 'f096ff', 'fa0000', 'b4b4b4',\n",
    "            'f0f0f0', '0064c8', '0096a0', '00cf75', 'fae6a0']\n",
    "}\n",
    "Map.addLayer(lc, classVis, 'ESA Land Cover', False)\n",
    "Map.addLayer(imgClassified, classVis, 'Classified')\n",
    "Map.addLayer(trainingSample, {'color': 'black'}, 'Training sample')\n",
    "Map.addLayer(validationSample, {'color': 'white'}, 'Validation sample')\n",
    "Map.add_legend(title='Land Cover Type', builtin_legend='ESA_WorldCover')\n",
    "Map.centerObject(img)\n",
    "Map"
   ]
  },
  {
   "cell_type": "markdown",
   "id": "327bae28",
   "metadata": {},
   "source": [
    "## Using locally trained machine learning models"
   ]
  },
  {
   "cell_type": "code",
   "execution_count": null,
   "id": "2eda88d1",
   "metadata": {},
   "outputs": [],
   "source": [
    "import pandas as pd\n",
    "from geemap import ml\n",
    "from sklearn import ensemble"
   ]
  },
  {
   "cell_type": "markdown",
   "id": "7dea2eb8",
   "metadata": {},
   "source": [
    "### Train a model locally using scikit-learn"
   ]
  },
  {
   "cell_type": "code",
   "execution_count": null,
   "id": "38e204bd",
   "metadata": {},
   "outputs": [],
   "source": [
    "url = \"https://raw.githubusercontent.com/gee-community/geemap/master/examples/data/rf_example.csv\"\n",
    "df = pd.read_csv(url)\n",
    "df"
   ]
  },
  {
   "cell_type": "code",
   "execution_count": null,
   "id": "3f33aff0",
   "metadata": {},
   "outputs": [],
   "source": [
    "feature_names = ['B2', 'B3', 'B4', 'B5', 'B6', 'B7']\n",
    "label = \"landcover\""
   ]
  },
  {
   "cell_type": "code",
   "execution_count": null,
   "id": "dd0da3cd",
   "metadata": {},
   "outputs": [],
   "source": [
    "X = df[feature_names]\n",
    "y = df[label]\n",
    "n_trees = 10\n",
    "rf = ensemble.RandomForestClassifier(n_trees).fit(X, y)"
   ]
  },
  {
   "cell_type": "markdown",
   "id": "518a8545",
   "metadata": {},
   "source": [
    "### Convert a sklearn classifier object to a list of strings"
   ]
  },
  {
   "cell_type": "code",
   "execution_count": null,
   "id": "e29714f6",
   "metadata": {},
   "outputs": [],
   "source": [
    "trees = ml.rf_to_strings(rf, feature_names)"
   ]
  },
  {
   "cell_type": "code",
   "execution_count": null,
   "id": "d7c1d904",
   "metadata": {},
   "outputs": [],
   "source": [
    "print(len(trees))"
   ]
  },
  {
   "cell_type": "code",
   "execution_count": null,
   "id": "6c93e478",
   "metadata": {},
   "outputs": [],
   "source": [
    "print(trees[0])"
   ]
  },
  {
   "cell_type": "markdown",
   "id": "01c8cd40",
   "metadata": {},
   "source": [
    "### Convert sklearn classifier to GEE classifier"
   ]
  },
  {
   "cell_type": "code",
   "execution_count": null,
   "id": "47e59266",
   "metadata": {},
   "outputs": [],
   "source": [
    "ee_classifier = ml.strings_to_classifier(trees)\n",
    "ee_classifier.getInfo()"
   ]
  },
  {
   "cell_type": "markdown",
   "id": "3e3fe624",
   "metadata": {},
   "source": [
    "### Classify image using GEE classifier"
   ]
  },
  {
   "cell_type": "code",
   "execution_count": null,
   "id": "ff775123",
   "metadata": {},
   "outputs": [],
   "source": [
    "# Make a cloud-free Landsat 8 TOA composite (from raw imagery).\n",
    "l8 = ee.ImageCollection('LANDSAT/LC08/C01/T1')\n",
    "\n",
    "image = ee.Algorithms.Landsat.simpleComposite(\n",
    "    collection=l8.filterDate('2018-01-01', '2018-12-31'), asFloat=True\n",
    ")"
   ]
  },
  {
   "cell_type": "code",
   "execution_count": null,
   "id": "451c5318",
   "metadata": {},
   "outputs": [],
   "source": [
    "classified = image.select(feature_names).classify(ee_classifier)"
   ]
  },
  {
   "cell_type": "code",
   "execution_count": null,
   "id": "ad2de1eb",
   "metadata": {},
   "outputs": [],
   "source": [
    "Map = geemap.Map(center=(37.75, -122.25), zoom=11)\n",
    "\n",
    "Map.addLayer(\n",
    "    image,\n",
    "    {\"bands\": ['B7', 'B5', 'B3'], \"min\": 0.05, \"max\": 0.55, \"gamma\": 1.5},\n",
    "    'image',\n",
    ")\n",
    "Map.addLayer(\n",
    "    classified,\n",
    "    {\"min\": 0, \"max\": 2, \"palette\": ['red', 'green', 'blue']},\n",
    "    'classification',\n",
    ")\n",
    "Map"
   ]
  },
  {
   "cell_type": "markdown",
   "id": "f8596595",
   "metadata": {},
   "source": [
    "### Save trees to the cloud"
   ]
  },
  {
   "cell_type": "code",
   "execution_count": null,
   "id": "3b285917",
   "metadata": {},
   "outputs": [],
   "source": [
    "user_id = geemap.ee_user_id()\n",
    "asset_id = user_id + \"/random_forest_strings_test\"\n",
    "asset_id"
   ]
  },
  {
   "cell_type": "code",
   "execution_count": null,
   "id": "87425fd9",
   "metadata": {},
   "outputs": [],
   "source": [
    "ml.export_trees_to_fc(trees, asset_id)"
   ]
  },
  {
   "cell_type": "code",
   "execution_count": null,
   "id": "f86bc585",
   "metadata": {},
   "outputs": [],
   "source": [
    "rf_fc = ee.FeatureCollection(asset_id)\n",
    "another_classifier = ml.fc_to_classifier(rf_fc)\n",
    "classified = image.select(feature_names).classify(another_classifier)"
   ]
  },
  {
   "cell_type": "markdown",
   "id": "4059056d",
   "metadata": {},
   "source": [
    "### Save trees locally"
   ]
  },
  {
   "cell_type": "code",
   "execution_count": null,
   "id": "a44bc42d",
   "metadata": {},
   "outputs": [],
   "source": [
    "out_csv = \"trees.csv\"\n",
    "ml.trees_to_csv(trees, out_csv)\n",
    "another_classifier = ml.csv_to_classifier(out_csv)\n",
    "classified = image.select(feature_names).classify(another_classifier)"
   ]
  },
  {
   "cell_type": "markdown",
   "id": "fdd73636",
   "metadata": {},
   "source": [
    "## Sankey diagrams"
   ]
  },
  {
   "cell_type": "code",
   "execution_count": null,
   "id": "b4263b7f",
   "metadata": {},
   "outputs": [],
   "source": [
    "import sankee\n",
    "\n",
    "sankee.datasets.LCMS_LC.sankify(\n",
    "    years=[1990, 2000, 2010, 2020],\n",
    "    region=ee.Geometry.Point([-122.192688, 46.25917]).buffer(2000),\n",
    "    max_classes=3,\n",
    "    title=\"Mount St. Helens Recovery\",\n",
    ")"
   ]
  },
  {
   "cell_type": "code",
   "execution_count": null,
   "id": "126ff1ba",
   "metadata": {},
   "outputs": [],
   "source": [
    "Map = geemap.Map(height=650)\n",
    "Map"
   ]
  },
  {
   "cell_type": "markdown",
   "id": "0d85e6ff",
   "metadata": {},
   "source": [
    "## Summary"
   ]
  }
 ],
 "metadata": {
  "jupytext": {
   "text_representation": {
    "extension": ".md",
    "format_name": "myst",
    "format_version": 0.13,
    "jupytext_version": "1.11.5"
   }
  },
  "kernelspec": {
   "display_name": "Python 3",
   "language": "python",
   "name": "python3"
  },
  "source_map": [
   12,
   36,
   40,
   45,
   47,
   53,
   58,
   63,
   68,
   73,
   78,
   83,
   88,
   93,
   96,
   100,
   122,
   125,
   129,
   137,
   141,
   152,
   161,
   166,
   168,
   172,
   184,
   188,
   192,
   197,
   200,
   206,
   230,
   237,
   247,
   251,
   269,
   282,
   293,
   297,
   305,
   311,
   316,
   320,
   322,
   328,
   332,
   339,
   344,
   348,
   355,
   361,
   366,
   370,
   375,
   386,
   392,
   397,
   421,
   425,
   431,
   452,
   458,
   463,
   467,
   471,
   475,
   477,
   481,
   495,
   505,
   513,
   525,
   527,
   531,
   554,
   559,
   563,
   569,
   571,
   575,
   582,
   592,
   596,
   612,
   621,
   637,
   649,
   653,
   661,
   671,
   682,
   688,
   704,
   708,
   712,
   716,
   724,
   728,
   734,
   738,
   746,
   752,
   767,
   780,
   787,
   799,
   803,
   807,
   812,
   816,
   822,
   859,
   871,
   873,
   877,
   883,
   903,
   914,
   916,
   920,
   927,
   936,
   940,
   944,
   948,
   950,
   954,
   977,
   981,
   985,
   989,
   1004,
   1008,
   1013,
   1019,
   1038,
   1040,
   1044,
   1065,
   1069,
   1073,
   1077,
   1084,
   1098,
   1102,
   1110,
   1114,
   1125,
   1131,
   1135,
   1144,
   1150,
   1157,
   1161,
   1181,
   1189,
   1199,
   1205,
   1213,
   1217,
   1222,
   1226,
   1230,
   1236,
   1240,
   1244,
   1248,
   1260,
   1264,
   1278,
   1282,
   1286,
   1290,
   1296,
   1301,
   1306,
   1310,
   1314,
   1318,
   1320,
   1324,
   1327,
   1331,
   1340,
   1344,
   1358,
   1362,
   1368,
   1372,
   1376,
   1380,
   1385,
   1389,
   1400,
   1403
  ]
 },
 "nbformat": 4,
 "nbformat_minor": 5
}