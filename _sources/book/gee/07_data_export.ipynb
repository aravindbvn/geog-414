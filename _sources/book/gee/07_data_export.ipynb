{
 "cells": [
  {
   "cell_type": "markdown",
   "id": "d901cb91",
   "metadata": {},
   "source": [
    "# Exporting Earth Engine Data\n",
    "\n",
    "```{contents}\n",
    ":local:\n",
    ":depth: 2\n",
    "```\n",
    "\n",
    "## Introduction"
   ]
  },
  {
   "cell_type": "markdown",
   "id": "4a310e9a",
   "metadata": {},
   "source": [
    "## Technical requirements\n",
    "\n",
    "```bash\n",
    "conda create -n gee python\n",
    "conda activate gee\n",
    "conda install -c conda-forge mamba\n",
    "mamba install -c conda-forge pygis\n",
    "```\n",
    "\n",
    "```bash\n",
    "jupyter lab\n",
    "```"
   ]
  },
  {
   "cell_type": "code",
   "execution_count": null,
   "id": "59a4b6b2",
   "metadata": {},
   "outputs": [],
   "source": [
    "# %pip install pygis"
   ]
  },
  {
   "cell_type": "code",
   "execution_count": null,
   "id": "be89f5b1",
   "metadata": {},
   "outputs": [],
   "source": [
    "import ee\n",
    "import geemap"
   ]
  },
  {
   "cell_type": "code",
   "execution_count": null,
   "id": "0a9c7a87",
   "metadata": {},
   "outputs": [],
   "source": [
    "geemap.ee_initialize()"
   ]
  },
  {
   "cell_type": "markdown",
   "id": "b51b901e",
   "metadata": {},
   "source": [
    "## Exporting images"
   ]
  },
  {
   "cell_type": "code",
   "execution_count": null,
   "id": "a6df7073",
   "metadata": {},
   "outputs": [],
   "source": [
    "Map = geemap.Map()\n",
    "\n",
    "image = ee.Image('LANDSAT/LC08/C02/T1_TOA/LC08_044034_20140318').select(\n",
    "    ['B5', 'B4', 'B3']\n",
    ")\n",
    "\n",
    "vis_params = {'min': 0, 'max': 0.5, 'gamma': [0.95, 1.1, 1]}\n",
    "\n",
    "Map.centerObject(image, 8)\n",
    "Map.addLayer(image, vis_params, 'Landsat')\n",
    "Map"
   ]
  },
  {
   "cell_type": "code",
   "execution_count": null,
   "id": "ecc89d53",
   "metadata": {},
   "outputs": [],
   "source": [
    "region = ee.Geometry.BBox(-122.5955, 37.5339, -122.0982, 37.8252)\n",
    "fc = ee.FeatureCollection(region)\n",
    "style = {'color': 'ffff00ff', 'fillColor': '00000000'}\n",
    "Map.addLayer(fc.style(**style), {}, 'ROI')\n",
    "Map"
   ]
  },
  {
   "cell_type": "markdown",
   "id": "af1fa472",
   "metadata": {},
   "source": [
    "### To local drive"
   ]
  },
  {
   "cell_type": "code",
   "execution_count": null,
   "id": "ba79fd3e",
   "metadata": {},
   "outputs": [],
   "source": [
    "geemap.ee_export_image(image, filename=\"landsat.tif\", scale=30, region=region)"
   ]
  },
  {
   "cell_type": "code",
   "execution_count": null,
   "id": "319fa7f7",
   "metadata": {},
   "outputs": [],
   "source": [
    "projection = image.select(0).projection().getInfo()\n",
    "projection"
   ]
  },
  {
   "cell_type": "code",
   "execution_count": null,
   "id": "6af95791",
   "metadata": {},
   "outputs": [],
   "source": [
    "crs = projection['crs']\n",
    "crs_transform = projection['transform']"
   ]
  },
  {
   "cell_type": "code",
   "execution_count": null,
   "id": "a35f9a8a",
   "metadata": {},
   "outputs": [],
   "source": [
    "geemap.ee_export_image(\n",
    "    image,\n",
    "    filename=\"landsat_crs.tif\",\n",
    "    crs=crs,\n",
    "    crs_transform=crs_transform,\n",
    "    region=region,\n",
    ")"
   ]
  },
  {
   "cell_type": "code",
   "execution_count": null,
   "id": "162589cb",
   "metadata": {},
   "outputs": [],
   "source": [
    "geemap.download_ee_image(image, filename='landsat_full.tif', scale=60)"
   ]
  },
  {
   "cell_type": "code",
   "execution_count": null,
   "id": "13174ffc",
   "metadata": {},
   "outputs": [],
   "source": [
    "fishnet = geemap.fishnet(image.geometry(), rows=4, cols=4, delta=0.5)\n",
    "style = {'color': 'ffff00ff', 'fillColor': '00000000'}\n",
    "Map.addLayer(fishnet.style(**style), {}, 'Fishnet')\n",
    "Map"
   ]
  },
  {
   "cell_type": "code",
   "execution_count": null,
   "id": "1ba8f085",
   "metadata": {},
   "outputs": [],
   "source": [
    "out_dir = 'Downloads'\n",
    "geemap.download_ee_image_tiles(\n",
    "    image, fishnet, out_dir, prefix=\"landsat_\", crs=\"EPSG:3857\", scale=30\n",
    ")"
   ]
  },
  {
   "cell_type": "markdown",
   "id": "2b0d50fb",
   "metadata": {},
   "source": [
    "### To Google Drive"
   ]
  },
  {
   "cell_type": "code",
   "execution_count": null,
   "id": "5b003ca2",
   "metadata": {},
   "outputs": [],
   "source": [
    "geemap.ee_export_image_to_drive(\n",
    "    image, description='landsat', folder='export', region=region, scale=30\n",
    ")"
   ]
  },
  {
   "cell_type": "markdown",
   "id": "eeb0d259",
   "metadata": {},
   "source": [
    "### To Asset"
   ]
  },
  {
   "cell_type": "code",
   "execution_count": null,
   "id": "ba205c26",
   "metadata": {},
   "outputs": [],
   "source": [
    "assetId = 'landsat_sfo'\n",
    "geemap.ee_export_image_to_asset(\n",
    "    image, description='landsat', assetId=assetId, region=region, scale=30\n",
    ")"
   ]
  },
  {
   "cell_type": "markdown",
   "id": "bfed64fc",
   "metadata": {},
   "source": [
    "### To Cloud Storage"
   ]
  },
  {
   "cell_type": "code",
   "execution_count": null,
   "id": "baa1b0fb",
   "metadata": {},
   "outputs": [],
   "source": [
    "bucket = 'your-bucket'\n",
    "geemap.ee_export_image_to_cloud_storage(\n",
    "    image, description='landsat', bucket=None, region=region, scale=30\n",
    ")"
   ]
  },
  {
   "cell_type": "markdown",
   "id": "11217e8c",
   "metadata": {},
   "source": [
    "### To NumPy array"
   ]
  },
  {
   "cell_type": "code",
   "execution_count": null,
   "id": "2104bac8",
   "metadata": {},
   "outputs": [],
   "source": [
    "region = ee.Geometry.BBox(-122.5003, 37.7233, -122.3410, 37.8026)\n",
    "rgb_img = geemap.ee_to_numpy(image, region=region)"
   ]
  },
  {
   "cell_type": "code",
   "execution_count": null,
   "id": "3340b97c",
   "metadata": {},
   "outputs": [],
   "source": [
    "print(rgb_img.shape)"
   ]
  },
  {
   "cell_type": "code",
   "execution_count": null,
   "id": "c24a61a7",
   "metadata": {},
   "outputs": [],
   "source": [
    "import matplotlib.pyplot as plt\n",
    "\n",
    "rgb_img_test = (255 * ((rgb_img[:, :, 0:3]) + 0.2)).astype('uint8')\n",
    "plt.imshow(rgb_img_test)\n",
    "plt.show()"
   ]
  },
  {
   "cell_type": "markdown",
   "id": "a80fa2ee",
   "metadata": {},
   "source": [
    "## Exporting image collections"
   ]
  },
  {
   "cell_type": "code",
   "execution_count": null,
   "id": "79d5949c",
   "metadata": {},
   "outputs": [],
   "source": [
    "point = ee.Geometry.Point(-99.2222, 46.7816)\n",
    "collection = (\n",
    "    ee.ImageCollection('USDA/NAIP/DOQQ')\n",
    "    .filterBounds(point)\n",
    "    .filterDate('2008-01-01', '2018-01-01')\n",
    "    .filter(ee.Filter.listContains(\"system:band_names\", \"N\"))\n",
    ")"
   ]
  },
  {
   "cell_type": "code",
   "execution_count": null,
   "id": "feebc840",
   "metadata": {},
   "outputs": [],
   "source": [
    "collection.aggregate_array('system:index').getInfo()"
   ]
  },
  {
   "cell_type": "markdown",
   "id": "603ed849",
   "metadata": {},
   "source": [
    "### To local drive"
   ]
  },
  {
   "cell_type": "code",
   "execution_count": null,
   "id": "232e1a60",
   "metadata": {},
   "outputs": [],
   "source": [
    "out_dir = 'Downloads'\n",
    "geemap.ee_export_image_collection(collection, out_dir=out_dir, scale=10)"
   ]
  },
  {
   "cell_type": "markdown",
   "id": "97eabc57",
   "metadata": {},
   "source": [
    "### To Google Drive"
   ]
  },
  {
   "cell_type": "code",
   "execution_count": null,
   "id": "e782ce05",
   "metadata": {},
   "outputs": [],
   "source": [
    "geemap.ee_export_image_collection_to_drive(collection, folder='export', scale=10)"
   ]
  },
  {
   "cell_type": "markdown",
   "id": "19e32423",
   "metadata": {},
   "source": [
    "### To Assets"
   ]
  },
  {
   "cell_type": "code",
   "execution_count": null,
   "id": "0b9606e6",
   "metadata": {},
   "outputs": [],
   "source": [
    "geemap.ee_export_image_collection_to_asset(collection, scale=10)"
   ]
  },
  {
   "cell_type": "markdown",
   "id": "956aa6ab",
   "metadata": {},
   "source": [
    "## Exporting videos"
   ]
  },
  {
   "cell_type": "code",
   "execution_count": null,
   "id": "670a3699",
   "metadata": {},
   "outputs": [],
   "source": [
    "collection = (\n",
    "    ee.ImageCollection('LANDSAT/LT05/C01/T1_TOA')\n",
    "    .filter(ee.Filter.eq('WRS_PATH', 44))\n",
    "    .filter(ee.Filter.eq('WRS_ROW', 34))\n",
    "    .filter(ee.Filter.lt('CLOUD_COVER', 30))\n",
    "    .filterDate('1991-01-01', '2011-12-30')\n",
    "    .select(['B4', 'B3', 'B2'])\n",
    "    .map(lambda img: img.multiply(512).uint8())\n",
    ")\n",
    "region = ee.Geometry.Rectangle([-122.7286, 37.6325, -122.0241, 37.9592])"
   ]
  },
  {
   "cell_type": "code",
   "execution_count": null,
   "id": "1c8b31ce",
   "metadata": {},
   "outputs": [],
   "source": [
    "geemap.ee_export_video_to_drive(\n",
    "    collection, folder='export', framesPerSecond=12, dimensions=720, region=region\n",
    ")"
   ]
  },
  {
   "cell_type": "markdown",
   "id": "be258868",
   "metadata": {},
   "source": [
    "## Exporting image thumbnails"
   ]
  },
  {
   "cell_type": "code",
   "execution_count": null,
   "id": "b3d43a7c",
   "metadata": {},
   "outputs": [],
   "source": [
    "roi = ee.Geometry.Point([-122.44, 37.75])\n",
    "collection = (\n",
    "    ee.ImageCollection('LANDSAT/LC08/C02/T1_TOA')\n",
    "    .filterBounds(roi)\n",
    "    .sort(\"CLOUD_COVER\")\n",
    "    .limit(10)\n",
    ")\n",
    "\n",
    "image = collection.first()"
   ]
  },
  {
   "cell_type": "code",
   "execution_count": null,
   "id": "2801d17c",
   "metadata": {},
   "outputs": [],
   "source": [
    "Map = geemap.Map()\n",
    "\n",
    "vis_params = {\n",
    "    'bands': ['B5', 'B4', 'B3'],\n",
    "    'min': 0,\n",
    "    'max': 0.3,\n",
    "    'gamma': [0.95, 1.1, 1],\n",
    "}\n",
    "\n",
    "Map.addLayer(image, vis_params, \"LANDSAT 8\")\n",
    "Map.setCenter(-122.44, 37.75, 8)\n",
    "Map"
   ]
  },
  {
   "cell_type": "code",
   "execution_count": null,
   "id": "e05b96a2",
   "metadata": {},
   "outputs": [],
   "source": [
    "out_img = 'landsat.jpg'\n",
    "region = ee.Geometry.BBox(-122.5955, 37.5339, -122.0982, 37.8252)\n",
    "geemap.get_image_thumbnail(image, out_img, vis_params, dimensions=1000, region=region)"
   ]
  },
  {
   "cell_type": "code",
   "execution_count": null,
   "id": "53326a8b",
   "metadata": {},
   "outputs": [],
   "source": [
    "geemap.show_image(out_img)"
   ]
  },
  {
   "cell_type": "code",
   "execution_count": null,
   "id": "384e9b72",
   "metadata": {},
   "outputs": [],
   "source": [
    "out_dir = 'Downloads'\n",
    "geemap.get_image_collection_thumbnails(\n",
    "    collection,\n",
    "    out_dir,\n",
    "    vis_params,\n",
    "    dimensions=1000,\n",
    "    region=region,\n",
    ")"
   ]
  },
  {
   "cell_type": "markdown",
   "id": "a37f7caa",
   "metadata": {},
   "source": [
    "## Exporting feature collections"
   ]
  },
  {
   "cell_type": "code",
   "execution_count": null,
   "id": "6cac994a",
   "metadata": {},
   "outputs": [],
   "source": [
    "Map = geemap.Map()\n",
    "fc = ee.FeatureCollection('USDOS/LSIB_SIMPLE/2017').filter(\n",
    "    ee.Filter.eq('wld_rgn', 'Europe')\n",
    ")\n",
    "\n",
    "Map.addLayer(fc, {}, \"Europe\")\n",
    "Map.centerObject(fc, 3)\n",
    "Map"
   ]
  },
  {
   "cell_type": "markdown",
   "id": "a97c4603",
   "metadata": {},
   "source": [
    "### To local drive"
   ]
  },
  {
   "cell_type": "code",
   "execution_count": null,
   "id": "ebc5f1eb",
   "metadata": {},
   "outputs": [],
   "source": [
    "geemap.ee_to_shp(fc, filename='europe.shp', selectors=None)"
   ]
  },
  {
   "cell_type": "code",
   "execution_count": null,
   "id": "9a6cc96d",
   "metadata": {},
   "outputs": [],
   "source": [
    "geemap.ee_export_vector(fc, filename='europe2.shp')"
   ]
  },
  {
   "cell_type": "code",
   "execution_count": null,
   "id": "9d2185d8",
   "metadata": {},
   "outputs": [],
   "source": [
    "geemap.ee_to_geojson(fc, filename='europe.geojson')"
   ]
  },
  {
   "cell_type": "code",
   "execution_count": null,
   "id": "e92c428d",
   "metadata": {},
   "outputs": [],
   "source": [
    "geemap.ee_to_csv(fc, filename='europe.csv')"
   ]
  },
  {
   "cell_type": "code",
   "execution_count": null,
   "id": "1b2f3b6f",
   "metadata": {},
   "outputs": [],
   "source": [
    "gdf = geemap.ee_to_gdf(fc)\n",
    "gdf"
   ]
  },
  {
   "cell_type": "code",
   "execution_count": null,
   "id": "89a45bc3",
   "metadata": {},
   "outputs": [],
   "source": [
    "df = geemap.ee_to_df(fc)\n",
    "df"
   ]
  },
  {
   "cell_type": "markdown",
   "id": "ac3af4ba",
   "metadata": {},
   "source": [
    "### To Google Drive"
   ]
  },
  {
   "cell_type": "code",
   "execution_count": null,
   "id": "8508217e",
   "metadata": {},
   "outputs": [],
   "source": [
    "geemap.ee_export_vector_to_drive(\n",
    "    fc, description=\"europe\", fileFormat='SHP', folder=\"export\"\n",
    ")"
   ]
  },
  {
   "cell_type": "markdown",
   "id": "5c90664d",
   "metadata": {},
   "source": [
    "### To Asset"
   ]
  },
  {
   "cell_type": "code",
   "execution_count": null,
   "id": "35cf56ee",
   "metadata": {},
   "outputs": [],
   "source": [
    "geemap.ee_export_vector_to_asset(fc, description='Exporting Europe', assetId='europe')"
   ]
  },
  {
   "cell_type": "markdown",
   "id": "769c2b65",
   "metadata": {},
   "source": [
    "## Exporting maps"
   ]
  },
  {
   "cell_type": "code",
   "execution_count": null,
   "id": "72dbdaa1",
   "metadata": {},
   "outputs": [],
   "source": [
    "Map = geemap.Map()\n",
    "image = ee.Image('USGS/SRTMGL1_003')\n",
    "vis_params = {\n",
    "    'min': 0,\n",
    "    'max': 4000,\n",
    "    'palette': ['006633', 'E5FFCC', '662A00', 'D8D8D8', 'F5F5F5'],\n",
    "}\n",
    "Map.addLayer(image, vis_params, 'SRTM DEM', True)\n",
    "Map"
   ]
  },
  {
   "cell_type": "code",
   "execution_count": null,
   "id": "c1623df2",
   "metadata": {},
   "outputs": [],
   "source": [
    "Map.to_html(\n",
    "    filename=\"mymap.html\", title=\"Earth Engine Map\", width='100%', height='800px'\n",
    ")"
   ]
  },
  {
   "cell_type": "markdown",
   "id": "f175c6f0",
   "metadata": {},
   "source": [
    "## Using the high-volume endpoint"
   ]
  },
  {
   "cell_type": "code",
   "execution_count": null,
   "id": "e8c0f4ea",
   "metadata": {},
   "outputs": [],
   "source": [
    "import ee\n",
    "import geemap\n",
    "import logging\n",
    "import multiprocessing\n",
    "import os\n",
    "import requests\n",
    "import shutil\n",
    "from retry import retry"
   ]
  },
  {
   "cell_type": "code",
   "execution_count": null,
   "id": "27a6095c",
   "metadata": {},
   "outputs": [],
   "source": [
    "ee.Initialize(opt_url='https://earthengine-highvolume.googleapis.com')"
   ]
  },
  {
   "cell_type": "code",
   "execution_count": null,
   "id": "9bc55714",
   "metadata": {},
   "outputs": [],
   "source": [
    "region = Map.user_roi\n",
    "\n",
    "if region is None:\n",
    "    region = ee.Geometry.Polygon(\n",
    "        [\n",
    "            [\n",
    "                [-122.513695, 37.707998],\n",
    "                [-122.513695, 37.804359],\n",
    "                [-122.371902, 37.804359],\n",
    "                [-122.371902, 37.707998],\n",
    "                [-122.513695, 37.707998],\n",
    "            ]\n",
    "        ],\n",
    "        None,\n",
    "        False,\n",
    "    )"
   ]
  },
  {
   "cell_type": "code",
   "execution_count": null,
   "id": "625df6f6",
   "metadata": {},
   "outputs": [],
   "source": [
    "image = (\n",
    "    ee.ImageCollection('USDA/NAIP/DOQQ')\n",
    "    .filterBounds(region)\n",
    "    .filterDate('2020', '2021')\n",
    "    .mosaic()\n",
    "    .clip(region)\n",
    "    .select('N', 'R', 'G')\n",
    ")"
   ]
  },
  {
   "cell_type": "code",
   "execution_count": null,
   "id": "30f94940",
   "metadata": {},
   "outputs": [],
   "source": [
    "Map = geemap.Map()\n",
    "Map.addLayer(image, {}, \"Image\")\n",
    "Map.addLayer(region, {}, \"ROI\", False)\n",
    "Map.centerObject(region, 12)\n",
    "Map"
   ]
  },
  {
   "cell_type": "code",
   "execution_count": null,
   "id": "a25f17e8",
   "metadata": {},
   "outputs": [],
   "source": [
    "out_dir = 'Downloads'\n",
    "params = {\n",
    "    'count': 1000,  # How many image chips to export\n",
    "    'buffer': 127,  # The buffer distance (m) around each point\n",
    "    'scale': 100,  # The scale to do stratified sampling\n",
    "    'seed': 1,  # A randomization seed to use for subsampling.\n",
    "    'dimensions': '256x256',  # The dimension of each image chip\n",
    "    'format': \"png\",  # The output image format, can be png, jpg, ZIPPED_GEO_TIFF, GEO_TIFF, NPY\n",
    "    'prefix': 'tile_',  # The filename prefix\n",
    "    'processes': 25,  # How many processes to used for parallel processing\n",
    "    'out_dir': out_dir,  # The output directory. Default to the current working directly\n",
    "}"
   ]
  },
  {
   "cell_type": "code",
   "execution_count": null,
   "id": "e3091e6b",
   "metadata": {},
   "outputs": [],
   "source": [
    "def getRequests():\n",
    "    img = ee.Image(1).rename(\"Class\").addBands(image)\n",
    "    points = img.stratifiedSample(\n",
    "        numPoints=params['count'],\n",
    "        region=region,\n",
    "        scale=params['scale'],\n",
    "        seed=params['seed'],\n",
    "        geometries=True,\n",
    "    )\n",
    "    Map.data = points\n",
    "    return points.aggregate_array('.geo').getInfo()"
   ]
  },
  {
   "cell_type": "code",
   "execution_count": null,
   "id": "04570208",
   "metadata": {},
   "outputs": [],
   "source": [
    "@retry(tries=10, delay=1, backoff=2)\n",
    "def getResult(index, point):\n",
    "    point = ee.Geometry.Point(point['coordinates'])\n",
    "    region = point.buffer(params['buffer']).bounds()\n",
    "\n",
    "    if params['format'] in ['png', 'jpg']:\n",
    "        url = image.getThumbURL(\n",
    "            {\n",
    "                'region': region,\n",
    "                'dimensions': params['dimensions'],\n",
    "                'format': params['format'],\n",
    "            }\n",
    "        )\n",
    "    else:\n",
    "        url = image.getDownloadURL(\n",
    "            {\n",
    "                'region': region,\n",
    "                'dimensions': params['dimensions'],\n",
    "                'format': params['format'],\n",
    "            }\n",
    "        )\n",
    "\n",
    "    if params['format'] == \"GEO_TIFF\":\n",
    "        ext = 'tif'\n",
    "    else:\n",
    "        ext = params['format']\n",
    "\n",
    "    r = requests.get(url, stream=True)\n",
    "    if r.status_code != 200:\n",
    "        r.raise_for_status()\n",
    "\n",
    "    out_dir = os.path.abspath(params['out_dir'])\n",
    "    basename = str(index).zfill(len(str(params['count'])))\n",
    "    filename = f\"{out_dir}/{params['prefix']}{basename}.{ext}\"\n",
    "    with open(filename, 'wb') as out_file:\n",
    "        shutil.copyfileobj(r.raw, out_file)\n",
    "    print(\"Done: \", basename)"
   ]
  },
  {
   "cell_type": "code",
   "execution_count": null,
   "id": "a42eed92",
   "metadata": {},
   "outputs": [],
   "source": [
    "%%time\n",
    "logging.basicConfig()\n",
    "items = getRequests()\n",
    "\n",
    "pool = multiprocessing.Pool(params['processes'])\n",
    "pool.starmap(getResult, enumerate(items))\n",
    "\n",
    "pool.close()"
   ]
  },
  {
   "cell_type": "code",
   "execution_count": null,
   "id": "8bfe9662",
   "metadata": {},
   "outputs": [],
   "source": [
    "Map.addLayer(Map.data, {}, \"Sample points\")\n",
    "Map"
   ]
  },
  {
   "cell_type": "code",
   "execution_count": null,
   "id": "893be924",
   "metadata": {},
   "outputs": [],
   "source": [
    "geemap.ee_to_shp(Map.data, filename='points.shp')"
   ]
  },
  {
   "cell_type": "markdown",
   "id": "4ef78c07",
   "metadata": {},
   "source": [
    "## Summary"
   ]
  }
 ],
 "metadata": {
  "jupytext": {
   "text_representation": {
    "extension": ".md",
    "format_name": "myst",
    "format_version": 0.13,
    "jupytext_version": "1.11.5"
   }
  },
  "kernelspec": {
   "display_name": "Python 3",
   "language": "python",
   "name": "python3"
  },
  "source_map": [
   12,
   23,
   38,
   42,
   47,
   49,
   53,
   67,
   73,
   77,
   81,
   86,
   91,
   101,
   105,
   112,
   117,
   121,
   125,
   129,
   134,
   138,
   143,
   147,
   152,
   156,
   162,
   166,
   176,
   178,
   182,
   185,
   189,
   191,
   195,
   197,
   201,
   214,
   218,
   222,
   234,
   249,
   255,
   259,
   268,
   272,
   283,
   287,
   291,
   295,
   299,
   303,
   308,
   311,
   315,
   319,
   323,
   325,
   329,
   341,
   345,
   349,
   360,
   364,
   383,
   394,
   402,
   417,
   431,
   471,
   482,
   487,
   489
  ]
 },
 "nbformat": 4,
 "nbformat_minor": 5
}