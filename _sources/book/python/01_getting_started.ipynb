{
 "cells": [
  {
   "cell_type": "markdown",
   "id": "95a392de",
   "metadata": {},
   "source": [
    "# Getting Started\n",
    "\n",
    "```{contents}\n",
    ":local:\n",
    ":depth: 2\n",
    "```\n",
    "\n",
    "## Jupyter Notebook Keyboard Shortcuts\n",
    "\n",
    "- **Shift-Enter**: run cell, select below\n",
    "- **Ctrl-Enter**: : run selected cells\n",
    "- **Alt-Enter**: run cell and insert below\n",
    "- **Tab**: code completion or indent\n",
    "- **Shift-Tab**: tooltip\n",
    "- **Matplotlib plotting**: %matplotlib inline\n",
    "\n",
    "## Variables and Data Types\n",
    "\n",
    "The code demonstrates the declaration and assignment of variables with various data types, such as strings, integers, floats, and booleans."
   ]
  },
  {
   "cell_type": "code",
   "execution_count": null,
   "id": "3757686f",
   "metadata": {},
   "outputs": [],
   "source": [
    "# Variables\n",
    "name = \"John\"\n",
    "age = 25\n",
    "salary = 2500.50\n",
    "is_student = True"
   ]
  },
  {
   "cell_type": "markdown",
   "id": "f04902d1",
   "metadata": {},
   "source": [
    "## Basic Operations\n",
    "\n",
    "The code showcases basic arithmetic operations (addition, subtraction, multiplication, division, modulus) and comparison operations (equality, inequality, greater than, less than, greater than or equal to, less than or equal to), as well as logical operations (AND, OR, NOT)."
   ]
  },
  {
   "cell_type": "code",
   "execution_count": null,
   "id": "f256f6c7",
   "metadata": {},
   "outputs": [],
   "source": [
    "# Arithmetic operations\n",
    "result = 10 + 5\n",
    "result = 10 - 5\n",
    "result = 10 * 5\n",
    "result = 10 / 5\n",
    "result = 10 % 3"
   ]
  },
  {
   "cell_type": "code",
   "execution_count": null,
   "id": "5d7b5b1f",
   "metadata": {},
   "outputs": [],
   "source": [
    "# Comparison operations\n",
    "is_equal = 10 == 5\n",
    "is_not_equal = 10 != 5\n",
    "is_greater = 10 > 5\n",
    "is_less = 10 < 5\n",
    "is_greater_equal = 10 >= 5\n",
    "is_less_equal = 10 <= 5"
   ]
  },
  {
   "cell_type": "code",
   "execution_count": null,
   "id": "a7c294a8",
   "metadata": {},
   "outputs": [],
   "source": [
    "# Logical operations\n",
    "is_true = True and False\n",
    "is_true = True or False\n",
    "is_true = not False"
   ]
  },
  {
   "cell_type": "markdown",
   "id": "f83d3dbf",
   "metadata": {},
   "source": [
    "## Control Flow\n",
    "\n",
    "The code demonstrates the use of if-elif-else statements to control the flow of the program based on different conditions. It also showcases for and while loops for iterating over a sequence of elements or executing a block of code repeatedly until a condition is met."
   ]
  },
  {
   "cell_type": "code",
   "execution_count": null,
   "id": "44c497d6",
   "metadata": {},
   "outputs": [],
   "source": [
    "# If statement\n",
    "x = 10\n",
    "if x > 0:\n",
    "    print(\"Positive number\")\n",
    "elif x < 0:\n",
    "    print(\"Negative number\")\n",
    "else:\n",
    "    print(\"Zero\")"
   ]
  },
  {
   "cell_type": "code",
   "execution_count": null,
   "id": "2f0fe5f2",
   "metadata": {},
   "outputs": [],
   "source": [
    "# For loop\n",
    "fruits = [\"apple\", \"banana\", \"cherry\"]\n",
    "for fruit in fruits:\n",
    "    print(fruit)"
   ]
  },
  {
   "cell_type": "code",
   "execution_count": null,
   "id": "b1ca2043",
   "metadata": {},
   "outputs": [],
   "source": [
    "# While loop\n",
    "count = 0\n",
    "while count < 5:\n",
    "    print(count)\n",
    "    count += 1"
   ]
  },
  {
   "cell_type": "markdown",
   "id": "051f701c",
   "metadata": {},
   "source": [
    "## Data Structures\n",
    "\n",
    "The code showcases the creation and manipulation of essential data structures in Python, including lists (a collection of elements enclosed in square brackets), tuples (an immutable sequence of elements enclosed in parentheses), and dictionaries (a collection of key-value pairs enclosed in curly braces)."
   ]
  },
  {
   "cell_type": "code",
   "execution_count": null,
   "id": "10bb7d2d",
   "metadata": {},
   "outputs": [],
   "source": [
    "# Lists\n",
    "numbers = [1, 2, 3, 4, 5]\n",
    "names = [\"Alice\", \"Bob\", \"Charlie\"]"
   ]
  },
  {
   "cell_type": "code",
   "execution_count": null,
   "id": "6a612b45",
   "metadata": {},
   "outputs": [],
   "source": [
    "# Tuples\n",
    "point = (10, 20)\n",
    "dimensions = (100, 200, 300)"
   ]
  },
  {
   "cell_type": "code",
   "execution_count": null,
   "id": "ba9b7c42",
   "metadata": {},
   "outputs": [],
   "source": [
    "# Dictionaries\n",
    "person = {\"name\": \"John\", \"age\": 25, \"city\": \"New York\"}"
   ]
  },
  {
   "cell_type": "markdown",
   "id": "42407a06",
   "metadata": {},
   "source": [
    "## Functions\n",
    "\n",
    "The code demonstrates the definition and usage of a function. It defines a function named \"say_hello\" that prints \"Hello, World!\" when called."
   ]
  },
  {
   "cell_type": "code",
   "execution_count": null,
   "id": "513387d6",
   "metadata": {},
   "outputs": [],
   "source": [
    "# Function definition\n",
    "def say_hello():\n",
    "    print(\"Hello, World!\")\n",
    "\n",
    "# Function call\n",
    "say_hello()"
   ]
  },
  {
   "cell_type": "markdown",
   "id": "953e2280",
   "metadata": {},
   "source": [
    "## Input and Output\n",
    "\n",
    "The code demonstrates how to take user input using the input() function and display output using the print() function."
   ]
  },
  {
   "cell_type": "code",
   "execution_count": null,
   "id": "205231a9",
   "metadata": {},
   "outputs": [],
   "source": [
    "# Taking user input\n",
    "name = input(\"Enter your name: \")\n",
    "print(\"Hello,\", name)\n",
    "\n",
    "# Displaying output\n",
    "print(\"Hello, World!\")"
   ]
  },
  {
   "cell_type": "markdown",
   "id": "6bfa0e31",
   "metadata": {},
   "source": [
    "## File Handling\n",
    "\n",
    "The code showcases file handling operations. It demonstrates how to read the contents of a file using the open() function with the \"r\" mode and how to write to a file using the open() function with the \"w\" mode."
   ]
  },
  {
   "cell_type": "code",
   "execution_count": null,
   "id": "0f9b6414",
   "metadata": {},
   "outputs": [],
   "source": [
    "# Writing to a file\n",
    "with open('example.txt', 'w') as file:\n",
    "    file.write('Hello, world!')\n",
    "\n",
    "# Reading from a file\n",
    "with open('example.txt', 'r') as file:\n",
    "    content = file.read()\n",
    "    print(\"File content:\", content)"
   ]
  },
  {
   "cell_type": "markdown",
   "id": "592c2e20",
   "metadata": {},
   "source": [
    "## Exception Handling\n",
    "\n",
    "The code demonstrates the use of try-except blocks to handle exceptions. It takes two numbers as input, performs division, and handles potential exceptions such as ValueError (when non-numeric input is provided) and ZeroDivisionError (when dividing by zero)."
   ]
  },
  {
   "cell_type": "code",
   "execution_count": null,
   "id": "ba1921a0",
   "metadata": {},
   "outputs": [],
   "source": [
    "# Handling exceptions\n",
    "try:\n",
    "    num1 = int(input(\"Enter a number: \"))\n",
    "    num2 = int(input(\"Enter another number: \"))\n",
    "    result = num1 / num2\n",
    "    print(\"Result:\", result)\n",
    "except ValueError:\n",
    "    print(\"Invalid input. Please enter a number.\")\n",
    "except ZeroDivisionError:\n",
    "    print(\"Cannot divide by zero.\")"
   ]
  }
 ],
 "metadata": {
  "jupytext": {
   "text_representation": {
    "extension": ".md",
    "format_name": "myst",
    "format_version": 0.13,
    "jupytext_version": "1.11.5"
   }
  },
  "kernelspec": {
   "display_name": "Python 3",
   "language": "python",
   "name": "python3"
  },
  "source_map": [
   12,
   34,
   40,
   46,
   55,
   65,
   70,
   76,
   87,
   94,
   100,
   106,
   112,
   118,
   121,
   127,
   134,
   140,
   147,
   153,
   162,
   168
  ]
 },
 "nbformat": 4,
 "nbformat_minor": 5
}