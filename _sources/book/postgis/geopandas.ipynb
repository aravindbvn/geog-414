{
 "cells": [
  {
   "cell_type": "markdown",
   "id": "ff4fba77",
   "metadata": {},
   "source": [
    "# Using GeoPandas\n",
    "\n",
    "**Setting up the conda env:**\n",
    "\n",
    "```\n",
    "conda create -n geo python=3.8\n",
    "conda activate geo\n",
    "conda install mamba -c conda-forge\n",
    "mamba install geemap geopandas descartes rtree=0.9.3 -c conda-forge\n",
    "mamba install ipython-sql sqlalchemy psycopg2 -c conda-forge\n",
    "```\n",
    "\n",
    "**Sample dataset:**\n",
    "- [nyc_data.zip](https://github.com/giswqs/postgis/raw/master/data/nyc_data.zip) (Watch this [video](https://youtu.be/fROzLrjNDrs) to load data into PostGIS)\n",
    "\n",
    "**References**:\n",
    "- [Introduction to PostGIS](https://postgis.net/workshops/postgis-intro)\n",
    "- [Using SQL with Geodatabases](https://desktop.arcgis.com/en/arcmap/latest/manage-data/using-sql-with-gdbs/sql-and-enterprise-geodatabases.htm)"
   ]
  },
  {
   "cell_type": "markdown",
   "id": "f0d496d3",
   "metadata": {},
   "source": [
    "## Connecting to the database"
   ]
  },
  {
   "cell_type": "code",
   "execution_count": null,
   "id": "07cfeae8",
   "metadata": {},
   "outputs": [],
   "source": [
    "import os\n",
    "from sqlalchemy import create_engine"
   ]
  },
  {
   "cell_type": "code",
   "execution_count": null,
   "id": "057b5ae7",
   "metadata": {},
   "outputs": [],
   "source": [
    "host = \"localhost\"\n",
    "database = \"nyc\"\n",
    "user = os.getenv('SQL_USER')\n",
    "password = os.getenv('SQL_PASSWORD')"
   ]
  },
  {
   "cell_type": "code",
   "execution_count": null,
   "id": "715c5e1d",
   "metadata": {},
   "outputs": [],
   "source": [
    "connection_string = f\"postgresql://{user}:{password}@{host}/{database}\""
   ]
  },
  {
   "cell_type": "code",
   "execution_count": null,
   "id": "742fd9c1",
   "metadata": {},
   "outputs": [],
   "source": [
    "engine = create_engine(connection_string)"
   ]
  },
  {
   "cell_type": "code",
   "execution_count": null,
   "id": "3f8e2d5b",
   "metadata": {},
   "outputs": [],
   "source": [
    "from sqlalchemy import inspect"
   ]
  },
  {
   "cell_type": "code",
   "execution_count": null,
   "id": "798eaa4d",
   "metadata": {},
   "outputs": [],
   "source": [
    "insp = inspect(engine)\n",
    "insp.get_table_names()"
   ]
  },
  {
   "cell_type": "markdown",
   "id": "e3eb32c4",
   "metadata": {},
   "source": [
    "## Reading data from PostGIS"
   ]
  },
  {
   "cell_type": "code",
   "execution_count": null,
   "id": "9c37a851",
   "metadata": {},
   "outputs": [],
   "source": [
    "import geopandas as gpd"
   ]
  },
  {
   "cell_type": "code",
   "execution_count": null,
   "id": "f3a1e73d",
   "metadata": {},
   "outputs": [],
   "source": [
    "sql = 'SELECT * FROM nyc_neighborhoods'"
   ]
  },
  {
   "cell_type": "code",
   "execution_count": null,
   "id": "9faf1331",
   "metadata": {},
   "outputs": [],
   "source": [
    "gdf = gpd.read_postgis(sql, con=engine)"
   ]
  },
  {
   "cell_type": "code",
   "execution_count": null,
   "id": "fa5c5432",
   "metadata": {},
   "outputs": [],
   "source": [
    "gdf"
   ]
  },
  {
   "cell_type": "code",
   "execution_count": null,
   "id": "dc98e42d",
   "metadata": {},
   "outputs": [],
   "source": [
    "gdf.crs"
   ]
  },
  {
   "cell_type": "markdown",
   "id": "6c193b92",
   "metadata": {},
   "source": [
    "## Writing files"
   ]
  },
  {
   "cell_type": "code",
   "execution_count": null,
   "id": "76c250c8",
   "metadata": {},
   "outputs": [],
   "source": [
    "out_dir = os.path.expanduser('~/Downloads')\n",
    "if not os.path.exists(out_dir):\n",
    "    os.makedirs(out_dir)"
   ]
  },
  {
   "cell_type": "code",
   "execution_count": null,
   "id": "1a5ca6f2",
   "metadata": {},
   "outputs": [],
   "source": [
    "out_json = os.path.join(out_dir, 'nyc_neighborhoods.geojson')\n",
    "gdf.to_file(out_json, driver=\"GeoJSON\")"
   ]
  },
  {
   "cell_type": "code",
   "execution_count": null,
   "id": "3de21ef2",
   "metadata": {},
   "outputs": [],
   "source": [
    "out_shp = os.path.join(out_dir, 'nyc_neighborhoods.shp')\n",
    "gdf.to_file(out_shp)"
   ]
  },
  {
   "cell_type": "code",
   "execution_count": null,
   "id": "037dd4da",
   "metadata": {},
   "outputs": [],
   "source": [
    "gdf.crs"
   ]
  },
  {
   "cell_type": "markdown",
   "id": "6ea3757d",
   "metadata": {},
   "source": [
    "## Measuring area"
   ]
  },
  {
   "cell_type": "code",
   "execution_count": null,
   "id": "d62b6a36",
   "metadata": {},
   "outputs": [],
   "source": [
    "gdf = gdf.set_index(\"name\")"
   ]
  },
  {
   "cell_type": "code",
   "execution_count": null,
   "id": "82362683",
   "metadata": {},
   "outputs": [],
   "source": [
    "gdf[\"area\"] = gdf.area\n",
    "gdf[\"area\"]"
   ]
  },
  {
   "cell_type": "markdown",
   "id": "a0cf87d0",
   "metadata": {},
   "source": [
    "## Getting polygon bounary"
   ]
  },
  {
   "cell_type": "code",
   "execution_count": null,
   "id": "e2d4d23b",
   "metadata": {},
   "outputs": [],
   "source": [
    "gdf['boundary'] = gdf.boundary\n",
    "gdf['boundary']"
   ]
  },
  {
   "cell_type": "markdown",
   "id": "0d560034",
   "metadata": {},
   "source": [
    "## Getting polygon centroid"
   ]
  },
  {
   "cell_type": "code",
   "execution_count": null,
   "id": "cb721357",
   "metadata": {},
   "outputs": [],
   "source": [
    "gdf['centroid'] = gdf.centroid\n",
    "gdf['centroid']"
   ]
  },
  {
   "cell_type": "markdown",
   "id": "2eaec145",
   "metadata": {},
   "source": [
    "## Making maps"
   ]
  },
  {
   "cell_type": "code",
   "execution_count": null,
   "id": "93ffeda3",
   "metadata": {},
   "outputs": [],
   "source": [
    "gdf.plot()"
   ]
  },
  {
   "cell_type": "code",
   "execution_count": null,
   "id": "ffeeb2f3",
   "metadata": {},
   "outputs": [],
   "source": [
    "gdf.plot(\"area\", legend=True, figsize=(10, 8))"
   ]
  },
  {
   "cell_type": "code",
   "execution_count": null,
   "id": "f6ec5706",
   "metadata": {},
   "outputs": [],
   "source": [
    "gdf = gdf.set_geometry(\"centroid\")\n",
    "gdf.plot(\"area\", legend=True,figsize=(10, 8))"
   ]
  },
  {
   "cell_type": "code",
   "execution_count": null,
   "id": "caa6fe9a",
   "metadata": {},
   "outputs": [],
   "source": [
    "ax = gdf[\"geom\"].plot(figsize=(10, 8))\n",
    "gdf[\"centroid\"].plot(ax=ax, color=\"black\")"
   ]
  },
  {
   "cell_type": "code",
   "execution_count": null,
   "id": "f85513e5",
   "metadata": {},
   "outputs": [],
   "source": [
    "gdf = gdf.set_geometry(\"geom\")"
   ]
  },
  {
   "cell_type": "markdown",
   "id": "ffed7f14",
   "metadata": {},
   "source": [
    "## Reprojecting data"
   ]
  },
  {
   "cell_type": "code",
   "execution_count": null,
   "id": "cbaed7ae",
   "metadata": {},
   "outputs": [],
   "source": [
    "sql = 'SELECT * FROM nyc_neighborhoods'"
   ]
  },
  {
   "cell_type": "code",
   "execution_count": null,
   "id": "60b586da",
   "metadata": {},
   "outputs": [],
   "source": [
    "gdf = gpd.read_postgis(sql, con=engine)"
   ]
  },
  {
   "cell_type": "code",
   "execution_count": null,
   "id": "dc77cd7d",
   "metadata": {},
   "outputs": [],
   "source": [
    "gdf_crs = gdf.to_crs(epsg=\"4326\")"
   ]
  },
  {
   "cell_type": "code",
   "execution_count": null,
   "id": "167ee6c1",
   "metadata": {},
   "outputs": [],
   "source": [
    "gdf_crs"
   ]
  },
  {
   "cell_type": "code",
   "execution_count": null,
   "id": "048cbe75",
   "metadata": {},
   "outputs": [],
   "source": [
    "geojson = gdf_crs.__geo_interface__"
   ]
  },
  {
   "cell_type": "markdown",
   "id": "5d2fd5b1",
   "metadata": {},
   "source": [
    "## Displaying data on an interative map"
   ]
  },
  {
   "cell_type": "code",
   "execution_count": null,
   "id": "de0e8268",
   "metadata": {},
   "outputs": [],
   "source": [
    "import geemap"
   ]
  },
  {
   "cell_type": "code",
   "execution_count": null,
   "id": "5da8c26d",
   "metadata": {},
   "outputs": [],
   "source": [
    "m = geemap.Map(center=[40.7341, -73.9113], zoom=10, ee_initialize=False)\n",
    "m"
   ]
  },
  {
   "cell_type": "code",
   "execution_count": null,
   "id": "a4b70be8",
   "metadata": {},
   "outputs": [],
   "source": [
    "style = {\n",
    "    \"stroke\": True,\n",
    "    \"color\": \"#000000\",\n",
    "    \"weight\": 2,\n",
    "    \"opacity\": 1,\n",
    "    \"fill\": True,\n",
    "    \"fillColor\": \"#0000ff\",\n",
    "    \"fillOpacity\": 0.4,\n",
    "}"
   ]
  },
  {
   "cell_type": "code",
   "execution_count": null,
   "id": "470d9c51",
   "metadata": {},
   "outputs": [],
   "source": [
    "m.add_geojson(geojson, style=style, layer_name=\"nyc neighborhoods\")"
   ]
  },
  {
   "cell_type": "code",
   "execution_count": null,
   "id": "8692fdca",
   "metadata": {},
   "outputs": [],
   "source": [
    "sql2 = 'SELECT * FROM nyc_subway_stations'"
   ]
  },
  {
   "cell_type": "code",
   "execution_count": null,
   "id": "e887a516",
   "metadata": {},
   "outputs": [],
   "source": [
    "gdf_subway = gpd.read_postgis(sql2, con=engine)"
   ]
  },
  {
   "cell_type": "code",
   "execution_count": null,
   "id": "6427737d",
   "metadata": {},
   "outputs": [],
   "source": [
    "gdf_subway_crs = gdf_subway.to_crs(epsg=\"4326\")"
   ]
  },
  {
   "cell_type": "code",
   "execution_count": null,
   "id": "aacf93e2",
   "metadata": {},
   "outputs": [],
   "source": [
    "subway_geojson = gdf_subway_crs.__geo_interface__"
   ]
  },
  {
   "cell_type": "code",
   "execution_count": null,
   "id": "badddae4",
   "metadata": {},
   "outputs": [],
   "source": [
    "m.add_geojson(subway_geojson, layer_name=\"nyc subway stations\")"
   ]
  },
  {
   "cell_type": "code",
   "execution_count": null,
   "id": "fbb98af6",
   "metadata": {},
   "outputs": [],
   "source": [
    "sql3 = \"SELECT * FROM nyc_census_blocks WHERE boroname='Manhattan'\""
   ]
  },
  {
   "cell_type": "code",
   "execution_count": null,
   "id": "94b41e37",
   "metadata": {},
   "outputs": [],
   "source": [
    "gdf_blocks = gpd.read_postgis(sql3, con=engine)"
   ]
  },
  {
   "cell_type": "code",
   "execution_count": null,
   "id": "d9716c5a",
   "metadata": {},
   "outputs": [],
   "source": [
    "gdf_blocks_crs = gdf_blocks.to_crs(epsg=\"4326\")"
   ]
  },
  {
   "cell_type": "code",
   "execution_count": null,
   "id": "cf8e247b",
   "metadata": {},
   "outputs": [],
   "source": [
    "blocks_geojson = gdf_blocks_crs.__geo_interface__"
   ]
  },
  {
   "cell_type": "code",
   "execution_count": null,
   "id": "0cb64e29",
   "metadata": {},
   "outputs": [],
   "source": [
    "m.add_geojson(blocks_geojson, style=style, layer_name=\"nyc census blocks\")"
   ]
  },
  {
   "cell_type": "code",
   "execution_count": null,
   "id": "60bac52c",
   "metadata": {},
   "outputs": [],
   "source": [
    "sql4 = \"SELECT geom FROM nyc_homicides WHERE boroname='Manhattan'\""
   ]
  },
  {
   "cell_type": "code",
   "execution_count": null,
   "id": "62a730f9",
   "metadata": {},
   "outputs": [],
   "source": [
    "gdf_homicides = gpd.read_postgis(sql4, con=engine)"
   ]
  },
  {
   "cell_type": "code",
   "execution_count": null,
   "id": "b97b2b18",
   "metadata": {},
   "outputs": [],
   "source": [
    "gdf_homicides_crs = gdf_homicides.to_crs(epsg=\"4326\")"
   ]
  },
  {
   "cell_type": "code",
   "execution_count": null,
   "id": "03cf6714",
   "metadata": {},
   "outputs": [],
   "source": [
    "homicides_geojson =gdf_homicides_crs.__geo_interface__"
   ]
  },
  {
   "cell_type": "code",
   "execution_count": null,
   "id": "8bd2cfa6",
   "metadata": {},
   "outputs": [],
   "source": [
    "m.add_geojson(homicides_geojson, style=style, layer_name=\"nyc homicides\")"
   ]
  },
  {
   "cell_type": "code",
   "execution_count": null,
   "id": "01c1e1a5",
   "metadata": {},
   "outputs": [],
   "source": []
  }
 ],
 "metadata": {
  "jupytext": {
   "text_representation": {
    "extension": ".md",
    "format_name": "myst",
    "format_version": 0.13,
    "jupytext_version": "1.14.5"
   }
  },
  "kernelspec": {
   "display_name": "Python 3",
   "language": "python",
   "name": "python3"
  },
  "source_map": [
   12,
   33,
   37,
   42,
   49,
   53,
   57,
   61,
   64,
   68,
   72,
   76,
   80,
   84,
   86,
   90,
   96,
   101,
   106,
   108,
   112,
   116,
   119,
   123,
   126,
   130,
   133,
   137,
   141,
   145,
   150,
   155,
   157,
   161,
   165,
   169,
   173,
   177,
   179,
   183,
   187,
   192,
   204,
   208,
   212,
   216,
   220,
   224,
   228,
   232,
   236,
   240,
   244,
   248,
   252,
   256,
   260,
   264,
   268
  ]
 },
 "nbformat": 4,
 "nbformat_minor": 5
}