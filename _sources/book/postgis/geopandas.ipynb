{
 "cells": [
  {
   "cell_type": "markdown",
   "id": "1689d54a",
   "metadata": {},
   "source": [
    "# Using GeoPandas\n",
    "\n",
    "**Setting up the conda env:**\n",
    "\n",
    "```\n",
    "conda create -n geo python=3.8\n",
    "conda activate geo\n",
    "conda install mamba -c conda-forge\n",
    "mamba install geemap geopandas descartes rtree=0.9.3 -c conda-forge\n",
    "mamba install ipython-sql sqlalchemy psycopg2 -c conda-forge\n",
    "```\n",
    "\n",
    "**Sample dataset:**\n",
    "- [nyc_data.zip](https://github.com/giswqs/postgis/raw/master/data/nyc_data.zip) (Watch this [video](https://youtu.be/fROzLrjNDrs) to load data into PostGIS)\n",
    "\n",
    "**References**:\n",
    "- [Introduction to PostGIS](https://postgis.net/workshops/postgis-intro)\n",
    "- [Using SQL with Geodatabases](https://desktop.arcgis.com/en/arcmap/latest/manage-data/using-sql-with-gdbs/sql-and-enterprise-geodatabases.htm)"
   ]
  },
  {
   "cell_type": "markdown",
   "id": "decf33d0",
   "metadata": {},
   "source": [
    "## Connecting to the database"
   ]
  },
  {
   "cell_type": "code",
   "execution_count": null,
   "id": "89376a84",
   "metadata": {},
   "outputs": [],
   "source": [
    "import os\n",
    "from sqlalchemy import create_engine"
   ]
  },
  {
   "cell_type": "code",
   "execution_count": null,
   "id": "65c61356",
   "metadata": {},
   "outputs": [],
   "source": [
    "host = \"localhost\"\n",
    "database = \"nyc\"\n",
    "user = os.getenv('SQL_USER')\n",
    "password = os.getenv('SQL_PASSWORD')"
   ]
  },
  {
   "cell_type": "code",
   "execution_count": null,
   "id": "280b30c8",
   "metadata": {},
   "outputs": [],
   "source": [
    "connection_string = f\"postgresql://{user}:{password}@{host}/{database}\""
   ]
  },
  {
   "cell_type": "code",
   "execution_count": null,
   "id": "6bfd0dcc",
   "metadata": {},
   "outputs": [],
   "source": [
    "engine = create_engine(connection_string)"
   ]
  },
  {
   "cell_type": "code",
   "execution_count": null,
   "id": "a0f58ae7",
   "metadata": {},
   "outputs": [],
   "source": [
    "from sqlalchemy import inspect"
   ]
  },
  {
   "cell_type": "code",
   "execution_count": null,
   "id": "c50a018c",
   "metadata": {},
   "outputs": [],
   "source": [
    "insp = inspect(engine)\n",
    "insp.get_table_names()"
   ]
  },
  {
   "cell_type": "markdown",
   "id": "f1887e00",
   "metadata": {},
   "source": [
    "## Reading data from PostGIS"
   ]
  },
  {
   "cell_type": "code",
   "execution_count": null,
   "id": "34d1c568",
   "metadata": {},
   "outputs": [],
   "source": [
    "import geopandas as gpd"
   ]
  },
  {
   "cell_type": "code",
   "execution_count": null,
   "id": "5ff34e5c",
   "metadata": {},
   "outputs": [],
   "source": [
    "sql = 'SELECT * FROM nyc_neighborhoods'"
   ]
  },
  {
   "cell_type": "code",
   "execution_count": null,
   "id": "e63cad1f",
   "metadata": {},
   "outputs": [],
   "source": [
    "gdf = gpd.read_postgis(sql, con=engine)"
   ]
  },
  {
   "cell_type": "code",
   "execution_count": null,
   "id": "86c0b722",
   "metadata": {},
   "outputs": [],
   "source": [
    "gdf"
   ]
  },
  {
   "cell_type": "code",
   "execution_count": null,
   "id": "e93b3cda",
   "metadata": {},
   "outputs": [],
   "source": [
    "gdf.crs"
   ]
  },
  {
   "cell_type": "markdown",
   "id": "676d5809",
   "metadata": {},
   "source": [
    "## Writing files"
   ]
  },
  {
   "cell_type": "code",
   "execution_count": null,
   "id": "82691beb",
   "metadata": {},
   "outputs": [],
   "source": [
    "out_dir = os.path.expanduser('~/Downloads')\n",
    "if not os.path.exists(out_dir):\n",
    "    os.makedirs(out_dir)"
   ]
  },
  {
   "cell_type": "code",
   "execution_count": null,
   "id": "49dc99f9",
   "metadata": {},
   "outputs": [],
   "source": [
    "out_json = os.path.join(out_dir, 'nyc_neighborhoods.geojson')\n",
    "gdf.to_file(out_json, driver=\"GeoJSON\")"
   ]
  },
  {
   "cell_type": "code",
   "execution_count": null,
   "id": "d8a6bb64",
   "metadata": {},
   "outputs": [],
   "source": [
    "out_shp = os.path.join(out_dir, 'nyc_neighborhoods.shp')\n",
    "gdf.to_file(out_shp)"
   ]
  },
  {
   "cell_type": "code",
   "execution_count": null,
   "id": "a874bf10",
   "metadata": {},
   "outputs": [],
   "source": [
    "gdf.crs"
   ]
  },
  {
   "cell_type": "markdown",
   "id": "94382071",
   "metadata": {},
   "source": [
    "## Measuring area"
   ]
  },
  {
   "cell_type": "code",
   "execution_count": null,
   "id": "42e6726c",
   "metadata": {},
   "outputs": [],
   "source": [
    "gdf = gdf.set_index(\"name\")"
   ]
  },
  {
   "cell_type": "code",
   "execution_count": null,
   "id": "6a0c7511",
   "metadata": {},
   "outputs": [],
   "source": [
    "gdf[\"area\"] = gdf.area\n",
    "gdf[\"area\"]"
   ]
  },
  {
   "cell_type": "markdown",
   "id": "e4c395d3",
   "metadata": {},
   "source": [
    "## Getting polygon bounary"
   ]
  },
  {
   "cell_type": "code",
   "execution_count": null,
   "id": "fe5fbe80",
   "metadata": {},
   "outputs": [],
   "source": [
    "gdf['boundary'] = gdf.boundary\n",
    "gdf['boundary']"
   ]
  },
  {
   "cell_type": "markdown",
   "id": "1270914b",
   "metadata": {},
   "source": [
    "## Getting polygon centroid"
   ]
  },
  {
   "cell_type": "code",
   "execution_count": null,
   "id": "8717a2df",
   "metadata": {},
   "outputs": [],
   "source": [
    "gdf['centroid'] = gdf.centroid\n",
    "gdf['centroid']"
   ]
  },
  {
   "cell_type": "markdown",
   "id": "03ec7f98",
   "metadata": {},
   "source": [
    "## Making maps"
   ]
  },
  {
   "cell_type": "code",
   "execution_count": null,
   "id": "03b52749",
   "metadata": {},
   "outputs": [],
   "source": [
    "gdf.plot()"
   ]
  },
  {
   "cell_type": "code",
   "execution_count": null,
   "id": "ed561e98",
   "metadata": {},
   "outputs": [],
   "source": [
    "gdf.plot(\"area\", legend=True, figsize=(10, 8))"
   ]
  },
  {
   "cell_type": "code",
   "execution_count": null,
   "id": "9ceedce0",
   "metadata": {},
   "outputs": [],
   "source": [
    "gdf = gdf.set_geometry(\"centroid\")\n",
    "gdf.plot(\"area\", legend=True,figsize=(10, 8))"
   ]
  },
  {
   "cell_type": "code",
   "execution_count": null,
   "id": "8fb82a86",
   "metadata": {},
   "outputs": [],
   "source": [
    "ax = gdf[\"geom\"].plot(figsize=(10, 8))\n",
    "gdf[\"centroid\"].plot(ax=ax, color=\"black\")"
   ]
  },
  {
   "cell_type": "code",
   "execution_count": null,
   "id": "551d4904",
   "metadata": {},
   "outputs": [],
   "source": [
    "gdf = gdf.set_geometry(\"geom\")"
   ]
  },
  {
   "cell_type": "markdown",
   "id": "104f1fda",
   "metadata": {},
   "source": [
    "## Reprojecting data"
   ]
  },
  {
   "cell_type": "code",
   "execution_count": null,
   "id": "8cc7d272",
   "metadata": {},
   "outputs": [],
   "source": [
    "sql = 'SELECT * FROM nyc_neighborhoods'"
   ]
  },
  {
   "cell_type": "code",
   "execution_count": null,
   "id": "4da91b87",
   "metadata": {},
   "outputs": [],
   "source": [
    "gdf = gpd.read_postgis(sql, con=engine)"
   ]
  },
  {
   "cell_type": "code",
   "execution_count": null,
   "id": "72494aed",
   "metadata": {},
   "outputs": [],
   "source": [
    "gdf_crs = gdf.to_crs(epsg=\"4326\")"
   ]
  },
  {
   "cell_type": "code",
   "execution_count": null,
   "id": "837e4db4",
   "metadata": {},
   "outputs": [],
   "source": [
    "gdf_crs"
   ]
  },
  {
   "cell_type": "code",
   "execution_count": null,
   "id": "8920ae36",
   "metadata": {},
   "outputs": [],
   "source": [
    "geojson = gdf_crs.__geo_interface__"
   ]
  },
  {
   "cell_type": "markdown",
   "id": "331729ff",
   "metadata": {},
   "source": [
    "## Displaying data on an interative map"
   ]
  },
  {
   "cell_type": "code",
   "execution_count": null,
   "id": "28cac369",
   "metadata": {},
   "outputs": [],
   "source": [
    "import geemap"
   ]
  },
  {
   "cell_type": "code",
   "execution_count": null,
   "id": "1512ef1c",
   "metadata": {},
   "outputs": [],
   "source": [
    "m = geemap.Map(center=[40.7341, -73.9113], zoom=10, ee_initialize=False)\n",
    "m"
   ]
  },
  {
   "cell_type": "code",
   "execution_count": null,
   "id": "836e3a61",
   "metadata": {},
   "outputs": [],
   "source": [
    "style = {\n",
    "    \"stroke\": True,\n",
    "    \"color\": \"#000000\",\n",
    "    \"weight\": 2,\n",
    "    \"opacity\": 1,\n",
    "    \"fill\": True,\n",
    "    \"fillColor\": \"#0000ff\",\n",
    "    \"fillOpacity\": 0.4,\n",
    "}"
   ]
  },
  {
   "cell_type": "code",
   "execution_count": null,
   "id": "0aa39fea",
   "metadata": {},
   "outputs": [],
   "source": [
    "m.add_geojson(geojson, style=style, layer_name=\"nyc neighborhoods\")"
   ]
  },
  {
   "cell_type": "code",
   "execution_count": null,
   "id": "9981ba18",
   "metadata": {},
   "outputs": [],
   "source": [
    "sql2 = 'SELECT * FROM nyc_subway_stations'"
   ]
  },
  {
   "cell_type": "code",
   "execution_count": null,
   "id": "ef77c80f",
   "metadata": {},
   "outputs": [],
   "source": [
    "gdf_subway = gpd.read_postgis(sql2, con=engine)"
   ]
  },
  {
   "cell_type": "code",
   "execution_count": null,
   "id": "68bb1b3c",
   "metadata": {},
   "outputs": [],
   "source": [
    "gdf_subway_crs = gdf_subway.to_crs(epsg=\"4326\")"
   ]
  },
  {
   "cell_type": "code",
   "execution_count": null,
   "id": "3b01eaa1",
   "metadata": {},
   "outputs": [],
   "source": [
    "subway_geojson = gdf_subway_crs.__geo_interface__"
   ]
  },
  {
   "cell_type": "code",
   "execution_count": null,
   "id": "5dcaae72",
   "metadata": {},
   "outputs": [],
   "source": [
    "m.add_geojson(subway_geojson, layer_name=\"nyc subway stations\")"
   ]
  },
  {
   "cell_type": "code",
   "execution_count": null,
   "id": "d0f4ab3f",
   "metadata": {},
   "outputs": [],
   "source": [
    "sql3 = \"SELECT * FROM nyc_census_blocks WHERE boroname='Manhattan'\""
   ]
  },
  {
   "cell_type": "code",
   "execution_count": null,
   "id": "65d47d00",
   "metadata": {},
   "outputs": [],
   "source": [
    "gdf_blocks = gpd.read_postgis(sql3, con=engine)"
   ]
  },
  {
   "cell_type": "code",
   "execution_count": null,
   "id": "ab51adde",
   "metadata": {},
   "outputs": [],
   "source": [
    "gdf_blocks_crs = gdf_blocks.to_crs(epsg=\"4326\")"
   ]
  },
  {
   "cell_type": "code",
   "execution_count": null,
   "id": "c1de512e",
   "metadata": {},
   "outputs": [],
   "source": [
    "blocks_geojson = gdf_blocks_crs.__geo_interface__"
   ]
  },
  {
   "cell_type": "code",
   "execution_count": null,
   "id": "0843a76c",
   "metadata": {},
   "outputs": [],
   "source": [
    "m.add_geojson(blocks_geojson, style=style, layer_name=\"nyc census blocks\")"
   ]
  },
  {
   "cell_type": "code",
   "execution_count": null,
   "id": "e1dbf492",
   "metadata": {},
   "outputs": [],
   "source": [
    "sql4 = \"SELECT geom FROM nyc_homicides WHERE boroname='Manhattan'\""
   ]
  },
  {
   "cell_type": "code",
   "execution_count": null,
   "id": "d2b55b8a",
   "metadata": {},
   "outputs": [],
   "source": [
    "gdf_homicides = gpd.read_postgis(sql4, con=engine)"
   ]
  },
  {
   "cell_type": "code",
   "execution_count": null,
   "id": "14c4e726",
   "metadata": {},
   "outputs": [],
   "source": [
    "gdf_homicides_crs = gdf_homicides.to_crs(epsg=\"4326\")"
   ]
  },
  {
   "cell_type": "code",
   "execution_count": null,
   "id": "0365e914",
   "metadata": {},
   "outputs": [],
   "source": [
    "homicides_geojson =gdf_homicides_crs.__geo_interface__"
   ]
  },
  {
   "cell_type": "code",
   "execution_count": null,
   "id": "db2f9ab3",
   "metadata": {},
   "outputs": [],
   "source": [
    "m.add_geojson(homicides_geojson, style=style, layer_name=\"nyc homicides\")"
   ]
  },
  {
   "cell_type": "code",
   "execution_count": null,
   "id": "99d3314b",
   "metadata": {},
   "outputs": [],
   "source": []
  }
 ],
 "metadata": {
  "jupytext": {
   "text_representation": {
    "extension": ".md",
    "format_name": "myst",
    "format_version": 0.13,
    "jupytext_version": "1.14.5"
   }
  },
  "kernelspec": {
   "display_name": "Python 3",
   "language": "python",
   "name": "python3"
  },
  "source_map": [
   12,
   33,
   37,
   42,
   49,
   53,
   57,
   61,
   64,
   68,
   72,
   76,
   80,
   84,
   86,
   90,
   96,
   101,
   106,
   108,
   112,
   116,
   119,
   123,
   126,
   130,
   133,
   137,
   141,
   145,
   150,
   155,
   157,
   161,
   165,
   169,
   173,
   177,
   179,
   183,
   187,
   192,
   204,
   208,
   212,
   216,
   220,
   224,
   228,
   232,
   236,
   240,
   244,
   248,
   252,
   256,
   260,
   264,
   268
  ]
 },
 "nbformat": 4,
 "nbformat_minor": 5
}