{
 "cells": [
  {
   "cell_type": "markdown",
   "id": "9e039936",
   "metadata": {},
   "source": [
    "# SQL Basics\n",
    "\n",
    "**Setting up the conda env:**\n",
    "\n",
    "```\n",
    "conda create -n sql python\n",
    "conda activate sql\n",
    "conda install ipython-sql sqlalchemy psycopg2 notebook pandas -c conda-forge\n",
    "```\n",
    "\n",
    "\n",
    "**Sample dataset:**\n",
    "- [cities.csv](https://github.com/giswqs/postgis/blob/master/data/cities.csv)\n",
    "- [countries.csv](https://raw.githubusercontent.com/giswqs/postgis/master/data/countries.csv)"
   ]
  },
  {
   "cell_type": "markdown",
   "id": "dabd7b7b",
   "metadata": {},
   "source": [
    "## Connecting to the database"
   ]
  },
  {
   "cell_type": "code",
   "execution_count": null,
   "id": "90385897",
   "metadata": {},
   "outputs": [],
   "source": [
    "%load_ext sql"
   ]
  },
  {
   "cell_type": "code",
   "execution_count": null,
   "id": "5199bee8",
   "metadata": {},
   "outputs": [],
   "source": [
    "import os"
   ]
  },
  {
   "cell_type": "code",
   "execution_count": null,
   "id": "3da45d4d",
   "metadata": {},
   "outputs": [],
   "source": [
    "host = \"localhost\"\n",
    "database = \"sdb\"\n",
    "user = os.getenv('SQL_USER')\n",
    "password = os.getenv('SQL_PASSWORD')"
   ]
  },
  {
   "cell_type": "code",
   "execution_count": null,
   "id": "cf86e2bc",
   "metadata": {},
   "outputs": [],
   "source": [
    "connection_string = f\"postgresql://{user}:{password}@{host}/{database}\""
   ]
  },
  {
   "cell_type": "code",
   "execution_count": null,
   "id": "fa0eb565",
   "metadata": {},
   "outputs": [],
   "source": [
    "%sql $connection_string"
   ]
  },
  {
   "cell_type": "code",
   "execution_count": null,
   "id": "3a6cc612",
   "metadata": {},
   "outputs": [],
   "source": [
    "%%sql \n",
    "\n",
    "SELECT * FROM cities LIMIT 10"
   ]
  },
  {
   "cell_type": "markdown",
   "id": "b86a98a4",
   "metadata": {},
   "source": [
    "## The SQL SELECT statement"
   ]
  },
  {
   "cell_type": "code",
   "execution_count": null,
   "id": "4e25bee1",
   "metadata": {
    "tags": [
     "hide-output"
    ]
   },
   "outputs": [],
   "source": [
    "%%sql \n",
    "\n",
    "SELECT * FROM cities"
   ]
  },
  {
   "cell_type": "code",
   "execution_count": null,
   "id": "73e22fd1",
   "metadata": {},
   "outputs": [],
   "source": [
    "%%sql\n",
    "\n",
    "SELECT * FROM cities LIMIT 10"
   ]
  },
  {
   "cell_type": "code",
   "execution_count": null,
   "id": "104f77d5",
   "metadata": {},
   "outputs": [],
   "source": [
    "%%sql\n",
    "\n",
    "SELECT name, country FROM cities LIMIT 10"
   ]
  },
  {
   "cell_type": "code",
   "execution_count": null,
   "id": "c30fdb75",
   "metadata": {},
   "outputs": [],
   "source": [
    "%%sql\n",
    "\n",
    "SELECT DISTINCT country FROM cities LIMIT 10"
   ]
  },
  {
   "cell_type": "code",
   "execution_count": null,
   "id": "e5d9fa45",
   "metadata": {},
   "outputs": [],
   "source": [
    "%%sql\n",
    "\n",
    "SELECT COUNT(DISTINCT country) FROM cities"
   ]
  },
  {
   "cell_type": "code",
   "execution_count": null,
   "id": "22f07dc2",
   "metadata": {},
   "outputs": [],
   "source": [
    "%%sql\n",
    "\n",
    "SELECT MAX(population) FROM cities"
   ]
  },
  {
   "cell_type": "code",
   "execution_count": null,
   "id": "3afee24e",
   "metadata": {},
   "outputs": [],
   "source": [
    "%%sql\n",
    "\n",
    "SELECT SUM(population) FROM cities"
   ]
  },
  {
   "cell_type": "code",
   "execution_count": null,
   "id": "6b086ed6",
   "metadata": {},
   "outputs": [],
   "source": [
    "%%sql\n",
    "\n",
    "SELECT AVG(population) FROM cities"
   ]
  },
  {
   "cell_type": "code",
   "execution_count": null,
   "id": "0519de82",
   "metadata": {},
   "outputs": [],
   "source": [
    "%%sql\n",
    "\n",
    "SELECT * FROM cities ORDER BY country LIMIT 10"
   ]
  },
  {
   "cell_type": "code",
   "execution_count": null,
   "id": "f71bd876",
   "metadata": {},
   "outputs": [],
   "source": [
    "%%sql \n",
    "\n",
    "SELECT * FROM cities ORDER BY country ASC, population DESC LIMIT 10"
   ]
  },
  {
   "cell_type": "markdown",
   "id": "4cafebcb",
   "metadata": {},
   "source": [
    "## The WHERE Clause"
   ]
  },
  {
   "cell_type": "code",
   "execution_count": null,
   "id": "6fa3b339",
   "metadata": {
    "tags": [
     "hide-output"
    ]
   },
   "outputs": [],
   "source": [
    "%%sql\n",
    "\n",
    "SELECT * FROM cities WHERE country='USA'"
   ]
  },
  {
   "cell_type": "code",
   "execution_count": null,
   "id": "72ba514e",
   "metadata": {
    "tags": [
     "hide-output"
    ]
   },
   "outputs": [],
   "source": [
    "%%sql\n",
    "\n",
    "SELECT * FROM cities WHERE country='USA' OR country='CAN'"
   ]
  },
  {
   "cell_type": "code",
   "execution_count": null,
   "id": "85a982d0",
   "metadata": {
    "tags": [
     "hide-output"
    ]
   },
   "outputs": [],
   "source": [
    "%%sql \n",
    "\n",
    "SELECT * FROM cities WHERE country='USA' AND population>1000000"
   ]
  },
  {
   "cell_type": "code",
   "execution_count": null,
   "id": "eb78422d",
   "metadata": {
    "tags": [
     "hide-output"
    ]
   },
   "outputs": [],
   "source": [
    "%%sql\n",
    "\n",
    "SELECT * FROM cities WHERE country LIKE 'U%'"
   ]
  },
  {
   "cell_type": "code",
   "execution_count": null,
   "id": "fbe664d4",
   "metadata": {
    "tags": [
     "hide-output"
    ]
   },
   "outputs": [],
   "source": [
    "%%sql\n",
    "\n",
    "SELECT * FROM cities WHERE country LIKE '%A'"
   ]
  },
  {
   "cell_type": "code",
   "execution_count": null,
   "id": "c61773b8",
   "metadata": {
    "tags": [
     "hide-output"
    ]
   },
   "outputs": [],
   "source": [
    "%%sql \n",
    "\n",
    "SELECT * FROM cities WHERE country LIKE '_S_'"
   ]
  },
  {
   "cell_type": "code",
   "execution_count": null,
   "id": "412b40f9",
   "metadata": {
    "tags": [
     "hide-output"
    ]
   },
   "outputs": [],
   "source": [
    "%%sql\n",
    "\n",
    "SELECT * FROM cities WHERE country IN ('USA', 'CAN', 'CHN')"
   ]
  },
  {
   "cell_type": "code",
   "execution_count": null,
   "id": "d3699595",
   "metadata": {
    "tags": [
     "hide-output"
    ]
   },
   "outputs": [],
   "source": [
    "%%sql \n",
    "\n",
    "SELECT * FROM cities WHERE population BETWEEN 1000000 AND 10000000"
   ]
  },
  {
   "cell_type": "markdown",
   "id": "b41d151a",
   "metadata": {},
   "source": [
    "## SQL Joins\n",
    "\n",
    "Reference: https://www.w3schools.com/sql/sql_join.asp\n",
    "\n",
    "Here are the different types of the JOINs in SQL:\n",
    "\n",
    "- `(INNER) JOIN`: Returns records that have matching values in both tables\n",
    "- `LEFT (OUTER) JOIN`: Returns all records from the left table, and the matched records from the right table\n",
    "- `RIGHT (OUTER) JOIN`: Returns all records from the right table, and the matched records from the left table\n",
    "- `FULL (OUTER) JOIN`: Returns all records when there is a match in either left or right table\n",
    "\n",
    "![](https://i.imgur.com/mITYzuS.png)"
   ]
  },
  {
   "cell_type": "code",
   "execution_count": null,
   "id": "5bef399c",
   "metadata": {},
   "outputs": [],
   "source": [
    "%%sql \n",
    "\n",
    "SELECT COUNT(*) FROM cities"
   ]
  },
  {
   "cell_type": "code",
   "execution_count": null,
   "id": "2e0dee32",
   "metadata": {},
   "outputs": [],
   "source": [
    "%%sql \n",
    "\n",
    "SELECT * FROM cities LIMIT 10"
   ]
  },
  {
   "cell_type": "code",
   "execution_count": null,
   "id": "3ea5e2f6",
   "metadata": {},
   "outputs": [],
   "source": [
    "%%sql \n",
    "\n",
    "SELECT COUNT(*) FROM countries"
   ]
  },
  {
   "cell_type": "code",
   "execution_count": null,
   "id": "506a4a40",
   "metadata": {},
   "outputs": [],
   "source": [
    "%%sql \n",
    "\n",
    "SELECT * FROM countries LIMIT 10"
   ]
  },
  {
   "cell_type": "markdown",
   "id": "5887378b",
   "metadata": {},
   "source": [
    "### SQL Inner Join"
   ]
  },
  {
   "cell_type": "code",
   "execution_count": null,
   "id": "e5f568e7",
   "metadata": {
    "tags": [
     "hide-output"
    ]
   },
   "outputs": [],
   "source": [
    "%%sql\n",
    "\n",
    "SELECT * FROM cities INNER JOIN countries ON cities.country = countries.\"Alpha3_code\""
   ]
  },
  {
   "cell_type": "code",
   "execution_count": null,
   "id": "68eaac8c",
   "metadata": {
    "tags": [
     "hide-output"
    ]
   },
   "outputs": [],
   "source": [
    "%%sql\n",
    "\n",
    "SELECT name, country, countries.\"Country\" FROM cities INNER JOIN countries ON cities.country = countries.\"Alpha3_code\""
   ]
  },
  {
   "cell_type": "markdown",
   "id": "f64bbf7f",
   "metadata": {},
   "source": [
    "### SQL Left Join"
   ]
  },
  {
   "cell_type": "code",
   "execution_count": null,
   "id": "38e3c3f1",
   "metadata": {
    "tags": [
     "hide-output"
    ]
   },
   "outputs": [],
   "source": [
    "%%sql\n",
    "\n",
    "SELECT * FROM cities LEFT JOIN countries ON cities.country = countries.\"Alpha3_code\""
   ]
  },
  {
   "cell_type": "markdown",
   "id": "623582ab",
   "metadata": {},
   "source": [
    "### SQL Right Join"
   ]
  },
  {
   "cell_type": "code",
   "execution_count": null,
   "id": "551e3da7",
   "metadata": {
    "tags": [
     "hide-output"
    ]
   },
   "outputs": [],
   "source": [
    "%%sql\n",
    "\n",
    "SELECT * FROM cities RIGHT JOIN countries ON cities.country = countries.\"Alpha3_code\""
   ]
  },
  {
   "cell_type": "markdown",
   "id": "470921fb",
   "metadata": {},
   "source": [
    "### SQL Full Join"
   ]
  },
  {
   "cell_type": "code",
   "execution_count": null,
   "id": "8adc3136",
   "metadata": {
    "tags": [
     "hide-output"
    ]
   },
   "outputs": [],
   "source": [
    "%%sql\n",
    "\n",
    "SELECT * FROM cities FULL JOIN countries ON cities.country = countries.\"Alpha3_code\""
   ]
  },
  {
   "cell_type": "markdown",
   "id": "39145a71",
   "metadata": {},
   "source": [
    "### SQL Union"
   ]
  },
  {
   "cell_type": "code",
   "execution_count": null,
   "id": "9c33d463",
   "metadata": {
    "tags": [
     "hide-output"
    ]
   },
   "outputs": [],
   "source": [
    "%%sql\n",
    "\n",
    "SELECT country FROM cities\n",
    "UNION \n",
    "SELECT \"Alpha3_code\" FROM countries"
   ]
  },
  {
   "cell_type": "markdown",
   "id": "7efc12ed",
   "metadata": {},
   "source": [
    "## Aggregation\n",
    "\n",
    "### Group By"
   ]
  },
  {
   "cell_type": "code",
   "execution_count": null,
   "id": "25a1e828",
   "metadata": {
    "tags": [
     "hide-output"
    ]
   },
   "outputs": [],
   "source": [
    "%%sql\n",
    "\n",
    "SELECT COUNT(name), country \n",
    "FROM cities \n",
    "GROUP BY country \n",
    "ORDER BY COUNT(name) DESC"
   ]
  },
  {
   "cell_type": "code",
   "execution_count": null,
   "id": "c4aee614",
   "metadata": {
    "tags": [
     "hide-output"
    ]
   },
   "outputs": [],
   "source": [
    "%%sql\n",
    "\n",
    "SELECT countries.\"Country\", COUNT(name)\n",
    "FROM cities\n",
    "LEFT JOIN countries ON cities.country = countries.\"Alpha3_code\"\n",
    "GROUP BY countries.\"Country\"\n",
    "ORDER BY COUNT(name) DESC"
   ]
  },
  {
   "cell_type": "markdown",
   "id": "28f85328",
   "metadata": {},
   "source": [
    "### Having"
   ]
  },
  {
   "cell_type": "code",
   "execution_count": null,
   "id": "1568a3c9",
   "metadata": {},
   "outputs": [],
   "source": [
    "%%sql \n",
    "\n",
    "SELECT COUNT(name), country\n",
    "FROM cities\n",
    "GROUP BY country\n",
    "HAVING COUNT(name) > 40\n",
    "ORDER BY COUNT(name) DESC"
   ]
  },
  {
   "cell_type": "code",
   "execution_count": null,
   "id": "1df8fc37",
   "metadata": {},
   "outputs": [],
   "source": [
    "%%sql\n",
    "\n",
    "SELECT countries.\"Country\", COUNT(name)\n",
    "FROM cities\n",
    "LEFT JOIN countries ON cities.country = countries.\"Alpha3_code\"\n",
    "GROUP BY countries.\"Country\"\n",
    "HAVING COUNT(name) > 40\n",
    "ORDER BY COUNT(name) DESC"
   ]
  },
  {
   "cell_type": "markdown",
   "id": "c596329a",
   "metadata": {},
   "source": [
    "## Conditional statements"
   ]
  },
  {
   "cell_type": "code",
   "execution_count": null,
   "id": "1679aade",
   "metadata": {
    "tags": [
     "hide-output"
    ]
   },
   "outputs": [],
   "source": [
    "%%sql\n",
    "\n",
    "SELECT name, population,\n",
    "CASE\n",
    "    WHEN population > 10000000 THEN 'Megacity'\n",
    "    WHEN population > 1000000 THEN 'Large city'\n",
    "    ELSE 'Small city'\n",
    "END AS category\n",
    "FROM cities"
   ]
  },
  {
   "cell_type": "markdown",
   "id": "4d2c41d6",
   "metadata": {},
   "source": [
    "## Saving results"
   ]
  },
  {
   "cell_type": "code",
   "execution_count": null,
   "id": "8cff7940",
   "metadata": {},
   "outputs": [],
   "source": [
    "%%sql\n",
    "\n",
    "SELECT *\n",
    "INTO cities_new\n",
    "FROM cities"
   ]
  },
  {
   "cell_type": "code",
   "execution_count": null,
   "id": "9567d0ad",
   "metadata": {},
   "outputs": [],
   "source": [
    "%%sql\n",
    "\n",
    "DROP TABLE IF EXISTS cities_usa;\n",
    "\n",
    "SELECT *\n",
    "INTO cities_usa\n",
    "FROM cities\n",
    "WHERE country = 'USA'"
   ]
  },
  {
   "cell_type": "code",
   "execution_count": null,
   "id": "97f77324",
   "metadata": {},
   "outputs": [],
   "source": [
    "%%sql \n",
    "\n",
    "INSERT INTO cities_usa\n",
    "SELECT *\n",
    "FROM cities\n",
    "WHERE country = 'CAN'"
   ]
  },
  {
   "cell_type": "markdown",
   "id": "377ef1a2",
   "metadata": {},
   "source": [
    "## SQL Comments\n",
    "\n",
    "### Single line coments"
   ]
  },
  {
   "cell_type": "code",
   "execution_count": null,
   "id": "8aa125c9",
   "metadata": {},
   "outputs": [],
   "source": [
    "%%sql\n",
    "\n",
    "SELECT * FROM cities LIMIT 10 -- This is a comment;"
   ]
  },
  {
   "cell_type": "markdown",
   "id": "b5735b90",
   "metadata": {},
   "source": [
    "### Multi-line comments"
   ]
  },
  {
   "cell_type": "code",
   "execution_count": null,
   "id": "ca7ea8d7",
   "metadata": {},
   "outputs": [],
   "source": [
    "%%sql\n",
    "\n",
    "SELECT COUNT(name), country \n",
    "FROM cities \n",
    "/*\n",
    " * Adding Group by\n",
    " * Adding Order by\n",
    " */\n",
    "GROUP BY country \n",
    "ORDER BY COUNT(name) DESC\n",
    "LIMIT 10"
   ]
  },
  {
   "cell_type": "code",
   "execution_count": null,
   "id": "5195ec12",
   "metadata": {},
   "outputs": [],
   "source": []
  }
 ],
 "metadata": {
  "jupytext": {
   "text_representation": {
    "extension": ".md",
    "format_name": "myst",
    "format_version": 0.13,
    "jupytext_version": "1.14.5"
   }
  },
  "kernelspec": {
   "display_name": "Python 3",
   "language": "python",
   "name": "python3"
  },
  "source_map": [
   12,
   29,
   33,
   37,
   41,
   48,
   52,
   56,
   60,
   64,
   72,
   78,
   84,
   90,
   96,
   102,
   108,
   114,
   120,
   124,
   128,
   136,
   144,
   152,
   160,
   168,
   176,
   184,
   190,
   205,
   211,
   217,
   223,
   227,
   231,
   239,
   245,
   249,
   255,
   259,
   265,
   269,
   275,
   279,
   287,
   293,
   304,
   314,
   318,
   328,
   337,
   341,
   353,
   357,
   365,
   376,
   383,
   389,
   393,
   397,
   411
  ]
 },
 "nbformat": 4,
 "nbformat_minor": 5
}