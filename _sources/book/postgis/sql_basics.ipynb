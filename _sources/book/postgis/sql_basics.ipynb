{
 "cells": [
  {
   "cell_type": "markdown",
   "id": "15d5d1d7",
   "metadata": {},
   "source": [
    "# SQL Basics\n",
    "\n",
    "**Setting up the conda env:**\n",
    "\n",
    "```\n",
    "conda create -n sql python\n",
    "conda activate sql\n",
    "conda install ipython-sql sqlalchemy psycopg2 notebook pandas -c conda-forge\n",
    "```\n",
    "\n",
    "\n",
    "**Sample dataset:**\n",
    "- [cities.csv](https://github.com/giswqs/postgis/blob/master/data/cities.csv)\n",
    "- [countries.csv](https://raw.githubusercontent.com/giswqs/postgis/master/data/countries.csv)"
   ]
  },
  {
   "cell_type": "markdown",
   "id": "1d6803a7",
   "metadata": {},
   "source": [
    "## Connecting to the database"
   ]
  },
  {
   "cell_type": "code",
   "execution_count": null,
   "id": "1fa92cdd",
   "metadata": {},
   "outputs": [],
   "source": [
    "%load_ext sql"
   ]
  },
  {
   "cell_type": "code",
   "execution_count": null,
   "id": "b46d44bd",
   "metadata": {},
   "outputs": [],
   "source": [
    "import os"
   ]
  },
  {
   "cell_type": "code",
   "execution_count": null,
   "id": "8bbaed25",
   "metadata": {},
   "outputs": [],
   "source": [
    "host = \"localhost\"\n",
    "database = \"sdb\"\n",
    "user = os.getenv('SQL_USER')\n",
    "password = os.getenv('SQL_PASSWORD')"
   ]
  },
  {
   "cell_type": "code",
   "execution_count": null,
   "id": "c87257b1",
   "metadata": {},
   "outputs": [],
   "source": [
    "connection_string = f\"postgresql://{user}:{password}@{host}/{database}\""
   ]
  },
  {
   "cell_type": "code",
   "execution_count": null,
   "id": "967f7f87",
   "metadata": {},
   "outputs": [],
   "source": [
    "%sql $connection_string"
   ]
  },
  {
   "cell_type": "code",
   "execution_count": null,
   "id": "1de10fd2",
   "metadata": {},
   "outputs": [],
   "source": [
    "%%sql \n",
    "\n",
    "SELECT * FROM cities LIMIT 10"
   ]
  },
  {
   "cell_type": "markdown",
   "id": "009c0327",
   "metadata": {},
   "source": [
    "## The SQL SELECT statement"
   ]
  },
  {
   "cell_type": "code",
   "execution_count": null,
   "id": "87e1c0c2",
   "metadata": {
    "tags": [
     "hide-output"
    ]
   },
   "outputs": [],
   "source": [
    "%%sql \n",
    "\n",
    "SELECT * FROM cities"
   ]
  },
  {
   "cell_type": "code",
   "execution_count": null,
   "id": "b730841a",
   "metadata": {},
   "outputs": [],
   "source": [
    "%%sql\n",
    "\n",
    "SELECT * FROM cities LIMIT 10"
   ]
  },
  {
   "cell_type": "code",
   "execution_count": null,
   "id": "45f78e5d",
   "metadata": {},
   "outputs": [],
   "source": [
    "%%sql\n",
    "\n",
    "SELECT name, country FROM cities LIMIT 10"
   ]
  },
  {
   "cell_type": "code",
   "execution_count": null,
   "id": "f70bd036",
   "metadata": {},
   "outputs": [],
   "source": [
    "%%sql\n",
    "\n",
    "SELECT DISTINCT country FROM cities LIMIT 10"
   ]
  },
  {
   "cell_type": "code",
   "execution_count": null,
   "id": "0559cfe0",
   "metadata": {},
   "outputs": [],
   "source": [
    "%%sql\n",
    "\n",
    "SELECT COUNT(DISTINCT country) FROM cities"
   ]
  },
  {
   "cell_type": "code",
   "execution_count": null,
   "id": "e9ca6465",
   "metadata": {},
   "outputs": [],
   "source": [
    "%%sql\n",
    "\n",
    "SELECT MAX(population) FROM cities"
   ]
  },
  {
   "cell_type": "code",
   "execution_count": null,
   "id": "1721dec9",
   "metadata": {},
   "outputs": [],
   "source": [
    "%%sql\n",
    "\n",
    "SELECT SUM(population) FROM cities"
   ]
  },
  {
   "cell_type": "code",
   "execution_count": null,
   "id": "ee622b9b",
   "metadata": {},
   "outputs": [],
   "source": [
    "%%sql\n",
    "\n",
    "SELECT AVG(population) FROM cities"
   ]
  },
  {
   "cell_type": "code",
   "execution_count": null,
   "id": "5a4b4790",
   "metadata": {},
   "outputs": [],
   "source": [
    "%%sql\n",
    "\n",
    "SELECT * FROM cities ORDER BY country LIMIT 10"
   ]
  },
  {
   "cell_type": "code",
   "execution_count": null,
   "id": "ae4571ff",
   "metadata": {},
   "outputs": [],
   "source": [
    "%%sql \n",
    "\n",
    "SELECT * FROM cities ORDER BY country ASC, population DESC LIMIT 10"
   ]
  },
  {
   "cell_type": "markdown",
   "id": "c5061d69",
   "metadata": {},
   "source": [
    "## The WHERE Clause"
   ]
  },
  {
   "cell_type": "code",
   "execution_count": null,
   "id": "663d591a",
   "metadata": {
    "tags": [
     "hide-output"
    ]
   },
   "outputs": [],
   "source": [
    "%%sql\n",
    "\n",
    "SELECT * FROM cities WHERE country='USA'"
   ]
  },
  {
   "cell_type": "code",
   "execution_count": null,
   "id": "6ee3bae8",
   "metadata": {
    "tags": [
     "hide-output"
    ]
   },
   "outputs": [],
   "source": [
    "%%sql\n",
    "\n",
    "SELECT * FROM cities WHERE country='USA' OR country='CAN'"
   ]
  },
  {
   "cell_type": "code",
   "execution_count": null,
   "id": "ce573b76",
   "metadata": {
    "tags": [
     "hide-output"
    ]
   },
   "outputs": [],
   "source": [
    "%%sql \n",
    "\n",
    "SELECT * FROM cities WHERE country='USA' AND population>1000000"
   ]
  },
  {
   "cell_type": "code",
   "execution_count": null,
   "id": "c4fb8035",
   "metadata": {
    "tags": [
     "hide-output"
    ]
   },
   "outputs": [],
   "source": [
    "%%sql\n",
    "\n",
    "SELECT * FROM cities WHERE country LIKE 'U%'"
   ]
  },
  {
   "cell_type": "code",
   "execution_count": null,
   "id": "b7727151",
   "metadata": {
    "tags": [
     "hide-output"
    ]
   },
   "outputs": [],
   "source": [
    "%%sql\n",
    "\n",
    "SELECT * FROM cities WHERE country LIKE '%A'"
   ]
  },
  {
   "cell_type": "code",
   "execution_count": null,
   "id": "0e145031",
   "metadata": {
    "tags": [
     "hide-output"
    ]
   },
   "outputs": [],
   "source": [
    "%%sql \n",
    "\n",
    "SELECT * FROM cities WHERE country LIKE '_S_'"
   ]
  },
  {
   "cell_type": "code",
   "execution_count": null,
   "id": "93ce7cc3",
   "metadata": {
    "tags": [
     "hide-output"
    ]
   },
   "outputs": [],
   "source": [
    "%%sql\n",
    "\n",
    "SELECT * FROM cities WHERE country IN ('USA', 'CAN', 'CHN')"
   ]
  },
  {
   "cell_type": "code",
   "execution_count": null,
   "id": "1534de76",
   "metadata": {
    "tags": [
     "hide-output"
    ]
   },
   "outputs": [],
   "source": [
    "%%sql \n",
    "\n",
    "SELECT * FROM cities WHERE population BETWEEN 1000000 AND 10000000"
   ]
  },
  {
   "cell_type": "markdown",
   "id": "a813caec",
   "metadata": {},
   "source": [
    "## SQL Joins\n",
    "\n",
    "Reference: https://www.w3schools.com/sql/sql_join.asp\n",
    "\n",
    "Here are the different types of the JOINs in SQL:\n",
    "\n",
    "- `(INNER) JOIN`: Returns records that have matching values in both tables\n",
    "- `LEFT (OUTER) JOIN`: Returns all records from the left table, and the matched records from the right table\n",
    "- `RIGHT (OUTER) JOIN`: Returns all records from the right table, and the matched records from the left table\n",
    "- `FULL (OUTER) JOIN`: Returns all records when there is a match in either left or right table\n",
    "\n",
    "![](https://i.imgur.com/mITYzuS.png)"
   ]
  },
  {
   "cell_type": "code",
   "execution_count": null,
   "id": "3a3663f8",
   "metadata": {},
   "outputs": [],
   "source": [
    "%%sql \n",
    "\n",
    "SELECT COUNT(*) FROM cities"
   ]
  },
  {
   "cell_type": "code",
   "execution_count": null,
   "id": "68ab387a",
   "metadata": {},
   "outputs": [],
   "source": [
    "%%sql \n",
    "\n",
    "SELECT * FROM cities LIMIT 10"
   ]
  },
  {
   "cell_type": "code",
   "execution_count": null,
   "id": "7ade17cb",
   "metadata": {},
   "outputs": [],
   "source": [
    "%%sql \n",
    "\n",
    "SELECT COUNT(*) FROM countries"
   ]
  },
  {
   "cell_type": "code",
   "execution_count": null,
   "id": "2c5f1d1f",
   "metadata": {},
   "outputs": [],
   "source": [
    "%%sql \n",
    "\n",
    "SELECT * FROM countries LIMIT 10"
   ]
  },
  {
   "cell_type": "markdown",
   "id": "0bacf5d6",
   "metadata": {},
   "source": [
    "### SQL Inner Join"
   ]
  },
  {
   "cell_type": "code",
   "execution_count": null,
   "id": "287f8112",
   "metadata": {
    "tags": [
     "hide-output"
    ]
   },
   "outputs": [],
   "source": [
    "%%sql\n",
    "\n",
    "SELECT * FROM cities INNER JOIN countries ON cities.country = countries.\"Alpha3_code\""
   ]
  },
  {
   "cell_type": "code",
   "execution_count": null,
   "id": "ff0a7356",
   "metadata": {
    "tags": [
     "hide-output"
    ]
   },
   "outputs": [],
   "source": [
    "%%sql\n",
    "\n",
    "SELECT name, country, countries.\"Country\" FROM cities INNER JOIN countries ON cities.country = countries.\"Alpha3_code\""
   ]
  },
  {
   "cell_type": "markdown",
   "id": "f4cad6c1",
   "metadata": {},
   "source": [
    "### SQL Left Join"
   ]
  },
  {
   "cell_type": "code",
   "execution_count": null,
   "id": "8efb4430",
   "metadata": {
    "tags": [
     "hide-output"
    ]
   },
   "outputs": [],
   "source": [
    "%%sql\n",
    "\n",
    "SELECT * FROM cities LEFT JOIN countries ON cities.country = countries.\"Alpha3_code\""
   ]
  },
  {
   "cell_type": "markdown",
   "id": "6e326d3b",
   "metadata": {},
   "source": [
    "### SQL Right Join"
   ]
  },
  {
   "cell_type": "code",
   "execution_count": null,
   "id": "0340617d",
   "metadata": {
    "tags": [
     "hide-output"
    ]
   },
   "outputs": [],
   "source": [
    "%%sql\n",
    "\n",
    "SELECT * FROM cities RIGHT JOIN countries ON cities.country = countries.\"Alpha3_code\""
   ]
  },
  {
   "cell_type": "markdown",
   "id": "33f98721",
   "metadata": {},
   "source": [
    "### SQL Full Join"
   ]
  },
  {
   "cell_type": "code",
   "execution_count": null,
   "id": "0f20eade",
   "metadata": {
    "tags": [
     "hide-output"
    ]
   },
   "outputs": [],
   "source": [
    "%%sql\n",
    "\n",
    "SELECT * FROM cities FULL JOIN countries ON cities.country = countries.\"Alpha3_code\""
   ]
  },
  {
   "cell_type": "markdown",
   "id": "ea44cf96",
   "metadata": {},
   "source": [
    "### SQL Union"
   ]
  },
  {
   "cell_type": "code",
   "execution_count": null,
   "id": "477d18ff",
   "metadata": {
    "tags": [
     "hide-output"
    ]
   },
   "outputs": [],
   "source": [
    "%%sql\n",
    "\n",
    "SELECT country FROM cities\n",
    "UNION \n",
    "SELECT \"Alpha3_code\" FROM countries"
   ]
  },
  {
   "cell_type": "markdown",
   "id": "23f30f8e",
   "metadata": {},
   "source": [
    "## Aggregation\n",
    "\n",
    "### Group By"
   ]
  },
  {
   "cell_type": "code",
   "execution_count": null,
   "id": "30e1384a",
   "metadata": {
    "tags": [
     "hide-output"
    ]
   },
   "outputs": [],
   "source": [
    "%%sql\n",
    "\n",
    "SELECT COUNT(name), country \n",
    "FROM cities \n",
    "GROUP BY country \n",
    "ORDER BY COUNT(name) DESC"
   ]
  },
  {
   "cell_type": "code",
   "execution_count": null,
   "id": "3583ed7f",
   "metadata": {
    "tags": [
     "hide-output"
    ]
   },
   "outputs": [],
   "source": [
    "%%sql\n",
    "\n",
    "SELECT countries.\"Country\", COUNT(name)\n",
    "FROM cities\n",
    "LEFT JOIN countries ON cities.country = countries.\"Alpha3_code\"\n",
    "GROUP BY countries.\"Country\"\n",
    "ORDER BY COUNT(name) DESC"
   ]
  },
  {
   "cell_type": "markdown",
   "id": "f794bdee",
   "metadata": {},
   "source": [
    "### Having"
   ]
  },
  {
   "cell_type": "code",
   "execution_count": null,
   "id": "6932a9c3",
   "metadata": {},
   "outputs": [],
   "source": [
    "%%sql \n",
    "\n",
    "SELECT COUNT(name), country\n",
    "FROM cities\n",
    "GROUP BY country\n",
    "HAVING COUNT(name) > 40\n",
    "ORDER BY COUNT(name) DESC"
   ]
  },
  {
   "cell_type": "code",
   "execution_count": null,
   "id": "dbb47264",
   "metadata": {},
   "outputs": [],
   "source": [
    "%%sql\n",
    "\n",
    "SELECT countries.\"Country\", COUNT(name)\n",
    "FROM cities\n",
    "LEFT JOIN countries ON cities.country = countries.\"Alpha3_code\"\n",
    "GROUP BY countries.\"Country\"\n",
    "HAVING COUNT(name) > 40\n",
    "ORDER BY COUNT(name) DESC"
   ]
  },
  {
   "cell_type": "markdown",
   "id": "756b5409",
   "metadata": {},
   "source": [
    "## Conditional statements"
   ]
  },
  {
   "cell_type": "code",
   "execution_count": null,
   "id": "29853ab4",
   "metadata": {
    "tags": [
     "hide-output"
    ]
   },
   "outputs": [],
   "source": [
    "%%sql\n",
    "\n",
    "SELECT name, population,\n",
    "CASE\n",
    "    WHEN population > 10000000 THEN 'Megacity'\n",
    "    WHEN population > 1000000 THEN 'Large city'\n",
    "    ELSE 'Small city'\n",
    "END AS category\n",
    "FROM cities"
   ]
  },
  {
   "cell_type": "markdown",
   "id": "5db4ee41",
   "metadata": {},
   "source": [
    "## Saving results"
   ]
  },
  {
   "cell_type": "code",
   "execution_count": null,
   "id": "3800faa8",
   "metadata": {},
   "outputs": [],
   "source": [
    "%%sql\n",
    "\n",
    "SELECT *\n",
    "INTO cities_new\n",
    "FROM cities"
   ]
  },
  {
   "cell_type": "code",
   "execution_count": null,
   "id": "58aba72e",
   "metadata": {},
   "outputs": [],
   "source": [
    "%%sql\n",
    "\n",
    "DROP TABLE IF EXISTS cities_usa;\n",
    "\n",
    "SELECT *\n",
    "INTO cities_usa\n",
    "FROM cities\n",
    "WHERE country = 'USA'"
   ]
  },
  {
   "cell_type": "code",
   "execution_count": null,
   "id": "fab7aa0a",
   "metadata": {},
   "outputs": [],
   "source": [
    "%%sql \n",
    "\n",
    "INSERT INTO cities_usa\n",
    "SELECT *\n",
    "FROM cities\n",
    "WHERE country = 'CAN'"
   ]
  },
  {
   "cell_type": "markdown",
   "id": "7db069bd",
   "metadata": {},
   "source": [
    "## SQL Comments\n",
    "\n",
    "### Single line coments"
   ]
  },
  {
   "cell_type": "code",
   "execution_count": null,
   "id": "74016713",
   "metadata": {},
   "outputs": [],
   "source": [
    "%%sql\n",
    "\n",
    "SELECT * FROM cities LIMIT 10 -- This is a comment;"
   ]
  },
  {
   "cell_type": "markdown",
   "id": "39e80a58",
   "metadata": {},
   "source": [
    "### Multi-line comments"
   ]
  },
  {
   "cell_type": "code",
   "execution_count": null,
   "id": "e939b99d",
   "metadata": {},
   "outputs": [],
   "source": [
    "%%sql\n",
    "\n",
    "SELECT COUNT(name), country \n",
    "FROM cities \n",
    "/*\n",
    " * Adding Group by\n",
    " * Adding Order by\n",
    " */\n",
    "GROUP BY country \n",
    "ORDER BY COUNT(name) DESC\n",
    "LIMIT 10"
   ]
  },
  {
   "cell_type": "code",
   "execution_count": null,
   "id": "b5a15f8c",
   "metadata": {},
   "outputs": [],
   "source": []
  }
 ],
 "metadata": {
  "jupytext": {
   "text_representation": {
    "extension": ".md",
    "format_name": "myst",
    "format_version": 0.13,
    "jupytext_version": "1.14.5"
   }
  },
  "kernelspec": {
   "display_name": "Python 3",
   "language": "python",
   "name": "python3"
  },
  "source_map": [
   12,
   29,
   33,
   37,
   41,
   48,
   52,
   56,
   60,
   64,
   72,
   78,
   84,
   90,
   96,
   102,
   108,
   114,
   120,
   124,
   128,
   136,
   144,
   152,
   160,
   168,
   176,
   184,
   190,
   205,
   211,
   217,
   223,
   227,
   231,
   239,
   245,
   249,
   255,
   259,
   265,
   269,
   275,
   279,
   287,
   293,
   304,
   314,
   318,
   328,
   337,
   341,
   353,
   357,
   365,
   376,
   383,
   389,
   393,
   397,
   411
  ]
 },
 "nbformat": 4,
 "nbformat_minor": 5
}