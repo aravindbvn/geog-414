{
 "cells": [
  {
   "cell_type": "markdown",
   "id": "54ae8c3b",
   "metadata": {},
   "source": [
    "# Introduction to PostGIS\n",
    "\n",
    "**Setting up the conda env:**\n",
    "\n",
    "```\n",
    "conda create -n sql python\n",
    "conda activate sql\n",
    "conda install ipython-sql sqlalchemy psycopg2 notebook pandas -c conda-forge\n",
    "```\n",
    "\n",
    "**Sample dataset:**\n",
    "- [nyc_data.zip](https://github.com/giswqs/postgis/raw/master/data/nyc_data.zip) (Watch this [video](https://youtu.be/fROzLrjNDrs) to load data into PostGIS)\n",
    "\n",
    "**References**:\n",
    "- [Introduction to PostGIS](https://postgis.net/workshops/postgis-intro)\n",
    "- [Using SQL with Geodatabases](https://desktop.arcgis.com/en/arcmap/latest/manage-data/using-sql-with-gdbs/sql-and-enterprise-geodatabases.htm)"
   ]
  },
  {
   "cell_type": "markdown",
   "id": "1039c3a9",
   "metadata": {},
   "source": [
    "## Connecting to the database"
   ]
  },
  {
   "cell_type": "code",
   "execution_count": null,
   "id": "69ec0f38",
   "metadata": {},
   "outputs": [],
   "source": [
    "%load_ext sql"
   ]
  },
  {
   "cell_type": "code",
   "execution_count": null,
   "id": "a0604d1e",
   "metadata": {},
   "outputs": [],
   "source": [
    "import os"
   ]
  },
  {
   "cell_type": "code",
   "execution_count": null,
   "id": "97cdbf03",
   "metadata": {},
   "outputs": [],
   "source": [
    "host = \"localhost\"\n",
    "database = \"nyc\"\n",
    "user = os.getenv('SQL_USER')\n",
    "password = os.getenv('SQL_PASSWORD')"
   ]
  },
  {
   "cell_type": "code",
   "execution_count": null,
   "id": "549a9265",
   "metadata": {},
   "outputs": [],
   "source": [
    "connection_string = f\"postgresql://{user}:{password}@{host}/{database}\""
   ]
  },
  {
   "cell_type": "code",
   "execution_count": null,
   "id": "dbe7119b",
   "metadata": {},
   "outputs": [],
   "source": [
    "%sql $connection_string"
   ]
  },
  {
   "cell_type": "code",
   "execution_count": null,
   "id": "d41cb748",
   "metadata": {},
   "outputs": [],
   "source": [
    "%%sql \n",
    "\n",
    "SELECT * FROM nyc_neighborhoods WHERE FALSE"
   ]
  },
  {
   "cell_type": "code",
   "execution_count": null,
   "id": "1322bcb9",
   "metadata": {},
   "outputs": [],
   "source": [
    "%%sql \n",
    "\n",
    "SELECT id, boroname, name from nyc_neighborhoods LIMIT 10"
   ]
  },
  {
   "cell_type": "markdown",
   "id": "71c66ab1",
   "metadata": {},
   "source": [
    "## Simple SQL"
   ]
  },
  {
   "cell_type": "code",
   "execution_count": null,
   "id": "404f9b56",
   "metadata": {},
   "outputs": [],
   "source": [
    "%%sql\n",
    "\n",
    "SELECT postgis_full_version()"
   ]
  },
  {
   "cell_type": "markdown",
   "id": "cbfeeb09",
   "metadata": {},
   "source": [
    "### NYC Neighborhoods\n",
    "\n",
    "![](https://i.imgur.com/eycL547.png)"
   ]
  },
  {
   "cell_type": "markdown",
   "id": "cbe1aca4",
   "metadata": {},
   "source": [
    "What are the names of all the neighborhoods in New York City?"
   ]
  },
  {
   "cell_type": "code",
   "execution_count": null,
   "id": "f400117e",
   "metadata": {
    "tags": [
     "hide-output"
    ]
   },
   "outputs": [],
   "source": [
    "%%sql\n",
    "\n",
    "SELECT name FROM nyc_neighborhoods"
   ]
  },
  {
   "cell_type": "markdown",
   "id": "a32516f8",
   "metadata": {},
   "source": [
    "What are the names of all the neighborhoods in Brooklyn?"
   ]
  },
  {
   "cell_type": "code",
   "execution_count": null,
   "id": "84049747",
   "metadata": {
    "tags": [
     "hide-output"
    ]
   },
   "outputs": [],
   "source": [
    "%%sql\n",
    "\n",
    "SELECT name\n",
    "FROM nyc_neighborhoods\n",
    "WHERE boroname = 'Brooklyn'"
   ]
  },
  {
   "cell_type": "markdown",
   "id": "854f12d8",
   "metadata": {},
   "source": [
    "What is the number of letters in the names of all the neighborhoods in Brooklyn?"
   ]
  },
  {
   "cell_type": "code",
   "execution_count": null,
   "id": "292b097a",
   "metadata": {
    "tags": [
     "hide-output"
    ]
   },
   "outputs": [],
   "source": [
    "%%sql\n",
    "\n",
    "SELECT char_length(name)\n",
    "FROM nyc_neighborhoods\n",
    "WHERE boroname = 'Brooklyn'"
   ]
  },
  {
   "cell_type": "markdown",
   "id": "43249db6",
   "metadata": {},
   "source": [
    "What is the average number of letters and standard deviation of number of letters in the names of all the neighborhoods in Brooklyn?"
   ]
  },
  {
   "cell_type": "code",
   "execution_count": null,
   "id": "0db55d0e",
   "metadata": {},
   "outputs": [],
   "source": [
    "%%sql\n",
    "\n",
    "SELECT avg(char_length(name)), stddev(char_length(name))\n",
    "FROM nyc_neighborhoods\n",
    "WHERE boroname = 'Brooklyn'"
   ]
  },
  {
   "cell_type": "markdown",
   "id": "2961903e",
   "metadata": {},
   "source": [
    "What is the average number of letters in the names of all the neighborhoods in New York City, reported by borough?"
   ]
  },
  {
   "cell_type": "code",
   "execution_count": null,
   "id": "c8743a26",
   "metadata": {},
   "outputs": [],
   "source": [
    "%%sql\n",
    "\n",
    "SELECT boroname, avg(char_length(name)), stddev(char_length(name))\n",
    "FROM nyc_neighborhoods\n",
    "GROUP BY boroname"
   ]
  },
  {
   "cell_type": "markdown",
   "id": "c9605f59",
   "metadata": {},
   "source": [
    "### NYC Census Blocks\n",
    "\n",
    "![](https://i.imgur.com/tHyMJMm.png)"
   ]
  },
  {
   "cell_type": "code",
   "execution_count": null,
   "id": "8392ae30",
   "metadata": {},
   "outputs": [],
   "source": [
    "%%sql\n",
    "\n",
    "SELECT * FROM nyc_census_blocks WHERE FALSE"
   ]
  },
  {
   "cell_type": "markdown",
   "id": "44a70c3e",
   "metadata": {},
   "source": [
    "What is the population of the City of New York?"
   ]
  },
  {
   "cell_type": "code",
   "execution_count": null,
   "id": "786f80e7",
   "metadata": {},
   "outputs": [],
   "source": [
    "%%sql \n",
    "\n",
    "SELECT Sum(popn_total) AS population\n",
    "FROM nyc_census_blocks"
   ]
  },
  {
   "cell_type": "markdown",
   "id": "bf0f692e",
   "metadata": {},
   "source": [
    "What is the population of the Bronx?"
   ]
  },
  {
   "cell_type": "code",
   "execution_count": null,
   "id": "947d48d7",
   "metadata": {},
   "outputs": [],
   "source": [
    "%%sql \n",
    "\n",
    "SELECT SUM(popn_total) AS population\n",
    "FROM nyc_census_blocks\n",
    "WHERE boroname = 'The Bronx'"
   ]
  },
  {
   "cell_type": "markdown",
   "id": "0765f775",
   "metadata": {},
   "source": [
    "For each borough, what percentage of the population is white?"
   ]
  },
  {
   "cell_type": "code",
   "execution_count": null,
   "id": "8a3f5815",
   "metadata": {},
   "outputs": [],
   "source": [
    "%%sql\n",
    "\n",
    "SELECT\n",
    "boroname,\n",
    "100 * SUM(popn_white)/SUM(popn_total) AS white_pct\n",
    "FROM nyc_census_blocks\n",
    "GROUP BY boroname"
   ]
  }
 ],
 "metadata": {
  "jupytext": {
   "text_representation": {
    "extension": ".md",
    "format_name": "myst",
    "format_version": 0.13,
    "jupytext_version": "1.14.5"
   }
  },
  "kernelspec": {
   "display_name": "Python 3",
   "language": "python",
   "name": "python3"
  },
  "source_map": [
   12,
   31,
   35,
   39,
   43,
   50,
   54,
   58,
   64,
   68,
   72,
   76,
   82,
   86,
   92,
   96,
   104,
   108,
   116,
   120,
   126,
   130,
   136,
   142,
   146,
   150,
   155,
   159,
   165,
   169
  ]
 },
 "nbformat": 4,
 "nbformat_minor": 5
}