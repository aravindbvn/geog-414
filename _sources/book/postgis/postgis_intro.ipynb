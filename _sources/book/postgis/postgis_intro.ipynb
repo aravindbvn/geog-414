{
 "cells": [
  {
   "cell_type": "markdown",
   "id": "5663cf71",
   "metadata": {},
   "source": [
    "# Introduction to PostGIS\n",
    "\n",
    "**Setting up the conda env:**\n",
    "\n",
    "```\n",
    "conda create -n sql python\n",
    "conda activate sql\n",
    "conda install ipython-sql sqlalchemy psycopg2 notebook pandas -c conda-forge\n",
    "```\n",
    "\n",
    "**Sample dataset:**\n",
    "- [nyc_data.zip](https://github.com/giswqs/postgis/raw/master/data/nyc_data.zip) (Watch this [video](https://youtu.be/fROzLrjNDrs) to load data into PostGIS)\n",
    "\n",
    "**References**:\n",
    "- [Introduction to PostGIS](https://postgis.net/workshops/postgis-intro)\n",
    "- [Using SQL with Geodatabases](https://desktop.arcgis.com/en/arcmap/latest/manage-data/using-sql-with-gdbs/sql-and-enterprise-geodatabases.htm)"
   ]
  },
  {
   "cell_type": "markdown",
   "id": "80138bd5",
   "metadata": {},
   "source": [
    "## Connecting to the database"
   ]
  },
  {
   "cell_type": "code",
   "execution_count": null,
   "id": "45607a48",
   "metadata": {},
   "outputs": [],
   "source": [
    "%load_ext sql"
   ]
  },
  {
   "cell_type": "code",
   "execution_count": null,
   "id": "ae112446",
   "metadata": {},
   "outputs": [],
   "source": [
    "import os"
   ]
  },
  {
   "cell_type": "code",
   "execution_count": null,
   "id": "90f9a0cf",
   "metadata": {},
   "outputs": [],
   "source": [
    "host = \"localhost\"\n",
    "database = \"nyc\"\n",
    "user = os.getenv('SQL_USER')\n",
    "password = os.getenv('SQL_PASSWORD')"
   ]
  },
  {
   "cell_type": "code",
   "execution_count": null,
   "id": "57a13d2b",
   "metadata": {},
   "outputs": [],
   "source": [
    "connection_string = f\"postgresql://{user}:{password}@{host}/{database}\""
   ]
  },
  {
   "cell_type": "code",
   "execution_count": null,
   "id": "a96e9114",
   "metadata": {},
   "outputs": [],
   "source": [
    "%sql $connection_string"
   ]
  },
  {
   "cell_type": "code",
   "execution_count": null,
   "id": "c56d033c",
   "metadata": {},
   "outputs": [],
   "source": [
    "%%sql \n",
    "\n",
    "SELECT * FROM nyc_neighborhoods WHERE FALSE"
   ]
  },
  {
   "cell_type": "code",
   "execution_count": null,
   "id": "015da862",
   "metadata": {},
   "outputs": [],
   "source": [
    "%%sql \n",
    "\n",
    "SELECT id, boroname, name from nyc_neighborhoods LIMIT 10"
   ]
  },
  {
   "cell_type": "markdown",
   "id": "7459e34e",
   "metadata": {},
   "source": [
    "## Simple SQL"
   ]
  },
  {
   "cell_type": "code",
   "execution_count": null,
   "id": "4ad9082b",
   "metadata": {},
   "outputs": [],
   "source": [
    "%%sql\n",
    "\n",
    "SELECT postgis_full_version()"
   ]
  },
  {
   "cell_type": "markdown",
   "id": "7c9778fa",
   "metadata": {},
   "source": [
    "### NYC Neighborhoods\n",
    "\n",
    "![](https://i.imgur.com/eycL547.png)"
   ]
  },
  {
   "cell_type": "markdown",
   "id": "7e38e4a1",
   "metadata": {},
   "source": [
    "What are the names of all the neighborhoods in New York City?"
   ]
  },
  {
   "cell_type": "code",
   "execution_count": null,
   "id": "df6c30c3",
   "metadata": {
    "tags": [
     "hide-output"
    ]
   },
   "outputs": [],
   "source": [
    "%%sql\n",
    "\n",
    "SELECT name FROM nyc_neighborhoods"
   ]
  },
  {
   "cell_type": "markdown",
   "id": "96aff9fa",
   "metadata": {},
   "source": [
    "What are the names of all the neighborhoods in Brooklyn?"
   ]
  },
  {
   "cell_type": "code",
   "execution_count": null,
   "id": "fdc1e675",
   "metadata": {
    "tags": [
     "hide-output"
    ]
   },
   "outputs": [],
   "source": [
    "%%sql\n",
    "\n",
    "SELECT name\n",
    "FROM nyc_neighborhoods\n",
    "WHERE boroname = 'Brooklyn'"
   ]
  },
  {
   "cell_type": "markdown",
   "id": "2adc64f4",
   "metadata": {},
   "source": [
    "What is the number of letters in the names of all the neighborhoods in Brooklyn?"
   ]
  },
  {
   "cell_type": "code",
   "execution_count": null,
   "id": "c1bf9c40",
   "metadata": {
    "tags": [
     "hide-output"
    ]
   },
   "outputs": [],
   "source": [
    "%%sql\n",
    "\n",
    "SELECT char_length(name)\n",
    "FROM nyc_neighborhoods\n",
    "WHERE boroname = 'Brooklyn'"
   ]
  },
  {
   "cell_type": "markdown",
   "id": "1d500b31",
   "metadata": {},
   "source": [
    "What is the average number of letters and standard deviation of number of letters in the names of all the neighborhoods in Brooklyn?"
   ]
  },
  {
   "cell_type": "code",
   "execution_count": null,
   "id": "bb88a6d6",
   "metadata": {},
   "outputs": [],
   "source": [
    "%%sql\n",
    "\n",
    "SELECT avg(char_length(name)), stddev(char_length(name))\n",
    "FROM nyc_neighborhoods\n",
    "WHERE boroname = 'Brooklyn'"
   ]
  },
  {
   "cell_type": "markdown",
   "id": "0484d146",
   "metadata": {},
   "source": [
    "What is the average number of letters in the names of all the neighborhoods in New York City, reported by borough?"
   ]
  },
  {
   "cell_type": "code",
   "execution_count": null,
   "id": "b1a68206",
   "metadata": {},
   "outputs": [],
   "source": [
    "%%sql\n",
    "\n",
    "SELECT boroname, avg(char_length(name)), stddev(char_length(name))\n",
    "FROM nyc_neighborhoods\n",
    "GROUP BY boroname"
   ]
  },
  {
   "cell_type": "markdown",
   "id": "c3f79cc1",
   "metadata": {},
   "source": [
    "### NYC Census Blocks\n",
    "\n",
    "![](https://i.imgur.com/tHyMJMm.png)"
   ]
  },
  {
   "cell_type": "code",
   "execution_count": null,
   "id": "dd48fcd1",
   "metadata": {},
   "outputs": [],
   "source": [
    "%%sql\n",
    "\n",
    "SELECT * FROM nyc_census_blocks WHERE FALSE"
   ]
  },
  {
   "cell_type": "markdown",
   "id": "c2df9a35",
   "metadata": {},
   "source": [
    "What is the population of the City of New York?"
   ]
  },
  {
   "cell_type": "code",
   "execution_count": null,
   "id": "90f76957",
   "metadata": {},
   "outputs": [],
   "source": [
    "%%sql \n",
    "\n",
    "SELECT Sum(popn_total) AS population\n",
    "FROM nyc_census_blocks"
   ]
  },
  {
   "cell_type": "markdown",
   "id": "359a2850",
   "metadata": {},
   "source": [
    "What is the population of the Bronx?"
   ]
  },
  {
   "cell_type": "code",
   "execution_count": null,
   "id": "785e20c7",
   "metadata": {},
   "outputs": [],
   "source": [
    "%%sql \n",
    "\n",
    "SELECT SUM(popn_total) AS population\n",
    "FROM nyc_census_blocks\n",
    "WHERE boroname = 'The Bronx'"
   ]
  },
  {
   "cell_type": "markdown",
   "id": "908f93a6",
   "metadata": {},
   "source": [
    "For each borough, what percentage of the population is white?"
   ]
  },
  {
   "cell_type": "code",
   "execution_count": null,
   "id": "758dd2e3",
   "metadata": {},
   "outputs": [],
   "source": [
    "%%sql\n",
    "\n",
    "SELECT\n",
    "boroname,\n",
    "100 * SUM(popn_white)/SUM(popn_total) AS white_pct\n",
    "FROM nyc_census_blocks\n",
    "GROUP BY boroname"
   ]
  }
 ],
 "metadata": {
  "jupytext": {
   "text_representation": {
    "extension": ".md",
    "format_name": "myst",
    "format_version": 0.13,
    "jupytext_version": "1.14.5"
   }
  },
  "kernelspec": {
   "display_name": "Python 3",
   "language": "python",
   "name": "python3"
  },
  "source_map": [
   12,
   31,
   35,
   39,
   43,
   50,
   54,
   58,
   64,
   68,
   72,
   76,
   82,
   86,
   92,
   96,
   104,
   108,
   116,
   120,
   126,
   130,
   136,
   142,
   146,
   150,
   155,
   159,
   165,
   169
  ]
 },
 "nbformat": 4,
 "nbformat_minor": 5
}