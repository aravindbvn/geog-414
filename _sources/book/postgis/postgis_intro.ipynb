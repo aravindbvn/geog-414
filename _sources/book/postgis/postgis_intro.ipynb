{
 "cells": [
  {
   "cell_type": "markdown",
   "id": "c2a196f2",
   "metadata": {},
   "source": [
    "# Introduction to PostGIS\n",
    "\n",
    "**Setting up the conda env:**\n",
    "\n",
    "```\n",
    "conda create -n sql python\n",
    "conda activate sql\n",
    "conda install ipython-sql sqlalchemy psycopg2 notebook pandas -c conda-forge\n",
    "```\n",
    "\n",
    "**Sample dataset:**\n",
    "- [nyc_data.zip](https://github.com/giswqs/postgis/raw/master/data/nyc_data.zip) (Watch this [video](https://youtu.be/fROzLrjNDrs) to load data into PostGIS)\n",
    "\n",
    "**References**:\n",
    "- [Introduction to PostGIS](https://postgis.net/workshops/postgis-intro)\n",
    "- [Using SQL with Geodatabases](https://desktop.arcgis.com/en/arcmap/latest/manage-data/using-sql-with-gdbs/sql-and-enterprise-geodatabases.htm)"
   ]
  },
  {
   "cell_type": "markdown",
   "id": "0e526bef",
   "metadata": {},
   "source": [
    "## Connecting to the database"
   ]
  },
  {
   "cell_type": "code",
   "execution_count": null,
   "id": "20d43dca",
   "metadata": {},
   "outputs": [],
   "source": [
    "%load_ext sql"
   ]
  },
  {
   "cell_type": "code",
   "execution_count": null,
   "id": "cf8c6d6e",
   "metadata": {},
   "outputs": [],
   "source": [
    "import os"
   ]
  },
  {
   "cell_type": "code",
   "execution_count": null,
   "id": "24544903",
   "metadata": {},
   "outputs": [],
   "source": [
    "host = \"localhost\"\n",
    "database = \"nyc\"\n",
    "user = os.getenv('SQL_USER')\n",
    "password = os.getenv('SQL_PASSWORD')"
   ]
  },
  {
   "cell_type": "code",
   "execution_count": null,
   "id": "6a7cb87e",
   "metadata": {},
   "outputs": [],
   "source": [
    "connection_string = f\"postgresql://{user}:{password}@{host}/{database}\""
   ]
  },
  {
   "cell_type": "code",
   "execution_count": null,
   "id": "2b34707f",
   "metadata": {},
   "outputs": [],
   "source": [
    "%sql $connection_string"
   ]
  },
  {
   "cell_type": "code",
   "execution_count": null,
   "id": "b3816839",
   "metadata": {},
   "outputs": [],
   "source": [
    "%%sql \n",
    "\n",
    "SELECT * FROM nyc_neighborhoods WHERE FALSE"
   ]
  },
  {
   "cell_type": "code",
   "execution_count": null,
   "id": "6e348c2e",
   "metadata": {},
   "outputs": [],
   "source": [
    "%%sql \n",
    "\n",
    "SELECT id, boroname, name from nyc_neighborhoods LIMIT 10"
   ]
  },
  {
   "cell_type": "markdown",
   "id": "18479ed9",
   "metadata": {},
   "source": [
    "## Simple SQL"
   ]
  },
  {
   "cell_type": "code",
   "execution_count": null,
   "id": "64ef55d3",
   "metadata": {},
   "outputs": [],
   "source": [
    "%%sql\n",
    "\n",
    "SELECT postgis_full_version()"
   ]
  },
  {
   "cell_type": "markdown",
   "id": "2fb62c78",
   "metadata": {},
   "source": [
    "### NYC Neighborhoods\n",
    "\n",
    "![](https://i.imgur.com/eycL547.png)"
   ]
  },
  {
   "cell_type": "markdown",
   "id": "7d195914",
   "metadata": {},
   "source": [
    "What are the names of all the neighborhoods in New York City?"
   ]
  },
  {
   "cell_type": "code",
   "execution_count": null,
   "id": "6694323f",
   "metadata": {
    "tags": [
     "hide-output"
    ]
   },
   "outputs": [],
   "source": [
    "%%sql\n",
    "\n",
    "SELECT name FROM nyc_neighborhoods"
   ]
  },
  {
   "cell_type": "markdown",
   "id": "f274e2b3",
   "metadata": {},
   "source": [
    "What are the names of all the neighborhoods in Brooklyn?"
   ]
  },
  {
   "cell_type": "code",
   "execution_count": null,
   "id": "078f288e",
   "metadata": {
    "tags": [
     "hide-output"
    ]
   },
   "outputs": [],
   "source": [
    "%%sql\n",
    "\n",
    "SELECT name\n",
    "FROM nyc_neighborhoods\n",
    "WHERE boroname = 'Brooklyn'"
   ]
  },
  {
   "cell_type": "markdown",
   "id": "b88c4e87",
   "metadata": {},
   "source": [
    "What is the number of letters in the names of all the neighborhoods in Brooklyn?"
   ]
  },
  {
   "cell_type": "code",
   "execution_count": null,
   "id": "9b0796a3",
   "metadata": {
    "tags": [
     "hide-output"
    ]
   },
   "outputs": [],
   "source": [
    "%%sql\n",
    "\n",
    "SELECT char_length(name)\n",
    "FROM nyc_neighborhoods\n",
    "WHERE boroname = 'Brooklyn'"
   ]
  },
  {
   "cell_type": "markdown",
   "id": "21b1ddb7",
   "metadata": {},
   "source": [
    "What is the average number of letters and standard deviation of number of letters in the names of all the neighborhoods in Brooklyn?"
   ]
  },
  {
   "cell_type": "code",
   "execution_count": null,
   "id": "3bd6c082",
   "metadata": {},
   "outputs": [],
   "source": [
    "%%sql\n",
    "\n",
    "SELECT avg(char_length(name)), stddev(char_length(name))\n",
    "FROM nyc_neighborhoods\n",
    "WHERE boroname = 'Brooklyn'"
   ]
  },
  {
   "cell_type": "markdown",
   "id": "5ad76966",
   "metadata": {},
   "source": [
    "What is the average number of letters in the names of all the neighborhoods in New York City, reported by borough?"
   ]
  },
  {
   "cell_type": "code",
   "execution_count": null,
   "id": "f0db38d7",
   "metadata": {},
   "outputs": [],
   "source": [
    "%%sql\n",
    "\n",
    "SELECT boroname, avg(char_length(name)), stddev(char_length(name))\n",
    "FROM nyc_neighborhoods\n",
    "GROUP BY boroname"
   ]
  },
  {
   "cell_type": "markdown",
   "id": "d4dcab99",
   "metadata": {},
   "source": [
    "### NYC Census Blocks\n",
    "\n",
    "![](https://i.imgur.com/tHyMJMm.png)"
   ]
  },
  {
   "cell_type": "code",
   "execution_count": null,
   "id": "8b670cee",
   "metadata": {},
   "outputs": [],
   "source": [
    "%%sql\n",
    "\n",
    "SELECT * FROM nyc_census_blocks WHERE FALSE"
   ]
  },
  {
   "cell_type": "markdown",
   "id": "8e5b14a6",
   "metadata": {},
   "source": [
    "What is the population of the City of New York?"
   ]
  },
  {
   "cell_type": "code",
   "execution_count": null,
   "id": "f3860fbf",
   "metadata": {},
   "outputs": [],
   "source": [
    "%%sql \n",
    "\n",
    "SELECT Sum(popn_total) AS population\n",
    "FROM nyc_census_blocks"
   ]
  },
  {
   "cell_type": "markdown",
   "id": "6f8b354e",
   "metadata": {},
   "source": [
    "What is the population of the Bronx?"
   ]
  },
  {
   "cell_type": "code",
   "execution_count": null,
   "id": "781b812d",
   "metadata": {},
   "outputs": [],
   "source": [
    "%%sql \n",
    "\n",
    "SELECT SUM(popn_total) AS population\n",
    "FROM nyc_census_blocks\n",
    "WHERE boroname = 'The Bronx'"
   ]
  },
  {
   "cell_type": "markdown",
   "id": "45f51944",
   "metadata": {},
   "source": [
    "For each borough, what percentage of the population is white?"
   ]
  },
  {
   "cell_type": "code",
   "execution_count": null,
   "id": "27712935",
   "metadata": {},
   "outputs": [],
   "source": [
    "%%sql\n",
    "\n",
    "SELECT\n",
    "boroname,\n",
    "100 * SUM(popn_white)/SUM(popn_total) AS white_pct\n",
    "FROM nyc_census_blocks\n",
    "GROUP BY boroname"
   ]
  }
 ],
 "metadata": {
  "jupytext": {
   "text_representation": {
    "extension": ".md",
    "format_name": "myst",
    "format_version": 0.13,
    "jupytext_version": "1.14.5"
   }
  },
  "kernelspec": {
   "display_name": "Python 3",
   "language": "python",
   "name": "python3"
  },
  "source_map": [
   12,
   31,
   35,
   39,
   43,
   50,
   54,
   58,
   64,
   68,
   72,
   76,
   82,
   86,
   92,
   96,
   104,
   108,
   116,
   120,
   126,
   130,
   136,
   142,
   146,
   150,
   155,
   159,
   165,
   169
  ]
 },
 "nbformat": 4,
 "nbformat_minor": 5
}