{
 "cells": [
  {
   "cell_type": "markdown",
   "id": "8f747838",
   "metadata": {},
   "source": [
    "# Introduction to PostGIS\n",
    "\n",
    "**Setting up the conda env:**\n",
    "\n",
    "```\n",
    "conda create -n sql python\n",
    "conda activate sql\n",
    "conda install ipython-sql sqlalchemy psycopg2 notebook pandas -c conda-forge\n",
    "```\n",
    "\n",
    "**Sample dataset:**\n",
    "- [nyc_data.zip](https://github.com/giswqs/postgis/raw/master/data/nyc_data.zip) (Watch this [video](https://youtu.be/fROzLrjNDrs) to load data into PostGIS)\n",
    "\n",
    "**References**:\n",
    "- [Introduction to PostGIS](https://postgis.net/workshops/postgis-intro)\n",
    "- [Using SQL with Geodatabases](https://desktop.arcgis.com/en/arcmap/latest/manage-data/using-sql-with-gdbs/sql-and-enterprise-geodatabases.htm)"
   ]
  },
  {
   "cell_type": "markdown",
   "id": "450d25fd",
   "metadata": {},
   "source": [
    "## Connecting to the database"
   ]
  },
  {
   "cell_type": "code",
   "execution_count": null,
   "id": "89e9b5b8",
   "metadata": {},
   "outputs": [],
   "source": [
    "%load_ext sql"
   ]
  },
  {
   "cell_type": "code",
   "execution_count": null,
   "id": "aa2c036f",
   "metadata": {},
   "outputs": [],
   "source": [
    "import os"
   ]
  },
  {
   "cell_type": "code",
   "execution_count": null,
   "id": "e5849ed2",
   "metadata": {},
   "outputs": [],
   "source": [
    "host = \"localhost\"\n",
    "database = \"nyc\"\n",
    "user = os.getenv('SQL_USER')\n",
    "password = os.getenv('SQL_PASSWORD')"
   ]
  },
  {
   "cell_type": "code",
   "execution_count": null,
   "id": "90ba608e",
   "metadata": {},
   "outputs": [],
   "source": [
    "connection_string = f\"postgresql://{user}:{password}@{host}/{database}\""
   ]
  },
  {
   "cell_type": "code",
   "execution_count": null,
   "id": "bda1914a",
   "metadata": {},
   "outputs": [],
   "source": [
    "%sql $connection_string"
   ]
  },
  {
   "cell_type": "code",
   "execution_count": null,
   "id": "880a3bd6",
   "metadata": {},
   "outputs": [],
   "source": [
    "%%sql \n",
    "\n",
    "SELECT * FROM nyc_neighborhoods WHERE FALSE"
   ]
  },
  {
   "cell_type": "code",
   "execution_count": null,
   "id": "b25aec12",
   "metadata": {},
   "outputs": [],
   "source": [
    "%%sql \n",
    "\n",
    "SELECT id, boroname, name from nyc_neighborhoods LIMIT 10"
   ]
  },
  {
   "cell_type": "markdown",
   "id": "8b1af9b8",
   "metadata": {},
   "source": [
    "## Simple SQL"
   ]
  },
  {
   "cell_type": "code",
   "execution_count": null,
   "id": "05b4f330",
   "metadata": {},
   "outputs": [],
   "source": [
    "%%sql\n",
    "\n",
    "SELECT postgis_full_version()"
   ]
  },
  {
   "cell_type": "markdown",
   "id": "11840e9d",
   "metadata": {},
   "source": [
    "### NYC Neighborhoods\n",
    "\n",
    "![](https://i.imgur.com/eycL547.png)"
   ]
  },
  {
   "cell_type": "markdown",
   "id": "12db4ec0",
   "metadata": {},
   "source": [
    "What are the names of all the neighborhoods in New York City?"
   ]
  },
  {
   "cell_type": "code",
   "execution_count": null,
   "id": "8cf6a0ad",
   "metadata": {
    "tags": [
     "hide-output"
    ]
   },
   "outputs": [],
   "source": [
    "%%sql\n",
    "\n",
    "SELECT name FROM nyc_neighborhoods"
   ]
  },
  {
   "cell_type": "markdown",
   "id": "ae93cc6e",
   "metadata": {},
   "source": [
    "What are the names of all the neighborhoods in Brooklyn?"
   ]
  },
  {
   "cell_type": "code",
   "execution_count": null,
   "id": "3476a1e4",
   "metadata": {
    "tags": [
     "hide-output"
    ]
   },
   "outputs": [],
   "source": [
    "%%sql\n",
    "\n",
    "SELECT name\n",
    "FROM nyc_neighborhoods\n",
    "WHERE boroname = 'Brooklyn'"
   ]
  },
  {
   "cell_type": "markdown",
   "id": "e8eb6335",
   "metadata": {},
   "source": [
    "What is the number of letters in the names of all the neighborhoods in Brooklyn?"
   ]
  },
  {
   "cell_type": "code",
   "execution_count": null,
   "id": "4dd01f25",
   "metadata": {
    "tags": [
     "hide-output"
    ]
   },
   "outputs": [],
   "source": [
    "%%sql\n",
    "\n",
    "SELECT char_length(name)\n",
    "FROM nyc_neighborhoods\n",
    "WHERE boroname = 'Brooklyn'"
   ]
  },
  {
   "cell_type": "markdown",
   "id": "b8a0e786",
   "metadata": {},
   "source": [
    "What is the average number of letters and standard deviation of number of letters in the names of all the neighborhoods in Brooklyn?"
   ]
  },
  {
   "cell_type": "code",
   "execution_count": null,
   "id": "40f63860",
   "metadata": {},
   "outputs": [],
   "source": [
    "%%sql\n",
    "\n",
    "SELECT avg(char_length(name)), stddev(char_length(name))\n",
    "FROM nyc_neighborhoods\n",
    "WHERE boroname = 'Brooklyn'"
   ]
  },
  {
   "cell_type": "markdown",
   "id": "82ef2c64",
   "metadata": {},
   "source": [
    "What is the average number of letters in the names of all the neighborhoods in New York City, reported by borough?"
   ]
  },
  {
   "cell_type": "code",
   "execution_count": null,
   "id": "ca9616e1",
   "metadata": {},
   "outputs": [],
   "source": [
    "%%sql\n",
    "\n",
    "SELECT boroname, avg(char_length(name)), stddev(char_length(name))\n",
    "FROM nyc_neighborhoods\n",
    "GROUP BY boroname"
   ]
  },
  {
   "cell_type": "markdown",
   "id": "9c77331f",
   "metadata": {},
   "source": [
    "### NYC Census Blocks\n",
    "\n",
    "![](https://i.imgur.com/tHyMJMm.png)"
   ]
  },
  {
   "cell_type": "code",
   "execution_count": null,
   "id": "953f33a9",
   "metadata": {},
   "outputs": [],
   "source": [
    "%%sql\n",
    "\n",
    "SELECT * FROM nyc_census_blocks WHERE FALSE"
   ]
  },
  {
   "cell_type": "markdown",
   "id": "a30a1e9d",
   "metadata": {},
   "source": [
    "What is the population of the City of New York?"
   ]
  },
  {
   "cell_type": "code",
   "execution_count": null,
   "id": "5670a678",
   "metadata": {},
   "outputs": [],
   "source": [
    "%%sql \n",
    "\n",
    "SELECT Sum(popn_total) AS population\n",
    "FROM nyc_census_blocks"
   ]
  },
  {
   "cell_type": "markdown",
   "id": "e7c7f731",
   "metadata": {},
   "source": [
    "What is the population of the Bronx?"
   ]
  },
  {
   "cell_type": "code",
   "execution_count": null,
   "id": "1c3b71c4",
   "metadata": {},
   "outputs": [],
   "source": [
    "%%sql \n",
    "\n",
    "SELECT SUM(popn_total) AS population\n",
    "FROM nyc_census_blocks\n",
    "WHERE boroname = 'The Bronx'"
   ]
  },
  {
   "cell_type": "markdown",
   "id": "4ce5655d",
   "metadata": {},
   "source": [
    "For each borough, what percentage of the population is white?"
   ]
  },
  {
   "cell_type": "code",
   "execution_count": null,
   "id": "674e4e1f",
   "metadata": {},
   "outputs": [],
   "source": [
    "%%sql\n",
    "\n",
    "SELECT\n",
    "boroname,\n",
    "100 * SUM(popn_white)/SUM(popn_total) AS white_pct\n",
    "FROM nyc_census_blocks\n",
    "GROUP BY boroname"
   ]
  }
 ],
 "metadata": {
  "jupytext": {
   "text_representation": {
    "extension": ".md",
    "format_name": "myst",
    "format_version": 0.13,
    "jupytext_version": "1.14.5"
   }
  },
  "kernelspec": {
   "display_name": "Python 3",
   "language": "python",
   "name": "python3"
  },
  "source_map": [
   12,
   31,
   35,
   39,
   43,
   50,
   54,
   58,
   64,
   68,
   72,
   76,
   82,
   86,
   92,
   96,
   104,
   108,
   116,
   120,
   126,
   130,
   136,
   142,
   146,
   150,
   155,
   159,
   165,
   169
  ]
 },
 "nbformat": 4,
 "nbformat_minor": 5
}