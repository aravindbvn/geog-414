{
 "cells": [
  {
   "cell_type": "markdown",
   "id": "21e2b0d8",
   "metadata": {},
   "source": [
    "# Installation\n",
    "\n",
    "**Setting up the conda env:**\n",
    "\n",
    "```\n",
    "conda create -n sql python\n",
    "conda activate sql\n",
    "conda install ipython-sql sqlalchemy psycopg2 notebook pandas -c conda-forge\n",
    "```\n",
    "\n",
    "**Sample dataset:**\n",
    "- [cities.csv](https://github.com/giswqs/postgis/blob/master/data/cities.csv)"
   ]
  },
  {
   "cell_type": "markdown",
   "id": "01aee78c",
   "metadata": {},
   "source": [
    "## Using ipython-sql"
   ]
  },
  {
   "cell_type": "code",
   "execution_count": null,
   "id": "8b4898a2",
   "metadata": {},
   "outputs": [],
   "source": [
    "%load_ext sql"
   ]
  },
  {
   "cell_type": "code",
   "execution_count": null,
   "id": "2725cb40",
   "metadata": {},
   "outputs": [],
   "source": [
    "import os"
   ]
  },
  {
   "cell_type": "code",
   "execution_count": null,
   "id": "2b4e66fa",
   "metadata": {},
   "outputs": [],
   "source": [
    "host = \"localhost\"\n",
    "database = \"sdb\"\n",
    "user = os.getenv('SQL_USER')\n",
    "password = os.getenv('SQL_PASSWORD')"
   ]
  },
  {
   "cell_type": "code",
   "execution_count": null,
   "id": "eb6cb36b",
   "metadata": {},
   "outputs": [],
   "source": [
    "connection_string = f\"postgresql://{user}:{password}@{host}/{database}\""
   ]
  },
  {
   "cell_type": "code",
   "execution_count": null,
   "id": "f3f6e1b3",
   "metadata": {},
   "outputs": [],
   "source": [
    "%sql $connection_string"
   ]
  },
  {
   "cell_type": "code",
   "execution_count": null,
   "id": "749e1c12",
   "metadata": {},
   "outputs": [],
   "source": [
    "%%sql \n",
    "\n",
    "SELECT * from cities LIMIT 10"
   ]
  },
  {
   "cell_type": "code",
   "execution_count": null,
   "id": "12623773",
   "metadata": {
    "tags": [
     "remove-output"
    ]
   },
   "outputs": [],
   "source": [
    "%%sql \n",
    "\n",
    "SELECT * from cities"
   ]
  },
  {
   "cell_type": "markdown",
   "id": "73ca166d",
   "metadata": {},
   "source": [
    "## Using sqlalchemy"
   ]
  },
  {
   "cell_type": "code",
   "execution_count": null,
   "id": "0bd1cbe3",
   "metadata": {},
   "outputs": [],
   "source": [
    "from sqlalchemy import create_engine"
   ]
  },
  {
   "cell_type": "code",
   "execution_count": null,
   "id": "9991547d",
   "metadata": {},
   "outputs": [],
   "source": [
    "engine = create_engine(connection_string)"
   ]
  },
  {
   "cell_type": "code",
   "execution_count": null,
   "id": "a5f884fe",
   "metadata": {},
   "outputs": [],
   "source": [
    "from sqlalchemy import inspect"
   ]
  },
  {
   "cell_type": "code",
   "execution_count": null,
   "id": "2b060488",
   "metadata": {},
   "outputs": [],
   "source": [
    "insp = inspect(engine)\n",
    "insp.get_table_names()"
   ]
  },
  {
   "cell_type": "code",
   "execution_count": null,
   "id": "e32e74d2",
   "metadata": {},
   "outputs": [],
   "source": [
    "import pandas as pd"
   ]
  },
  {
   "cell_type": "code",
   "execution_count": null,
   "id": "29823254",
   "metadata": {},
   "outputs": [],
   "source": [
    "df = pd.read_sql('SELECT * from cities LIMIT 10', engine)"
   ]
  },
  {
   "cell_type": "code",
   "execution_count": null,
   "id": "a8dc7769",
   "metadata": {},
   "outputs": [],
   "source": [
    "df"
   ]
  },
  {
   "cell_type": "code",
   "execution_count": null,
   "id": "e518b8ab",
   "metadata": {},
   "outputs": [],
   "source": []
  }
 ],
 "metadata": {
  "jupytext": {
   "text_representation": {
    "extension": ".md",
    "format_name": "myst",
    "format_version": 0.13,
    "jupytext_version": "1.14.5"
   }
  },
  "kernelspec": {
   "display_name": "Python 3",
   "language": "python",
   "name": "python3"
  },
  "source_map": [
   12,
   27,
   31,
   35,
   39,
   46,
   50,
   54,
   60,
   66,
   70,
   74,
   78,
   82,
   87,
   91,
   95,
   99
  ]
 },
 "nbformat": 4,
 "nbformat_minor": 5
}