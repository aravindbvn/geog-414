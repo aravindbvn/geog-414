{
 "cells": [
  {
   "cell_type": "markdown",
   "id": "925fa45b",
   "metadata": {},
   "source": [
    "# Installation\n",
    "\n",
    "**Setting up the conda env:**\n",
    "\n",
    "```\n",
    "conda create -n sql python\n",
    "conda activate sql\n",
    "conda install ipython-sql sqlalchemy psycopg2 notebook pandas -c conda-forge\n",
    "```\n",
    "\n",
    "**Sample dataset:**\n",
    "- [cities.csv](https://github.com/giswqs/postgis/blob/master/data/cities.csv)"
   ]
  },
  {
   "cell_type": "markdown",
   "id": "8797f004",
   "metadata": {},
   "source": [
    "## Using ipython-sql"
   ]
  },
  {
   "cell_type": "code",
   "execution_count": null,
   "id": "13dddec4",
   "metadata": {},
   "outputs": [],
   "source": [
    "%load_ext sql"
   ]
  },
  {
   "cell_type": "code",
   "execution_count": null,
   "id": "759866bb",
   "metadata": {},
   "outputs": [],
   "source": [
    "import os"
   ]
  },
  {
   "cell_type": "code",
   "execution_count": null,
   "id": "a489eafe",
   "metadata": {},
   "outputs": [],
   "source": [
    "host = \"localhost\"\n",
    "database = \"sdb\"\n",
    "user = os.getenv('SQL_USER')\n",
    "password = os.getenv('SQL_PASSWORD')"
   ]
  },
  {
   "cell_type": "code",
   "execution_count": null,
   "id": "63051416",
   "metadata": {},
   "outputs": [],
   "source": [
    "connection_string = f\"postgresql://{user}:{password}@{host}/{database}\""
   ]
  },
  {
   "cell_type": "code",
   "execution_count": null,
   "id": "e4972db8",
   "metadata": {},
   "outputs": [],
   "source": [
    "%sql $connection_string"
   ]
  },
  {
   "cell_type": "code",
   "execution_count": null,
   "id": "533346de",
   "metadata": {},
   "outputs": [],
   "source": [
    "%%sql \n",
    "\n",
    "SELECT * from cities LIMIT 10"
   ]
  },
  {
   "cell_type": "code",
   "execution_count": null,
   "id": "aac8c324",
   "metadata": {
    "tags": [
     "remove-output"
    ]
   },
   "outputs": [],
   "source": [
    "%%sql \n",
    "\n",
    "SELECT * from cities"
   ]
  },
  {
   "cell_type": "markdown",
   "id": "420bea27",
   "metadata": {},
   "source": [
    "## Using sqlalchemy"
   ]
  },
  {
   "cell_type": "code",
   "execution_count": null,
   "id": "939b543d",
   "metadata": {},
   "outputs": [],
   "source": [
    "from sqlalchemy import create_engine"
   ]
  },
  {
   "cell_type": "code",
   "execution_count": null,
   "id": "7cf3015e",
   "metadata": {},
   "outputs": [],
   "source": [
    "engine = create_engine(connection_string)"
   ]
  },
  {
   "cell_type": "code",
   "execution_count": null,
   "id": "3d08f506",
   "metadata": {},
   "outputs": [],
   "source": [
    "from sqlalchemy import inspect"
   ]
  },
  {
   "cell_type": "code",
   "execution_count": null,
   "id": "7a9d0977",
   "metadata": {},
   "outputs": [],
   "source": [
    "insp = inspect(engine)\n",
    "insp.get_table_names()"
   ]
  },
  {
   "cell_type": "code",
   "execution_count": null,
   "id": "0a0eb4bb",
   "metadata": {},
   "outputs": [],
   "source": [
    "import pandas as pd"
   ]
  },
  {
   "cell_type": "code",
   "execution_count": null,
   "id": "92a9d49e",
   "metadata": {},
   "outputs": [],
   "source": [
    "df = pd.read_sql('SELECT * from cities LIMIT 10', engine)"
   ]
  },
  {
   "cell_type": "code",
   "execution_count": null,
   "id": "fa7c4450",
   "metadata": {},
   "outputs": [],
   "source": [
    "df"
   ]
  },
  {
   "cell_type": "code",
   "execution_count": null,
   "id": "4ba6af4b",
   "metadata": {},
   "outputs": [],
   "source": []
  }
 ],
 "metadata": {
  "jupytext": {
   "text_representation": {
    "extension": ".md",
    "format_name": "myst",
    "format_version": 0.13,
    "jupytext_version": "1.14.5"
   }
  },
  "kernelspec": {
   "display_name": "Python 3",
   "language": "python",
   "name": "python3"
  },
  "source_map": [
   12,
   27,
   31,
   35,
   39,
   46,
   50,
   54,
   60,
   66,
   70,
   74,
   78,
   82,
   87,
   91,
   95,
   99
  ]
 },
 "nbformat": 4,
 "nbformat_minor": 5
}