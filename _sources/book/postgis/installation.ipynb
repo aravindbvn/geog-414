{
 "cells": [
  {
   "cell_type": "markdown",
   "id": "6c0db012",
   "metadata": {},
   "source": [
    "# Installation\n",
    "\n",
    "**Setting up the conda env:**\n",
    "\n",
    "```\n",
    "conda create -n sql python\n",
    "conda activate sql\n",
    "conda install ipython-sql sqlalchemy psycopg2 notebook pandas -c conda-forge\n",
    "```\n",
    "\n",
    "**Sample dataset:**\n",
    "- [cities.csv](https://github.com/giswqs/postgis/blob/master/data/cities.csv)"
   ]
  },
  {
   "cell_type": "markdown",
   "id": "bd7676a5",
   "metadata": {},
   "source": [
    "## Using ipython-sql"
   ]
  },
  {
   "cell_type": "code",
   "execution_count": null,
   "id": "3083a244",
   "metadata": {},
   "outputs": [],
   "source": [
    "%load_ext sql"
   ]
  },
  {
   "cell_type": "code",
   "execution_count": null,
   "id": "a92c3360",
   "metadata": {},
   "outputs": [],
   "source": [
    "import os"
   ]
  },
  {
   "cell_type": "code",
   "execution_count": null,
   "id": "59955f18",
   "metadata": {},
   "outputs": [],
   "source": [
    "host = \"localhost\"\n",
    "database = \"sdb\"\n",
    "user = os.getenv('SQL_USER')\n",
    "password = os.getenv('SQL_PASSWORD')"
   ]
  },
  {
   "cell_type": "code",
   "execution_count": null,
   "id": "ec2213a7",
   "metadata": {},
   "outputs": [],
   "source": [
    "connection_string = f\"postgresql://{user}:{password}@{host}/{database}\""
   ]
  },
  {
   "cell_type": "code",
   "execution_count": null,
   "id": "c8b89dc8",
   "metadata": {},
   "outputs": [],
   "source": [
    "%sql $connection_string"
   ]
  },
  {
   "cell_type": "code",
   "execution_count": null,
   "id": "8a12572f",
   "metadata": {},
   "outputs": [],
   "source": [
    "%%sql \n",
    "\n",
    "SELECT * from cities LIMIT 10"
   ]
  },
  {
   "cell_type": "code",
   "execution_count": null,
   "id": "4dab0604",
   "metadata": {
    "tags": [
     "remove-output"
    ]
   },
   "outputs": [],
   "source": [
    "%%sql \n",
    "\n",
    "SELECT * from cities"
   ]
  },
  {
   "cell_type": "markdown",
   "id": "0dab8aaf",
   "metadata": {},
   "source": [
    "## Using sqlalchemy"
   ]
  },
  {
   "cell_type": "code",
   "execution_count": null,
   "id": "1b665157",
   "metadata": {},
   "outputs": [],
   "source": [
    "from sqlalchemy import create_engine"
   ]
  },
  {
   "cell_type": "code",
   "execution_count": null,
   "id": "c0bdb4a7",
   "metadata": {},
   "outputs": [],
   "source": [
    "engine = create_engine(connection_string)"
   ]
  },
  {
   "cell_type": "code",
   "execution_count": null,
   "id": "8f891070",
   "metadata": {},
   "outputs": [],
   "source": [
    "from sqlalchemy import inspect"
   ]
  },
  {
   "cell_type": "code",
   "execution_count": null,
   "id": "b94ab887",
   "metadata": {},
   "outputs": [],
   "source": [
    "insp = inspect(engine)\n",
    "insp.get_table_names()"
   ]
  },
  {
   "cell_type": "code",
   "execution_count": null,
   "id": "9542eb86",
   "metadata": {},
   "outputs": [],
   "source": [
    "import pandas as pd"
   ]
  },
  {
   "cell_type": "code",
   "execution_count": null,
   "id": "890f5e4a",
   "metadata": {},
   "outputs": [],
   "source": [
    "df = pd.read_sql('SELECT * from cities LIMIT 10', engine)"
   ]
  },
  {
   "cell_type": "code",
   "execution_count": null,
   "id": "7d934fe1",
   "metadata": {},
   "outputs": [],
   "source": [
    "df"
   ]
  },
  {
   "cell_type": "code",
   "execution_count": null,
   "id": "a099be31",
   "metadata": {},
   "outputs": [],
   "source": []
  }
 ],
 "metadata": {
  "jupytext": {
   "text_representation": {
    "extension": ".md",
    "format_name": "myst",
    "format_version": 0.13,
    "jupytext_version": "1.14.5"
   }
  },
  "kernelspec": {
   "display_name": "Python 3",
   "language": "python",
   "name": "python3"
  },
  "source_map": [
   12,
   27,
   31,
   35,
   39,
   46,
   50,
   54,
   60,
   66,
   70,
   74,
   78,
   82,
   87,
   91,
   95,
   99
  ]
 },
 "nbformat": 4,
 "nbformat_minor": 5
}