{
 "cells": [
  {
   "cell_type": "markdown",
   "metadata": {},
   "source": [
    "# Spatial Relationships\n",
    "\n",
    "## Introduction\n",
    "\n",
    "## Installation\n",
    "\n",
    "Uncomment the following cell to install the required packages if needed."
   ]
  },
  {
   "cell_type": "code",
   "execution_count": 1,
   "metadata": {},
   "outputs": [],
   "source": [
    "# %pip install duckdb duckdb-engine jupysql"
   ]
  },
  {
   "cell_type": "markdown",
   "metadata": {},
   "source": [
    "## Library Import and Configuration"
   ]
  },
  {
   "cell_type": "code",
   "execution_count": 2,
   "metadata": {},
   "outputs": [],
   "source": [
    "import duckdb\n",
    "import leafmap\n",
    "import pandas as pd\n",
    "\n",
    "# Import jupysql Jupyter extension to create SQL cells\n",
    "%load_ext sql"
   ]
  },
  {
   "cell_type": "code",
   "execution_count": 3,
   "metadata": {},
   "outputs": [],
   "source": [
    "%config SqlMagic.autopandas = True\n",
    "%config SqlMagic.feedback = False\n",
    "%config SqlMagic.displaycon = False"
   ]
  },
  {
   "cell_type": "markdown",
   "metadata": {},
   "source": [
    "## Sample Data"
   ]
  },
  {
   "cell_type": "code",
   "execution_count": 4,
   "metadata": {},
   "outputs": [
    {
     "name": "stdout",
     "output_type": "stream",
     "text": [
      "nyc_data.db.zip already exists. Skip downloading. Set overwrite=True to overwrite.\n"
     ]
    },
    {
     "data": {
      "text/plain": [
       "'/media/hdd/Dropbox/git/geog-414/book/duckdb/nyc_data.db.zip'"
      ]
     },
     "execution_count": 4,
     "metadata": {},
     "output_type": "execute_result"
    }
   ],
   "source": [
    "url = \"https://open.gishub.org/data/duckdb/nyc_data.db.zip\"\n",
    "leafmap.download_file(url, unzip=True)"
   ]
  },
  {
   "cell_type": "markdown",
   "metadata": {},
   "source": [
    "## Connecting to DuckDB\n",
    "\n",
    "Connect jupysql to DuckDB using a SQLAlchemy-style connection string. You may either connect to an in memory DuckDB, or a file backed db."
   ]
  },
  {
   "cell_type": "code",
   "execution_count": 5,
   "metadata": {},
   "outputs": [],
   "source": [
    "# %sql duckdb:///:memory:\n",
    "%sql duckdb:///nyc_data.db"
   ]
  },
  {
   "cell_type": "code",
   "execution_count": 6,
   "metadata": {},
   "outputs": [
    {
     "data": {
      "text/html": [
       "<div>\n",
       "<style scoped>\n",
       "    .dataframe tbody tr th:only-of-type {\n",
       "        vertical-align: middle;\n",
       "    }\n",
       "\n",
       "    .dataframe tbody tr th {\n",
       "        vertical-align: top;\n",
       "    }\n",
       "\n",
       "    .dataframe thead th {\n",
       "        text-align: right;\n",
       "    }\n",
       "</style>\n",
       "<table border=\"1\" class=\"dataframe\">\n",
       "  <thead>\n",
       "    <tr style=\"text-align: right;\">\n",
       "      <th></th>\n",
       "      <th>Success</th>\n",
       "    </tr>\n",
       "  </thead>\n",
       "  <tbody>\n",
       "  </tbody>\n",
       "</table>\n",
       "</div>"
      ],
      "text/plain": [
       "Empty DataFrame\n",
       "Columns: [Success]\n",
       "Index: []"
      ]
     },
     "execution_count": 6,
     "metadata": {},
     "output_type": "execute_result"
    }
   ],
   "source": [
    "%%sql\n",
    "\n",
    "INSTALL spatial;\n",
    "LOAD spatial;"
   ]
  },
  {
   "cell_type": "code",
   "execution_count": 7,
   "metadata": {
    "scrolled": false
   },
   "outputs": [
    {
     "data": {
      "text/html": [
       "<div>\n",
       "<style scoped>\n",
       "    .dataframe tbody tr th:only-of-type {\n",
       "        vertical-align: middle;\n",
       "    }\n",
       "\n",
       "    .dataframe tbody tr th {\n",
       "        vertical-align: top;\n",
       "    }\n",
       "\n",
       "    .dataframe thead th {\n",
       "        text-align: right;\n",
       "    }\n",
       "</style>\n",
       "<table border=\"1\" class=\"dataframe\">\n",
       "  <thead>\n",
       "    <tr style=\"text-align: right;\">\n",
       "      <th></th>\n",
       "      <th>OBJECTID</th>\n",
       "      <th>ID</th>\n",
       "      <th>NAME</th>\n",
       "      <th>ALT_NAME</th>\n",
       "      <th>CROSS_ST</th>\n",
       "      <th>LONG_NAME</th>\n",
       "      <th>LABEL</th>\n",
       "      <th>BOROUGH</th>\n",
       "      <th>NGHBHD</th>\n",
       "      <th>ROUTES</th>\n",
       "      <th>TRANSFERS</th>\n",
       "      <th>COLOR</th>\n",
       "      <th>EXPRESS</th>\n",
       "      <th>CLOSED</th>\n",
       "      <th>geom</th>\n",
       "    </tr>\n",
       "  </thead>\n",
       "  <tbody>\n",
       "    <tr>\n",
       "      <th>0</th>\n",
       "      <td>1.0</td>\n",
       "      <td>376.0</td>\n",
       "      <td>Cortlandt St</td>\n",
       "      <td>None</td>\n",
       "      <td>Church St</td>\n",
       "      <td>Cortlandt St (R,W) Manhattan</td>\n",
       "      <td>Cortlandt St (R,W)</td>\n",
       "      <td>Manhattan</td>\n",
       "      <td>None</td>\n",
       "      <td>R,W</td>\n",
       "      <td>R,W</td>\n",
       "      <td>YELLOW</td>\n",
       "      <td>None</td>\n",
       "      <td>None</td>\n",
       "      <td>[0, 0, 24, 0, 0, 0, 0, 0, 0, 0, 0, 0, 1, 0, 0,...</td>\n",
       "    </tr>\n",
       "    <tr>\n",
       "      <th>1</th>\n",
       "      <td>2.0</td>\n",
       "      <td>2.0</td>\n",
       "      <td>Rector St</td>\n",
       "      <td>None</td>\n",
       "      <td>None</td>\n",
       "      <td>Rector St (1) Manhattan</td>\n",
       "      <td>Rector St (1)</td>\n",
       "      <td>Manhattan</td>\n",
       "      <td>None</td>\n",
       "      <td>1</td>\n",
       "      <td>1</td>\n",
       "      <td>RED</td>\n",
       "      <td>None</td>\n",
       "      <td>None</td>\n",
       "      <td>[0, 0, 24, 0, 0, 0, 0, 0, 0, 0, 0, 0, 1, 0, 0,...</td>\n",
       "    </tr>\n",
       "    <tr>\n",
       "      <th>2</th>\n",
       "      <td>3.0</td>\n",
       "      <td>1.0</td>\n",
       "      <td>South Ferry</td>\n",
       "      <td>None</td>\n",
       "      <td>None</td>\n",
       "      <td>South Ferry (1) Manhattan</td>\n",
       "      <td>South Ferry (1)</td>\n",
       "      <td>Manhattan</td>\n",
       "      <td>None</td>\n",
       "      <td>1</td>\n",
       "      <td>1</td>\n",
       "      <td>RED</td>\n",
       "      <td>None</td>\n",
       "      <td>None</td>\n",
       "      <td>[0, 0, 24, 0, 0, 0, 0, 0, 0, 0, 0, 0, 1, 0, 0,...</td>\n",
       "    </tr>\n",
       "    <tr>\n",
       "      <th>3</th>\n",
       "      <td>4.0</td>\n",
       "      <td>125.0</td>\n",
       "      <td>138th St</td>\n",
       "      <td>Grand Concourse</td>\n",
       "      <td>Grand Concourse</td>\n",
       "      <td>138th St / Grand Concourse (4,5) Bronx</td>\n",
       "      <td>138th St / Grand Concourse (4,5)</td>\n",
       "      <td>Bronx</td>\n",
       "      <td>None</td>\n",
       "      <td>4,5</td>\n",
       "      <td>4,5</td>\n",
       "      <td>GREEN</td>\n",
       "      <td>None</td>\n",
       "      <td>None</td>\n",
       "      <td>[0, 0, 24, 0, 0, 0, 0, 0, 0, 0, 0, 0, 1, 0, 0,...</td>\n",
       "    </tr>\n",
       "    <tr>\n",
       "      <th>4</th>\n",
       "      <td>5.0</td>\n",
       "      <td>126.0</td>\n",
       "      <td>149th St</td>\n",
       "      <td>Grand Concourse</td>\n",
       "      <td>Grand Concourse</td>\n",
       "      <td>149th St / Grand Concourse (4) Bronx</td>\n",
       "      <td>149th St / Grand Concourse (4)</td>\n",
       "      <td>Bronx</td>\n",
       "      <td>None</td>\n",
       "      <td>4</td>\n",
       "      <td>2,4,5</td>\n",
       "      <td>GREEN</td>\n",
       "      <td>express</td>\n",
       "      <td>None</td>\n",
       "      <td>[0, 0, 24, 0, 0, 0, 0, 0, 0, 0, 0, 0, 1, 0, 0,...</td>\n",
       "    </tr>\n",
       "  </tbody>\n",
       "</table>\n",
       "</div>"
      ],
      "text/plain": [
       "   OBJECTID     ID          NAME         ALT_NAME         CROSS_ST  \\\n",
       "0       1.0  376.0  Cortlandt St             None        Church St   \n",
       "1       2.0    2.0     Rector St             None             None   \n",
       "2       3.0    1.0   South Ferry             None             None   \n",
       "3       4.0  125.0      138th St  Grand Concourse  Grand Concourse   \n",
       "4       5.0  126.0      149th St  Grand Concourse  Grand Concourse   \n",
       "\n",
       "                                LONG_NAME                             LABEL  \\\n",
       "0            Cortlandt St (R,W) Manhattan                Cortlandt St (R,W)   \n",
       "1                 Rector St (1) Manhattan                     Rector St (1)   \n",
       "2               South Ferry (1) Manhattan                   South Ferry (1)   \n",
       "3  138th St / Grand Concourse (4,5) Bronx  138th St / Grand Concourse (4,5)   \n",
       "4    149th St / Grand Concourse (4) Bronx    149th St / Grand Concourse (4)   \n",
       "\n",
       "     BOROUGH NGHBHD ROUTES TRANSFERS   COLOR  EXPRESS CLOSED  \\\n",
       "0  Manhattan   None    R,W       R,W  YELLOW     None   None   \n",
       "1  Manhattan   None      1         1     RED     None   None   \n",
       "2  Manhattan   None      1         1     RED     None   None   \n",
       "3      Bronx   None    4,5       4,5   GREEN     None   None   \n",
       "4      Bronx   None      4     2,4,5   GREEN  express   None   \n",
       "\n",
       "                                                geom  \n",
       "0  [0, 0, 24, 0, 0, 0, 0, 0, 0, 0, 0, 0, 1, 0, 0,...  \n",
       "1  [0, 0, 24, 0, 0, 0, 0, 0, 0, 0, 0, 0, 1, 0, 0,...  \n",
       "2  [0, 0, 24, 0, 0, 0, 0, 0, 0, 0, 0, 0, 1, 0, 0,...  \n",
       "3  [0, 0, 24, 0, 0, 0, 0, 0, 0, 0, 0, 0, 1, 0, 0,...  \n",
       "4  [0, 0, 24, 0, 0, 0, 0, 0, 0, 0, 0, 0, 1, 0, 0,...  "
      ]
     },
     "execution_count": 7,
     "metadata": {},
     "output_type": "execute_result"
    }
   ],
   "source": [
    "%%sql \n",
    "\n",
    "SELECT * from nyc_subway_stations LIMIT 5"
   ]
  },
  {
   "cell_type": "markdown",
   "metadata": {},
   "source": [
    "## Spatial Relationships\n",
    "\n",
    "So far we have only used spatial functions that measure (`ST_Area`,\n",
    "`ST_Length`), serialize (`ST_GeomFromText`) or deserialize (`ST_AsGML`)\n",
    "geometries. What these functions have in common is that they only work\n",
    "on one geometry at a time.\n",
    "\n",
    "Spatial databases are powerful because they not only store geometry,\n",
    "they also have the ability to compare *relationships between\n",
    "geometries*.\n",
    "\n",
    "Questions like \"Which are the closest bike racks to a park?\" or \"Where\n",
    "are the intersections of subway lines and streets?\" can only be answered\n",
    "by comparing geometries representing the bike racks, streets, and subway\n",
    "lines.\n",
    "\n",
    "The OGC standard defines the following set of methods to compare\n",
    "geometries."
   ]
  },
  {
   "cell_type": "markdown",
   "metadata": {},
   "source": [
    "## ST_Equals\n",
    "\n",
    "`ST_Equals(geometry A, geometry B)`tests the spatial equality of two geometries.\n",
    "\n",
    "![](https://postgis.net/workshops/postgis-intro/_images/st_equals.png)\n",
    "\n",
    "ST_Equals returns TRUE if two geometries of the same type have identical\n",
    "x,y coordinate values, i.e. if the second shape is equal (identical) to\n",
    "the first shape.\n",
    "\n",
    "First, let\\'s retrieve a representation of a point from our\n",
    "`nyc_subway_stations` table. We\\'ll take just the entry for \\'Broad\n",
    "St\\'."
   ]
  },
  {
   "cell_type": "code",
   "execution_count": 8,
   "metadata": {},
   "outputs": [
    {
     "data": {
      "text/html": [
       "<div>\n",
       "<style scoped>\n",
       "    .dataframe tbody tr th:only-of-type {\n",
       "        vertical-align: middle;\n",
       "    }\n",
       "\n",
       "    .dataframe tbody tr th {\n",
       "        vertical-align: top;\n",
       "    }\n",
       "\n",
       "    .dataframe thead th {\n",
       "        text-align: right;\n",
       "    }\n",
       "</style>\n",
       "<table border=\"1\" class=\"dataframe\">\n",
       "  <thead>\n",
       "    <tr style=\"text-align: right;\">\n",
       "      <th></th>\n",
       "      <th>NAME</th>\n",
       "      <th>geom</th>\n",
       "      <th>st_astext(geom)</th>\n",
       "    </tr>\n",
       "  </thead>\n",
       "  <tbody>\n",
       "    <tr>\n",
       "      <th>0</th>\n",
       "      <td>Broad St</td>\n",
       "      <td>[0, 0, 24, 0, 0, 0, 0, 0, 0, 0, 0, 0, 1, 0, 0,...</td>\n",
       "      <td>POINT (583571.9059213118 4506714.341192182)</td>\n",
       "    </tr>\n",
       "  </tbody>\n",
       "</table>\n",
       "</div>"
      ],
      "text/plain": [
       "       NAME                                               geom  \\\n",
       "0  Broad St  [0, 0, 24, 0, 0, 0, 0, 0, 0, 0, 0, 0, 1, 0, 0,...   \n",
       "\n",
       "                               st_astext(geom)  \n",
       "0  POINT (583571.9059213118 4506714.341192182)  "
      ]
     },
     "execution_count": 8,
     "metadata": {},
     "output_type": "execute_result"
    }
   ],
   "source": [
    "%%sql\n",
    "\n",
    "SELECT name, geom, ST_AsText(geom)\n",
    "FROM nyc_subway_stations\n",
    "WHERE name = 'Broad St';"
   ]
  },
  {
   "cell_type": "markdown",
   "metadata": {},
   "source": [
    "Then, plug the geometry representation back into an\n",
    "`ST_Equals` test:"
   ]
  },
  {
   "cell_type": "code",
   "execution_count": 9,
   "metadata": {},
   "outputs": [
    {
     "data": {
      "text/html": [
       "<div>\n",
       "<style scoped>\n",
       "    .dataframe tbody tr th:only-of-type {\n",
       "        vertical-align: middle;\n",
       "    }\n",
       "\n",
       "    .dataframe tbody tr th {\n",
       "        vertical-align: top;\n",
       "    }\n",
       "\n",
       "    .dataframe thead th {\n",
       "        text-align: right;\n",
       "    }\n",
       "</style>\n",
       "<table border=\"1\" class=\"dataframe\">\n",
       "  <thead>\n",
       "    <tr style=\"text-align: right;\">\n",
       "      <th></th>\n",
       "      <th>NAME</th>\n",
       "    </tr>\n",
       "  </thead>\n",
       "  <tbody>\n",
       "    <tr>\n",
       "      <th>0</th>\n",
       "      <td>Broad St</td>\n",
       "    </tr>\n",
       "  </tbody>\n",
       "</table>\n",
       "</div>"
      ],
      "text/plain": [
       "       NAME\n",
       "0  Broad St"
      ]
     },
     "execution_count": 9,
     "metadata": {},
     "output_type": "execute_result"
    }
   ],
   "source": [
    "%%sql\n",
    "\n",
    "SELECT name\n",
    "FROM nyc_subway_stations\n",
    "WHERE ST_Equals(geom, ST_GeomFromHEXWKB('0101000020266900000EEBD4CF27CF2141BC17D69516315141'));"
   ]
  },
  {
   "cell_type": "markdown",
   "metadata": {},
   "source": [
    "## ST_Intersects, ST_Disjoint, ST_Crosses and ST_Overlaps\n",
    "\n",
    "`ST_Intersects`,\n",
    "`ST_Crosses`, and\n",
    "`ST_Overlaps` test whether the\n",
    "interiors of the geometries intersect.\n",
    "\n",
    "![](https://postgis.net/workshops/postgis-intro/_images/st_intersects.png)\n",
    "\n",
    "`ST_Intersects(geometry A, geometry B)` returns t (TRUE) if the two shapes have any space in\n",
    "common, i.e., if their boundaries or interiors intersect.\n",
    "\n",
    "![](https://postgis.net/workshops/postgis-intro/_images/st_disjoint.png)\n",
    "\n",
    "The opposite of ST_Intersects is\n",
    "`ST_Disjoint(geometry A , geometry B)`. If two geometries are disjoint, they do not intersect,\n",
    "and vice-versa. In fact, it is often more efficient to test \\\"not\n",
    "intersects\\\" than to test \\\"disjoint\\\" because the intersects tests can\n",
    "be spatially indexed, while the disjoint test cannot.\n",
    "\n",
    "![](https://postgis.net/workshops/postgis-intro/_images/st_crosses.png)\n",
    "\n",
    "For multipoint/polygon, multipoint/linestring, linestring/linestring,\n",
    "linestring/polygon, and linestring/multipolygon comparisons,\n",
    "`ST_Crosses(geometry A, geometry B)`\n",
    "returns t (TRUE) if the intersection results in a geometry whose\n",
    "dimension is one less than the maximum dimension of the two source\n",
    "geometries and the intersection set is interior to both source\n",
    "geometries.\n",
    "\n",
    "![](https://postgis.net/workshops/postgis-intro/_images/st_overlaps.png)\n",
    "\n",
    "`ST_Overlaps(geometry A, geometry B)`\n",
    "compares two geometries of the same dimension and returns TRUE if their\n",
    "intersection set results in a geometry different from both but of the\n",
    "same dimension.\n",
    "\n",
    "Let\\'s take our Broad Street subway station and determine its\n",
    "neighborhood using the `ST_Intersects`\n",
    "function:"
   ]
  },
  {
   "cell_type": "code",
   "execution_count": 10,
   "metadata": {},
   "outputs": [
    {
     "data": {
      "text/html": [
       "<div>\n",
       "<style scoped>\n",
       "    .dataframe tbody tr th:only-of-type {\n",
       "        vertical-align: middle;\n",
       "    }\n",
       "\n",
       "    .dataframe tbody tr th {\n",
       "        vertical-align: top;\n",
       "    }\n",
       "\n",
       "    .dataframe thead th {\n",
       "        text-align: right;\n",
       "    }\n",
       "</style>\n",
       "<table border=\"1\" class=\"dataframe\">\n",
       "  <thead>\n",
       "    <tr style=\"text-align: right;\">\n",
       "      <th></th>\n",
       "      <th>NAME</th>\n",
       "      <th>st_astext(geom)</th>\n",
       "    </tr>\n",
       "  </thead>\n",
       "  <tbody>\n",
       "    <tr>\n",
       "      <th>0</th>\n",
       "      <td>Broad St</td>\n",
       "      <td>POINT (583571.9059213118 4506714.341192182)</td>\n",
       "    </tr>\n",
       "  </tbody>\n",
       "</table>\n",
       "</div>"
      ],
      "text/plain": [
       "       NAME                              st_astext(geom)\n",
       "0  Broad St  POINT (583571.9059213118 4506714.341192182)"
      ]
     },
     "execution_count": 10,
     "metadata": {},
     "output_type": "execute_result"
    }
   ],
   "source": [
    "%%sql\n",
    "\n",
    "SELECT name, ST_AsText(geom)\n",
    "FROM nyc_subway_stations\n",
    "WHERE name = 'Broad St';"
   ]
  },
  {
   "cell_type": "code",
   "execution_count": 11,
   "metadata": {},
   "outputs": [
    {
     "data": {
      "text/html": [
       "<div>\n",
       "<style scoped>\n",
       "    .dataframe tbody tr th:only-of-type {\n",
       "        vertical-align: middle;\n",
       "    }\n",
       "\n",
       "    .dataframe tbody tr th {\n",
       "        vertical-align: top;\n",
       "    }\n",
       "\n",
       "    .dataframe thead th {\n",
       "        text-align: right;\n",
       "    }\n",
       "</style>\n",
       "<table border=\"1\" class=\"dataframe\">\n",
       "  <thead>\n",
       "    <tr style=\"text-align: right;\">\n",
       "      <th></th>\n",
       "      <th>NAME</th>\n",
       "      <th>BORONAME</th>\n",
       "    </tr>\n",
       "  </thead>\n",
       "  <tbody>\n",
       "    <tr>\n",
       "      <th>0</th>\n",
       "      <td>Financial District</td>\n",
       "      <td>Manhattan</td>\n",
       "    </tr>\n",
       "  </tbody>\n",
       "</table>\n",
       "</div>"
      ],
      "text/plain": [
       "                 NAME   BORONAME\n",
       "0  Financial District  Manhattan"
      ]
     },
     "execution_count": 11,
     "metadata": {},
     "output_type": "execute_result"
    }
   ],
   "source": [
    "%%sql\n",
    "\n",
    "SELECT name, boroname\n",
    "FROM nyc_neighborhoods\n",
    "WHERE ST_Intersects(geom, ST_GeomFromText('POINT(583571 4506714)'));"
   ]
  },
  {
   "cell_type": "markdown",
   "metadata": {},
   "source": [
    "## ST_Touches\n",
    "\n",
    "`ST_Touches` tests whether two\n",
    "geometries touch at their boundaries, but do not intersect in their\n",
    "interiors\n",
    "\n",
    "![](https://postgis.net/workshops/postgis-intro/_images/st_touches.png)\n",
    "\n",
    "`ST_Touches(geometry A, geometry B)`\n",
    "returns TRUE if either of the geometries\\' boundaries intersect or if\n",
    "only one of the geometry\\'s interiors intersects the other\\'s boundary.\n",
    "\n",
    "## ST_Within and ST_Contains\n",
    "\n",
    "`ST_Within` and\n",
    "`ST_Contains` test whether one\n",
    "geometry is fully within the other.\n",
    "\n",
    "![](https://postgis.net/workshops/postgis-intro/_images/st_within.png)\n",
    "\n",
    "`ST_Within(geometry A , geometry B)`\n",
    "returns TRUE if the first geometry is completely within the second\n",
    "geometry. ST_Within tests for the exact opposite result of ST_Contains.\n",
    "\n",
    "`ST_Contains(geometry A, geometry B)`\n",
    "returns TRUE if the second geometry is completely contained by the first\n",
    "geometry.\n",
    "\n",
    "## ST_Distance and ST_DWithin\n",
    "\n",
    "An extremely common GIS question is \\\"find all the stuff within distance\n",
    "X of this other stuff\\\".\n",
    "\n",
    "The `ST_Distance(geometry A, geometry B)` calculates the *shortest* distance between two\n",
    "geometries and returns it as a float. This is useful for actually\n",
    "reporting back the distance between objects."
   ]
  },
  {
   "cell_type": "code",
   "execution_count": 12,
   "metadata": {},
   "outputs": [
    {
     "data": {
      "text/html": [
       "<div>\n",
       "<style scoped>\n",
       "    .dataframe tbody tr th:only-of-type {\n",
       "        vertical-align: middle;\n",
       "    }\n",
       "\n",
       "    .dataframe tbody tr th {\n",
       "        vertical-align: top;\n",
       "    }\n",
       "\n",
       "    .dataframe thead th {\n",
       "        text-align: right;\n",
       "    }\n",
       "</style>\n",
       "<table border=\"1\" class=\"dataframe\">\n",
       "  <thead>\n",
       "    <tr style=\"text-align: right;\">\n",
       "      <th></th>\n",
       "      <th>st_distance(st_geomfromtext('POINT(0 5)'), st_geomfromtext('LINESTRING(-2 2, 2 2)'))</th>\n",
       "    </tr>\n",
       "  </thead>\n",
       "  <tbody>\n",
       "    <tr>\n",
       "      <th>0</th>\n",
       "      <td>3.0</td>\n",
       "    </tr>\n",
       "  </tbody>\n",
       "</table>\n",
       "</div>"
      ],
      "text/plain": [
       "   st_distance(st_geomfromtext('POINT(0 5)'), st_geomfromtext('LINESTRING(-2 2, 2 2)'))\n",
       "0                                                3.0                                   "
      ]
     },
     "execution_count": 12,
     "metadata": {},
     "output_type": "execute_result"
    }
   ],
   "source": [
    "%%sql\n",
    "\n",
    "SELECT ST_Distance(\n",
    "  ST_GeomFromText('POINT(0 5)'),\n",
    "  ST_GeomFromText('LINESTRING(-2 2, 2 2)'));"
   ]
  },
  {
   "cell_type": "markdown",
   "metadata": {},
   "source": [
    "For testing whether two objects are within a distance of one another,\n",
    "the `ST_DWithin` function provides an\n",
    "index-accelerated true/false test. This is useful for questions like\n",
    "\\\"how many trees are within a 500 meter buffer of the road?\\\". You\n",
    "don\\'t have to calculate an actual buffer, you just have to test the\n",
    "distance relationship.\n",
    "\n",
    "![](https://postgis.net/workshops/postgis-intro/_images/st_dwithin.png)\n",
    "\n",
    "Using our Broad Street subway station again, we can find the streets\n",
    "nearby (within 10 meters of) the subway stop:"
   ]
  },
  {
   "cell_type": "code",
   "execution_count": 13,
   "metadata": {},
   "outputs": [
    {
     "data": {
      "text/html": [
       "<div>\n",
       "<style scoped>\n",
       "    .dataframe tbody tr th:only-of-type {\n",
       "        vertical-align: middle;\n",
       "    }\n",
       "\n",
       "    .dataframe tbody tr th {\n",
       "        vertical-align: top;\n",
       "    }\n",
       "\n",
       "    .dataframe thead th {\n",
       "        text-align: right;\n",
       "    }\n",
       "</style>\n",
       "<table border=\"1\" class=\"dataframe\">\n",
       "  <thead>\n",
       "    <tr style=\"text-align: right;\">\n",
       "      <th></th>\n",
       "      <th>NAME</th>\n",
       "    </tr>\n",
       "  </thead>\n",
       "  <tbody>\n",
       "    <tr>\n",
       "      <th>0</th>\n",
       "      <td>Wall St</td>\n",
       "    </tr>\n",
       "    <tr>\n",
       "      <th>1</th>\n",
       "      <td>Broad St</td>\n",
       "    </tr>\n",
       "    <tr>\n",
       "      <th>2</th>\n",
       "      <td>Nassau St</td>\n",
       "    </tr>\n",
       "  </tbody>\n",
       "</table>\n",
       "</div>"
      ],
      "text/plain": [
       "        NAME\n",
       "0    Wall St\n",
       "1   Broad St\n",
       "2  Nassau St"
      ]
     },
     "execution_count": 13,
     "metadata": {},
     "output_type": "execute_result"
    }
   ],
   "source": [
    "%%sql\n",
    "\n",
    "SELECT name\n",
    "FROM nyc_streets\n",
    "WHERE ST_DWithin(\n",
    "        geom,\n",
    "        ST_GeomFromText('POINT(583571 4506714)'),\n",
    "        10\n",
    "      );"
   ]
  },
  {
   "cell_type": "markdown",
   "metadata": {},
   "source": [
    "And we can verify the answer on a map. The Broad St station is actually\n",
    "at the intersection of Wall, Broad and Nassau Streets.\n",
    "\n",
    "![image](https://postgis.net/workshops/postgis-intro/_images/broad_st.jpg)\n",
    "\n",
    "## Function List\n",
    "\n",
    "[ST_Contains(geometry A, geometry\n",
    "B)](http://postgis.net/docs/ST_Contains.html): Returns true if and only\n",
    "if no points of B lie in the exterior of A, and at least one point of\n",
    "the interior of B lies in the interior of A.\n",
    "\n",
    "[ST_Crosses(geometry A, geometry\n",
    "B)](http://postgis.net/docs/ST_Crosses.html): Returns TRUE if the\n",
    "supplied geometries have some, but not all, interior points in common.\n",
    "\n",
    "[ST_Disjoint(geometry A , geometry\n",
    "B)](http://postgis.net/docs/ST_Disjoint.html): Returns TRUE if the\n",
    "Geometries do not \\\"spatially intersect\\\" - if they do not share any\n",
    "space together.\n",
    "\n",
    "[ST_Distance(geometry A, geometry\n",
    "B)](http://postgis.net/docs/ST_Distance.html): Returns the 2-dimensional\n",
    "cartesian minimum distance (based on spatial ref) between two geometries\n",
    "in projected units.\n",
    "\n",
    "[ST_DWithin(geometry A, geometry B,\n",
    "radius)](http://postgis.net/docs/ST_DWithin.html): Returns true if the\n",
    "geometries are within the specified distance (radius) of one another.\n",
    "\n",
    "[ST_Equals(geometry A, geometry\n",
    "B)](http://postgis.net/docs/ST_Equals.html): Returns true if the given\n",
    "geometries represent the same geometry. Directionality is ignored.\n",
    "\n",
    "[ST_Intersects(geometry A, geometry\n",
    "B)](http://postgis.net/docs/ST_Intersects.html): Returns TRUE if the\n",
    "Geometries/Geography \\\"spatially intersect\\\" - (share any portion of\n",
    "space) and FALSE if they don\\'t (they are Disjoint).\n",
    "\n",
    "[ST_Overlaps(geometry A, geometry\n",
    "B)](http://postgis.net/docs/ST_Overlaps.html): Returns TRUE if the\n",
    "Geometries share space, are of the same dimension, but are not\n",
    "completely contained by each other.\n",
    "\n",
    "[ST_Touches(geometry A, geometry\n",
    "B)](http://postgis.net/docs/ST_Touches.html): Returns TRUE if the\n",
    "geometries have at least one point in common, but their interiors do not\n",
    "intersect.\n",
    "\n",
    "[ST_Within(geometry A , geometry\n",
    "B)](http://postgis.net/docs/ST_Within.html): Returns true if the\n",
    "geometry A is completely inside geometry B\n"
   ]
  }
 ],
 "metadata": {
  "hide_input": false,
  "kernelspec": {
   "display_name": "Python 3",
   "language": "python",
   "name": "python3"
  },
  "language_info": {
   "codemirror_mode": {
    "name": "ipython",
    "version": 3
   },
   "file_extension": ".py",
   "mimetype": "text/x-python",
   "name": "python",
   "nbconvert_exporter": "python",
   "pygments_lexer": "ipython3",
   "version": "3.11.6"
  },
  "toc": {
   "base_numbering": 1,
   "nav_menu": {},
   "number_sections": true,
   "sideBar": true,
   "skip_h1_title": false,
   "title_cell": "Table of Contents",
   "title_sidebar": "Contents",
   "toc_cell": false,
   "toc_position": {},
   "toc_section_display": true,
   "toc_window_display": true
  },
  "varInspector": {
   "cols": {
    "lenName": 16,
    "lenType": 16,
    "lenVar": 40
   },
   "kernels_config": {
    "python": {
     "delete_cmd_postfix": "",
     "delete_cmd_prefix": "del ",
     "library": "var_list.py",
     "varRefreshCmd": "print(var_dic_list())"
    },
    "r": {
     "delete_cmd_postfix": ") ",
     "delete_cmd_prefix": "rm(",
     "library": "var_list.r",
     "varRefreshCmd": "cat(var_dic_list()) "
    }
   },
   "types_to_exclude": [
    "module",
    "function",
    "builtin_function_or_method",
    "instance",
    "_Feature"
   ],
   "window_display": false
  }
 },
 "nbformat": 4,
 "nbformat_minor": 5
}
